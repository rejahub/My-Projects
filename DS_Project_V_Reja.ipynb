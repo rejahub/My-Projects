{
  "nbformat": 4,
  "nbformat_minor": 0,
  "metadata": {
    "colab": {
      "provenance": [],
      "authorship_tag": "ABX9TyN5aYTiKPCSiWhIguxcWWXe",
      "include_colab_link": true
    },
    "kernelspec": {
      "name": "python3",
      "display_name": "Python 3"
    },
    "language_info": {
      "name": "python"
    }
  },
  "cells": [
    {
      "cell_type": "markdown",
      "metadata": {
        "id": "view-in-github",
        "colab_type": "text"
      },
      "source": [
        "<a href=\"https://colab.research.google.com/github/rejahub/My-Projects/blob/main/DS_Project_V_Reja.ipynb\" target=\"_parent\"><img src=\"https://colab.research.google.com/assets/colab-badge.svg\" alt=\"Open In Colab\"/></a>"
      ]
    },
    {
      "cell_type": "markdown",
      "source": [
        "#Import Library"
      ],
      "metadata": {
        "id": "lp2klE9MfuMj"
      }
    },
    {
      "cell_type": "code",
      "execution_count": null,
      "metadata": {
        "id": "Sos5NYTHdsSV"
      },
      "outputs": [],
      "source": [
        "import os\n",
        "import sys\n",
        "import pandas as pd\n",
        "import numpy as np\n",
        "import seaborn as sns"
      ]
    },
    {
      "cell_type": "markdown",
      "source": [
        "#Load Data"
      ],
      "metadata": {
        "id": "bhxxhiMDf0gQ"
      }
    },
    {
      "cell_type": "code",
      "source": [
        "from google.colab import drive\n",
        "drive.mount('/content/drive')"
      ],
      "metadata": {
        "colab": {
          "base_uri": "https://localhost:8080/"
        },
        "id": "n2C8agBDd7YB",
        "outputId": "4665a30b-5d3c-4853-9ce0-2e89f6511642"
      },
      "execution_count": null,
      "outputs": [
        {
          "output_type": "stream",
          "name": "stdout",
          "text": [
            "Mounted at /content/drive\n"
          ]
        }
      ]
    },
    {
      "cell_type": "code",
      "source": [
        "import os\n",
        "myDirFiles = '/content/drive/MyDrive/Colab Notebooks/Digital Skola/My Project/Project V'\n",
        "os.chdir(myDirFiles)"
      ],
      "metadata": {
        "id": "drpONA7Xeenj"
      },
      "execution_count": null,
      "outputs": []
    },
    {
      "cell_type": "code",
      "source": [
        "df = pd.read_csv('/content/drive/MyDrive/Colab Notebooks/Digital Skola/My Project/Project V/marketing-churn.csv')\n",
        "df.head()"
      ],
      "metadata": {
        "colab": {
          "base_uri": "https://localhost:8080/",
          "height": 300
        },
        "id": "Zy3MLLkHfP5A",
        "outputId": "f522e5bc-f2d5-4ba6-a376-bc66b79565f3"
      },
      "execution_count": null,
      "outputs": [
        {
          "output_type": "execute_result",
          "data": {
            "text/plain": [
              "      ID  Year_Birth   Education Marital_Status      Income   Kidhome  \\\n",
              "0   1826        1970  Graduation       Divorced  $84,835.00         0   \n",
              "1      1        1961  Graduation         Single  $57,091.00         0   \n",
              "2  10476        1958  Graduation        Married  $67,267.00         0   \n",
              "3   1386        1967  Graduation       Together  $32,474.00         1   \n",
              "4   5371        1989  Graduation         Single  $21,474.00         1   \n",
              "\n",
              "   Teenhome Dt_Customer  Recency  MntWines  ...  NumStorePurchases  \\\n",
              "0         0     6/16/14        0       189  ...                  6   \n",
              "1         0     6/15/14        0       464  ...                  7   \n",
              "2         1     5/13/14        0       134  ...                  5   \n",
              "3         1     5/11/14        0        10  ...                  2   \n",
              "4         0      4/8/14        0         6  ...                  2   \n",
              "\n",
              "   NumWebVisitsMonth  AcceptedCmp3  AcceptedCmp4  AcceptedCmp5  AcceptedCmp1  \\\n",
              "0                  1             0             0             0             0   \n",
              "1                  5             0             0             0             0   \n",
              "2                  2             0             0             0             0   \n",
              "3                  7             0             0             0             0   \n",
              "4                  7             1             0             0             0   \n",
              "\n",
              "   AcceptedCmp2  Response  Complain  Country  \n",
              "0             0         1         0       SP  \n",
              "1             1         1         0       CA  \n",
              "2             0         0         0       US  \n",
              "3             0         0         0      AUS  \n",
              "4             0         1         0       SP  \n",
              "\n",
              "[5 rows x 28 columns]"
            ],
            "text/html": [
              "\n",
              "  <div id=\"df-8cb0d426-16c7-4565-b3c7-fa3972218345\">\n",
              "    <div class=\"colab-df-container\">\n",
              "      <div>\n",
              "<style scoped>\n",
              "    .dataframe tbody tr th:only-of-type {\n",
              "        vertical-align: middle;\n",
              "    }\n",
              "\n",
              "    .dataframe tbody tr th {\n",
              "        vertical-align: top;\n",
              "    }\n",
              "\n",
              "    .dataframe thead th {\n",
              "        text-align: right;\n",
              "    }\n",
              "</style>\n",
              "<table border=\"1\" class=\"dataframe\">\n",
              "  <thead>\n",
              "    <tr style=\"text-align: right;\">\n",
              "      <th></th>\n",
              "      <th>ID</th>\n",
              "      <th>Year_Birth</th>\n",
              "      <th>Education</th>\n",
              "      <th>Marital_Status</th>\n",
              "      <th>Income</th>\n",
              "      <th>Kidhome</th>\n",
              "      <th>Teenhome</th>\n",
              "      <th>Dt_Customer</th>\n",
              "      <th>Recency</th>\n",
              "      <th>MntWines</th>\n",
              "      <th>...</th>\n",
              "      <th>NumStorePurchases</th>\n",
              "      <th>NumWebVisitsMonth</th>\n",
              "      <th>AcceptedCmp3</th>\n",
              "      <th>AcceptedCmp4</th>\n",
              "      <th>AcceptedCmp5</th>\n",
              "      <th>AcceptedCmp1</th>\n",
              "      <th>AcceptedCmp2</th>\n",
              "      <th>Response</th>\n",
              "      <th>Complain</th>\n",
              "      <th>Country</th>\n",
              "    </tr>\n",
              "  </thead>\n",
              "  <tbody>\n",
              "    <tr>\n",
              "      <th>0</th>\n",
              "      <td>1826</td>\n",
              "      <td>1970</td>\n",
              "      <td>Graduation</td>\n",
              "      <td>Divorced</td>\n",
              "      <td>$84,835.00</td>\n",
              "      <td>0</td>\n",
              "      <td>0</td>\n",
              "      <td>6/16/14</td>\n",
              "      <td>0</td>\n",
              "      <td>189</td>\n",
              "      <td>...</td>\n",
              "      <td>6</td>\n",
              "      <td>1</td>\n",
              "      <td>0</td>\n",
              "      <td>0</td>\n",
              "      <td>0</td>\n",
              "      <td>0</td>\n",
              "      <td>0</td>\n",
              "      <td>1</td>\n",
              "      <td>0</td>\n",
              "      <td>SP</td>\n",
              "    </tr>\n",
              "    <tr>\n",
              "      <th>1</th>\n",
              "      <td>1</td>\n",
              "      <td>1961</td>\n",
              "      <td>Graduation</td>\n",
              "      <td>Single</td>\n",
              "      <td>$57,091.00</td>\n",
              "      <td>0</td>\n",
              "      <td>0</td>\n",
              "      <td>6/15/14</td>\n",
              "      <td>0</td>\n",
              "      <td>464</td>\n",
              "      <td>...</td>\n",
              "      <td>7</td>\n",
              "      <td>5</td>\n",
              "      <td>0</td>\n",
              "      <td>0</td>\n",
              "      <td>0</td>\n",
              "      <td>0</td>\n",
              "      <td>1</td>\n",
              "      <td>1</td>\n",
              "      <td>0</td>\n",
              "      <td>CA</td>\n",
              "    </tr>\n",
              "    <tr>\n",
              "      <th>2</th>\n",
              "      <td>10476</td>\n",
              "      <td>1958</td>\n",
              "      <td>Graduation</td>\n",
              "      <td>Married</td>\n",
              "      <td>$67,267.00</td>\n",
              "      <td>0</td>\n",
              "      <td>1</td>\n",
              "      <td>5/13/14</td>\n",
              "      <td>0</td>\n",
              "      <td>134</td>\n",
              "      <td>...</td>\n",
              "      <td>5</td>\n",
              "      <td>2</td>\n",
              "      <td>0</td>\n",
              "      <td>0</td>\n",
              "      <td>0</td>\n",
              "      <td>0</td>\n",
              "      <td>0</td>\n",
              "      <td>0</td>\n",
              "      <td>0</td>\n",
              "      <td>US</td>\n",
              "    </tr>\n",
              "    <tr>\n",
              "      <th>3</th>\n",
              "      <td>1386</td>\n",
              "      <td>1967</td>\n",
              "      <td>Graduation</td>\n",
              "      <td>Together</td>\n",
              "      <td>$32,474.00</td>\n",
              "      <td>1</td>\n",
              "      <td>1</td>\n",
              "      <td>5/11/14</td>\n",
              "      <td>0</td>\n",
              "      <td>10</td>\n",
              "      <td>...</td>\n",
              "      <td>2</td>\n",
              "      <td>7</td>\n",
              "      <td>0</td>\n",
              "      <td>0</td>\n",
              "      <td>0</td>\n",
              "      <td>0</td>\n",
              "      <td>0</td>\n",
              "      <td>0</td>\n",
              "      <td>0</td>\n",
              "      <td>AUS</td>\n",
              "    </tr>\n",
              "    <tr>\n",
              "      <th>4</th>\n",
              "      <td>5371</td>\n",
              "      <td>1989</td>\n",
              "      <td>Graduation</td>\n",
              "      <td>Single</td>\n",
              "      <td>$21,474.00</td>\n",
              "      <td>1</td>\n",
              "      <td>0</td>\n",
              "      <td>4/8/14</td>\n",
              "      <td>0</td>\n",
              "      <td>6</td>\n",
              "      <td>...</td>\n",
              "      <td>2</td>\n",
              "      <td>7</td>\n",
              "      <td>1</td>\n",
              "      <td>0</td>\n",
              "      <td>0</td>\n",
              "      <td>0</td>\n",
              "      <td>0</td>\n",
              "      <td>1</td>\n",
              "      <td>0</td>\n",
              "      <td>SP</td>\n",
              "    </tr>\n",
              "  </tbody>\n",
              "</table>\n",
              "<p>5 rows × 28 columns</p>\n",
              "</div>\n",
              "      <button class=\"colab-df-convert\" onclick=\"convertToInteractive('df-8cb0d426-16c7-4565-b3c7-fa3972218345')\"\n",
              "              title=\"Convert this dataframe to an interactive table.\"\n",
              "              style=\"display:none;\">\n",
              "        \n",
              "  <svg xmlns=\"http://www.w3.org/2000/svg\" height=\"24px\"viewBox=\"0 0 24 24\"\n",
              "       width=\"24px\">\n",
              "    <path d=\"M0 0h24v24H0V0z\" fill=\"none\"/>\n",
              "    <path d=\"M18.56 5.44l.94 2.06.94-2.06 2.06-.94-2.06-.94-.94-2.06-.94 2.06-2.06.94zm-11 1L8.5 8.5l.94-2.06 2.06-.94-2.06-.94L8.5 2.5l-.94 2.06-2.06.94zm10 10l.94 2.06.94-2.06 2.06-.94-2.06-.94-.94-2.06-.94 2.06-2.06.94z\"/><path d=\"M17.41 7.96l-1.37-1.37c-.4-.4-.92-.59-1.43-.59-.52 0-1.04.2-1.43.59L10.3 9.45l-7.72 7.72c-.78.78-.78 2.05 0 2.83L4 21.41c.39.39.9.59 1.41.59.51 0 1.02-.2 1.41-.59l7.78-7.78 2.81-2.81c.8-.78.8-2.07 0-2.86zM5.41 20L4 18.59l7.72-7.72 1.47 1.35L5.41 20z\"/>\n",
              "  </svg>\n",
              "      </button>\n",
              "      \n",
              "  <style>\n",
              "    .colab-df-container {\n",
              "      display:flex;\n",
              "      flex-wrap:wrap;\n",
              "      gap: 12px;\n",
              "    }\n",
              "\n",
              "    .colab-df-convert {\n",
              "      background-color: #E8F0FE;\n",
              "      border: none;\n",
              "      border-radius: 50%;\n",
              "      cursor: pointer;\n",
              "      display: none;\n",
              "      fill: #1967D2;\n",
              "      height: 32px;\n",
              "      padding: 0 0 0 0;\n",
              "      width: 32px;\n",
              "    }\n",
              "\n",
              "    .colab-df-convert:hover {\n",
              "      background-color: #E2EBFA;\n",
              "      box-shadow: 0px 1px 2px rgba(60, 64, 67, 0.3), 0px 1px 3px 1px rgba(60, 64, 67, 0.15);\n",
              "      fill: #174EA6;\n",
              "    }\n",
              "\n",
              "    [theme=dark] .colab-df-convert {\n",
              "      background-color: #3B4455;\n",
              "      fill: #D2E3FC;\n",
              "    }\n",
              "\n",
              "    [theme=dark] .colab-df-convert:hover {\n",
              "      background-color: #434B5C;\n",
              "      box-shadow: 0px 1px 3px 1px rgba(0, 0, 0, 0.15);\n",
              "      filter: drop-shadow(0px 1px 2px rgba(0, 0, 0, 0.3));\n",
              "      fill: #FFFFFF;\n",
              "    }\n",
              "  </style>\n",
              "\n",
              "      <script>\n",
              "        const buttonEl =\n",
              "          document.querySelector('#df-8cb0d426-16c7-4565-b3c7-fa3972218345 button.colab-df-convert');\n",
              "        buttonEl.style.display =\n",
              "          google.colab.kernel.accessAllowed ? 'block' : 'none';\n",
              "\n",
              "        async function convertToInteractive(key) {\n",
              "          const element = document.querySelector('#df-8cb0d426-16c7-4565-b3c7-fa3972218345');\n",
              "          const dataTable =\n",
              "            await google.colab.kernel.invokeFunction('convertToInteractive',\n",
              "                                                     [key], {});\n",
              "          if (!dataTable) return;\n",
              "\n",
              "          const docLinkHtml = 'Like what you see? Visit the ' +\n",
              "            '<a target=\"_blank\" href=https://colab.research.google.com/notebooks/data_table.ipynb>data table notebook</a>'\n",
              "            + ' to learn more about interactive tables.';\n",
              "          element.innerHTML = '';\n",
              "          dataTable['output_type'] = 'display_data';\n",
              "          await google.colab.output.renderOutput(dataTable, element);\n",
              "          const docLink = document.createElement('div');\n",
              "          docLink.innerHTML = docLinkHtml;\n",
              "          element.appendChild(docLink);\n",
              "        }\n",
              "      </script>\n",
              "    </div>\n",
              "  </div>\n",
              "  "
            ]
          },
          "metadata": {},
          "execution_count": 6
        }
      ]
    },
    {
      "cell_type": "markdown",
      "source": [
        "#Data Understanding"
      ],
      "metadata": {
        "id": "Jfm3QBwWgP7Y"
      }
    },
    {
      "cell_type": "code",
      "source": [
        "#Menampilkan jumlah rows dan columns\n",
        "df.shape"
      ],
      "metadata": {
        "colab": {
          "base_uri": "https://localhost:8080/"
        },
        "id": "vpwM8POsgEhC",
        "outputId": "6176ec5b-f621-42b1-fc80-f9a159309fa9"
      },
      "execution_count": null,
      "outputs": [
        {
          "output_type": "execute_result",
          "data": {
            "text/plain": [
              "(2240, 28)"
            ]
          },
          "metadata": {},
          "execution_count": 7
        }
      ]
    },
    {
      "cell_type": "code",
      "source": [
        "#Menampilkan type data\n",
        "df.dtypes"
      ],
      "metadata": {
        "colab": {
          "base_uri": "https://localhost:8080/"
        },
        "id": "pHWytiy2gWDJ",
        "outputId": "de64cef3-3553-427e-90ef-73ec6db06234"
      },
      "execution_count": null,
      "outputs": [
        {
          "output_type": "execute_result",
          "data": {
            "text/plain": [
              "ID                      int64\n",
              "Year_Birth              int64\n",
              "Education              object\n",
              "Marital_Status         object\n",
              " Income                object\n",
              "Kidhome                 int64\n",
              "Teenhome                int64\n",
              "Dt_Customer            object\n",
              "Recency                 int64\n",
              "MntWines                int64\n",
              "MntFruits               int64\n",
              "MntMeatProducts         int64\n",
              "MntFishProducts         int64\n",
              "MntSweetProducts        int64\n",
              "MntGoldProds            int64\n",
              "NumDealsPurchases       int64\n",
              "NumWebPurchases         int64\n",
              "NumCatalogPurchases     int64\n",
              "NumStorePurchases       int64\n",
              "NumWebVisitsMonth       int64\n",
              "AcceptedCmp3            int64\n",
              "AcceptedCmp4            int64\n",
              "AcceptedCmp5            int64\n",
              "AcceptedCmp1            int64\n",
              "AcceptedCmp2            int64\n",
              "Response                int64\n",
              "Complain                int64\n",
              "Country                object\n",
              "dtype: object"
            ]
          },
          "metadata": {},
          "execution_count": 8
        }
      ]
    },
    {
      "cell_type": "code",
      "source": [
        "#Menampilkan jumlah NaN pada data\n",
        "df.isna().sum()"
      ],
      "metadata": {
        "colab": {
          "base_uri": "https://localhost:8080/"
        },
        "id": "AcfbZDwugXma",
        "outputId": "4bf4b2de-e79a-45ca-a49c-8733e303e4f0"
      },
      "execution_count": null,
      "outputs": [
        {
          "output_type": "execute_result",
          "data": {
            "text/plain": [
              "ID                      0\n",
              "Year_Birth              0\n",
              "Education               0\n",
              "Marital_Status          0\n",
              " Income                24\n",
              "Kidhome                 0\n",
              "Teenhome                0\n",
              "Dt_Customer             0\n",
              "Recency                 0\n",
              "MntWines                0\n",
              "MntFruits               0\n",
              "MntMeatProducts         0\n",
              "MntFishProducts         0\n",
              "MntSweetProducts        0\n",
              "MntGoldProds            0\n",
              "NumDealsPurchases       0\n",
              "NumWebPurchases         0\n",
              "NumCatalogPurchases     0\n",
              "NumStorePurchases       0\n",
              "NumWebVisitsMonth       0\n",
              "AcceptedCmp3            0\n",
              "AcceptedCmp4            0\n",
              "AcceptedCmp5            0\n",
              "AcceptedCmp1            0\n",
              "AcceptedCmp2            0\n",
              "Response                0\n",
              "Complain                0\n",
              "Country                 0\n",
              "dtype: int64"
            ]
          },
          "metadata": {},
          "execution_count": 9
        }
      ]
    },
    {
      "cell_type": "code",
      "source": [
        "# Memperbaiki penamaan variabel income\n",
        "df['Income'] = df[' Income ']\n",
        "df = df.drop(' Income ', axis=1)"
      ],
      "metadata": {
        "id": "sZT7KKTNgbg5"
      },
      "execution_count": null,
      "outputs": []
    },
    {
      "cell_type": "code",
      "source": [
        "# Cek distribusi target\n",
        "df['Response'].value_counts()"
      ],
      "metadata": {
        "colab": {
          "base_uri": "https://localhost:8080/"
        },
        "id": "Q4R_Mr_qgfVa",
        "outputId": "810a7aad-ac02-4a4f-c9d2-a1cb42d6ec07"
      },
      "execution_count": null,
      "outputs": [
        {
          "output_type": "execute_result",
          "data": {
            "text/plain": [
              "0    1906\n",
              "1     334\n",
              "Name: Response, dtype: int64"
            ]
          },
          "metadata": {},
          "execution_count": 11
        }
      ]
    },
    {
      "cell_type": "markdown",
      "source": [
        "##Unvariate Analysis"
      ],
      "metadata": {
        "id": "FvajGSwJgnQw"
      }
    },
    {
      "cell_type": "markdown",
      "source": [
        "###Income"
      ],
      "metadata": {
        "id": "A44WMQQ1grZa"
      }
    },
    {
      "cell_type": "code",
      "source": [
        "def dollar_to_int(d):\n",
        "    # input: d: String\n",
        "    # kalau null, tidak perlu di convert\n",
        "    if pd.isnull(d):\n",
        "        return d\n",
        "    else:\n",
        "        d = d.strip()\n",
        "        d = d[1:]\n",
        "        d = d[:-3]\n",
        "        d = d.replace(',', '')\n",
        "        return int(d)\n",
        "\n",
        "input_dollar =' $84,835.00 ' \n",
        "print(input_dollar)\n",
        "print(\"Output:\", dollar_to_int(input_dollar)) # ekspektasi output: 84835\n",
        "\n",
        "\n",
        "# NaN --> di pandas dia type float\n",
        "df['Income_Real'] = df['Income'].apply(dollar_to_int)\n",
        "df['Income_Real']"
      ],
      "metadata": {
        "colab": {
          "base_uri": "https://localhost:8080/"
        },
        "id": "6dS1Zqndgi5i",
        "outputId": "3a8c5f87-f4c5-46c3-f6f0-12e940751d64"
      },
      "execution_count": null,
      "outputs": [
        {
          "output_type": "stream",
          "name": "stdout",
          "text": [
            " $84,835.00 \n",
            "Output: 84835\n"
          ]
        },
        {
          "output_type": "execute_result",
          "data": {
            "text/plain": [
              "0       84835.0\n",
              "1       57091.0\n",
              "2       67267.0\n",
              "3       32474.0\n",
              "4       21474.0\n",
              "         ...   \n",
              "2235    66476.0\n",
              "2236    31056.0\n",
              "2237    46310.0\n",
              "2238    65819.0\n",
              "2239    94871.0\n",
              "Name: Income_Real, Length: 2240, dtype: float64"
            ]
          },
          "metadata": {},
          "execution_count": 12
        }
      ]
    },
    {
      "cell_type": "code",
      "source": [
        "sns.histplot(df, x='Income_Real')"
      ],
      "metadata": {
        "colab": {
          "base_uri": "https://localhost:8080/",
          "height": 297
        },
        "id": "Whbke7PVgxxY",
        "outputId": "d1c4bfe7-19af-4b84-d010-f952d139aad9"
      },
      "execution_count": null,
      "outputs": [
        {
          "output_type": "execute_result",
          "data": {
            "text/plain": [
              "<matplotlib.axes._subplots.AxesSubplot at 0x7fe9ba66c190>"
            ]
          },
          "metadata": {},
          "execution_count": 23
        },
        {
          "output_type": "display_data",
          "data": {
            "text/plain": [
              "<Figure size 432x288 with 1 Axes>"
            ],
            "image/png": "[encoded data removed]"
          },
          "metadata": {
            "needs_background": "light"
          }
        }
      ]
    },
    {
      "cell_type": "code",
      "source": [
        "# Menghilangkan outliers\n",
        "sns.boxplot(data=df, x='Income_Real')"
      ],
      "metadata": {
        "colab": {
          "base_uri": "https://localhost:8080/",
          "height": 297
        },
        "id": "Lc2sqgA4g5Cw",
        "outputId": "1d3ff353-1672-41f0-ed00-23f994a768d9"
      },
      "execution_count": null,
      "outputs": [
        {
          "output_type": "execute_result",
          "data": {
            "text/plain": [
              "<matplotlib.axes._subplots.AxesSubplot at 0x7fe9ba711f10>"
            ]
          },
          "metadata": {},
          "execution_count": 22
        },
        {
          "output_type": "display_data",
          "data": {
            "text/plain": [
              "<Figure size 432x288 with 1 Axes>"
            ],
            "image/png": "[encoded data removed]"
          },
          "metadata": {
            "needs_background": "light"
          }
        }
      ]
    },
    {
      "cell_type": "code",
      "source": [
        "# IQR\n",
        "Q1 = df['Income_Real'].quantile(0.3)\n",
        "Q3 = df['Income_Real'].quantile(0.7)\n",
        "IQR = Q3 - Q1\n",
        "UPPER_LIMIT = Q3 + (1.5 * IQR)\n",
        "df = df[df['Income_Real'] <= UPPER_LIMIT]"
      ],
      "metadata": {
        "id": "7J04JEkFg8zJ"
      },
      "execution_count": null,
      "outputs": []
    },
    {
      "cell_type": "code",
      "source": [
        "sns.histplot(df, x='Income_Real', hue='Response')"
      ],
      "metadata": {
        "colab": {
          "base_uri": "https://localhost:8080/",
          "height": 297
        },
        "id": "UsvLyIgGg_ko",
        "outputId": "a4dba449-5267-4bae-d528-a32d67230f0d"
      },
      "execution_count": null,
      "outputs": [
        {
          "output_type": "execute_result",
          "data": {
            "text/plain": [
              "<matplotlib.axes._subplots.AxesSubplot at 0x7fe9ba928210>"
            ]
          },
          "metadata": {},
          "execution_count": 16
        },
        {
          "output_type": "display_data",
          "data": {
            "text/plain": [
              "<Figure size 432x288 with 1 Axes>"
            ],
            "image/png": "[encoded data removed]"
          },
          "metadata": {
            "needs_background": "light"
          }
        }
      ]
    },
    {
      "cell_type": "code",
      "source": [
        "# bootstrap\n",
        "# Ide: dari setiap kelas, kita ambil sample. Kita cari rata-rata/median. \n",
        "# Lakukan sebanyak n kali. Rata-rata ini yang akan kita plot.\n",
        "\n",
        "def bootstrap(df, column):\n",
        "\n",
        "    BOOTS_RESULT = []\n",
        "    for i in range(200):\n",
        "        # sampling kelas Response = 0\n",
        "        mean_0 = df[df['Response'] == 0][column].sample(100).mean()\n",
        "        mean_1 = df[df['Response'] == 1][column].sample(100).mean()\n",
        "\n",
        "        BOOTS_RESULT.append((mean_0, 0))\n",
        "        BOOTS_RESULT.append((mean_1, 1))\n",
        "    df_boots = pd.DataFrame(BOOTS_RESULT, columns=[column, 'Response'])\n",
        "    return df_boots\n",
        "\n",
        "df_boots = bootstrap(df, 'Income_Real')"
      ],
      "metadata": {
        "id": "W2yLQfL0hQtQ"
      },
      "execution_count": null,
      "outputs": []
    },
    {
      "cell_type": "code",
      "source": [
        "sns.histplot(df_boots, x='Income_Real', hue='Response')"
      ],
      "metadata": {
        "colab": {
          "base_uri": "https://localhost:8080/",
          "height": 297
        },
        "id": "d6Jul7nShSEI",
        "outputId": "edfa4a03-b0d3-46f7-9fee-e3ae3971a836"
      },
      "execution_count": null,
      "outputs": [
        {
          "output_type": "execute_result",
          "data": {
            "text/plain": [
              "<matplotlib.axes._subplots.AxesSubplot at 0x7fe9ba830190>"
            ]
          },
          "metadata": {},
          "execution_count": 18
        },
        {
          "output_type": "display_data",
          "data": {
            "text/plain": [
              "<Figure size 432x288 with 1 Axes>"
            ],
            "image/png": "[encoded data removed]"
          },
          "metadata": {
            "needs_background": "light"
          }
        }
      ]
    },
    {
      "cell_type": "markdown",
      "source": [
        "###Education"
      ],
      "metadata": {
        "id": "5vIAsuNWhj5z"
      }
    },
    {
      "cell_type": "code",
      "source": [
        "#Menghitung jumlah nilai pada column \"Education\"\n",
        "df['Education'].value_counts()"
      ],
      "metadata": {
        "colab": {
          "base_uri": "https://localhost:8080/"
        },
        "id": "bctRmyUShaQI",
        "outputId": "1278692a-032c-4c5b-d2a0-5666e03aca6b"
      },
      "execution_count": null,
      "outputs": [
        {
          "output_type": "execute_result",
          "data": {
            "text/plain": [
              "Graduation    1113\n",
              "PhD            476\n",
              "Master         364\n",
              "2n Cycle       200\n",
              "Basic           54\n",
              "Name: Education, dtype: int64"
            ]
          },
          "metadata": {},
          "execution_count": 19
        }
      ]
    },
    {
      "cell_type": "code",
      "source": [
        "sns.countplot(data=df, x='Education')"
      ],
      "metadata": {
        "colab": {
          "base_uri": "https://localhost:8080/",
          "height": 296
        },
        "id": "SO_T8yRGhpVx",
        "outputId": "f90f4118-fa62-41f5-8269-314dc0a0a946"
      },
      "execution_count": null,
      "outputs": [
        {
          "output_type": "execute_result",
          "data": {
            "text/plain": [
              "<matplotlib.axes._subplots.AxesSubplot at 0x7fe9ba797490>"
            ]
          },
          "metadata": {},
          "execution_count": 20
        },
        {
          "output_type": "display_data",
          "data": {
            "text/plain": [
              "<Figure size 432x288 with 1 Axes>"
            ],
            "image/png": "[encoded data removed]"
          },
          "metadata": {
            "needs_background": "light"
          }
        }
      ]
    },
    {
      "cell_type": "code",
      "source": [
        "per_response = df.groupby(['Education', 'Response']).size().to_frame('Total_Per_Response')\n",
        "per_education = df.groupby('Education').size().to_frame('Total_Per_Edu')\n",
        "\n",
        "joined = per_response.join(\n",
        "    per_education,\n",
        "    on='Education'\n",
        ").reset_index()\n",
        "\n",
        "joined['ratio'] = joined['Total_Per_Response'] / joined['Total_Per_Edu']\n",
        "joined"
      ],
      "metadata": {
        "colab": {
          "base_uri": "https://localhost:8080/",
          "height": 363
        },
        "id": "I6gxsc4yhsLx",
        "outputId": "2bd8987d-5c30-4c97-83bf-0f6253464cb0"
      },
      "execution_count": null,
      "outputs": [
        {
          "output_type": "execute_result",
          "data": {
            "text/plain": [
              "    Education  Response  Total_Per_Response  Total_Per_Edu     ratio\n",
              "0    2n Cycle         0                 178            200  0.890000\n",
              "1    2n Cycle         1                  22            200  0.110000\n",
              "2       Basic         0                  52             54  0.962963\n",
              "3       Basic         1                   2             54  0.037037\n",
              "4  Graduation         0                 961           1113  0.863432\n",
              "5  Graduation         1                 152           1113  0.136568\n",
              "6      Master         0                 308            364  0.846154\n",
              "7      Master         1                  56            364  0.153846\n",
              "8         PhD         0                 375            476  0.787815\n",
              "9         PhD         1                 101            476  0.212185"
            ],
            "text/html": [
              "\n",
              "  <div id=\"df-1d22a677-8d5a-4fa3-bce0-3d986e21f65f\">\n",
              "    <div class=\"colab-df-container\">\n",
              "      <div>\n",
              "<style scoped>\n",
              "    .dataframe tbody tr th:only-of-type {\n",
              "        vertical-align: middle;\n",
              "    }\n",
              "\n",
              "    .dataframe tbody tr th {\n",
              "        vertical-align: top;\n",
              "    }\n",
              "\n",
              "    .dataframe thead th {\n",
              "        text-align: right;\n",
              "    }\n",
              "</style>\n",
              "<table border=\"1\" class=\"dataframe\">\n",
              "  <thead>\n",
              "    <tr style=\"text-align: right;\">\n",
              "      <th></th>\n",
              "      <th>Education</th>\n",
              "      <th>Response</th>\n",
              "      <th>Total_Per_Response</th>\n",
              "      <th>Total_Per_Edu</th>\n",
              "      <th>ratio</th>\n",
              "    </tr>\n",
              "  </thead>\n",
              "  <tbody>\n",
              "    <tr>\n",
              "      <th>0</th>\n",
              "      <td>2n Cycle</td>\n",
              "      <td>0</td>\n",
              "      <td>178</td>\n",
              "      <td>200</td>\n",
              "      <td>0.890000</td>\n",
              "    </tr>\n",
              "    <tr>\n",
              "      <th>1</th>\n",
              "      <td>2n Cycle</td>\n",
              "      <td>1</td>\n",
              "      <td>22</td>\n",
              "      <td>200</td>\n",
              "      <td>0.110000</td>\n",
              "    </tr>\n",
              "    <tr>\n",
              "      <th>2</th>\n",
              "      <td>Basic</td>\n",
              "      <td>0</td>\n",
              "      <td>52</td>\n",
              "      <td>54</td>\n",
              "      <td>0.962963</td>\n",
              "    </tr>\n",
              "    <tr>\n",
              "      <th>3</th>\n",
              "      <td>Basic</td>\n",
              "      <td>1</td>\n",
              "      <td>2</td>\n",
              "      <td>54</td>\n",
              "      <td>0.037037</td>\n",
              "    </tr>\n",
              "    <tr>\n",
              "      <th>4</th>\n",
              "      <td>Graduation</td>\n",
              "      <td>0</td>\n",
              "      <td>961</td>\n",
              "      <td>1113</td>\n",
              "      <td>0.863432</td>\n",
              "    </tr>\n",
              "    <tr>\n",
              "      <th>5</th>\n",
              "      <td>Graduation</td>\n",
              "      <td>1</td>\n",
              "      <td>152</td>\n",
              "      <td>1113</td>\n",
              "      <td>0.136568</td>\n",
              "    </tr>\n",
              "    <tr>\n",
              "      <th>6</th>\n",
              "      <td>Master</td>\n",
              "      <td>0</td>\n",
              "      <td>308</td>\n",
              "      <td>364</td>\n",
              "      <td>0.846154</td>\n",
              "    </tr>\n",
              "    <tr>\n",
              "      <th>7</th>\n",
              "      <td>Master</td>\n",
              "      <td>1</td>\n",
              "      <td>56</td>\n",
              "      <td>364</td>\n",
              "      <td>0.153846</td>\n",
              "    </tr>\n",
              "    <tr>\n",
              "      <th>8</th>\n",
              "      <td>PhD</td>\n",
              "      <td>0</td>\n",
              "      <td>375</td>\n",
              "      <td>476</td>\n",
              "      <td>0.787815</td>\n",
              "    </tr>\n",
              "    <tr>\n",
              "      <th>9</th>\n",
              "      <td>PhD</td>\n",
              "      <td>1</td>\n",
              "      <td>101</td>\n",
              "      <td>476</td>\n",
              "      <td>0.212185</td>\n",
              "    </tr>\n",
              "  </tbody>\n",
              "</table>\n",
              "</div>\n",
              "      <button class=\"colab-df-convert\" onclick=\"convertToInteractive('df-1d22a677-8d5a-4fa3-bce0-3d986e21f65f')\"\n",
              "              title=\"Convert this dataframe to an interactive table.\"\n",
              "              style=\"display:none;\">\n",
              "        \n",
              "  <svg xmlns=\"http://www.w3.org/2000/svg\" height=\"24px\"viewBox=\"0 0 24 24\"\n",
              "       width=\"24px\">\n",
              "    <path d=\"M0 0h24v24H0V0z\" fill=\"none\"/>\n",
              "    <path d=\"M18.56 5.44l.94 2.06.94-2.06 2.06-.94-2.06-.94-.94-2.06-.94 2.06-2.06.94zm-11 1L8.5 8.5l.94-2.06 2.06-.94-2.06-.94L8.5 2.5l-.94 2.06-2.06.94zm10 10l.94 2.06.94-2.06 2.06-.94-2.06-.94-.94-2.06-.94 2.06-2.06.94z\"/><path d=\"M17.41 7.96l-1.37-1.37c-.4-.4-.92-.59-1.43-.59-.52 0-1.04.2-1.43.59L10.3 9.45l-7.72 7.72c-.78.78-.78 2.05 0 2.83L4 21.41c.39.39.9.59 1.41.59.51 0 1.02-.2 1.41-.59l7.78-7.78 2.81-2.81c.8-.78.8-2.07 0-2.86zM5.41 20L4 18.59l7.72-7.72 1.47 1.35L5.41 20z\"/>\n",
              "  </svg>\n",
              "      </button>\n",
              "      \n",
              "  <style>\n",
              "    .colab-df-container {\n",
              "      display:flex;\n",
              "      flex-wrap:wrap;\n",
              "      gap: 12px;\n",
              "    }\n",
              "\n",
              "    .colab-df-convert {\n",
              "      background-color: #E8F0FE;\n",
              "      border: none;\n",
              "      border-radius: 50%;\n",
              "      cursor: pointer;\n",
              "      display: none;\n",
              "      fill: #1967D2;\n",
              "      height: 32px;\n",
              "      padding: 0 0 0 0;\n",
              "      width: 32px;\n",
              "    }\n",
              "\n",
              "    .colab-df-convert:hover {\n",
              "      background-color: #E2EBFA;\n",
              "      box-shadow: 0px 1px 2px rgba(60, 64, 67, 0.3), 0px 1px 3px 1px rgba(60, 64, 67, 0.15);\n",
              "      fill: #174EA6;\n",
              "    }\n",
              "\n",
              "    [theme=dark] .colab-df-convert {\n",
              "      background-color: #3B4455;\n",
              "      fill: #D2E3FC;\n",
              "    }\n",
              "\n",
              "    [theme=dark] .colab-df-convert:hover {\n",
              "      background-color: #434B5C;\n",
              "      box-shadow: 0px 1px 3px 1px rgba(0, 0, 0, 0.15);\n",
              "      filter: drop-shadow(0px 1px 2px rgba(0, 0, 0, 0.3));\n",
              "      fill: #FFFFFF;\n",
              "    }\n",
              "  </style>\n",
              "\n",
              "      <script>\n",
              "        const buttonEl =\n",
              "          document.querySelector('#df-1d22a677-8d5a-4fa3-bce0-3d986e21f65f button.colab-df-convert');\n",
              "        buttonEl.style.display =\n",
              "          google.colab.kernel.accessAllowed ? 'block' : 'none';\n",
              "\n",
              "        async function convertToInteractive(key) {\n",
              "          const element = document.querySelector('#df-1d22a677-8d5a-4fa3-bce0-3d986e21f65f');\n",
              "          const dataTable =\n",
              "            await google.colab.kernel.invokeFunction('convertToInteractive',\n",
              "                                                     [key], {});\n",
              "          if (!dataTable) return;\n",
              "\n",
              "          const docLinkHtml = 'Like what you see? Visit the ' +\n",
              "            '<a target=\"_blank\" href=https://colab.research.google.com/notebooks/data_table.ipynb>data table notebook</a>'\n",
              "            + ' to learn more about interactive tables.';\n",
              "          element.innerHTML = '';\n",
              "          dataTable['output_type'] = 'display_data';\n",
              "          await google.colab.output.renderOutput(dataTable, element);\n",
              "          const docLink = document.createElement('div');\n",
              "          docLink.innerHTML = docLinkHtml;\n",
              "          element.appendChild(docLink);\n",
              "        }\n",
              "      </script>\n",
              "    </div>\n",
              "  </div>\n",
              "  "
            ]
          },
          "metadata": {},
          "execution_count": 21
        }
      ]
    },
    {
      "cell_type": "code",
      "source": [
        "sns.barplot(data=joined, y='ratio', hue='Response', x='Education')"
      ],
      "metadata": {
        "colab": {
          "base_uri": "https://localhost:8080/",
          "height": 298
        },
        "id": "hMAONKzxh1vB",
        "outputId": "ba6ca1f9-e275-4895-9bdd-b990386145cd"
      },
      "execution_count": null,
      "outputs": [
        {
          "output_type": "execute_result",
          "data": {
            "text/plain": [
              "<matplotlib.axes._subplots.AxesSubplot at 0x7fe9ba5da210>"
            ]
          },
          "metadata": {},
          "execution_count": 24
        },
        {
          "output_type": "display_data",
          "data": {
            "text/plain": [
              "<Figure size 432x288 with 1 Axes>"
            ],
            "image/png": "[encoded data removed]"
          },
          "metadata": {
            "needs_background": "light"
          }
        }
      ]
    },
    {
      "cell_type": "markdown",
      "source": [
        "###Marital Status"
      ],
      "metadata": {
        "id": "A6s5zsPih8Fy"
      }
    },
    {
      "cell_type": "code",
      "source": [
        "df['Marital_Status'].value_counts()"
      ],
      "metadata": {
        "colab": {
          "base_uri": "https://localhost:8080/"
        },
        "id": "YarkM4iTh5oy",
        "outputId": "a50b1516-c268-47fd-fd11-7624355d56d7"
      },
      "execution_count": null,
      "outputs": [
        {
          "output_type": "execute_result",
          "data": {
            "text/plain": [
              "Married     854\n",
              "Together    569\n",
              "Single      470\n",
              "Divorced    231\n",
              "Widow        76\n",
              "Alone         3\n",
              "YOLO          2\n",
              "Absurd        2\n",
              "Name: Marital_Status, dtype: int64"
            ]
          },
          "metadata": {},
          "execution_count": 25
        }
      ]
    },
    {
      "cell_type": "code",
      "source": [
        "sns.countplot(data=df, x='Marital_Status')"
      ],
      "metadata": {
        "colab": {
          "base_uri": "https://localhost:8080/",
          "height": 297
        },
        "id": "93fOc2ukiCGS",
        "outputId": "37fe1a48-56de-4dc4-feb3-126350cf7be0"
      },
      "execution_count": null,
      "outputs": [
        {
          "output_type": "execute_result",
          "data": {
            "text/plain": [
              "<matplotlib.axes._subplots.AxesSubplot at 0x7fe9ba4f3f50>"
            ]
          },
          "metadata": {},
          "execution_count": 26
        },
        {
          "output_type": "display_data",
          "data": {
            "text/plain": [
              "<Figure size 432x288 with 1 Axes>"
            ],
            "image/png": "[encoded data removed]"
          },
          "metadata": {
            "needs_background": "light"
          }
        }
      ]
    },
    {
      "cell_type": "code",
      "source": [
        "per_response = df.groupby(['Marital_Status', 'Response']).size().to_frame('Total_Per_Response')\n",
        "per_education = df.groupby('Marital_Status').size().to_frame('Total_Per_Edu')\n",
        "\n",
        "joined = per_response.join(\n",
        "    per_education,\n",
        "    on='Marital_Status'\n",
        ").reset_index()\n",
        "\n",
        "joined['ratio'] = joined['Total_Per_Response'] / joined['Total_Per_Edu']\n",
        "joined"
      ],
      "metadata": {
        "colab": {
          "base_uri": "https://localhost:8080/",
          "height": 551
        },
        "id": "eUqrNG3ziG4h",
        "outputId": "af5ddaf6-cacd-4bfa-b175-d0b51b807b48"
      },
      "execution_count": null,
      "outputs": [
        {
          "output_type": "execute_result",
          "data": {
            "text/plain": [
              "   Marital_Status  Response  Total_Per_Response  Total_Per_Edu     ratio\n",
              "0          Absurd         0                   1              2  0.500000\n",
              "1          Absurd         1                   1              2  0.500000\n",
              "2           Alone         0                   2              3  0.666667\n",
              "3           Alone         1                   1              3  0.333333\n",
              "4        Divorced         0                 183            231  0.792208\n",
              "5        Divorced         1                  48            231  0.207792\n",
              "6         Married         0                 756            854  0.885246\n",
              "7         Married         1                  98            854  0.114754\n",
              "8          Single         0                 364            470  0.774468\n",
              "9          Single         1                 106            470  0.225532\n",
              "10       Together         0                 509            569  0.894552\n",
              "11       Together         1                  60            569  0.105448\n",
              "12          Widow         0                  58             76  0.763158\n",
              "13          Widow         1                  18             76  0.236842\n",
              "14           YOLO         0                   1              2  0.500000\n",
              "15           YOLO         1                   1              2  0.500000"
            ],
            "text/html": [
              "\n",
              "  <div id=\"df-565627a8-ef66-418a-96de-c3057f71b1af\">\n",
              "    <div class=\"colab-df-container\">\n",
              "      <div>\n",
              "<style scoped>\n",
              "    .dataframe tbody tr th:only-of-type {\n",
              "        vertical-align: middle;\n",
              "    }\n",
              "\n",
              "    .dataframe tbody tr th {\n",
              "        vertical-align: top;\n",
              "    }\n",
              "\n",
              "    .dataframe thead th {\n",
              "        text-align: right;\n",
              "    }\n",
              "</style>\n",
              "<table border=\"1\" class=\"dataframe\">\n",
              "  <thead>\n",
              "    <tr style=\"text-align: right;\">\n",
              "      <th></th>\n",
              "      <th>Marital_Status</th>\n",
              "      <th>Response</th>\n",
              "      <th>Total_Per_Response</th>\n",
              "      <th>Total_Per_Edu</th>\n",
              "      <th>ratio</th>\n",
              "    </tr>\n",
              "  </thead>\n",
              "  <tbody>\n",
              "    <tr>\n",
              "      <th>0</th>\n",
              "      <td>Absurd</td>\n",
              "      <td>0</td>\n",
              "      <td>1</td>\n",
              "      <td>2</td>\n",
              "      <td>0.500000</td>\n",
              "    </tr>\n",
              "    <tr>\n",
              "      <th>1</th>\n",
              "      <td>Absurd</td>\n",
              "      <td>1</td>\n",
              "      <td>1</td>\n",
              "      <td>2</td>\n",
              "      <td>0.500000</td>\n",
              "    </tr>\n",
              "    <tr>\n",
              "      <th>2</th>\n",
              "      <td>Alone</td>\n",
              "      <td>0</td>\n",
              "      <td>2</td>\n",
              "      <td>3</td>\n",
              "      <td>0.666667</td>\n",
              "    </tr>\n",
              "    <tr>\n",
              "      <th>3</th>\n",
              "      <td>Alone</td>\n",
              "      <td>1</td>\n",
              "      <td>1</td>\n",
              "      <td>3</td>\n",
              "      <td>0.333333</td>\n",
              "    </tr>\n",
              "    <tr>\n",
              "      <th>4</th>\n",
              "      <td>Divorced</td>\n",
              "      <td>0</td>\n",
              "      <td>183</td>\n",
              "      <td>231</td>\n",
              "      <td>0.792208</td>\n",
              "    </tr>\n",
              "    <tr>\n",
              "      <th>5</th>\n",
              "      <td>Divorced</td>\n",
              "      <td>1</td>\n",
              "      <td>48</td>\n",
              "      <td>231</td>\n",
              "      <td>0.207792</td>\n",
              "    </tr>\n",
              "    <tr>\n",
              "      <th>6</th>\n",
              "      <td>Married</td>\n",
              "      <td>0</td>\n",
              "      <td>756</td>\n",
              "      <td>854</td>\n",
              "      <td>0.885246</td>\n",
              "    </tr>\n",
              "    <tr>\n",
              "      <th>7</th>\n",
              "      <td>Married</td>\n",
              "      <td>1</td>\n",
              "      <td>98</td>\n",
              "      <td>854</td>\n",
              "      <td>0.114754</td>\n",
              "    </tr>\n",
              "    <tr>\n",
              "      <th>8</th>\n",
              "      <td>Single</td>\n",
              "      <td>0</td>\n",
              "      <td>364</td>\n",
              "      <td>470</td>\n",
              "      <td>0.774468</td>\n",
              "    </tr>\n",
              "    <tr>\n",
              "      <th>9</th>\n",
              "      <td>Single</td>\n",
              "      <td>1</td>\n",
              "      <td>106</td>\n",
              "      <td>470</td>\n",
              "      <td>0.225532</td>\n",
              "    </tr>\n",
              "    <tr>\n",
              "      <th>10</th>\n",
              "      <td>Together</td>\n",
              "      <td>0</td>\n",
              "      <td>509</td>\n",
              "      <td>569</td>\n",
              "      <td>0.894552</td>\n",
              "    </tr>\n",
              "    <tr>\n",
              "      <th>11</th>\n",
              "      <td>Together</td>\n",
              "      <td>1</td>\n",
              "      <td>60</td>\n",
              "      <td>569</td>\n",
              "      <td>0.105448</td>\n",
              "    </tr>\n",
              "    <tr>\n",
              "      <th>12</th>\n",
              "      <td>Widow</td>\n",
              "      <td>0</td>\n",
              "      <td>58</td>\n",
              "      <td>76</td>\n",
              "      <td>0.763158</td>\n",
              "    </tr>\n",
              "    <tr>\n",
              "      <th>13</th>\n",
              "      <td>Widow</td>\n",
              "      <td>1</td>\n",
              "      <td>18</td>\n",
              "      <td>76</td>\n",
              "      <td>0.236842</td>\n",
              "    </tr>\n",
              "    <tr>\n",
              "      <th>14</th>\n",
              "      <td>YOLO</td>\n",
              "      <td>0</td>\n",
              "      <td>1</td>\n",
              "      <td>2</td>\n",
              "      <td>0.500000</td>\n",
              "    </tr>\n",
              "    <tr>\n",
              "      <th>15</th>\n",
              "      <td>YOLO</td>\n",
              "      <td>1</td>\n",
              "      <td>1</td>\n",
              "      <td>2</td>\n",
              "      <td>0.500000</td>\n",
              "    </tr>\n",
              "  </tbody>\n",
              "</table>\n",
              "</div>\n",
              "      <button class=\"colab-df-convert\" onclick=\"convertToInteractive('df-565627a8-ef66-418a-96de-c3057f71b1af')\"\n",
              "              title=\"Convert this dataframe to an interactive table.\"\n",
              "              style=\"display:none;\">\n",
              "        \n",
              "  <svg xmlns=\"http://www.w3.org/2000/svg\" height=\"24px\"viewBox=\"0 0 24 24\"\n",
              "       width=\"24px\">\n",
              "    <path d=\"M0 0h24v24H0V0z\" fill=\"none\"/>\n",
              "    <path d=\"M18.56 5.44l.94 2.06.94-2.06 2.06-.94-2.06-.94-.94-2.06-.94 2.06-2.06.94zm-11 1L8.5 8.5l.94-2.06 2.06-.94-2.06-.94L8.5 2.5l-.94 2.06-2.06.94zm10 10l.94 2.06.94-2.06 2.06-.94-2.06-.94-.94-2.06-.94 2.06-2.06.94z\"/><path d=\"M17.41 7.96l-1.37-1.37c-.4-.4-.92-.59-1.43-.59-.52 0-1.04.2-1.43.59L10.3 9.45l-7.72 7.72c-.78.78-.78 2.05 0 2.83L4 21.41c.39.39.9.59 1.41.59.51 0 1.02-.2 1.41-.59l7.78-7.78 2.81-2.81c.8-.78.8-2.07 0-2.86zM5.41 20L4 18.59l7.72-7.72 1.47 1.35L5.41 20z\"/>\n",
              "  </svg>\n",
              "      </button>\n",
              "      \n",
              "  <style>\n",
              "    .colab-df-container {\n",
              "      display:flex;\n",
              "      flex-wrap:wrap;\n",
              "      gap: 12px;\n",
              "    }\n",
              "\n",
              "    .colab-df-convert {\n",
              "      background-color: #E8F0FE;\n",
              "      border: none;\n",
              "      border-radius: 50%;\n",
              "      cursor: pointer;\n",
              "      display: none;\n",
              "      fill: #1967D2;\n",
              "      height: 32px;\n",
              "      padding: 0 0 0 0;\n",
              "      width: 32px;\n",
              "    }\n",
              "\n",
              "    .colab-df-convert:hover {\n",
              "      background-color: #E2EBFA;\n",
              "      box-shadow: 0px 1px 2px rgba(60, 64, 67, 0.3), 0px 1px 3px 1px rgba(60, 64, 67, 0.15);\n",
              "      fill: #174EA6;\n",
              "    }\n",
              "\n",
              "    [theme=dark] .colab-df-convert {\n",
              "      background-color: #3B4455;\n",
              "      fill: #D2E3FC;\n",
              "    }\n",
              "\n",
              "    [theme=dark] .colab-df-convert:hover {\n",
              "      background-color: #434B5C;\n",
              "      box-shadow: 0px 1px 3px 1px rgba(0, 0, 0, 0.15);\n",
              "      filter: drop-shadow(0px 1px 2px rgba(0, 0, 0, 0.3));\n",
              "      fill: #FFFFFF;\n",
              "    }\n",
              "  </style>\n",
              "\n",
              "      <script>\n",
              "        const buttonEl =\n",
              "          document.querySelector('#df-565627a8-ef66-418a-96de-c3057f71b1af button.colab-df-convert');\n",
              "        buttonEl.style.display =\n",
              "          google.colab.kernel.accessAllowed ? 'block' : 'none';\n",
              "\n",
              "        async function convertToInteractive(key) {\n",
              "          const element = document.querySelector('#df-565627a8-ef66-418a-96de-c3057f71b1af');\n",
              "          const dataTable =\n",
              "            await google.colab.kernel.invokeFunction('convertToInteractive',\n",
              "                                                     [key], {});\n",
              "          if (!dataTable) return;\n",
              "\n",
              "          const docLinkHtml = 'Like what you see? Visit the ' +\n",
              "            '<a target=\"_blank\" href=https://colab.research.google.com/notebooks/data_table.ipynb>data table notebook</a>'\n",
              "            + ' to learn more about interactive tables.';\n",
              "          element.innerHTML = '';\n",
              "          dataTable['output_type'] = 'display_data';\n",
              "          await google.colab.output.renderOutput(dataTable, element);\n",
              "          const docLink = document.createElement('div');\n",
              "          docLink.innerHTML = docLinkHtml;\n",
              "          element.appendChild(docLink);\n",
              "        }\n",
              "      </script>\n",
              "    </div>\n",
              "  </div>\n",
              "  "
            ]
          },
          "metadata": {},
          "execution_count": 27
        }
      ]
    },
    {
      "cell_type": "code",
      "source": [
        "sns.barplot(data=joined, y='ratio', hue='Response', x='Marital_Status')"
      ],
      "metadata": {
        "colab": {
          "base_uri": "https://localhost:8080/",
          "height": 297
        },
        "id": "SS_DZjUFiG20",
        "outputId": "9ce27737-38e9-4ae0-8c04-b8603f60ea81"
      },
      "execution_count": null,
      "outputs": [
        {
          "output_type": "execute_result",
          "data": {
            "text/plain": [
              "<matplotlib.axes._subplots.AxesSubplot at 0x7fe9bae45a90>"
            ]
          },
          "metadata": {},
          "execution_count": 28
        },
        {
          "output_type": "display_data",
          "data": {
            "text/plain": [
              "<Figure size 432x288 with 1 Axes>"
            ],
            "image/png": "[encoded data removed]"
          },
          "metadata": {
            "needs_background": "light"
          }
        }
      ]
    },
    {
      "cell_type": "code",
      "source": [
        "#Menghilangkan kategori yang minim data\n",
        "df = df[~df['Marital_Status'].isin(['Alone', 'YOLO', 'Absurd'])]"
      ],
      "metadata": {
        "id": "16MZvwCeiMCo"
      },
      "execution_count": null,
      "outputs": []
    },
    {
      "cell_type": "markdown",
      "source": [
        "#Data Preprocessing"
      ],
      "metadata": {
        "id": "uRPRWVQTiRWZ"
      }
    },
    {
      "cell_type": "markdown",
      "source": [
        "##Feature Engineering"
      ],
      "metadata": {
        "id": "pjG6QgtdiVPz"
      }
    },
    {
      "cell_type": "markdown",
      "source": [
        "###Age"
      ],
      "metadata": {
        "id": "aoAfuIaLip-q"
      }
    },
    {
      "cell_type": "code",
      "source": [
        "df['Age'] = 2022 - df['Year_Birth']"
      ],
      "metadata": {
        "id": "PEAh6shJiTnp"
      },
      "execution_count": null,
      "outputs": []
    },
    {
      "cell_type": "code",
      "source": [
        "sns.histplot(data=df, x='Age', hue='Response')"
      ],
      "metadata": {
        "colab": {
          "base_uri": "https://localhost:8080/",
          "height": 296
        },
        "id": "IA79cYaPicPh",
        "outputId": "a1bde242-1f8c-4ffe-be98-b7b7d875340b"
      },
      "execution_count": null,
      "outputs": [
        {
          "output_type": "execute_result",
          "data": {
            "text/plain": [
              "<matplotlib.axes._subplots.AxesSubplot at 0x7fe9ba3a7350>"
            ]
          },
          "metadata": {},
          "execution_count": 31
        },
        {
          "output_type": "display_data",
          "data": {
            "text/plain": [
              "<Figure size 432x288 with 1 Axes>"
            ],
            "image/png": "[encoded data removed]"
          },
          "metadata": {
            "needs_background": "light"
          }
        }
      ]
    },
    {
      "cell_type": "code",
      "source": [
        "sns.boxplot(data=df, x='Age')"
      ],
      "metadata": {
        "colab": {
          "base_uri": "https://localhost:8080/",
          "height": 296
        },
        "id": "JYi4QX5cigYD",
        "outputId": "d54813bf-e979-4a5a-d000-20ff7542a58e"
      },
      "execution_count": null,
      "outputs": [
        {
          "output_type": "execute_result",
          "data": {
            "text/plain": [
              "<matplotlib.axes._subplots.AxesSubplot at 0x7fe9ba0a8950>"
            ]
          },
          "metadata": {},
          "execution_count": 39
        },
        {
          "output_type": "display_data",
          "data": {
            "text/plain": [
              "<Figure size 432x288 with 1 Axes>"
            ],
            "image/png": "[encoded data removed]"
          },
          "metadata": {
            "needs_background": "light"
          }
        }
      ]
    },
    {
      "cell_type": "code",
      "source": [
        "df = df[df['Age'] <= 100]\n",
        "df.shape"
      ],
      "metadata": {
        "colab": {
          "base_uri": "https://localhost:8080/"
        },
        "id": "FsWeejjIii5J",
        "outputId": "3175383d-f5ea-49d3-ac91-bc7f3604a752"
      },
      "execution_count": null,
      "outputs": [
        {
          "output_type": "execute_result",
          "data": {
            "text/plain": [
              "(2197, 30)"
            ]
          },
          "metadata": {},
          "execution_count": 33
        }
      ]
    },
    {
      "cell_type": "markdown",
      "source": [
        "### Bootstraping"
      ],
      "metadata": {
        "id": "DD6d2uVhim_C"
      }
    },
    {
      "cell_type": "code",
      "source": [
        "df_boots = bootstrap (df, 'Age')\n",
        "sns.histplot(data=df_boots, x='Age', hue='Response')"
      ],
      "metadata": {
        "colab": {
          "base_uri": "https://localhost:8080/",
          "height": 296
        },
        "id": "UdOjMK0diwd6",
        "outputId": "e8bd02df-808a-47e8-924d-3addc7517829"
      },
      "execution_count": null,
      "outputs": [
        {
          "output_type": "execute_result",
          "data": {
            "text/plain": [
              "<matplotlib.axes._subplots.AxesSubplot at 0x7fe9ba275350>"
            ]
          },
          "metadata": {},
          "execution_count": 34
        },
        {
          "output_type": "display_data",
          "data": {
            "text/plain": [
              "<Figure size 432x288 with 1 Axes>"
            ],
            "image/png": "[encoded data removed]"
          },
          "metadata": {
            "needs_background": "light"
          }
        }
      ]
    },
    {
      "cell_type": "markdown",
      "source": [
        "###Day User Active"
      ],
      "metadata": {
        "id": "Gs7rNjABi1Uk"
      }
    },
    {
      "cell_type": "code",
      "source": [
        "from datetime import datetime\n",
        "\n",
        "def get_user_active(s):\n",
        "    month, day, year = s.split('/')\n",
        "    year = '20' + year\n",
        "    base = datetime(int(year), int(month), int(day))\n",
        "    elapse_days = datetime.now() - base\n",
        "    return elapse_days.days\n",
        "\n",
        "df['Active_For'] = df['Dt_Customer'].apply(get_user_active)\n",
        "df['Active_For']"
      ],
      "metadata": {
        "colab": {
          "base_uri": "https://localhost:8080/"
        },
        "id": "dHRFA8EPiz4A",
        "outputId": "40932b13-f52f-4d69-a274-0b8417184444"
      },
      "execution_count": null,
      "outputs": [
        {
          "output_type": "execute_result",
          "data": {
            "text/plain": [
              "0       3026\n",
              "1       3027\n",
              "2       3060\n",
              "3       3062\n",
              "4       3095\n",
              "        ... \n",
              "2235    3492\n",
              "2236    3536\n",
              "2237    3586\n",
              "2238    3590\n",
              "2239    3679\n",
              "Name: Active_For, Length: 2197, dtype: int64"
            ]
          },
          "metadata": {},
          "execution_count": 35
        }
      ]
    },
    {
      "cell_type": "code",
      "source": [
        "df_boots = bootstrap (df, 'Active_For')\n",
        "sns.histplot(data=df_boots, x='Active_For', hue='Response')"
      ],
      "metadata": {
        "colab": {
          "base_uri": "https://localhost:8080/",
          "height": 297
        },
        "id": "YsI3BLxgi69T",
        "outputId": "14d71f74-8b65-4931-89f6-8e2fe52dfe90"
      },
      "execution_count": null,
      "outputs": [
        {
          "output_type": "execute_result",
          "data": {
            "text/plain": [
              "<matplotlib.axes._subplots.AxesSubplot at 0x7fe9ba0df350>"
            ]
          },
          "metadata": {},
          "execution_count": 36
        },
        {
          "output_type": "display_data",
          "data": {
            "text/plain": [
              "<Figure size 432x288 with 1 Axes>"
            ],
            "image/png": "[encoded data removed]"
          },
          "metadata": {
            "needs_background": "light"
          }
        }
      ]
    },
    {
      "cell_type": "markdown",
      "source": [
        "###Ratio Accept Campaign"
      ],
      "metadata": {
        "id": "ESCRyWpljA-p"
      }
    },
    {
      "cell_type": "code",
      "source": [
        "df['Accept_Cmp_Ratio'] = (df['AcceptedCmp1'] + df['AcceptedCmp2'] + df['AcceptedCmp3'] + df['AcceptedCmp4'] + df['AcceptedCmp5']) / 5"
      ],
      "metadata": {
        "id": "kcThS7vAi-25"
      },
      "execution_count": null,
      "outputs": []
    },
    {
      "cell_type": "code",
      "source": [
        "df_boots = bootstrap (df, 'Accept_Cmp_Ratio')\n",
        "sns.histplot(data=df_boots, x='Accept_Cmp_Ratio', hue='Response')"
      ],
      "metadata": {
        "colab": {
          "base_uri": "https://localhost:8080/",
          "height": 297
        },
        "id": "NbrqrN02jFgS",
        "outputId": "0ac264c8-1f3f-43bb-aef3-3d89e411e866"
      },
      "execution_count": null,
      "outputs": [
        {
          "output_type": "execute_result",
          "data": {
            "text/plain": [
              "<matplotlib.axes._subplots.AxesSubplot at 0x7fe9ba0df190>"
            ]
          },
          "metadata": {},
          "execution_count": 38
        },
        {
          "output_type": "display_data",
          "data": {
            "text/plain": [
              "<Figure size 432x288 with 1 Axes>"
            ],
            "image/png": "[encoded data removed]"
          },
          "metadata": {
            "needs_background": "light"
          }
        }
      ]
    },
    {
      "cell_type": "markdown",
      "source": [
        "###Correlation Analysis"
      ],
      "metadata": {
        "id": "AG26M2ZAjTOQ"
      }
    },
    {
      "cell_type": "code",
      "source": [
        "FEATURE = ['Income_Real', 'Education', 'Marital_Status', 'Age', 'Active_For', 'Accept_Cmp_Ratio']\n",
        "TARGET = 'Response'\n",
        "\n",
        "X = df[FEATURE]\n",
        "y = df[TARGET]"
      ],
      "metadata": {
        "id": "p7a0xBkHjIS5"
      },
      "execution_count": null,
      "outputs": []
    },
    {
      "cell_type": "code",
      "source": [
        "X.shape"
      ],
      "metadata": {
        "colab": {
          "base_uri": "https://localhost:8080/"
        },
        "id": "Q04piUyIjZPy",
        "outputId": "021c06d6-376c-4982-c6e0-a6854f400609"
      },
      "execution_count": null,
      "outputs": [
        {
          "output_type": "execute_result",
          "data": {
            "text/plain": [
              "(2197, 6)"
            ]
          },
          "metadata": {},
          "execution_count": 41
        }
      ]
    },
    {
      "cell_type": "code",
      "source": [
        "y.shape"
      ],
      "metadata": {
        "colab": {
          "base_uri": "https://localhost:8080/"
        },
        "id": "J8Lqdm3ejcyI",
        "outputId": "ba426489-53fb-4ea8-c791-36a5ab8523f0"
      },
      "execution_count": null,
      "outputs": [
        {
          "output_type": "execute_result",
          "data": {
            "text/plain": [
              "(2197,)"
            ]
          },
          "metadata": {},
          "execution_count": 42
        }
      ]
    },
    {
      "cell_type": "markdown",
      "source": [
        "##Train & Testing"
      ],
      "metadata": {
        "id": "Wu80CK8Xjgya"
      }
    },
    {
      "cell_type": "code",
      "source": [
        "from sklearn.model_selection import train_test_split\n",
        "\n",
        "X_train, X_test, y_train, y_test = train_test_split(X, y, test_size=0.2, stratify=y)"
      ],
      "metadata": {
        "id": "hLHPuVCGjfk5"
      },
      "execution_count": null,
      "outputs": []
    },
    {
      "cell_type": "code",
      "source": [
        "print(\"Shape of X_train: \", X_train.shape)\n",
        "print(\"Shape of y_train: \\n\", y_train.value_counts())\n",
        "print(\"Shape of X_test: \", X_test.shape)\n",
        "print(\"Shape of y_test: \\n\", y_test.value_counts())"
      ],
      "metadata": {
        "colab": {
          "base_uri": "https://localhost:8080/"
        },
        "id": "FKcTjy9mjoKk",
        "outputId": "32a42783-2806-4cf9-fa29-b95ef503ee08"
      },
      "execution_count": null,
      "outputs": [
        {
          "output_type": "stream",
          "name": "stdout",
          "text": [
            "Shape of X_train:  (1757, 6)\n",
            "Shape of y_train: \n",
            " 0    1493\n",
            "1     264\n",
            "Name: Response, dtype: int64\n",
            "Shape of X_test:  (440, 6)\n",
            "Shape of y_test: \n",
            " 0    374\n",
            "1     66\n",
            "Name: Response, dtype: int64\n"
          ]
        }
      ]
    },
    {
      "cell_type": "code",
      "source": [
        "# transformasi data dengan Encoding\n",
        "from sklearn.preprocessing import OneHotEncoder\n",
        "from sklearn.preprocessing import StandardScaler\n",
        "\n",
        "FEATURE_CAT = ['Education', 'Marital_Status']\n",
        "FEATURE_NUM =  ['Income_Real', 'Age', 'Active_For', 'Accept_Cmp_Ratio']\n",
        "\n",
        "scaler = StandardScaler() \n",
        "encoder = OneHotEncoder(sparse=False)\n",
        "\n",
        "scaler.fit(X_train[FEATURE_NUM])\n",
        "encoder.fit(X_train[FEATURE_CAT])"
      ],
      "metadata": {
        "colab": {
          "base_uri": "https://localhost:8080/"
        },
        "id": "xVm_Z8Mmj6ls",
        "outputId": "c03a5e97-68b9-4b8f-8400-5cfe87053c55"
      },
      "execution_count": null,
      "outputs": [
        {
          "output_type": "execute_result",
          "data": {
            "text/plain": [
              "OneHotEncoder(sparse=False)"
            ]
          },
          "metadata": {},
          "execution_count": 45
        }
      ]
    },
    {
      "cell_type": "code",
      "source": [
        "def transform(X):\n",
        "    X_scaled = scaler.transform(X[FEATURE_NUM])\n",
        "    X_encoded = encoder.transform(X[FEATURE_CAT])\n",
        "    X_stack = np.hstack((X_scaled, X_encoded))\n",
        "    return X_stack\n",
        "\n",
        "X_train_stack = transform(X_train)\n",
        "X_test_stack = transform(X_test)"
      ],
      "metadata": {
        "id": "WhtwoJlzj-FC"
      },
      "execution_count": null,
      "outputs": []
    },
    {
      "cell_type": "code",
      "source": [
        "X_train_stack.shape"
      ],
      "metadata": {
        "colab": {
          "base_uri": "https://localhost:8080/"
        },
        "id": "ovRf88b9kBmk",
        "outputId": "75712983-ae90-4709-c317-105c714b6ba0"
      },
      "execution_count": null,
      "outputs": [
        {
          "output_type": "execute_result",
          "data": {
            "text/plain": [
              "(1757, 14)"
            ]
          },
          "metadata": {},
          "execution_count": 47
        }
      ]
    },
    {
      "cell_type": "markdown",
      "source": [
        "#Modelling"
      ],
      "metadata": {
        "id": "oTaTMZEIkJvA"
      }
    },
    {
      "cell_type": "code",
      "source": [
        "#Pembuatan model Machine Learning\n",
        "from sklearn.metrics import precision_score, recall_score\n",
        "from sklearn.linear_model import LogisticRegression\n",
        "from sklearn.svm import SVC\n",
        "from sklearn.ensemble import RandomForestClassifier\n",
        "\n",
        "models = [\n",
        "    ('svm', SVC()),\n",
        "    ('RF', RandomForestClassifier()),\n",
        "    ('LogReg', LogisticRegression())\n",
        "]\n",
        "\n",
        "\n",
        "for model_name, model in models:\n",
        "    print(\"Training {}\".format(model_name))\n",
        "    \n",
        "    model.fit(X_train_stack, y_train)\n",
        "    predicted = model.predict(X_test_stack)\n",
        "    \n",
        "    prec = precision_score(y_test, predicted)\n",
        "    recall = recall_score(y_test, predicted)\n",
        "    \n",
        "    print(\"Model: {}, Prec: {:.2F}, Recall: {:.2F}\".format(\n",
        "        model_name, prec, recall\n",
        "    ))"
      ],
      "metadata": {
        "colab": {
          "base_uri": "https://localhost:8080/"
        },
        "id": "2tpDFSsbkD8j",
        "outputId": "797366e3-fb45-41c0-f6e5-96405c6b6ca5"
      },
      "execution_count": null,
      "outputs": [
        {
          "output_type": "stream",
          "name": "stdout",
          "text": [
            "Training svm\n",
            "Model: svm, Prec: 0.79, Recall: 0.33\n",
            "Training RF\n",
            "Model: RF, Prec: 0.67, Recall: 0.36\n",
            "Training LogReg\n",
            "Model: LogReg, Prec: 0.72, Recall: 0.35\n"
          ]
        }
      ]
    },
    {
      "cell_type": "markdown",
      "source": [
        "##Sampling Method"
      ],
      "metadata": {
        "id": "9rng9TdpkdLT"
      }
    },
    {
      "cell_type": "code",
      "source": [
        "%pip install imblearn"
      ],
      "metadata": {
        "colab": {
          "base_uri": "https://localhost:8080/"
        },
        "id": "549KHG7zkbj4",
        "outputId": "6d546ca0-7559-4f2c-db47-f5d746c1f843"
      },
      "execution_count": null,
      "outputs": [
        {
          "output_type": "stream",
          "name": "stdout",
          "text": [
            "Looking in indexes: https://pypi.org/simple, https://us-python.pkg.dev/colab-wheels/public/simple/\n",
            "Requirement already satisfied: imblearn in /usr/local/lib/python3.7/dist-packages (0.0)\n",
            "Requirement already satisfied: imbalanced-learn in /usr/local/lib/python3.7/dist-packages (from imblearn) (0.8.1)\n",
            "Requirement already satisfied: numpy>=1.13.3 in /usr/local/lib/python3.7/dist-packages (from imbalanced-learn->imblearn) (1.21.6)\n",
            "Requirement already satisfied: scikit-learn>=0.24 in /usr/local/lib/python3.7/dist-packages (from imbalanced-learn->imblearn) (1.0.2)\n",
            "Requirement already satisfied: joblib>=0.11 in /usr/local/lib/python3.7/dist-packages (from imbalanced-learn->imblearn) (1.1.0)\n",
            "Requirement already satisfied: scipy>=0.19.1 in /usr/local/lib/python3.7/dist-packages (from imbalanced-learn->imblearn) (1.7.3)\n",
            "Requirement already satisfied: threadpoolctl>=2.0.0 in /usr/local/lib/python3.7/dist-packages (from scikit-learn>=0.24->imbalanced-learn->imblearn) (3.1.0)\n"
          ]
        }
      ]
    },
    {
      "cell_type": "code",
      "source": [
        "#Metode Random Oversamling dan Undersampling\n",
        "from imblearn.over_sampling import RandomOverSampler\n",
        "from imblearn.under_sampling import RandomUnderSampler\n",
        "\n",
        "over = RandomOverSampler(sampling_strategy={1: 500})\n",
        "under = RandomUnderSampler(sampling_strategy={0: 500})\n",
        "\n",
        "X_train_sample, y_train_sample = over.fit_resample(X_train, y_train)\n",
        "X_train_sample, y_train_sample = under.fit_resample(X_train_sample, y_train_sample)"
      ],
      "metadata": {
        "id": "YbJBgag9kkh8"
      },
      "execution_count": null,
      "outputs": []
    },
    {
      "cell_type": "code",
      "source": [
        "y_train_sample.value_counts()"
      ],
      "metadata": {
        "colab": {
          "base_uri": "https://localhost:8080/"
        },
        "id": "vIxaHanwkuBd",
        "outputId": "7a4f97c1-14d0-4a0c-bdcf-f948f7ed31f4"
      },
      "execution_count": null,
      "outputs": [
        {
          "output_type": "execute_result",
          "data": {
            "text/plain": [
              "0    500\n",
              "1    500\n",
              "Name: Response, dtype: int64"
            ]
          },
          "metadata": {},
          "execution_count": 51
        }
      ]
    },
    {
      "cell_type": "code",
      "source": [
        "X_train_sample_stack = transform(X_train_sample)\n",
        "\n",
        "models = [\n",
        "    ('svm', SVC()),\n",
        "    ('RF', RandomForestClassifier()),\n",
        "    ('LogReg', LogisticRegression())\n",
        "]\n",
        "\n",
        "\n",
        "for model_name, model in models:\n",
        "    print(\"Training {}\".format(model_name))\n",
        "    \n",
        "    model.fit(X_train_sample_stack, y_train_sample)\n",
        "    predicted = model.predict(X_test_stack)\n",
        "    \n",
        "    prec = precision_score(y_test, predicted)\n",
        "    recall = recall_score(y_test, predicted)\n",
        "    \n",
        "    print(\"Model: {}, Prec: {:.2F}, Recall: {:.2F}\".format(\n",
        "        model_name, prec, recall\n",
        "    ))"
      ],
      "metadata": {
        "colab": {
          "base_uri": "https://localhost:8080/"
        },
        "id": "-yjYmPCjkxCD",
        "outputId": "6fd11dc7-cc5e-4f07-c9be-ca94d2af983d"
      },
      "execution_count": null,
      "outputs": [
        {
          "output_type": "stream",
          "name": "stdout",
          "text": [
            "Training svm\n",
            "Model: svm, Prec: 0.39, Recall: 0.68\n",
            "Training RF\n",
            "Model: RF, Prec: 0.37, Recall: 0.62\n",
            "Training LogReg\n",
            "Model: LogReg, Prec: 0.35, Recall: 0.70\n"
          ]
        }
      ]
    },
    {
      "cell_type": "markdown",
      "source": [
        "#Evaluation"
      ],
      "metadata": {
        "id": "QMwpfa3mlC6L"
      }
    },
    {
      "cell_type": "markdown",
      "source": [
        "##Hyperparameter Search"
      ],
      "metadata": {
        "id": "SIQIOKQbk9me"
      }
    },
    {
      "cell_type": "code",
      "source": [
        "from sklearn.model_selection import GridSearchCV\n",
        "\n",
        "PARAMETER_GRID = {\n",
        "    'C': [0.1, 0.01, 0.05, 0.5],\n",
        "    'kernel': ['linear', 'poly', 'rbf', 'sigmoid'],\n",
        "    'gamma' : ['scale', 'auto'],\n",
        "    'class_weight': ['balanced', {0: 1, 1: 2}, {0: 1, 1: 10}]\n",
        "}\n",
        "\n",
        "cv = GridSearchCV(SVC(), PARAMETER_GRID, verbose=2, scoring='precision')"
      ],
      "metadata": {
        "id": "9RCRL4uFk89b"
      },
      "execution_count": null,
      "outputs": []
    },
    {
      "cell_type": "code",
      "source": [
        "cv.fit(X_train_stack, y_train)"
      ],
      "metadata": {
        "colab": {
          "base_uri": "https://localhost:8080/"
        },
        "id": "1igYCAKzlLpE",
        "outputId": "801aa6f5-2c02-41da-b249-bfdd7579385b"
      },
      "execution_count": null,
      "outputs": [
        {
          "output_type": "stream",
          "name": "stdout",
          "text": [
            "Fitting 5 folds for each of 96 candidates, totalling 480 fits\n",
            "[CV] END C=0.1, class_weight=balanced, gamma=scale, kernel=linear; total time=   0.1s\n",
            "[CV] END C=0.1, class_weight=balanced, gamma=scale, kernel=linear; total time=   0.1s\n",
            "[CV] END C=0.1, class_weight=balanced, gamma=scale, kernel=linear; total time=   0.1s\n",
            "[CV] END C=0.1, class_weight=balanced, gamma=scale, kernel=linear; total time=   0.1s\n",
            "[CV] END C=0.1, class_weight=balanced, gamma=scale, kernel=linear; total time=   0.1s\n",
            "[CV] END C=0.1, class_weight=balanced, gamma=scale, kernel=poly; total time=   0.1s\n",
            "[CV] END C=0.1, class_weight=balanced, gamma=scale, kernel=poly; total time=   0.1s\n",
            "[CV] END C=0.1, class_weight=balanced, gamma=scale, kernel=poly; total time=   0.1s\n",
            "[CV] END C=0.1, class_weight=balanced, gamma=scale, kernel=poly; total time=   0.1s\n",
            "[CV] END C=0.1, class_weight=balanced, gamma=scale, kernel=poly; total time=   0.1s\n",
            "[CV] END C=0.1, class_weight=balanced, gamma=scale, kernel=rbf; total time=   0.1s\n",
            "[CV] END C=0.1, class_weight=balanced, gamma=scale, kernel=rbf; total time=   0.1s\n",
            "[CV] END C=0.1, class_weight=balanced, gamma=scale, kernel=rbf; total time=   0.1s\n",
            "[CV] END C=0.1, class_weight=balanced, gamma=scale, kernel=rbf; total time=   0.1s\n",
            "[CV] END C=0.1, class_weight=balanced, gamma=scale, kernel=rbf; total time=   0.1s\n",
            "[CV] END C=0.1, class_weight=balanced, gamma=scale, kernel=sigmoid; total time=   0.1s\n",
            "[CV] END C=0.1, class_weight=balanced, gamma=scale, kernel=sigmoid; total time=   0.1s\n",
            "[CV] END C=0.1, class_weight=balanced, gamma=scale, kernel=sigmoid; total time=   0.1s\n",
            "[CV] END C=0.1, class_weight=balanced, gamma=scale, kernel=sigmoid; total time=   0.1s\n",
            "[CV] END C=0.1, class_weight=balanced, gamma=scale, kernel=sigmoid; total time=   0.1s\n",
            "[CV] END C=0.1, class_weight=balanced, gamma=auto, kernel=linear; total time=   0.1s\n",
            "[CV] END C=0.1, class_weight=balanced, gamma=auto, kernel=linear; total time=   0.1s\n",
            "[CV] END C=0.1, class_weight=balanced, gamma=auto, kernel=linear; total time=   0.1s\n",
            "[CV] END C=0.1, class_weight=balanced, gamma=auto, kernel=linear; total time=   0.1s\n",
            "[CV] END C=0.1, class_weight=balanced, gamma=auto, kernel=linear; total time=   0.1s\n",
            "[CV] END C=0.1, class_weight=balanced, gamma=auto, kernel=poly; total time=   0.1s\n",
            "[CV] END C=0.1, class_weight=balanced, gamma=auto, kernel=poly; total time=   0.1s\n",
            "[CV] END C=0.1, class_weight=balanced, gamma=auto, kernel=poly; total time=   0.1s\n",
            "[CV] END C=0.1, class_weight=balanced, gamma=auto, kernel=poly; total time=   0.1s\n",
            "[CV] END C=0.1, class_weight=balanced, gamma=auto, kernel=poly; total time=   0.1s\n",
            "[CV] END C=0.1, class_weight=balanced, gamma=auto, kernel=rbf; total time=   0.1s\n",
            "[CV] END C=0.1, class_weight=balanced, gamma=auto, kernel=rbf; total time=   0.1s\n",
            "[CV] END C=0.1, class_weight=balanced, gamma=auto, kernel=rbf; total time=   0.1s\n",
            "[CV] END C=0.1, class_weight=balanced, gamma=auto, kernel=rbf; total time=   0.1s\n",
            "[CV] END C=0.1, class_weight=balanced, gamma=auto, kernel=rbf; total time=   0.1s\n",
            "[CV] END C=0.1, class_weight=balanced, gamma=auto, kernel=sigmoid; total time=   0.1s\n",
            "[CV] END C=0.1, class_weight=balanced, gamma=auto, kernel=sigmoid; total time=   0.1s\n",
            "[CV] END C=0.1, class_weight=balanced, gamma=auto, kernel=sigmoid; total time=   0.1s\n",
            "[CV] END C=0.1, class_weight=balanced, gamma=auto, kernel=sigmoid; total time=   0.1s\n",
            "[CV] END C=0.1, class_weight=balanced, gamma=auto, kernel=sigmoid; total time=   0.1s\n",
            "[CV] END C=0.1, class_weight={0: 1, 1: 2}, gamma=scale, kernel=linear; total time=   0.0s\n",
            "[CV] END C=0.1, class_weight={0: 1, 1: 2}, gamma=scale, kernel=linear; total time=   0.1s\n",
            "[CV] END C=0.1, class_weight={0: 1, 1: 2}, gamma=scale, kernel=linear; total time=   0.0s\n",
            "[CV] END C=0.1, class_weight={0: 1, 1: 2}, gamma=scale, kernel=linear; total time=   0.0s\n",
            "[CV] END C=0.1, class_weight={0: 1, 1: 2}, gamma=scale, kernel=linear; total time=   0.0s\n",
            "[CV] END C=0.1, class_weight={0: 1, 1: 2}, gamma=scale, kernel=poly; total time=   0.0s\n",
            "[CV] END C=0.1, class_weight={0: 1, 1: 2}, gamma=scale, kernel=poly; total time=   0.1s\n",
            "[CV] END C=0.1, class_weight={0: 1, 1: 2}, gamma=scale, kernel=poly; total time=   0.1s\n",
            "[CV] END C=0.1, class_weight={0: 1, 1: 2}, gamma=scale, kernel=poly; total time=   0.0s\n",
            "[CV] END C=0.1, class_weight={0: 1, 1: 2}, gamma=scale, kernel=poly; total time=   0.0s\n",
            "[CV] END C=0.1, class_weight={0: 1, 1: 2}, gamma=scale, kernel=rbf; total time=   0.1s\n",
            "[CV] END C=0.1, class_weight={0: 1, 1: 2}, gamma=scale, kernel=rbf; total time=   0.1s\n",
            "[CV] END C=0.1, class_weight={0: 1, 1: 2}, gamma=scale, kernel=rbf; total time=   0.1s\n",
            "[CV] END C=0.1, class_weight={0: 1, 1: 2}, gamma=scale, kernel=rbf; total time=   0.1s\n",
            "[CV] END C=0.1, class_weight={0: 1, 1: 2}, gamma=scale, kernel=rbf; total time=   0.1s\n",
            "[CV] END C=0.1, class_weight={0: 1, 1: 2}, gamma=scale, kernel=sigmoid; total time=   0.1s\n",
            "[CV] END C=0.1, class_weight={0: 1, 1: 2}, gamma=scale, kernel=sigmoid; total time=   0.1s\n",
            "[CV] END C=0.1, class_weight={0: 1, 1: 2}, gamma=scale, kernel=sigmoid; total time=   0.1s\n",
            "[CV] END C=0.1, class_weight={0: 1, 1: 2}, gamma=scale, kernel=sigmoid; total time=   0.1s\n",
            "[CV] END C=0.1, class_weight={0: 1, 1: 2}, gamma=scale, kernel=sigmoid; total time=   0.1s\n",
            "[CV] END C=0.1, class_weight={0: 1, 1: 2}, gamma=auto, kernel=linear; total time=   0.0s\n",
            "[CV] END C=0.1, class_weight={0: 1, 1: 2}, gamma=auto, kernel=linear; total time=   0.0s\n",
            "[CV] END C=0.1, class_weight={0: 1, 1: 2}, gamma=auto, kernel=linear; total time=   0.0s\n",
            "[CV] END C=0.1, class_weight={0: 1, 1: 2}, gamma=auto, kernel=linear; total time=   0.0s\n",
            "[CV] END C=0.1, class_weight={0: 1, 1: 2}, gamma=auto, kernel=linear; total time=   0.1s\n",
            "[CV] END C=0.1, class_weight={0: 1, 1: 2}, gamma=auto, kernel=poly; total time=   0.0s\n",
            "[CV] END C=0.1, class_weight={0: 1, 1: 2}, gamma=auto, kernel=poly; total time=   0.0s\n",
            "[CV] END C=0.1, class_weight={0: 1, 1: 2}, gamma=auto, kernel=poly; total time=   0.0s\n",
            "[CV] END C=0.1, class_weight={0: 1, 1: 2}, gamma=auto, kernel=poly; total time=   0.0s\n",
            "[CV] END C=0.1, class_weight={0: 1, 1: 2}, gamma=auto, kernel=poly; total time=   0.1s\n",
            "[CV] END C=0.1, class_weight={0: 1, 1: 2}, gamma=auto, kernel=rbf; total time=   0.1s\n",
            "[CV] END C=0.1, class_weight={0: 1, 1: 2}, gamma=auto, kernel=rbf; total time=   0.1s\n",
            "[CV] END C=0.1, class_weight={0: 1, 1: 2}, gamma=auto, kernel=rbf; total time=   0.1s\n",
            "[CV] END C=0.1, class_weight={0: 1, 1: 2}, gamma=auto, kernel=rbf; total time=   0.1s\n",
            "[CV] END C=0.1, class_weight={0: 1, 1: 2}, gamma=auto, kernel=rbf; total time=   0.1s\n",
            "[CV] END C=0.1, class_weight={0: 1, 1: 2}, gamma=auto, kernel=sigmoid; total time=   0.1s\n",
            "[CV] END C=0.1, class_weight={0: 1, 1: 2}, gamma=auto, kernel=sigmoid; total time=   0.1s\n",
            "[CV] END C=0.1, class_weight={0: 1, 1: 2}, gamma=auto, kernel=sigmoid; total time=   0.1s\n",
            "[CV] END C=0.1, class_weight={0: 1, 1: 2}, gamma=auto, kernel=sigmoid; total time=   0.1s\n",
            "[CV] END C=0.1, class_weight={0: 1, 1: 2}, gamma=auto, kernel=sigmoid; total time=   0.1s\n",
            "[CV] END C=0.1, class_weight={0: 1, 1: 10}, gamma=scale, kernel=linear; total time=   0.1s\n",
            "[CV] END C=0.1, class_weight={0: 1, 1: 10}, gamma=scale, kernel=linear; total time=   0.1s\n",
            "[CV] END C=0.1, class_weight={0: 1, 1: 10}, gamma=scale, kernel=linear; total time=   0.1s\n",
            "[CV] END C=0.1, class_weight={0: 1, 1: 10}, gamma=scale, kernel=linear; total time=   0.1s\n",
            "[CV] END C=0.1, class_weight={0: 1, 1: 10}, gamma=scale, kernel=linear; total time=   0.1s\n",
            "[CV] END C=0.1, class_weight={0: 1, 1: 10}, gamma=scale, kernel=poly; total time=   0.1s\n",
            "[CV] END C=0.1, class_weight={0: 1, 1: 10}, gamma=scale, kernel=poly; total time=   0.1s\n",
            "[CV] END C=0.1, class_weight={0: 1, 1: 10}, gamma=scale, kernel=poly; total time=   0.1s\n",
            "[CV] END C=0.1, class_weight={0: 1, 1: 10}, gamma=scale, kernel=poly; total time=   0.1s\n",
            "[CV] END C=0.1, class_weight={0: 1, 1: 10}, gamma=scale, kernel=poly; total time=   0.1s\n",
            "[CV] END C=0.1, class_weight={0: 1, 1: 10}, gamma=scale, kernel=rbf; total time=   0.1s\n",
            "[CV] END C=0.1, class_weight={0: 1, 1: 10}, gamma=scale, kernel=rbf; total time=   0.1s\n",
            "[CV] END C=0.1, class_weight={0: 1, 1: 10}, gamma=scale, kernel=rbf; total time=   0.1s\n",
            "[CV] END C=0.1, class_weight={0: 1, 1: 10}, gamma=scale, kernel=rbf; total time=   0.1s\n",
            "[CV] END C=0.1, class_weight={0: 1, 1: 10}, gamma=scale, kernel=rbf; total time=   0.1s\n",
            "[CV] END C=0.1, class_weight={0: 1, 1: 10}, gamma=scale, kernel=sigmoid; total time=   0.1s\n",
            "[CV] END C=0.1, class_weight={0: 1, 1: 10}, gamma=scale, kernel=sigmoid; total time=   0.2s\n",
            "[CV] END C=0.1, class_weight={0: 1, 1: 10}, gamma=scale, kernel=sigmoid; total time=   0.1s\n",
            "[CV] END C=0.1, class_weight={0: 1, 1: 10}, gamma=scale, kernel=sigmoid; total time=   0.1s\n",
            "[CV] END C=0.1, class_weight={0: 1, 1: 10}, gamma=scale, kernel=sigmoid; total time=   0.1s\n",
            "[CV] END C=0.1, class_weight={0: 1, 1: 10}, gamma=auto, kernel=linear; total time=   0.1s\n",
            "[CV] END C=0.1, class_weight={0: 1, 1: 10}, gamma=auto, kernel=linear; total time=   0.1s\n",
            "[CV] END C=0.1, class_weight={0: 1, 1: 10}, gamma=auto, kernel=linear; total time=   0.1s\n",
            "[CV] END C=0.1, class_weight={0: 1, 1: 10}, gamma=auto, kernel=linear; total time=   0.1s\n",
            "[CV] END C=0.1, class_weight={0: 1, 1: 10}, gamma=auto, kernel=linear; total time=   0.1s\n",
            "[CV] END C=0.1, class_weight={0: 1, 1: 10}, gamma=auto, kernel=poly; total time=   0.1s\n",
            "[CV] END C=0.1, class_weight={0: 1, 1: 10}, gamma=auto, kernel=poly; total time=   0.1s\n",
            "[CV] END C=0.1, class_weight={0: 1, 1: 10}, gamma=auto, kernel=poly; total time=   0.1s\n",
            "[CV] END C=0.1, class_weight={0: 1, 1: 10}, gamma=auto, kernel=poly; total time=   0.1s\n",
            "[CV] END C=0.1, class_weight={0: 1, 1: 10}, gamma=auto, kernel=poly; total time=   0.1s\n",
            "[CV] END C=0.1, class_weight={0: 1, 1: 10}, gamma=auto, kernel=rbf; total time=   0.1s\n",
            "[CV] END C=0.1, class_weight={0: 1, 1: 10}, gamma=auto, kernel=rbf; total time=   0.1s\n",
            "[CV] END C=0.1, class_weight={0: 1, 1: 10}, gamma=auto, kernel=rbf; total time=   0.1s\n",
            "[CV] END C=0.1, class_weight={0: 1, 1: 10}, gamma=auto, kernel=rbf; total time=   0.1s\n",
            "[CV] END C=0.1, class_weight={0: 1, 1: 10}, gamma=auto, kernel=rbf; total time=   0.2s\n",
            "[CV] END C=0.1, class_weight={0: 1, 1: 10}, gamma=auto, kernel=sigmoid; total time=   0.2s\n",
            "[CV] END C=0.1, class_weight={0: 1, 1: 10}, gamma=auto, kernel=sigmoid; total time=   0.1s\n",
            "[CV] END C=0.1, class_weight={0: 1, 1: 10}, gamma=auto, kernel=sigmoid; total time=   0.1s\n",
            "[CV] END C=0.1, class_weight={0: 1, 1: 10}, gamma=auto, kernel=sigmoid; total time=   0.1s\n",
            "[CV] END C=0.1, class_weight={0: 1, 1: 10}, gamma=auto, kernel=sigmoid; total time=   0.1s\n",
            "[CV] END C=0.01, class_weight=balanced, gamma=scale, kernel=linear; total time=   0.1s\n",
            "[CV] END C=0.01, class_weight=balanced, gamma=scale, kernel=linear; total time=   0.1s\n",
            "[CV] END C=0.01, class_weight=balanced, gamma=scale, kernel=linear; total time=   0.1s\n",
            "[CV] END C=0.01, class_weight=balanced, gamma=scale, kernel=linear; total time=   0.1s\n",
            "[CV] END C=0.01, class_weight=balanced, gamma=scale, kernel=linear; total time=   0.1s\n",
            "[CV] END C=0.01, class_weight=balanced, gamma=scale, kernel=poly; total time=   0.1s\n",
            "[CV] END C=0.01, class_weight=balanced, gamma=scale, kernel=poly; total time=   0.1s\n",
            "[CV] END C=0.01, class_weight=balanced, gamma=scale, kernel=poly; total time=   0.1s\n",
            "[CV] END C=0.01, class_weight=balanced, gamma=scale, kernel=poly; total time=   0.1s\n",
            "[CV] END C=0.01, class_weight=balanced, gamma=scale, kernel=poly; total time=   0.1s\n",
            "[CV] END C=0.01, class_weight=balanced, gamma=scale, kernel=rbf; total time=   0.2s\n",
            "[CV] END C=0.01, class_weight=balanced, gamma=scale, kernel=rbf; total time=   0.2s\n",
            "[CV] END C=0.01, class_weight=balanced, gamma=scale, kernel=rbf; total time=   0.2s\n",
            "[CV] END C=0.01, class_weight=balanced, gamma=scale, kernel=rbf; total time=   0.2s\n",
            "[CV] END C=0.01, class_weight=balanced, gamma=scale, kernel=rbf; total time=   0.2s\n",
            "[CV] END C=0.01, class_weight=balanced, gamma=scale, kernel=sigmoid; total time=   0.2s\n",
            "[CV] END C=0.01, class_weight=balanced, gamma=scale, kernel=sigmoid; total time=   0.2s\n",
            "[CV] END C=0.01, class_weight=balanced, gamma=scale, kernel=sigmoid; total time=   0.2s\n",
            "[CV] END C=0.01, class_weight=balanced, gamma=scale, kernel=sigmoid; total time=   0.2s\n",
            "[CV] END C=0.01, class_weight=balanced, gamma=scale, kernel=sigmoid; total time=   0.2s\n",
            "[CV] END C=0.01, class_weight=balanced, gamma=auto, kernel=linear; total time=   0.1s\n",
            "[CV] END C=0.01, class_weight=balanced, gamma=auto, kernel=linear; total time=   0.1s\n",
            "[CV] END C=0.01, class_weight=balanced, gamma=auto, kernel=linear; total time=   0.1s\n",
            "[CV] END C=0.01, class_weight=balanced, gamma=auto, kernel=linear; total time=   0.1s\n",
            "[CV] END C=0.01, class_weight=balanced, gamma=auto, kernel=linear; total time=   0.1s\n",
            "[CV] END C=0.01, class_weight=balanced, gamma=auto, kernel=poly; total time=   0.1s\n",
            "[CV] END C=0.01, class_weight=balanced, gamma=auto, kernel=poly; total time=   0.1s\n",
            "[CV] END C=0.01, class_weight=balanced, gamma=auto, kernel=poly; total time=   0.1s\n",
            "[CV] END C=0.01, class_weight=balanced, gamma=auto, kernel=poly; total time=   0.1s\n",
            "[CV] END C=0.01, class_weight=balanced, gamma=auto, kernel=poly; total time=   0.1s\n",
            "[CV] END C=0.01, class_weight=balanced, gamma=auto, kernel=rbf; total time=   0.2s\n",
            "[CV] END C=0.01, class_weight=balanced, gamma=auto, kernel=rbf; total time=   0.2s\n",
            "[CV] END C=0.01, class_weight=balanced, gamma=auto, kernel=rbf; total time=   0.2s\n",
            "[CV] END C=0.01, class_weight=balanced, gamma=auto, kernel=rbf; total time=   0.2s\n",
            "[CV] END C=0.01, class_weight=balanced, gamma=auto, kernel=rbf; total time=   0.2s\n",
            "[CV] END C=0.01, class_weight=balanced, gamma=auto, kernel=sigmoid; total time=   0.2s\n",
            "[CV] END C=0.01, class_weight=balanced, gamma=auto, kernel=sigmoid; total time=   0.2s\n",
            "[CV] END C=0.01, class_weight=balanced, gamma=auto, kernel=sigmoid; total time=   0.2s\n",
            "[CV] END C=0.01, class_weight=balanced, gamma=auto, kernel=sigmoid; total time=   0.2s\n",
            "[CV] END C=0.01, class_weight=balanced, gamma=auto, kernel=sigmoid; total time=   0.2s\n",
            "[CV] END C=0.01, class_weight={0: 1, 1: 2}, gamma=scale, kernel=linear; total time=   0.0s\n",
            "[CV] END C=0.01, class_weight={0: 1, 1: 2}, gamma=scale, kernel=linear; total time=   0.0s\n",
            "[CV] END C=0.01, class_weight={0: 1, 1: 2}, gamma=scale, kernel=linear; total time=   0.0s\n",
            "[CV] END C=0.01, class_weight={0: 1, 1: 2}, gamma=scale, kernel=linear; total time=   0.1s\n",
            "[CV] END C=0.01, class_weight={0: 1, 1: 2}, gamma=scale, kernel=linear; total time=   0.0s\n",
            "[CV] END C=0.01, class_weight={0: 1, 1: 2}, gamma=scale, kernel=poly; total time=   0.0s\n",
            "[CV] END C=0.01, class_weight={0: 1, 1: 2}, gamma=scale, kernel=poly; total time=   0.0s\n",
            "[CV] END C=0.01, class_weight={0: 1, 1: 2}, gamma=scale, kernel=poly; total time=   0.0s\n",
            "[CV] END C=0.01, class_weight={0: 1, 1: 2}, gamma=scale, kernel=poly; total time=   0.0s\n",
            "[CV] END C=0.01, class_weight={0: 1, 1: 2}, gamma=scale, kernel=poly; total time=   0.1s\n",
            "[CV] END C=0.01, class_weight={0: 1, 1: 2}, gamma=scale, kernel=rbf; total time=   0.1s\n",
            "[CV] END C=0.01, class_weight={0: 1, 1: 2}, gamma=scale, kernel=rbf; total time=   0.1s\n"
          ]
        },
        {
          "output_type": "stream",
          "name": "stderr",
          "text": [
            "/usr/local/lib/python3.7/dist-packages/sklearn/metrics/_classification.py:1318: UndefinedMetricWarning: Precision is ill-defined and being set to 0.0 due to no predicted samples. Use `zero_division` parameter to control this behavior.\n",
            "  _warn_prf(average, modifier, msg_start, len(result))\n",
            "/usr/local/lib/python3.7/dist-packages/sklearn/metrics/_classification.py:1318: UndefinedMetricWarning: Precision is ill-defined and being set to 0.0 due to no predicted samples. Use `zero_division` parameter to control this behavior.\n",
            "  _warn_prf(average, modifier, msg_start, len(result))\n",
            "/usr/local/lib/python3.7/dist-packages/sklearn/metrics/_classification.py:1318: UndefinedMetricWarning: Precision is ill-defined and being set to 0.0 due to no predicted samples. Use `zero_division` parameter to control this behavior.\n",
            "  _warn_prf(average, modifier, msg_start, len(result))\n"
          ]
        },
        {
          "output_type": "stream",
          "name": "stdout",
          "text": [
            "[CV] END C=0.01, class_weight={0: 1, 1: 2}, gamma=scale, kernel=rbf; total time=   0.1s\n",
            "[CV] END C=0.01, class_weight={0: 1, 1: 2}, gamma=scale, kernel=rbf; total time=   0.1s\n",
            "[CV] END C=0.01, class_weight={0: 1, 1: 2}, gamma=scale, kernel=rbf; total time=   0.1s\n"
          ]
        },
        {
          "output_type": "stream",
          "name": "stderr",
          "text": [
            "/usr/local/lib/python3.7/dist-packages/sklearn/metrics/_classification.py:1318: UndefinedMetricWarning: Precision is ill-defined and being set to 0.0 due to no predicted samples. Use `zero_division` parameter to control this behavior.\n",
            "  _warn_prf(average, modifier, msg_start, len(result))\n",
            "/usr/local/lib/python3.7/dist-packages/sklearn/metrics/_classification.py:1318: UndefinedMetricWarning: Precision is ill-defined and being set to 0.0 due to no predicted samples. Use `zero_division` parameter to control this behavior.\n",
            "  _warn_prf(average, modifier, msg_start, len(result))\n",
            "/usr/local/lib/python3.7/dist-packages/sklearn/metrics/_classification.py:1318: UndefinedMetricWarning: Precision is ill-defined and being set to 0.0 due to no predicted samples. Use `zero_division` parameter to control this behavior.\n",
            "  _warn_prf(average, modifier, msg_start, len(result))\n"
          ]
        },
        {
          "output_type": "stream",
          "name": "stdout",
          "text": [
            "[CV] END C=0.01, class_weight={0: 1, 1: 2}, gamma=scale, kernel=sigmoid; total time=   0.1s\n",
            "[CV] END C=0.01, class_weight={0: 1, 1: 2}, gamma=scale, kernel=sigmoid; total time=   0.1s\n",
            "[CV] END C=0.01, class_weight={0: 1, 1: 2}, gamma=scale, kernel=sigmoid; total time=   0.1s\n"
          ]
        },
        {
          "output_type": "stream",
          "name": "stderr",
          "text": [
            "/usr/local/lib/python3.7/dist-packages/sklearn/metrics/_classification.py:1318: UndefinedMetricWarning: Precision is ill-defined and being set to 0.0 due to no predicted samples. Use `zero_division` parameter to control this behavior.\n",
            "  _warn_prf(average, modifier, msg_start, len(result))\n",
            "/usr/local/lib/python3.7/dist-packages/sklearn/metrics/_classification.py:1318: UndefinedMetricWarning: Precision is ill-defined and being set to 0.0 due to no predicted samples. Use `zero_division` parameter to control this behavior.\n",
            "  _warn_prf(average, modifier, msg_start, len(result))\n"
          ]
        },
        {
          "output_type": "stream",
          "name": "stdout",
          "text": [
            "[CV] END C=0.01, class_weight={0: 1, 1: 2}, gamma=scale, kernel=sigmoid; total time=   0.1s\n",
            "[CV] END C=0.01, class_weight={0: 1, 1: 2}, gamma=scale, kernel=sigmoid; total time=   0.1s\n",
            "[CV] END C=0.01, class_weight={0: 1, 1: 2}, gamma=auto, kernel=linear; total time=   0.0s\n",
            "[CV] END C=0.01, class_weight={0: 1, 1: 2}, gamma=auto, kernel=linear; total time=   0.0s\n"
          ]
        },
        {
          "output_type": "stream",
          "name": "stderr",
          "text": [
            "/usr/local/lib/python3.7/dist-packages/sklearn/metrics/_classification.py:1318: UndefinedMetricWarning: Precision is ill-defined and being set to 0.0 due to no predicted samples. Use `zero_division` parameter to control this behavior.\n",
            "  _warn_prf(average, modifier, msg_start, len(result))\n"
          ]
        },
        {
          "output_type": "stream",
          "name": "stdout",
          "text": [
            "[CV] END C=0.01, class_weight={0: 1, 1: 2}, gamma=auto, kernel=linear; total time=   0.0s\n",
            "[CV] END C=0.01, class_weight={0: 1, 1: 2}, gamma=auto, kernel=linear; total time=   0.0s\n",
            "[CV] END C=0.01, class_weight={0: 1, 1: 2}, gamma=auto, kernel=linear; total time=   0.0s\n",
            "[CV] END C=0.01, class_weight={0: 1, 1: 2}, gamma=auto, kernel=poly; total time=   0.0s\n",
            "[CV] END C=0.01, class_weight={0: 1, 1: 2}, gamma=auto, kernel=poly; total time=   0.0s\n",
            "[CV] END C=0.01, class_weight={0: 1, 1: 2}, gamma=auto, kernel=poly; total time=   0.1s\n",
            "[CV] END C=0.01, class_weight={0: 1, 1: 2}, gamma=auto, kernel=poly; total time=   0.0s\n",
            "[CV] END C=0.01, class_weight={0: 1, 1: 2}, gamma=auto, kernel=poly; total time=   0.0s\n",
            "[CV] END C=0.01, class_weight={0: 1, 1: 2}, gamma=auto, kernel=rbf; total time=   0.1s\n"
          ]
        },
        {
          "output_type": "stream",
          "name": "stderr",
          "text": [
            "/usr/local/lib/python3.7/dist-packages/sklearn/metrics/_classification.py:1318: UndefinedMetricWarning: Precision is ill-defined and being set to 0.0 due to no predicted samples. Use `zero_division` parameter to control this behavior.\n",
            "  _warn_prf(average, modifier, msg_start, len(result))\n",
            "/usr/local/lib/python3.7/dist-packages/sklearn/metrics/_classification.py:1318: UndefinedMetricWarning: Precision is ill-defined and being set to 0.0 due to no predicted samples. Use `zero_division` parameter to control this behavior.\n",
            "  _warn_prf(average, modifier, msg_start, len(result))\n",
            "/usr/local/lib/python3.7/dist-packages/sklearn/metrics/_classification.py:1318: UndefinedMetricWarning: Precision is ill-defined and being set to 0.0 due to no predicted samples. Use `zero_division` parameter to control this behavior.\n",
            "  _warn_prf(average, modifier, msg_start, len(result))\n"
          ]
        },
        {
          "output_type": "stream",
          "name": "stdout",
          "text": [
            "[CV] END C=0.01, class_weight={0: 1, 1: 2}, gamma=auto, kernel=rbf; total time=   0.1s\n",
            "[CV] END C=0.01, class_weight={0: 1, 1: 2}, gamma=auto, kernel=rbf; total time=   0.1s\n",
            "[CV] END C=0.01, class_weight={0: 1, 1: 2}, gamma=auto, kernel=rbf; total time=   0.1s\n"
          ]
        },
        {
          "output_type": "stream",
          "name": "stderr",
          "text": [
            "/usr/local/lib/python3.7/dist-packages/sklearn/metrics/_classification.py:1318: UndefinedMetricWarning: Precision is ill-defined and being set to 0.0 due to no predicted samples. Use `zero_division` parameter to control this behavior.\n",
            "  _warn_prf(average, modifier, msg_start, len(result))\n",
            "/usr/local/lib/python3.7/dist-packages/sklearn/metrics/_classification.py:1318: UndefinedMetricWarning: Precision is ill-defined and being set to 0.0 due to no predicted samples. Use `zero_division` parameter to control this behavior.\n",
            "  _warn_prf(average, modifier, msg_start, len(result))\n",
            "/usr/local/lib/python3.7/dist-packages/sklearn/metrics/_classification.py:1318: UndefinedMetricWarning: Precision is ill-defined and being set to 0.0 due to no predicted samples. Use `zero_division` parameter to control this behavior.\n",
            "  _warn_prf(average, modifier, msg_start, len(result))\n"
          ]
        },
        {
          "output_type": "stream",
          "name": "stdout",
          "text": [
            "[CV] END C=0.01, class_weight={0: 1, 1: 2}, gamma=auto, kernel=rbf; total time=   0.1s\n",
            "[CV] END C=0.01, class_weight={0: 1, 1: 2}, gamma=auto, kernel=sigmoid; total time=   0.1s\n",
            "[CV] END C=0.01, class_weight={0: 1, 1: 2}, gamma=auto, kernel=sigmoid; total time=   0.1s\n"
          ]
        },
        {
          "output_type": "stream",
          "name": "stderr",
          "text": [
            "/usr/local/lib/python3.7/dist-packages/sklearn/metrics/_classification.py:1318: UndefinedMetricWarning: Precision is ill-defined and being set to 0.0 due to no predicted samples. Use `zero_division` parameter to control this behavior.\n",
            "  _warn_prf(average, modifier, msg_start, len(result))\n",
            "/usr/local/lib/python3.7/dist-packages/sklearn/metrics/_classification.py:1318: UndefinedMetricWarning: Precision is ill-defined and being set to 0.0 due to no predicted samples. Use `zero_division` parameter to control this behavior.\n",
            "  _warn_prf(average, modifier, msg_start, len(result))\n",
            "/usr/local/lib/python3.7/dist-packages/sklearn/metrics/_classification.py:1318: UndefinedMetricWarning: Precision is ill-defined and being set to 0.0 due to no predicted samples. Use `zero_division` parameter to control this behavior.\n",
            "  _warn_prf(average, modifier, msg_start, len(result))\n"
          ]
        },
        {
          "output_type": "stream",
          "name": "stdout",
          "text": [
            "[CV] END C=0.01, class_weight={0: 1, 1: 2}, gamma=auto, kernel=sigmoid; total time=   0.1s\n",
            "[CV] END C=0.01, class_weight={0: 1, 1: 2}, gamma=auto, kernel=sigmoid; total time=   0.1s\n",
            "[CV] END C=0.01, class_weight={0: 1, 1: 2}, gamma=auto, kernel=sigmoid; total time=   0.1s\n"
          ]
        },
        {
          "output_type": "stream",
          "name": "stderr",
          "text": [
            "/usr/local/lib/python3.7/dist-packages/sklearn/metrics/_classification.py:1318: UndefinedMetricWarning: Precision is ill-defined and being set to 0.0 due to no predicted samples. Use `zero_division` parameter to control this behavior.\n",
            "  _warn_prf(average, modifier, msg_start, len(result))\n"
          ]
        },
        {
          "output_type": "stream",
          "name": "stdout",
          "text": [
            "[CV] END C=0.01, class_weight={0: 1, 1: 10}, gamma=scale, kernel=linear; total time=   0.1s\n",
            "[CV] END C=0.01, class_weight={0: 1, 1: 10}, gamma=scale, kernel=linear; total time=   0.1s\n",
            "[CV] END C=0.01, class_weight={0: 1, 1: 10}, gamma=scale, kernel=linear; total time=   0.1s\n",
            "[CV] END C=0.01, class_weight={0: 1, 1: 10}, gamma=scale, kernel=linear; total time=   0.1s\n",
            "[CV] END C=0.01, class_weight={0: 1, 1: 10}, gamma=scale, kernel=linear; total time=   0.1s\n",
            "[CV] END C=0.01, class_weight={0: 1, 1: 10}, gamma=scale, kernel=poly; total time=   0.2s\n",
            "[CV] END C=0.01, class_weight={0: 1, 1: 10}, gamma=scale, kernel=poly; total time=   0.2s\n",
            "[CV] END C=0.01, class_weight={0: 1, 1: 10}, gamma=scale, kernel=poly; total time=   0.1s\n",
            "[CV] END C=0.01, class_weight={0: 1, 1: 10}, gamma=scale, kernel=poly; total time=   0.1s\n",
            "[CV] END C=0.01, class_weight={0: 1, 1: 10}, gamma=scale, kernel=poly; total time=   0.1s\n",
            "[CV] END C=0.01, class_weight={0: 1, 1: 10}, gamma=scale, kernel=rbf; total time=   0.2s\n",
            "[CV] END C=0.01, class_weight={0: 1, 1: 10}, gamma=scale, kernel=rbf; total time=   0.2s\n",
            "[CV] END C=0.01, class_weight={0: 1, 1: 10}, gamma=scale, kernel=rbf; total time=   0.2s\n",
            "[CV] END C=0.01, class_weight={0: 1, 1: 10}, gamma=scale, kernel=rbf; total time=   0.2s\n",
            "[CV] END C=0.01, class_weight={0: 1, 1: 10}, gamma=scale, kernel=rbf; total time=   0.2s\n",
            "[CV] END C=0.01, class_weight={0: 1, 1: 10}, gamma=scale, kernel=sigmoid; total time=   0.2s\n",
            "[CV] END C=0.01, class_weight={0: 1, 1: 10}, gamma=scale, kernel=sigmoid; total time=   0.2s\n",
            "[CV] END C=0.01, class_weight={0: 1, 1: 10}, gamma=scale, kernel=sigmoid; total time=   0.2s\n",
            "[CV] END C=0.01, class_weight={0: 1, 1: 10}, gamma=scale, kernel=sigmoid; total time=   0.2s\n",
            "[CV] END C=0.01, class_weight={0: 1, 1: 10}, gamma=scale, kernel=sigmoid; total time=   0.2s\n",
            "[CV] END C=0.01, class_weight={0: 1, 1: 10}, gamma=auto, kernel=linear; total time=   0.1s\n",
            "[CV] END C=0.01, class_weight={0: 1, 1: 10}, gamma=auto, kernel=linear; total time=   0.1s\n",
            "[CV] END C=0.01, class_weight={0: 1, 1: 10}, gamma=auto, kernel=linear; total time=   0.1s\n",
            "[CV] END C=0.01, class_weight={0: 1, 1: 10}, gamma=auto, kernel=linear; total time=   0.1s\n",
            "[CV] END C=0.01, class_weight={0: 1, 1: 10}, gamma=auto, kernel=linear; total time=   0.1s\n",
            "[CV] END C=0.01, class_weight={0: 1, 1: 10}, gamma=auto, kernel=poly; total time=   0.1s\n",
            "[CV] END C=0.01, class_weight={0: 1, 1: 10}, gamma=auto, kernel=poly; total time=   0.1s\n",
            "[CV] END C=0.01, class_weight={0: 1, 1: 10}, gamma=auto, kernel=poly; total time=   0.1s\n",
            "[CV] END C=0.01, class_weight={0: 1, 1: 10}, gamma=auto, kernel=poly; total time=   0.1s\n",
            "[CV] END C=0.01, class_weight={0: 1, 1: 10}, gamma=auto, kernel=poly; total time=   0.1s\n",
            "[CV] END C=0.01, class_weight={0: 1, 1: 10}, gamma=auto, kernel=rbf; total time=   0.2s\n",
            "[CV] END C=0.01, class_weight={0: 1, 1: 10}, gamma=auto, kernel=rbf; total time=   0.2s\n",
            "[CV] END C=0.01, class_weight={0: 1, 1: 10}, gamma=auto, kernel=rbf; total time=   0.2s\n",
            "[CV] END C=0.01, class_weight={0: 1, 1: 10}, gamma=auto, kernel=rbf; total time=   0.2s\n",
            "[CV] END C=0.01, class_weight={0: 1, 1: 10}, gamma=auto, kernel=rbf; total time=   0.2s\n",
            "[CV] END C=0.01, class_weight={0: 1, 1: 10}, gamma=auto, kernel=sigmoid; total time=   0.2s\n",
            "[CV] END C=0.01, class_weight={0: 1, 1: 10}, gamma=auto, kernel=sigmoid; total time=   0.2s\n",
            "[CV] END C=0.01, class_weight={0: 1, 1: 10}, gamma=auto, kernel=sigmoid; total time=   0.2s\n",
            "[CV] END C=0.01, class_weight={0: 1, 1: 10}, gamma=auto, kernel=sigmoid; total time=   0.2s\n",
            "[CV] END C=0.01, class_weight={0: 1, 1: 10}, gamma=auto, kernel=sigmoid; total time=   0.2s\n",
            "[CV] END C=0.05, class_weight=balanced, gamma=scale, kernel=linear; total time=   0.1s\n",
            "[CV] END C=0.05, class_weight=balanced, gamma=scale, kernel=linear; total time=   0.1s\n",
            "[CV] END C=0.05, class_weight=balanced, gamma=scale, kernel=linear; total time=   0.1s\n",
            "[CV] END C=0.05, class_weight=balanced, gamma=scale, kernel=linear; total time=   0.1s\n",
            "[CV] END C=0.05, class_weight=balanced, gamma=scale, kernel=linear; total time=   0.1s\n",
            "[CV] END C=0.05, class_weight=balanced, gamma=scale, kernel=poly; total time=   0.1s\n",
            "[CV] END C=0.05, class_weight=balanced, gamma=scale, kernel=poly; total time=   0.1s\n",
            "[CV] END C=0.05, class_weight=balanced, gamma=scale, kernel=poly; total time=   0.1s\n",
            "[CV] END C=0.05, class_weight=balanced, gamma=scale, kernel=poly; total time=   0.1s\n",
            "[CV] END C=0.05, class_weight=balanced, gamma=scale, kernel=poly; total time=   0.1s\n",
            "[CV] END C=0.05, class_weight=balanced, gamma=scale, kernel=rbf; total time=   0.1s\n",
            "[CV] END C=0.05, class_weight=balanced, gamma=scale, kernel=rbf; total time=   0.1s\n",
            "[CV] END C=0.05, class_weight=balanced, gamma=scale, kernel=rbf; total time=   0.1s\n",
            "[CV] END C=0.05, class_weight=balanced, gamma=scale, kernel=rbf; total time=   0.1s\n",
            "[CV] END C=0.05, class_weight=balanced, gamma=scale, kernel=rbf; total time=   0.1s\n",
            "[CV] END C=0.05, class_weight=balanced, gamma=scale, kernel=sigmoid; total time=   0.2s\n",
            "[CV] END C=0.05, class_weight=balanced, gamma=scale, kernel=sigmoid; total time=   0.1s\n",
            "[CV] END C=0.05, class_weight=balanced, gamma=scale, kernel=sigmoid; total time=   0.1s\n",
            "[CV] END C=0.05, class_weight=balanced, gamma=scale, kernel=sigmoid; total time=   0.1s\n",
            "[CV] END C=0.05, class_weight=balanced, gamma=scale, kernel=sigmoid; total time=   0.1s\n",
            "[CV] END C=0.05, class_weight=balanced, gamma=auto, kernel=linear; total time=   0.1s\n",
            "[CV] END C=0.05, class_weight=balanced, gamma=auto, kernel=linear; total time=   0.1s\n",
            "[CV] END C=0.05, class_weight=balanced, gamma=auto, kernel=linear; total time=   0.1s\n",
            "[CV] END C=0.05, class_weight=balanced, gamma=auto, kernel=linear; total time=   0.1s\n",
            "[CV] END C=0.05, class_weight=balanced, gamma=auto, kernel=linear; total time=   0.1s\n",
            "[CV] END C=0.05, class_weight=balanced, gamma=auto, kernel=poly; total time=   0.1s\n",
            "[CV] END C=0.05, class_weight=balanced, gamma=auto, kernel=poly; total time=   0.1s\n",
            "[CV] END C=0.05, class_weight=balanced, gamma=auto, kernel=poly; total time=   0.1s\n",
            "[CV] END C=0.05, class_weight=balanced, gamma=auto, kernel=poly; total time=   0.2s\n",
            "[CV] END C=0.05, class_weight=balanced, gamma=auto, kernel=poly; total time=   0.2s\n",
            "[CV] END C=0.05, class_weight=balanced, gamma=auto, kernel=rbf; total time=   0.2s\n",
            "[CV] END C=0.05, class_weight=balanced, gamma=auto, kernel=rbf; total time=   0.2s\n",
            "[CV] END C=0.05, class_weight=balanced, gamma=auto, kernel=rbf; total time=   0.2s\n",
            "[CV] END C=0.05, class_weight=balanced, gamma=auto, kernel=rbf; total time=   0.2s\n",
            "[CV] END C=0.05, class_weight=balanced, gamma=auto, kernel=rbf; total time=   0.2s\n",
            "[CV] END C=0.05, class_weight=balanced, gamma=auto, kernel=sigmoid; total time=   0.3s\n",
            "[CV] END C=0.05, class_weight=balanced, gamma=auto, kernel=sigmoid; total time=   0.1s\n",
            "[CV] END C=0.05, class_weight=balanced, gamma=auto, kernel=sigmoid; total time=   0.1s\n",
            "[CV] END C=0.05, class_weight=balanced, gamma=auto, kernel=sigmoid; total time=   0.1s\n",
            "[CV] END C=0.05, class_weight=balanced, gamma=auto, kernel=sigmoid; total time=   0.1s\n",
            "[CV] END C=0.05, class_weight={0: 1, 1: 2}, gamma=scale, kernel=linear; total time=   0.0s\n",
            "[CV] END C=0.05, class_weight={0: 1, 1: 2}, gamma=scale, kernel=linear; total time=   0.0s\n",
            "[CV] END C=0.05, class_weight={0: 1, 1: 2}, gamma=scale, kernel=linear; total time=   0.0s\n",
            "[CV] END C=0.05, class_weight={0: 1, 1: 2}, gamma=scale, kernel=linear; total time=   0.0s\n",
            "[CV] END C=0.05, class_weight={0: 1, 1: 2}, gamma=scale, kernel=linear; total time=   0.0s\n",
            "[CV] END C=0.05, class_weight={0: 1, 1: 2}, gamma=scale, kernel=poly; total time=   0.0s\n",
            "[CV] END C=0.05, class_weight={0: 1, 1: 2}, gamma=scale, kernel=poly; total time=   0.0s\n",
            "[CV] END C=0.05, class_weight={0: 1, 1: 2}, gamma=scale, kernel=poly; total time=   0.1s\n",
            "[CV] END C=0.05, class_weight={0: 1, 1: 2}, gamma=scale, kernel=poly; total time=   0.0s\n",
            "[CV] END C=0.05, class_weight={0: 1, 1: 2}, gamma=scale, kernel=poly; total time=   0.1s\n",
            "[CV] END C=0.05, class_weight={0: 1, 1: 2}, gamma=scale, kernel=rbf; total time=   0.1s\n",
            "[CV] END C=0.05, class_weight={0: 1, 1: 2}, gamma=scale, kernel=rbf; total time=   0.1s\n",
            "[CV] END C=0.05, class_weight={0: 1, 1: 2}, gamma=scale, kernel=rbf; total time=   0.1s\n",
            "[CV] END C=0.05, class_weight={0: 1, 1: 2}, gamma=scale, kernel=rbf; total time=   0.1s\n",
            "[CV] END C=0.05, class_weight={0: 1, 1: 2}, gamma=scale, kernel=rbf; total time=   0.1s\n",
            "[CV] END C=0.05, class_weight={0: 1, 1: 2}, gamma=scale, kernel=sigmoid; total time=   0.1s\n",
            "[CV] END C=0.05, class_weight={0: 1, 1: 2}, gamma=scale, kernel=sigmoid; total time=   0.1s\n",
            "[CV] END C=0.05, class_weight={0: 1, 1: 2}, gamma=scale, kernel=sigmoid; total time=   0.1s\n",
            "[CV] END C=0.05, class_weight={0: 1, 1: 2}, gamma=scale, kernel=sigmoid; total time=   0.1s\n",
            "[CV] END C=0.05, class_weight={0: 1, 1: 2}, gamma=scale, kernel=sigmoid; total time=   0.1s\n",
            "[CV] END C=0.05, class_weight={0: 1, 1: 2}, gamma=auto, kernel=linear; total time=   0.0s\n",
            "[CV] END C=0.05, class_weight={0: 1, 1: 2}, gamma=auto, kernel=linear; total time=   0.0s\n",
            "[CV] END C=0.05, class_weight={0: 1, 1: 2}, gamma=auto, kernel=linear; total time=   0.0s\n",
            "[CV] END C=0.05, class_weight={0: 1, 1: 2}, gamma=auto, kernel=linear; total time=   0.0s\n",
            "[CV] END C=0.05, class_weight={0: 1, 1: 2}, gamma=auto, kernel=linear; total time=   0.0s\n",
            "[CV] END C=0.05, class_weight={0: 1, 1: 2}, gamma=auto, kernel=poly; total time=   0.0s\n",
            "[CV] END C=0.05, class_weight={0: 1, 1: 2}, gamma=auto, kernel=poly; total time=   0.0s\n",
            "[CV] END C=0.05, class_weight={0: 1, 1: 2}, gamma=auto, kernel=poly; total time=   0.1s\n",
            "[CV] END C=0.05, class_weight={0: 1, 1: 2}, gamma=auto, kernel=poly; total time=   0.1s\n",
            "[CV] END C=0.05, class_weight={0: 1, 1: 2}, gamma=auto, kernel=poly; total time=   0.0s\n",
            "[CV] END C=0.05, class_weight={0: 1, 1: 2}, gamma=auto, kernel=rbf; total time=   0.1s\n",
            "[CV] END C=0.05, class_weight={0: 1, 1: 2}, gamma=auto, kernel=rbf; total time=   0.1s\n",
            "[CV] END C=0.05, class_weight={0: 1, 1: 2}, gamma=auto, kernel=rbf; total time=   0.1s\n",
            "[CV] END C=0.05, class_weight={0: 1, 1: 2}, gamma=auto, kernel=rbf; total time=   0.1s\n",
            "[CV] END C=0.05, class_weight={0: 1, 1: 2}, gamma=auto, kernel=rbf; total time=   0.1s\n",
            "[CV] END C=0.05, class_weight={0: 1, 1: 2}, gamma=auto, kernel=sigmoid; total time=   0.1s\n",
            "[CV] END C=0.05, class_weight={0: 1, 1: 2}, gamma=auto, kernel=sigmoid; total time=   0.1s\n",
            "[CV] END C=0.05, class_weight={0: 1, 1: 2}, gamma=auto, kernel=sigmoid; total time=   0.1s\n",
            "[CV] END C=0.05, class_weight={0: 1, 1: 2}, gamma=auto, kernel=sigmoid; total time=   0.1s\n",
            "[CV] END C=0.05, class_weight={0: 1, 1: 2}, gamma=auto, kernel=sigmoid; total time=   0.1s\n",
            "[CV] END C=0.05, class_weight={0: 1, 1: 10}, gamma=scale, kernel=linear; total time=   0.1s\n",
            "[CV] END C=0.05, class_weight={0: 1, 1: 10}, gamma=scale, kernel=linear; total time=   0.1s\n",
            "[CV] END C=0.05, class_weight={0: 1, 1: 10}, gamma=scale, kernel=linear; total time=   0.1s\n",
            "[CV] END C=0.05, class_weight={0: 1, 1: 10}, gamma=scale, kernel=linear; total time=   0.1s\n",
            "[CV] END C=0.05, class_weight={0: 1, 1: 10}, gamma=scale, kernel=linear; total time=   0.1s\n",
            "[CV] END C=0.05, class_weight={0: 1, 1: 10}, gamma=scale, kernel=poly; total time=   0.1s\n",
            "[CV] END C=0.05, class_weight={0: 1, 1: 10}, gamma=scale, kernel=poly; total time=   0.1s\n",
            "[CV] END C=0.05, class_weight={0: 1, 1: 10}, gamma=scale, kernel=poly; total time=   0.1s\n",
            "[CV] END C=0.05, class_weight={0: 1, 1: 10}, gamma=scale, kernel=poly; total time=   0.1s\n",
            "[CV] END C=0.05, class_weight={0: 1, 1: 10}, gamma=scale, kernel=poly; total time=   0.1s\n",
            "[CV] END C=0.05, class_weight={0: 1, 1: 10}, gamma=scale, kernel=rbf; total time=   0.1s\n",
            "[CV] END C=0.05, class_weight={0: 1, 1: 10}, gamma=scale, kernel=rbf; total time=   0.2s\n",
            "[CV] END C=0.05, class_weight={0: 1, 1: 10}, gamma=scale, kernel=rbf; total time=   0.1s\n",
            "[CV] END C=0.05, class_weight={0: 1, 1: 10}, gamma=scale, kernel=rbf; total time=   0.1s\n",
            "[CV] END C=0.05, class_weight={0: 1, 1: 10}, gamma=scale, kernel=rbf; total time=   0.1s\n",
            "[CV] END C=0.05, class_weight={0: 1, 1: 10}, gamma=scale, kernel=sigmoid; total time=   0.2s\n",
            "[CV] END C=0.05, class_weight={0: 1, 1: 10}, gamma=scale, kernel=sigmoid; total time=   0.2s\n",
            "[CV] END C=0.05, class_weight={0: 1, 1: 10}, gamma=scale, kernel=sigmoid; total time=   0.2s\n",
            "[CV] END C=0.05, class_weight={0: 1, 1: 10}, gamma=scale, kernel=sigmoid; total time=   0.2s\n",
            "[CV] END C=0.05, class_weight={0: 1, 1: 10}, gamma=scale, kernel=sigmoid; total time=   0.2s\n",
            "[CV] END C=0.05, class_weight={0: 1, 1: 10}, gamma=auto, kernel=linear; total time=   0.1s\n",
            "[CV] END C=0.05, class_weight={0: 1, 1: 10}, gamma=auto, kernel=linear; total time=   0.1s\n",
            "[CV] END C=0.05, class_weight={0: 1, 1: 10}, gamma=auto, kernel=linear; total time=   0.1s\n",
            "[CV] END C=0.05, class_weight={0: 1, 1: 10}, gamma=auto, kernel=linear; total time=   0.1s\n",
            "[CV] END C=0.05, class_weight={0: 1, 1: 10}, gamma=auto, kernel=linear; total time=   0.1s\n",
            "[CV] END C=0.05, class_weight={0: 1, 1: 10}, gamma=auto, kernel=poly; total time=   0.1s\n",
            "[CV] END C=0.05, class_weight={0: 1, 1: 10}, gamma=auto, kernel=poly; total time=   0.1s\n",
            "[CV] END C=0.05, class_weight={0: 1, 1: 10}, gamma=auto, kernel=poly; total time=   0.1s\n",
            "[CV] END C=0.05, class_weight={0: 1, 1: 10}, gamma=auto, kernel=poly; total time=   0.1s\n",
            "[CV] END C=0.05, class_weight={0: 1, 1: 10}, gamma=auto, kernel=poly; total time=   0.1s\n",
            "[CV] END C=0.05, class_weight={0: 1, 1: 10}, gamma=auto, kernel=rbf; total time=   0.1s\n",
            "[CV] END C=0.05, class_weight={0: 1, 1: 10}, gamma=auto, kernel=rbf; total time=   0.1s\n",
            "[CV] END C=0.05, class_weight={0: 1, 1: 10}, gamma=auto, kernel=rbf; total time=   0.1s\n",
            "[CV] END C=0.05, class_weight={0: 1, 1: 10}, gamma=auto, kernel=rbf; total time=   0.1s\n",
            "[CV] END C=0.05, class_weight={0: 1, 1: 10}, gamma=auto, kernel=rbf; total time=   0.1s\n",
            "[CV] END C=0.05, class_weight={0: 1, 1: 10}, gamma=auto, kernel=sigmoid; total time=   0.2s\n",
            "[CV] END C=0.05, class_weight={0: 1, 1: 10}, gamma=auto, kernel=sigmoid; total time=   0.2s\n",
            "[CV] END C=0.05, class_weight={0: 1, 1: 10}, gamma=auto, kernel=sigmoid; total time=   0.1s\n",
            "[CV] END C=0.05, class_weight={0: 1, 1: 10}, gamma=auto, kernel=sigmoid; total time=   0.2s\n",
            "[CV] END C=0.05, class_weight={0: 1, 1: 10}, gamma=auto, kernel=sigmoid; total time=   0.2s\n",
            "[CV] END C=0.5, class_weight=balanced, gamma=scale, kernel=linear; total time=   0.1s\n",
            "[CV] END C=0.5, class_weight=balanced, gamma=scale, kernel=linear; total time=   0.1s\n",
            "[CV] END C=0.5, class_weight=balanced, gamma=scale, kernel=linear; total time=   0.1s\n",
            "[CV] END C=0.5, class_weight=balanced, gamma=scale, kernel=linear; total time=   0.1s\n",
            "[CV] END C=0.5, class_weight=balanced, gamma=scale, kernel=linear; total time=   0.1s\n",
            "[CV] END C=0.5, class_weight=balanced, gamma=scale, kernel=poly; total time=   0.1s\n",
            "[CV] END C=0.5, class_weight=balanced, gamma=scale, kernel=poly; total time=   0.1s\n",
            "[CV] END C=0.5, class_weight=balanced, gamma=scale, kernel=poly; total time=   0.1s\n",
            "[CV] END C=0.5, class_weight=balanced, gamma=scale, kernel=poly; total time=   0.1s\n",
            "[CV] END C=0.5, class_weight=balanced, gamma=scale, kernel=poly; total time=   0.1s\n",
            "[CV] END C=0.5, class_weight=balanced, gamma=scale, kernel=rbf; total time=   0.1s\n",
            "[CV] END C=0.5, class_weight=balanced, gamma=scale, kernel=rbf; total time=   0.1s\n",
            "[CV] END C=0.5, class_weight=balanced, gamma=scale, kernel=rbf; total time=   0.1s\n",
            "[CV] END C=0.5, class_weight=balanced, gamma=scale, kernel=rbf; total time=   0.1s\n",
            "[CV] END C=0.5, class_weight=balanced, gamma=scale, kernel=rbf; total time=   0.1s\n",
            "[CV] END C=0.5, class_weight=balanced, gamma=scale, kernel=sigmoid; total time=   0.1s\n",
            "[CV] END C=0.5, class_weight=balanced, gamma=scale, kernel=sigmoid; total time=   0.1s\n",
            "[CV] END C=0.5, class_weight=balanced, gamma=scale, kernel=sigmoid; total time=   0.1s\n",
            "[CV] END C=0.5, class_weight=balanced, gamma=scale, kernel=sigmoid; total time=   0.1s\n",
            "[CV] END C=0.5, class_weight=balanced, gamma=scale, kernel=sigmoid; total time=   0.1s\n",
            "[CV] END C=0.5, class_weight=balanced, gamma=auto, kernel=linear; total time=   0.1s\n",
            "[CV] END C=0.5, class_weight=balanced, gamma=auto, kernel=linear; total time=   0.1s\n",
            "[CV] END C=0.5, class_weight=balanced, gamma=auto, kernel=linear; total time=   0.1s\n",
            "[CV] END C=0.5, class_weight=balanced, gamma=auto, kernel=linear; total time=   0.1s\n",
            "[CV] END C=0.5, class_weight=balanced, gamma=auto, kernel=linear; total time=   0.1s\n",
            "[CV] END C=0.5, class_weight=balanced, gamma=auto, kernel=poly; total time=   0.1s\n",
            "[CV] END C=0.5, class_weight=balanced, gamma=auto, kernel=poly; total time=   0.1s\n",
            "[CV] END C=0.5, class_weight=balanced, gamma=auto, kernel=poly; total time=   0.1s\n",
            "[CV] END C=0.5, class_weight=balanced, gamma=auto, kernel=poly; total time=   0.1s\n",
            "[CV] END C=0.5, class_weight=balanced, gamma=auto, kernel=poly; total time=   0.1s\n",
            "[CV] END C=0.5, class_weight=balanced, gamma=auto, kernel=rbf; total time=   0.1s\n",
            "[CV] END C=0.5, class_weight=balanced, gamma=auto, kernel=rbf; total time=   0.1s\n",
            "[CV] END C=0.5, class_weight=balanced, gamma=auto, kernel=rbf; total time=   0.1s\n",
            "[CV] END C=0.5, class_weight=balanced, gamma=auto, kernel=rbf; total time=   0.1s\n",
            "[CV] END C=0.5, class_weight=balanced, gamma=auto, kernel=rbf; total time=   0.1s\n",
            "[CV] END C=0.5, class_weight=balanced, gamma=auto, kernel=sigmoid; total time=   0.1s\n",
            "[CV] END C=0.5, class_weight=balanced, gamma=auto, kernel=sigmoid; total time=   0.1s\n",
            "[CV] END C=0.5, class_weight=balanced, gamma=auto, kernel=sigmoid; total time=   0.1s\n",
            "[CV] END C=0.5, class_weight=balanced, gamma=auto, kernel=sigmoid; total time=   0.1s\n",
            "[CV] END C=0.5, class_weight=balanced, gamma=auto, kernel=sigmoid; total time=   0.1s\n",
            "[CV] END C=0.5, class_weight={0: 1, 1: 2}, gamma=scale, kernel=linear; total time=   0.0s\n",
            "[CV] END C=0.5, class_weight={0: 1, 1: 2}, gamma=scale, kernel=linear; total time=   0.1s\n",
            "[CV] END C=0.5, class_weight={0: 1, 1: 2}, gamma=scale, kernel=linear; total time=   0.1s\n",
            "[CV] END C=0.5, class_weight={0: 1, 1: 2}, gamma=scale, kernel=linear; total time=   0.1s\n",
            "[CV] END C=0.5, class_weight={0: 1, 1: 2}, gamma=scale, kernel=linear; total time=   0.1s\n",
            "[CV] END C=0.5, class_weight={0: 1, 1: 2}, gamma=scale, kernel=poly; total time=   0.1s\n",
            "[CV] END C=0.5, class_weight={0: 1, 1: 2}, gamma=scale, kernel=poly; total time=   0.1s\n",
            "[CV] END C=0.5, class_weight={0: 1, 1: 2}, gamma=scale, kernel=poly; total time=   0.1s\n",
            "[CV] END C=0.5, class_weight={0: 1, 1: 2}, gamma=scale, kernel=poly; total time=   0.1s\n",
            "[CV] END C=0.5, class_weight={0: 1, 1: 2}, gamma=scale, kernel=poly; total time=   0.1s\n",
            "[CV] END C=0.5, class_weight={0: 1, 1: 2}, gamma=scale, kernel=rbf; total time=   0.1s\n",
            "[CV] END C=0.5, class_weight={0: 1, 1: 2}, gamma=scale, kernel=rbf; total time=   0.1s\n",
            "[CV] END C=0.5, class_weight={0: 1, 1: 2}, gamma=scale, kernel=rbf; total time=   0.1s\n",
            "[CV] END C=0.5, class_weight={0: 1, 1: 2}, gamma=scale, kernel=rbf; total time=   0.1s\n",
            "[CV] END C=0.5, class_weight={0: 1, 1: 2}, gamma=scale, kernel=rbf; total time=   0.1s\n",
            "[CV] END C=0.5, class_weight={0: 1, 1: 2}, gamma=scale, kernel=sigmoid; total time=   0.1s\n",
            "[CV] END C=0.5, class_weight={0: 1, 1: 2}, gamma=scale, kernel=sigmoid; total time=   0.1s\n",
            "[CV] END C=0.5, class_weight={0: 1, 1: 2}, gamma=scale, kernel=sigmoid; total time=   0.1s\n",
            "[CV] END C=0.5, class_weight={0: 1, 1: 2}, gamma=scale, kernel=sigmoid; total time=   0.3s\n",
            "[CV] END C=0.5, class_weight={0: 1, 1: 2}, gamma=scale, kernel=sigmoid; total time=   0.2s\n",
            "[CV] END C=0.5, class_weight={0: 1, 1: 2}, gamma=auto, kernel=linear; total time=   0.2s\n",
            "[CV] END C=0.5, class_weight={0: 1, 1: 2}, gamma=auto, kernel=linear; total time=   0.2s\n",
            "[CV] END C=0.5, class_weight={0: 1, 1: 2}, gamma=auto, kernel=linear; total time=   0.1s\n",
            "[CV] END C=0.5, class_weight={0: 1, 1: 2}, gamma=auto, kernel=linear; total time=   0.1s\n",
            "[CV] END C=0.5, class_weight={0: 1, 1: 2}, gamma=auto, kernel=linear; total time=   0.1s\n",
            "[CV] END C=0.5, class_weight={0: 1, 1: 2}, gamma=auto, kernel=poly; total time=   0.1s\n",
            "[CV] END C=0.5, class_weight={0: 1, 1: 2}, gamma=auto, kernel=poly; total time=   0.1s\n",
            "[CV] END C=0.5, class_weight={0: 1, 1: 2}, gamma=auto, kernel=poly; total time=   0.2s\n",
            "[CV] END C=0.5, class_weight={0: 1, 1: 2}, gamma=auto, kernel=poly; total time=   0.1s\n",
            "[CV] END C=0.5, class_weight={0: 1, 1: 2}, gamma=auto, kernel=poly; total time=   0.1s\n",
            "[CV] END C=0.5, class_weight={0: 1, 1: 2}, gamma=auto, kernel=rbf; total time=   0.1s\n",
            "[CV] END C=0.5, class_weight={0: 1, 1: 2}, gamma=auto, kernel=rbf; total time=   0.1s\n",
            "[CV] END C=0.5, class_weight={0: 1, 1: 2}, gamma=auto, kernel=rbf; total time=   0.1s\n",
            "[CV] END C=0.5, class_weight={0: 1, 1: 2}, gamma=auto, kernel=rbf; total time=   0.1s\n",
            "[CV] END C=0.5, class_weight={0: 1, 1: 2}, gamma=auto, kernel=rbf; total time=   0.1s\n",
            "[CV] END C=0.5, class_weight={0: 1, 1: 2}, gamma=auto, kernel=sigmoid; total time=   0.1s\n",
            "[CV] END C=0.5, class_weight={0: 1, 1: 2}, gamma=auto, kernel=sigmoid; total time=   0.2s\n",
            "[CV] END C=0.5, class_weight={0: 1, 1: 2}, gamma=auto, kernel=sigmoid; total time=   0.1s\n",
            "[CV] END C=0.5, class_weight={0: 1, 1: 2}, gamma=auto, kernel=sigmoid; total time=   0.1s\n",
            "[CV] END C=0.5, class_weight={0: 1, 1: 2}, gamma=auto, kernel=sigmoid; total time=   0.2s\n",
            "[CV] END C=0.5, class_weight={0: 1, 1: 10}, gamma=scale, kernel=linear; total time=   0.2s\n",
            "[CV] END C=0.5, class_weight={0: 1, 1: 10}, gamma=scale, kernel=linear; total time=   0.3s\n",
            "[CV] END C=0.5, class_weight={0: 1, 1: 10}, gamma=scale, kernel=linear; total time=   0.2s\n",
            "[CV] END C=0.5, class_weight={0: 1, 1: 10}, gamma=scale, kernel=linear; total time=   0.3s\n",
            "[CV] END C=0.5, class_weight={0: 1, 1: 10}, gamma=scale, kernel=linear; total time=   0.3s\n",
            "[CV] END C=0.5, class_weight={0: 1, 1: 10}, gamma=scale, kernel=poly; total time=   0.1s\n",
            "[CV] END C=0.5, class_weight={0: 1, 1: 10}, gamma=scale, kernel=poly; total time=   0.1s\n",
            "[CV] END C=0.5, class_weight={0: 1, 1: 10}, gamma=scale, kernel=poly; total time=   0.1s\n",
            "[CV] END C=0.5, class_weight={0: 1, 1: 10}, gamma=scale, kernel=poly; total time=   0.1s\n",
            "[CV] END C=0.5, class_weight={0: 1, 1: 10}, gamma=scale, kernel=poly; total time=   0.1s\n",
            "[CV] END C=0.5, class_weight={0: 1, 1: 10}, gamma=scale, kernel=rbf; total time=   0.1s\n",
            "[CV] END C=0.5, class_weight={0: 1, 1: 10}, gamma=scale, kernel=rbf; total time=   0.1s\n",
            "[CV] END C=0.5, class_weight={0: 1, 1: 10}, gamma=scale, kernel=rbf; total time=   0.1s\n",
            "[CV] END C=0.5, class_weight={0: 1, 1: 10}, gamma=scale, kernel=rbf; total time=   0.1s\n",
            "[CV] END C=0.5, class_weight={0: 1, 1: 10}, gamma=scale, kernel=rbf; total time=   0.1s\n",
            "[CV] END C=0.5, class_weight={0: 1, 1: 10}, gamma=scale, kernel=sigmoid; total time=   0.1s\n",
            "[CV] END C=0.5, class_weight={0: 1, 1: 10}, gamma=scale, kernel=sigmoid; total time=   0.1s\n",
            "[CV] END C=0.5, class_weight={0: 1, 1: 10}, gamma=scale, kernel=sigmoid; total time=   0.1s\n",
            "[CV] END C=0.5, class_weight={0: 1, 1: 10}, gamma=scale, kernel=sigmoid; total time=   0.1s\n",
            "[CV] END C=0.5, class_weight={0: 1, 1: 10}, gamma=scale, kernel=sigmoid; total time=   0.1s\n",
            "[CV] END C=0.5, class_weight={0: 1, 1: 10}, gamma=auto, kernel=linear; total time=   0.1s\n",
            "[CV] END C=0.5, class_weight={0: 1, 1: 10}, gamma=auto, kernel=linear; total time=   0.1s\n",
            "[CV] END C=0.5, class_weight={0: 1, 1: 10}, gamma=auto, kernel=linear; total time=   0.1s\n",
            "[CV] END C=0.5, class_weight={0: 1, 1: 10}, gamma=auto, kernel=linear; total time=   0.1s\n",
            "[CV] END C=0.5, class_weight={0: 1, 1: 10}, gamma=auto, kernel=linear; total time=   0.1s\n",
            "[CV] END C=0.5, class_weight={0: 1, 1: 10}, gamma=auto, kernel=poly; total time=   0.1s\n",
            "[CV] END C=0.5, class_weight={0: 1, 1: 10}, gamma=auto, kernel=poly; total time=   0.1s\n",
            "[CV] END C=0.5, class_weight={0: 1, 1: 10}, gamma=auto, kernel=poly; total time=   0.1s\n",
            "[CV] END C=0.5, class_weight={0: 1, 1: 10}, gamma=auto, kernel=poly; total time=   0.1s\n",
            "[CV] END C=0.5, class_weight={0: 1, 1: 10}, gamma=auto, kernel=poly; total time=   0.1s\n",
            "[CV] END C=0.5, class_weight={0: 1, 1: 10}, gamma=auto, kernel=rbf; total time=   0.1s\n",
            "[CV] END C=0.5, class_weight={0: 1, 1: 10}, gamma=auto, kernel=rbf; total time=   0.1s\n",
            "[CV] END C=0.5, class_weight={0: 1, 1: 10}, gamma=auto, kernel=rbf; total time=   0.1s\n",
            "[CV] END C=0.5, class_weight={0: 1, 1: 10}, gamma=auto, kernel=rbf; total time=   0.1s\n",
            "[CV] END C=0.5, class_weight={0: 1, 1: 10}, gamma=auto, kernel=rbf; total time=   0.1s\n",
            "[CV] END C=0.5, class_weight={0: 1, 1: 10}, gamma=auto, kernel=sigmoid; total time=   0.1s\n",
            "[CV] END C=0.5, class_weight={0: 1, 1: 10}, gamma=auto, kernel=sigmoid; total time=   0.1s\n",
            "[CV] END C=0.5, class_weight={0: 1, 1: 10}, gamma=auto, kernel=sigmoid; total time=   0.1s\n",
            "[CV] END C=0.5, class_weight={0: 1, 1: 10}, gamma=auto, kernel=sigmoid; total time=   0.1s\n",
            "[CV] END C=0.5, class_weight={0: 1, 1: 10}, gamma=auto, kernel=sigmoid; total time=   0.1s\n"
          ]
        },
        {
          "output_type": "execute_result",
          "data": {
            "text/plain": [
              "GridSearchCV(estimator=SVC(),\n",
              "             param_grid={'C': [0.1, 0.01, 0.05, 0.5],\n",
              "                         'class_weight': ['balanced', {0: 1, 1: 2},\n",
              "                                          {0: 1, 1: 10}],\n",
              "                         'gamma': ['scale', 'auto'],\n",
              "                         'kernel': ['linear', 'poly', 'rbf', 'sigmoid']},\n",
              "             scoring='precision', verbose=2)"
            ]
          },
          "metadata": {},
          "execution_count": 54
        }
      ]
    },
    {
      "cell_type": "code",
      "source": [
        "cv.best_params_"
      ],
      "metadata": {
        "colab": {
          "base_uri": "https://localhost:8080/"
        },
        "id": "qFA-QiKflSZq",
        "outputId": "5e90e8a6-54ee-4389-fa54-11adef216a37"
      },
      "execution_count": null,
      "outputs": [
        {
          "output_type": "execute_result",
          "data": {
            "text/plain": [
              "{'C': 0.05, 'class_weight': {0: 1, 1: 2}, 'gamma': 'auto', 'kernel': 'poly'}"
            ]
          },
          "metadata": {},
          "execution_count": 55
        }
      ]
    },
    {
      "cell_type": "code",
      "source": [
        "predicted = cv.predict(X_test_stack)\n",
        "\n",
        "prec = precision_score(y_test, predicted)\n",
        "recall = recall_score(y_test, predicted)\n",
        "    \n",
        "print(\"Prec: {:.2F}, Recall: {:.2F}\".format(\n",
        "    prec, recall\n",
        "))"
      ],
      "metadata": {
        "colab": {
          "base_uri": "https://localhost:8080/"
        },
        "id": "5QxHt6c6lYQM",
        "outputId": "2c6bccd4-87c4-4515-96b0-679e90d636e2"
      },
      "execution_count": null,
      "outputs": [
        {
          "output_type": "stream",
          "name": "stdout",
          "text": [
            "Prec: 0.88, Recall: 0.23\n"
          ]
        }
      ]
    }
  ]
}