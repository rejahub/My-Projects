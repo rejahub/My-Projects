{
 "cells": [
  {
   "cell_type": "code",
   "execution_count": 1,
   "id": "f24092d6",
   "metadata": {
    "_cell_guid": "b1076dfc-b9ad-4769-8c92-a6c4dae69d19",
    "_uuid": "8f2839f25d086af736a60e9eeb907d3b93b6e0e5",
    "execution": {
     "iopub.execute_input": "2022-09-18T19:33:33.622902Z",
     "iopub.status.busy": "2022-09-18T19:33:33.622424Z",
     "iopub.status.idle": "2022-09-18T19:33:33.642588Z",
     "shell.execute_reply": "2022-09-18T19:33:33.641787Z"
    },
    "papermill": {
     "duration": 0.034902,
     "end_time": "2022-09-18T19:33:33.645011",
     "exception": false,
     "start_time": "2022-09-18T19:33:33.610109",
     "status": "completed"
    },
    "tags": []
   },
   "outputs": [
    {
     "name": "stdout",
     "output_type": "stream",
     "text": [
      "/kaggle/input/air-passengers/AirPassengers.csv\n"
     ]
    }
   ],
   "source": [
    "# This Python 3 environment comes with many helpful analytics libraries installed\n",
    "# It is defined by the kaggle/python Docker image: https://github.com/kaggle/docker-python\n",
    "# For example, here's several helpful packages to load\n",
    "\n",
    "import numpy as np # linear algebra\n",
    "import pandas as pd # data processing, CSV file I/O (e.g. pd.read_csv)\n",
    "\n",
    "# Input data files are available in the read-only \"../input/\" directory\n",
    "# For example, running this (by clicking run or pressing Shift+Enter) will list all files under the input directory\n",
    "\n",
    "import os\n",
    "for dirname, _, filenames in os.walk('/kaggle/input'):\n",
    "    for filename in filenames:\n",
    "        print(os.path.join(dirname, filename))\n",
    "\n",
    "# You can write up to 20GB to the current directory (/kaggle/working/) that gets preserved as output when you create a version using \"Save & Run All\" \n",
    "# You can also write temporary files to /kaggle/temp/, but they won't be saved outside of the current session"
   ]
  },
  {
   "cell_type": "code",
   "execution_count": 2,
   "id": "b45fa143",
   "metadata": {
    "execution": {
     "iopub.execute_input": "2022-09-18T19:33:33.665880Z",
     "iopub.status.busy": "2022-09-18T19:33:33.665229Z",
     "iopub.status.idle": "2022-09-18T19:33:34.693320Z",
     "shell.execute_reply": "2022-09-18T19:33:34.692164Z"
    },
    "papermill": {
     "duration": 1.041323,
     "end_time": "2022-09-18T19:33:34.696064",
     "exception": false,
     "start_time": "2022-09-18T19:33:33.654741",
     "status": "completed"
    },
    "tags": []
   },
   "outputs": [],
   "source": [
    "# Import Library / ngambil kode dari user lain\n",
    "\n",
    "import pandas as pd # Untuk mengolah data\n",
    "import numpy as np # Untuk mengolah angka\n",
    "import matplotlib.pylab as plt # Untuk visualisasi\n",
    "import seaborn as sns # Untuk Visualisasi\n",
    "%matplotlib inline\n",
    "from datetime import datetime #Untuk mengatasi tipe data tanggal"
   ]
  },
  {
   "cell_type": "code",
   "execution_count": 3,
   "id": "5f18b454",
   "metadata": {
    "execution": {
     "iopub.execute_input": "2022-09-18T19:33:34.717047Z",
     "iopub.status.busy": "2022-09-18T19:33:34.716074Z",
     "iopub.status.idle": "2022-09-18T19:33:34.735161Z",
     "shell.execute_reply": "2022-09-18T19:33:34.733955Z"
    },
    "papermill": {
     "duration": 0.032666,
     "end_time": "2022-09-18T19:33:34.738039",
     "exception": false,
     "start_time": "2022-09-18T19:33:34.705373",
     "status": "completed"
    },
    "tags": []
   },
   "outputs": [],
   "source": [
    "# Import Data\n",
    "\n",
    "df = pd.read_csv('../input/air-passengers/AirPassengers.csv')"
   ]
  },
  {
   "cell_type": "code",
   "execution_count": 4,
   "id": "72d32865",
   "metadata": {
    "execution": {
     "iopub.execute_input": "2022-09-18T19:33:34.759182Z",
     "iopub.status.busy": "2022-09-18T19:33:34.758220Z",
     "iopub.status.idle": "2022-09-18T19:33:34.782399Z",
     "shell.execute_reply": "2022-09-18T19:33:34.781268Z"
    },
    "papermill": {
     "duration": 0.037473,
     "end_time": "2022-09-18T19:33:34.784968",
     "exception": false,
     "start_time": "2022-09-18T19:33:34.747495",
     "status": "completed"
    },
    "tags": []
   },
   "outputs": [
    {
     "data": {
      "text/html": [
       "<div>\n",
       "<style scoped>\n",
       "    .dataframe tbody tr th:only-of-type {\n",
       "        vertical-align: middle;\n",
       "    }\n",
       "\n",
       "    .dataframe tbody tr th {\n",
       "        vertical-align: top;\n",
       "    }\n",
       "\n",
       "    .dataframe thead th {\n",
       "        text-align: right;\n",
       "    }\n",
       "</style>\n",
       "<table border=\"1\" class=\"dataframe\">\n",
       "  <thead>\n",
       "    <tr style=\"text-align: right;\">\n",
       "      <th></th>\n",
       "      <th>Month</th>\n",
       "      <th>#Passengers</th>\n",
       "    </tr>\n",
       "  </thead>\n",
       "  <tbody>\n",
       "    <tr>\n",
       "      <th>0</th>\n",
       "      <td>1949-01</td>\n",
       "      <td>112</td>\n",
       "    </tr>\n",
       "    <tr>\n",
       "      <th>1</th>\n",
       "      <td>1949-02</td>\n",
       "      <td>118</td>\n",
       "    </tr>\n",
       "    <tr>\n",
       "      <th>2</th>\n",
       "      <td>1949-03</td>\n",
       "      <td>132</td>\n",
       "    </tr>\n",
       "    <tr>\n",
       "      <th>3</th>\n",
       "      <td>1949-04</td>\n",
       "      <td>129</td>\n",
       "    </tr>\n",
       "    <tr>\n",
       "      <th>4</th>\n",
       "      <td>1949-05</td>\n",
       "      <td>121</td>\n",
       "    </tr>\n",
       "    <tr>\n",
       "      <th>...</th>\n",
       "      <td>...</td>\n",
       "      <td>...</td>\n",
       "    </tr>\n",
       "    <tr>\n",
       "      <th>139</th>\n",
       "      <td>1960-08</td>\n",
       "      <td>606</td>\n",
       "    </tr>\n",
       "    <tr>\n",
       "      <th>140</th>\n",
       "      <td>1960-09</td>\n",
       "      <td>508</td>\n",
       "    </tr>\n",
       "    <tr>\n",
       "      <th>141</th>\n",
       "      <td>1960-10</td>\n",
       "      <td>461</td>\n",
       "    </tr>\n",
       "    <tr>\n",
       "      <th>142</th>\n",
       "      <td>1960-11</td>\n",
       "      <td>390</td>\n",
       "    </tr>\n",
       "    <tr>\n",
       "      <th>143</th>\n",
       "      <td>1960-12</td>\n",
       "      <td>432</td>\n",
       "    </tr>\n",
       "  </tbody>\n",
       "</table>\n",
       "<p>144 rows × 2 columns</p>\n",
       "</div>"
      ],
      "text/plain": [
       "       Month  #Passengers\n",
       "0    1949-01          112\n",
       "1    1949-02          118\n",
       "2    1949-03          132\n",
       "3    1949-04          129\n",
       "4    1949-05          121\n",
       "..       ...          ...\n",
       "139  1960-08          606\n",
       "140  1960-09          508\n",
       "141  1960-10          461\n",
       "142  1960-11          390\n",
       "143  1960-12          432\n",
       "\n",
       "[144 rows x 2 columns]"
      ]
     },
     "execution_count": 4,
     "metadata": {},
     "output_type": "execute_result"
    }
   ],
   "source": [
    "#Menampilkan Data yang sudah diimport\n",
    "\n",
    "df"
   ]
  },
  {
   "cell_type": "code",
   "execution_count": 5,
   "id": "bc287653",
   "metadata": {
    "execution": {
     "iopub.execute_input": "2022-09-18T19:33:34.807719Z",
     "iopub.status.busy": "2022-09-18T19:33:34.806957Z",
     "iopub.status.idle": "2022-09-18T19:33:34.829241Z",
     "shell.execute_reply": "2022-09-18T19:33:34.828043Z"
    },
    "papermill": {
     "duration": 0.035612,
     "end_time": "2022-09-18T19:33:34.831655",
     "exception": false,
     "start_time": "2022-09-18T19:33:34.796043",
     "status": "completed"
    },
    "tags": []
   },
   "outputs": [
    {
     "name": "stdout",
     "output_type": "stream",
     "text": [
      "<class 'pandas.core.frame.DataFrame'>\n",
      "RangeIndex: 144 entries, 0 to 143\n",
      "Data columns (total 2 columns):\n",
      " #   Column       Non-Null Count  Dtype \n",
      "---  ------       --------------  ----- \n",
      " 0   Month        144 non-null    object\n",
      " 1   #Passengers  144 non-null    int64 \n",
      "dtypes: int64(1), object(1)\n",
      "memory usage: 2.4+ KB\n"
     ]
    }
   ],
   "source": [
    "# Kita ngin mengetahui informasi (tipe data dan missing value) dari masing-masing kolom\n",
    "df.info()"
   ]
  },
  {
   "cell_type": "code",
   "execution_count": 6,
   "id": "9bb6a73c",
   "metadata": {
    "execution": {
     "iopub.execute_input": "2022-09-18T19:33:34.853674Z",
     "iopub.status.busy": "2022-09-18T19:33:34.853259Z",
     "iopub.status.idle": "2022-09-18T19:33:34.862089Z",
     "shell.execute_reply": "2022-09-18T19:33:34.861265Z"
    },
    "papermill": {
     "duration": 0.022034,
     "end_time": "2022-09-18T19:33:34.864047",
     "exception": false,
     "start_time": "2022-09-18T19:33:34.842013",
     "status": "completed"
    },
    "tags": []
   },
   "outputs": [
    {
     "data": {
      "text/html": [
       "<div>\n",
       "<style scoped>\n",
       "    .dataframe tbody tr th:only-of-type {\n",
       "        vertical-align: middle;\n",
       "    }\n",
       "\n",
       "    .dataframe tbody tr th {\n",
       "        vertical-align: top;\n",
       "    }\n",
       "\n",
       "    .dataframe thead th {\n",
       "        text-align: right;\n",
       "    }\n",
       "</style>\n",
       "<table border=\"1\" class=\"dataframe\">\n",
       "  <thead>\n",
       "    <tr style=\"text-align: right;\">\n",
       "      <th></th>\n",
       "      <th>Month</th>\n",
       "      <th>#Passengers</th>\n",
       "    </tr>\n",
       "  </thead>\n",
       "  <tbody>\n",
       "  </tbody>\n",
       "</table>\n",
       "</div>"
      ],
      "text/plain": [
       "Empty DataFrame\n",
       "Columns: [Month, #Passengers]\n",
       "Index: []"
      ]
     },
     "execution_count": 6,
     "metadata": {},
     "output_type": "execute_result"
    }
   ],
   "source": [
    "# Kita ingin cek data yang duplicate\n",
    "df[df['Month'].duplicated()]"
   ]
  },
  {
   "cell_type": "code",
   "execution_count": 7,
   "id": "31d9d4c0",
   "metadata": {
    "execution": {
     "iopub.execute_input": "2022-09-18T19:33:34.885534Z",
     "iopub.status.busy": "2022-09-18T19:33:34.884790Z",
     "iopub.status.idle": "2022-09-18T19:33:34.892336Z",
     "shell.execute_reply": "2022-09-18T19:33:34.891418Z"
    },
    "papermill": {
     "duration": 0.020906,
     "end_time": "2022-09-18T19:33:34.894794",
     "exception": false,
     "start_time": "2022-09-18T19:33:34.873888",
     "status": "completed"
    },
    "tags": []
   },
   "outputs": [],
   "source": [
    "# Kita ingin mengubah tipe data di kolom 'Month' dari object menjadi datetime\n",
    "df['Month'] = pd.to_datetime(df['Month'], format=\"%Y-%m\")"
   ]
  },
  {
   "cell_type": "code",
   "execution_count": 8,
   "id": "4bbb7fef",
   "metadata": {
    "execution": {
     "iopub.execute_input": "2022-09-18T19:33:34.916689Z",
     "iopub.status.busy": "2022-09-18T19:33:34.916275Z",
     "iopub.status.idle": "2022-09-18T19:33:34.927608Z",
     "shell.execute_reply": "2022-09-18T19:33:34.926463Z"
    },
    "papermill": {
     "duration": 0.025643,
     "end_time": "2022-09-18T19:33:34.930667",
     "exception": false,
     "start_time": "2022-09-18T19:33:34.905024",
     "status": "completed"
    },
    "tags": []
   },
   "outputs": [
    {
     "name": "stdout",
     "output_type": "stream",
     "text": [
      "<class 'pandas.core.frame.DataFrame'>\n",
      "RangeIndex: 144 entries, 0 to 143\n",
      "Data columns (total 2 columns):\n",
      " #   Column       Non-Null Count  Dtype         \n",
      "---  ------       --------------  -----         \n",
      " 0   Month        144 non-null    datetime64[ns]\n",
      " 1   #Passengers  144 non-null    int64         \n",
      "dtypes: datetime64[ns](1), int64(1)\n",
      "memory usage: 2.4 KB\n"
     ]
    }
   ],
   "source": [
    "# Kita ngin mengetahui informasi (tipe data dan missing value) dari masing-masing kolom\n",
    "df.info()"
   ]
  },
  {
   "cell_type": "code",
   "execution_count": 9,
   "id": "4a2f2012",
   "metadata": {
    "execution": {
     "iopub.execute_input": "2022-09-18T19:33:34.952304Z",
     "iopub.status.busy": "2022-09-18T19:33:34.951556Z",
     "iopub.status.idle": "2022-09-18T19:33:34.956412Z",
     "shell.execute_reply": "2022-09-18T19:33:34.955610Z"
    },
    "papermill": {
     "duration": 0.017825,
     "end_time": "2022-09-18T19:33:34.958390",
     "exception": false,
     "start_time": "2022-09-18T19:33:34.940565",
     "status": "completed"
    },
    "tags": []
   },
   "outputs": [],
   "source": [
    "# data['Month']=pd.to_datetime(data['Month'], infer_datetime_format=True)"
   ]
  },
  {
   "cell_type": "code",
   "execution_count": 10,
   "id": "19992048",
   "metadata": {
    "execution": {
     "iopub.execute_input": "2022-09-18T19:33:34.980700Z",
     "iopub.status.busy": "2022-09-18T19:33:34.979753Z",
     "iopub.status.idle": "2022-09-18T19:33:34.993131Z",
     "shell.execute_reply": "2022-09-18T19:33:34.991926Z"
    },
    "papermill": {
     "duration": 0.02709,
     "end_time": "2022-09-18T19:33:34.995504",
     "exception": false,
     "start_time": "2022-09-18T19:33:34.968414",
     "status": "completed"
    },
    "tags": []
   },
   "outputs": [
    {
     "data": {
      "text/html": [
       "<div>\n",
       "<style scoped>\n",
       "    .dataframe tbody tr th:only-of-type {\n",
       "        vertical-align: middle;\n",
       "    }\n",
       "\n",
       "    .dataframe tbody tr th {\n",
       "        vertical-align: top;\n",
       "    }\n",
       "\n",
       "    .dataframe thead th {\n",
       "        text-align: right;\n",
       "    }\n",
       "</style>\n",
       "<table border=\"1\" class=\"dataframe\">\n",
       "  <thead>\n",
       "    <tr style=\"text-align: right;\">\n",
       "      <th></th>\n",
       "      <th>Month</th>\n",
       "      <th>#Passengers</th>\n",
       "    </tr>\n",
       "  </thead>\n",
       "  <tbody>\n",
       "    <tr>\n",
       "      <th>0</th>\n",
       "      <td>1949-01-01</td>\n",
       "      <td>112</td>\n",
       "    </tr>\n",
       "    <tr>\n",
       "      <th>1</th>\n",
       "      <td>1949-02-01</td>\n",
       "      <td>118</td>\n",
       "    </tr>\n",
       "    <tr>\n",
       "      <th>2</th>\n",
       "      <td>1949-03-01</td>\n",
       "      <td>132</td>\n",
       "    </tr>\n",
       "    <tr>\n",
       "      <th>3</th>\n",
       "      <td>1949-04-01</td>\n",
       "      <td>129</td>\n",
       "    </tr>\n",
       "    <tr>\n",
       "      <th>4</th>\n",
       "      <td>1949-05-01</td>\n",
       "      <td>121</td>\n",
       "    </tr>\n",
       "    <tr>\n",
       "      <th>...</th>\n",
       "      <td>...</td>\n",
       "      <td>...</td>\n",
       "    </tr>\n",
       "    <tr>\n",
       "      <th>139</th>\n",
       "      <td>1960-08-01</td>\n",
       "      <td>606</td>\n",
       "    </tr>\n",
       "    <tr>\n",
       "      <th>140</th>\n",
       "      <td>1960-09-01</td>\n",
       "      <td>508</td>\n",
       "    </tr>\n",
       "    <tr>\n",
       "      <th>141</th>\n",
       "      <td>1960-10-01</td>\n",
       "      <td>461</td>\n",
       "    </tr>\n",
       "    <tr>\n",
       "      <th>142</th>\n",
       "      <td>1960-11-01</td>\n",
       "      <td>390</td>\n",
       "    </tr>\n",
       "    <tr>\n",
       "      <th>143</th>\n",
       "      <td>1960-12-01</td>\n",
       "      <td>432</td>\n",
       "    </tr>\n",
       "  </tbody>\n",
       "</table>\n",
       "<p>144 rows × 2 columns</p>\n",
       "</div>"
      ],
      "text/plain": [
       "         Month  #Passengers\n",
       "0   1949-01-01          112\n",
       "1   1949-02-01          118\n",
       "2   1949-03-01          132\n",
       "3   1949-04-01          129\n",
       "4   1949-05-01          121\n",
       "..         ...          ...\n",
       "139 1960-08-01          606\n",
       "140 1960-09-01          508\n",
       "141 1960-10-01          461\n",
       "142 1960-11-01          390\n",
       "143 1960-12-01          432\n",
       "\n",
       "[144 rows x 2 columns]"
      ]
     },
     "execution_count": 10,
     "metadata": {},
     "output_type": "execute_result"
    }
   ],
   "source": [
    "#Memastikan data\n",
    "\n",
    "df"
   ]
  },
  {
   "cell_type": "code",
   "execution_count": 11,
   "id": "6187df1e",
   "metadata": {
    "execution": {
     "iopub.execute_input": "2022-09-18T19:33:35.018137Z",
     "iopub.status.busy": "2022-09-18T19:33:35.017748Z",
     "iopub.status.idle": "2022-09-18T19:33:35.031323Z",
     "shell.execute_reply": "2022-09-18T19:33:35.030032Z"
    },
    "papermill": {
     "duration": 0.027371,
     "end_time": "2022-09-18T19:33:35.033708",
     "exception": false,
     "start_time": "2022-09-18T19:33:35.006337",
     "status": "completed"
    },
    "tags": []
   },
   "outputs": [
    {
     "data": {
      "text/html": [
       "<div>\n",
       "<style scoped>\n",
       "    .dataframe tbody tr th:only-of-type {\n",
       "        vertical-align: middle;\n",
       "    }\n",
       "\n",
       "    .dataframe tbody tr th {\n",
       "        vertical-align: top;\n",
       "    }\n",
       "\n",
       "    .dataframe thead th {\n",
       "        text-align: right;\n",
       "    }\n",
       "</style>\n",
       "<table border=\"1\" class=\"dataframe\">\n",
       "  <thead>\n",
       "    <tr style=\"text-align: right;\">\n",
       "      <th></th>\n",
       "      <th>#Passengers</th>\n",
       "    </tr>\n",
       "    <tr>\n",
       "      <th>Month</th>\n",
       "      <th></th>\n",
       "    </tr>\n",
       "  </thead>\n",
       "  <tbody>\n",
       "    <tr>\n",
       "      <th>1949-01-01</th>\n",
       "      <td>112</td>\n",
       "    </tr>\n",
       "    <tr>\n",
       "      <th>1949-02-01</th>\n",
       "      <td>118</td>\n",
       "    </tr>\n",
       "    <tr>\n",
       "      <th>1949-03-01</th>\n",
       "      <td>132</td>\n",
       "    </tr>\n",
       "    <tr>\n",
       "      <th>1949-04-01</th>\n",
       "      <td>129</td>\n",
       "    </tr>\n",
       "    <tr>\n",
       "      <th>1949-05-01</th>\n",
       "      <td>121</td>\n",
       "    </tr>\n",
       "    <tr>\n",
       "      <th>...</th>\n",
       "      <td>...</td>\n",
       "    </tr>\n",
       "    <tr>\n",
       "      <th>1960-08-01</th>\n",
       "      <td>606</td>\n",
       "    </tr>\n",
       "    <tr>\n",
       "      <th>1960-09-01</th>\n",
       "      <td>508</td>\n",
       "    </tr>\n",
       "    <tr>\n",
       "      <th>1960-10-01</th>\n",
       "      <td>461</td>\n",
       "    </tr>\n",
       "    <tr>\n",
       "      <th>1960-11-01</th>\n",
       "      <td>390</td>\n",
       "    </tr>\n",
       "    <tr>\n",
       "      <th>1960-12-01</th>\n",
       "      <td>432</td>\n",
       "    </tr>\n",
       "  </tbody>\n",
       "</table>\n",
       "<p>144 rows × 1 columns</p>\n",
       "</div>"
      ],
      "text/plain": [
       "            #Passengers\n",
       "Month                  \n",
       "1949-01-01          112\n",
       "1949-02-01          118\n",
       "1949-03-01          132\n",
       "1949-04-01          129\n",
       "1949-05-01          121\n",
       "...                 ...\n",
       "1960-08-01          606\n",
       "1960-09-01          508\n",
       "1960-10-01          461\n",
       "1960-11-01          390\n",
       "1960-12-01          432\n",
       "\n",
       "[144 rows x 1 columns]"
      ]
     },
     "execution_count": 11,
     "metadata": {},
     "output_type": "execute_result"
    }
   ],
   "source": [
    "# Kolom yang berisi tanggal kita jadikan sebagai index\n",
    "df=df.set_index(['Month'])\n",
    "df"
   ]
  },
  {
   "cell_type": "code",
   "execution_count": 12,
   "id": "54922838",
   "metadata": {
    "execution": {
     "iopub.execute_input": "2022-09-18T19:33:35.056084Z",
     "iopub.status.busy": "2022-09-18T19:33:35.055703Z",
     "iopub.status.idle": "2022-09-18T19:33:35.313672Z",
     "shell.execute_reply": "2022-09-18T19:33:35.312843Z"
    },
    "papermill": {
     "duration": 0.271732,
     "end_time": "2022-09-18T19:33:35.315916",
     "exception": false,
     "start_time": "2022-09-18T19:33:35.044184",
     "status": "completed"
    },
    "tags": []
   },
   "outputs": [
    {
     "data": {
      "image/png": "[encoded data removed]",
      "text/plain": [
       "<Figure size 1080x360 with 1 Axes>"
      ]
     },
     "metadata": {
      "needs_background": "light"
     },
     "output_type": "display_data"
    }
   ],
   "source": [
    "# Kita akan visualisasi data time-seriesnya\n",
    "\n",
    "# Color pallete for plotting\n",
    "color_pal = [\"#F8766D\", \"#D39200\", \"#93AA00\",\n",
    "             \"#00BA38\", \"#00C19F\", \"#00B9E3\",\n",
    "             \"#619CFF\", \"#DB72FB\"]\n",
    "df.plot(style='-', figsize=(15,5), color=color_pal[1], title=\"Penumpang Pesawat\")\n",
    "plt.show()"
   ]
  },
  {
   "cell_type": "code",
   "execution_count": 13,
   "id": "07323318",
   "metadata": {
    "execution": {
     "iopub.execute_input": "2022-09-18T19:33:35.340983Z",
     "iopub.status.busy": "2022-09-18T19:33:35.340011Z",
     "iopub.status.idle": "2022-09-18T19:33:35.345990Z",
     "shell.execute_reply": "2022-09-18T19:33:35.345024Z"
    },
    "papermill": {
     "duration": 0.021192,
     "end_time": "2022-09-18T19:33:35.348425",
     "exception": false,
     "start_time": "2022-09-18T19:33:35.327233",
     "status": "completed"
    },
    "tags": []
   },
   "outputs": [],
   "source": [
    "# Membagi data kita menjadi data latih (data_train) dan data uji (data_test)\n",
    "\n",
    "# Jika datanya kecil (ratusan jumlah datanya) pakai 0.2 \n",
    "# Jika datanya sedang (ribuan jumlah datanya) pakai 0.15\n",
    "# Jika datanya banyak (jutaan jumlah datanya) pakai 0.1\n",
    "test_ratio = 0.2\n",
    "\n",
    "test_set_size = int(len(df) * test_ratio)\n",
    "df_train = df[0:-test_set_size].copy()\n",
    "df_test = df[-test_set_size:].copy()"
   ]
  },
  {
   "cell_type": "code",
   "execution_count": 14,
   "id": "44752fd1",
   "metadata": {
    "execution": {
     "iopub.execute_input": "2022-09-18T19:33:35.372214Z",
     "iopub.status.busy": "2022-09-18T19:33:35.371827Z",
     "iopub.status.idle": "2022-09-18T19:33:35.377792Z",
     "shell.execute_reply": "2022-09-18T19:33:35.376756Z"
    },
    "papermill": {
     "duration": 0.020568,
     "end_time": "2022-09-18T19:33:35.380046",
     "exception": false,
     "start_time": "2022-09-18T19:33:35.359478",
     "status": "completed"
    },
    "tags": []
   },
   "outputs": [
    {
     "data": {
      "text/plain": [
       "28"
      ]
     },
     "execution_count": 14,
     "metadata": {},
     "output_type": "execute_result"
    }
   ],
   "source": [
    "#Menampilkan jumlah data testnya\n",
    "\n",
    "test_set_size"
   ]
  },
  {
   "cell_type": "code",
   "execution_count": 15,
   "id": "448340ab",
   "metadata": {
    "execution": {
     "iopub.execute_input": "2022-09-18T19:33:35.404268Z",
     "iopub.status.busy": "2022-09-18T19:33:35.403861Z",
     "iopub.status.idle": "2022-09-18T19:33:35.615818Z",
     "shell.execute_reply": "2022-09-18T19:33:35.614522Z"
    },
    "papermill": {
     "duration": 0.226968,
     "end_time": "2022-09-18T19:33:35.618352",
     "exception": false,
     "start_time": "2022-09-18T19:33:35.391384",
     "status": "completed"
    },
    "tags": []
   },
   "outputs": [
    {
     "data": {
      "image/png": "[encoded data removed]",
      "text/plain": [
       "<Figure size 1080x360 with 1 Axes>"
      ]
     },
     "metadata": {
      "needs_background": "light"
     },
     "output_type": "display_data"
    }
   ],
   "source": [
    "# Melihat hasil pembagian data kita menggunakan visualisasi\n",
    "df_test \\\n",
    "    .rename(columns={'#Passengers': 'TEST SET'}) \\\n",
    "    .join(df_train.rename(columns={'#Passengers': 'TRAINING SET'}),\n",
    "          how='outer') \\\n",
    "    .plot(figsize=(15,5), title=\"Penumpang Pesawat\", style='-')\n",
    "plt.show()"
   ]
  },
  {
   "cell_type": "code",
   "execution_count": 16,
   "id": "99ef787b",
   "metadata": {
    "execution": {
     "iopub.execute_input": "2022-09-18T19:33:35.647396Z",
     "iopub.status.busy": "2022-09-18T19:33:35.646264Z",
     "iopub.status.idle": "2022-09-18T19:33:35.861921Z",
     "shell.execute_reply": "2022-09-18T19:33:35.860403Z"
    },
    "papermill": {
     "duration": 0.23243,
     "end_time": "2022-09-18T19:33:35.864727",
     "exception": false,
     "start_time": "2022-09-18T19:33:35.632297",
     "status": "completed"
    },
    "tags": []
   },
   "outputs": [],
   "source": [
    "# Import Library yang akan digunakan untuk memprediksi Time-Series (FbProphet)\n",
    "\n",
    "from prophet import Prophet"
   ]
  },
  {
   "cell_type": "code",
   "execution_count": 17,
   "id": "52af9394",
   "metadata": {
    "execution": {
     "iopub.execute_input": "2022-09-18T19:33:35.890585Z",
     "iopub.status.busy": "2022-09-18T19:33:35.890167Z",
     "iopub.status.idle": "2022-09-18T19:33:35.903422Z",
     "shell.execute_reply": "2022-09-18T19:33:35.902105Z"
    },
    "papermill": {
     "duration": 0.029059,
     "end_time": "2022-09-18T19:33:35.905946",
     "exception": false,
     "start_time": "2022-09-18T19:33:35.876887",
     "status": "completed"
    },
    "tags": []
   },
   "outputs": [
    {
     "data": {
      "text/html": [
       "<div>\n",
       "<style scoped>\n",
       "    .dataframe tbody tr th:only-of-type {\n",
       "        vertical-align: middle;\n",
       "    }\n",
       "\n",
       "    .dataframe tbody tr th {\n",
       "        vertical-align: top;\n",
       "    }\n",
       "\n",
       "    .dataframe thead th {\n",
       "        text-align: right;\n",
       "    }\n",
       "</style>\n",
       "<table border=\"1\" class=\"dataframe\">\n",
       "  <thead>\n",
       "    <tr style=\"text-align: right;\">\n",
       "      <th></th>\n",
       "      <th>#Passengers</th>\n",
       "    </tr>\n",
       "    <tr>\n",
       "      <th>Month</th>\n",
       "      <th></th>\n",
       "    </tr>\n",
       "  </thead>\n",
       "  <tbody>\n",
       "    <tr>\n",
       "      <th>1949-01-01</th>\n",
       "      <td>112</td>\n",
       "    </tr>\n",
       "    <tr>\n",
       "      <th>1949-02-01</th>\n",
       "      <td>118</td>\n",
       "    </tr>\n",
       "    <tr>\n",
       "      <th>1949-03-01</th>\n",
       "      <td>132</td>\n",
       "    </tr>\n",
       "    <tr>\n",
       "      <th>1949-04-01</th>\n",
       "      <td>129</td>\n",
       "    </tr>\n",
       "    <tr>\n",
       "      <th>1949-05-01</th>\n",
       "      <td>121</td>\n",
       "    </tr>\n",
       "    <tr>\n",
       "      <th>...</th>\n",
       "      <td>...</td>\n",
       "    </tr>\n",
       "    <tr>\n",
       "      <th>1958-04-01</th>\n",
       "      <td>348</td>\n",
       "    </tr>\n",
       "    <tr>\n",
       "      <th>1958-05-01</th>\n",
       "      <td>363</td>\n",
       "    </tr>\n",
       "    <tr>\n",
       "      <th>1958-06-01</th>\n",
       "      <td>435</td>\n",
       "    </tr>\n",
       "    <tr>\n",
       "      <th>1958-07-01</th>\n",
       "      <td>491</td>\n",
       "    </tr>\n",
       "    <tr>\n",
       "      <th>1958-08-01</th>\n",
       "      <td>505</td>\n",
       "    </tr>\n",
       "  </tbody>\n",
       "</table>\n",
       "<p>116 rows × 1 columns</p>\n",
       "</div>"
      ],
      "text/plain": [
       "            #Passengers\n",
       "Month                  \n",
       "1949-01-01          112\n",
       "1949-02-01          118\n",
       "1949-03-01          132\n",
       "1949-04-01          129\n",
       "1949-05-01          121\n",
       "...                 ...\n",
       "1958-04-01          348\n",
       "1958-05-01          363\n",
       "1958-06-01          435\n",
       "1958-07-01          491\n",
       "1958-08-01          505\n",
       "\n",
       "[116 rows x 1 columns]"
      ]
     },
     "execution_count": 17,
     "metadata": {},
     "output_type": "execute_result"
    }
   ],
   "source": [
    "#Menampikan jumlah data trainnya\n",
    "\n",
    "df_train"
   ]
  },
  {
   "cell_type": "code",
   "execution_count": 18,
   "id": "b951b5e5",
   "metadata": {
    "execution": {
     "iopub.execute_input": "2022-09-18T19:33:35.932139Z",
     "iopub.status.busy": "2022-09-18T19:33:35.931741Z",
     "iopub.status.idle": "2022-09-18T19:33:35.937460Z",
     "shell.execute_reply": "2022-09-18T19:33:35.936457Z"
    },
    "papermill": {
     "duration": 0.021434,
     "end_time": "2022-09-18T19:33:35.939599",
     "exception": false,
     "start_time": "2022-09-18T19:33:35.918165",
     "status": "completed"
    },
    "tags": []
   },
   "outputs": [],
   "source": [
    "# Mengembalikan kolom Month ke bentuk semula (sebelum jadi index)\n",
    "df_train.reset_index(inplace = True)"
   ]
  },
  {
   "cell_type": "code",
   "execution_count": 19,
   "id": "8822081b",
   "metadata": {
    "execution": {
     "iopub.execute_input": "2022-09-18T19:33:35.965492Z",
     "iopub.status.busy": "2022-09-18T19:33:35.965051Z",
     "iopub.status.idle": "2022-09-18T19:33:35.979094Z",
     "shell.execute_reply": "2022-09-18T19:33:35.977888Z"
    },
    "papermill": {
     "duration": 0.029643,
     "end_time": "2022-09-18T19:33:35.981558",
     "exception": false,
     "start_time": "2022-09-18T19:33:35.951915",
     "status": "completed"
    },
    "tags": []
   },
   "outputs": [
    {
     "data": {
      "text/html": [
       "<div>\n",
       "<style scoped>\n",
       "    .dataframe tbody tr th:only-of-type {\n",
       "        vertical-align: middle;\n",
       "    }\n",
       "\n",
       "    .dataframe tbody tr th {\n",
       "        vertical-align: top;\n",
       "    }\n",
       "\n",
       "    .dataframe thead th {\n",
       "        text-align: right;\n",
       "    }\n",
       "</style>\n",
       "<table border=\"1\" class=\"dataframe\">\n",
       "  <thead>\n",
       "    <tr style=\"text-align: right;\">\n",
       "      <th></th>\n",
       "      <th>Month</th>\n",
       "      <th>#Passengers</th>\n",
       "    </tr>\n",
       "  </thead>\n",
       "  <tbody>\n",
       "    <tr>\n",
       "      <th>0</th>\n",
       "      <td>1949-01-01</td>\n",
       "      <td>112</td>\n",
       "    </tr>\n",
       "    <tr>\n",
       "      <th>1</th>\n",
       "      <td>1949-02-01</td>\n",
       "      <td>118</td>\n",
       "    </tr>\n",
       "    <tr>\n",
       "      <th>2</th>\n",
       "      <td>1949-03-01</td>\n",
       "      <td>132</td>\n",
       "    </tr>\n",
       "    <tr>\n",
       "      <th>3</th>\n",
       "      <td>1949-04-01</td>\n",
       "      <td>129</td>\n",
       "    </tr>\n",
       "    <tr>\n",
       "      <th>4</th>\n",
       "      <td>1949-05-01</td>\n",
       "      <td>121</td>\n",
       "    </tr>\n",
       "    <tr>\n",
       "      <th>...</th>\n",
       "      <td>...</td>\n",
       "      <td>...</td>\n",
       "    </tr>\n",
       "    <tr>\n",
       "      <th>111</th>\n",
       "      <td>1958-04-01</td>\n",
       "      <td>348</td>\n",
       "    </tr>\n",
       "    <tr>\n",
       "      <th>112</th>\n",
       "      <td>1958-05-01</td>\n",
       "      <td>363</td>\n",
       "    </tr>\n",
       "    <tr>\n",
       "      <th>113</th>\n",
       "      <td>1958-06-01</td>\n",
       "      <td>435</td>\n",
       "    </tr>\n",
       "    <tr>\n",
       "      <th>114</th>\n",
       "      <td>1958-07-01</td>\n",
       "      <td>491</td>\n",
       "    </tr>\n",
       "    <tr>\n",
       "      <th>115</th>\n",
       "      <td>1958-08-01</td>\n",
       "      <td>505</td>\n",
       "    </tr>\n",
       "  </tbody>\n",
       "</table>\n",
       "<p>116 rows × 2 columns</p>\n",
       "</div>"
      ],
      "text/plain": [
       "         Month  #Passengers\n",
       "0   1949-01-01          112\n",
       "1   1949-02-01          118\n",
       "2   1949-03-01          132\n",
       "3   1949-04-01          129\n",
       "4   1949-05-01          121\n",
       "..         ...          ...\n",
       "111 1958-04-01          348\n",
       "112 1958-05-01          363\n",
       "113 1958-06-01          435\n",
       "114 1958-07-01          491\n",
       "115 1958-08-01          505\n",
       "\n",
       "[116 rows x 2 columns]"
      ]
     },
     "execution_count": 19,
     "metadata": {},
     "output_type": "execute_result"
    }
   ],
   "source": [
    "df_train"
   ]
  },
  {
   "cell_type": "code",
   "execution_count": 20,
   "id": "32e7968a",
   "metadata": {
    "execution": {
     "iopub.execute_input": "2022-09-18T19:33:36.009540Z",
     "iopub.status.busy": "2022-09-18T19:33:36.008340Z",
     "iopub.status.idle": "2022-09-18T19:33:36.014893Z",
     "shell.execute_reply": "2022-09-18T19:33:36.013854Z"
    },
    "papermill": {
     "duration": 0.022768,
     "end_time": "2022-09-18T19:33:36.017327",
     "exception": false,
     "start_time": "2022-09-18T19:33:35.994559",
     "status": "completed"
    },
    "tags": []
   },
   "outputs": [],
   "source": [
    "# Mengubah nama kolom sesuai dengan anturan dari FBProphet\n",
    "df_train.rename(columns={'Month':'ds', '#Passengers':'y'}, inplace = True)"
   ]
  },
  {
   "cell_type": "code",
   "execution_count": 21,
   "id": "b8f7d2dd",
   "metadata": {
    "execution": {
     "iopub.execute_input": "2022-09-18T19:33:36.044401Z",
     "iopub.status.busy": "2022-09-18T19:33:36.043388Z",
     "iopub.status.idle": "2022-09-18T19:33:36.059462Z",
     "shell.execute_reply": "2022-09-18T19:33:36.058064Z"
    },
    "papermill": {
     "duration": 0.032341,
     "end_time": "2022-09-18T19:33:36.062407",
     "exception": false,
     "start_time": "2022-09-18T19:33:36.030066",
     "status": "completed"
    },
    "tags": []
   },
   "outputs": [
    {
     "data": {
      "text/html": [
       "<div>\n",
       "<style scoped>\n",
       "    .dataframe tbody tr th:only-of-type {\n",
       "        vertical-align: middle;\n",
       "    }\n",
       "\n",
       "    .dataframe tbody tr th {\n",
       "        vertical-align: top;\n",
       "    }\n",
       "\n",
       "    .dataframe thead th {\n",
       "        text-align: right;\n",
       "    }\n",
       "</style>\n",
       "<table border=\"1\" class=\"dataframe\">\n",
       "  <thead>\n",
       "    <tr style=\"text-align: right;\">\n",
       "      <th></th>\n",
       "      <th>ds</th>\n",
       "      <th>y</th>\n",
       "    </tr>\n",
       "  </thead>\n",
       "  <tbody>\n",
       "    <tr>\n",
       "      <th>0</th>\n",
       "      <td>1949-01-01</td>\n",
       "      <td>112</td>\n",
       "    </tr>\n",
       "    <tr>\n",
       "      <th>1</th>\n",
       "      <td>1949-02-01</td>\n",
       "      <td>118</td>\n",
       "    </tr>\n",
       "    <tr>\n",
       "      <th>2</th>\n",
       "      <td>1949-03-01</td>\n",
       "      <td>132</td>\n",
       "    </tr>\n",
       "    <tr>\n",
       "      <th>3</th>\n",
       "      <td>1949-04-01</td>\n",
       "      <td>129</td>\n",
       "    </tr>\n",
       "    <tr>\n",
       "      <th>4</th>\n",
       "      <td>1949-05-01</td>\n",
       "      <td>121</td>\n",
       "    </tr>\n",
       "    <tr>\n",
       "      <th>...</th>\n",
       "      <td>...</td>\n",
       "      <td>...</td>\n",
       "    </tr>\n",
       "    <tr>\n",
       "      <th>111</th>\n",
       "      <td>1958-04-01</td>\n",
       "      <td>348</td>\n",
       "    </tr>\n",
       "    <tr>\n",
       "      <th>112</th>\n",
       "      <td>1958-05-01</td>\n",
       "      <td>363</td>\n",
       "    </tr>\n",
       "    <tr>\n",
       "      <th>113</th>\n",
       "      <td>1958-06-01</td>\n",
       "      <td>435</td>\n",
       "    </tr>\n",
       "    <tr>\n",
       "      <th>114</th>\n",
       "      <td>1958-07-01</td>\n",
       "      <td>491</td>\n",
       "    </tr>\n",
       "    <tr>\n",
       "      <th>115</th>\n",
       "      <td>1958-08-01</td>\n",
       "      <td>505</td>\n",
       "    </tr>\n",
       "  </tbody>\n",
       "</table>\n",
       "<p>116 rows × 2 columns</p>\n",
       "</div>"
      ],
      "text/plain": [
       "            ds    y\n",
       "0   1949-01-01  112\n",
       "1   1949-02-01  118\n",
       "2   1949-03-01  132\n",
       "3   1949-04-01  129\n",
       "4   1949-05-01  121\n",
       "..         ...  ...\n",
       "111 1958-04-01  348\n",
       "112 1958-05-01  363\n",
       "113 1958-06-01  435\n",
       "114 1958-07-01  491\n",
       "115 1958-08-01  505\n",
       "\n",
       "[116 rows x 2 columns]"
      ]
     },
     "execution_count": 21,
     "metadata": {},
     "output_type": "execute_result"
    }
   ],
   "source": [
    "df_train"
   ]
  },
  {
   "cell_type": "code",
   "execution_count": 22,
   "id": "b4c3046d",
   "metadata": {
    "execution": {
     "iopub.execute_input": "2022-09-18T19:33:36.097502Z",
     "iopub.status.busy": "2022-09-18T19:33:36.096584Z",
     "iopub.status.idle": "2022-09-18T19:33:36.116305Z",
     "shell.execute_reply": "2022-09-18T19:33:36.115123Z"
    },
    "papermill": {
     "duration": 0.041649,
     "end_time": "2022-09-18T19:33:36.119157",
     "exception": false,
     "start_time": "2022-09-18T19:33:36.077508",
     "status": "completed"
    },
    "tags": []
   },
   "outputs": [
    {
     "data": {
      "text/html": [
       "<div>\n",
       "<style scoped>\n",
       "    .dataframe tbody tr th:only-of-type {\n",
       "        vertical-align: middle;\n",
       "    }\n",
       "\n",
       "    .dataframe tbody tr th {\n",
       "        vertical-align: top;\n",
       "    }\n",
       "\n",
       "    .dataframe thead th {\n",
       "        text-align: right;\n",
       "    }\n",
       "</style>\n",
       "<table border=\"1\" class=\"dataframe\">\n",
       "  <thead>\n",
       "    <tr style=\"text-align: right;\">\n",
       "      <th></th>\n",
       "      <th>ds</th>\n",
       "      <th>y</th>\n",
       "    </tr>\n",
       "  </thead>\n",
       "  <tbody>\n",
       "    <tr>\n",
       "      <th>0</th>\n",
       "      <td>1958-09-01</td>\n",
       "      <td>404</td>\n",
       "    </tr>\n",
       "    <tr>\n",
       "      <th>1</th>\n",
       "      <td>1958-10-01</td>\n",
       "      <td>359</td>\n",
       "    </tr>\n",
       "    <tr>\n",
       "      <th>2</th>\n",
       "      <td>1958-11-01</td>\n",
       "      <td>310</td>\n",
       "    </tr>\n",
       "    <tr>\n",
       "      <th>3</th>\n",
       "      <td>1958-12-01</td>\n",
       "      <td>337</td>\n",
       "    </tr>\n",
       "    <tr>\n",
       "      <th>4</th>\n",
       "      <td>1959-01-01</td>\n",
       "      <td>360</td>\n",
       "    </tr>\n",
       "    <tr>\n",
       "      <th>5</th>\n",
       "      <td>1959-02-01</td>\n",
       "      <td>342</td>\n",
       "    </tr>\n",
       "    <tr>\n",
       "      <th>6</th>\n",
       "      <td>1959-03-01</td>\n",
       "      <td>406</td>\n",
       "    </tr>\n",
       "    <tr>\n",
       "      <th>7</th>\n",
       "      <td>1959-04-01</td>\n",
       "      <td>396</td>\n",
       "    </tr>\n",
       "    <tr>\n",
       "      <th>8</th>\n",
       "      <td>1959-05-01</td>\n",
       "      <td>420</td>\n",
       "    </tr>\n",
       "    <tr>\n",
       "      <th>9</th>\n",
       "      <td>1959-06-01</td>\n",
       "      <td>472</td>\n",
       "    </tr>\n",
       "    <tr>\n",
       "      <th>10</th>\n",
       "      <td>1959-07-01</td>\n",
       "      <td>548</td>\n",
       "    </tr>\n",
       "    <tr>\n",
       "      <th>11</th>\n",
       "      <td>1959-08-01</td>\n",
       "      <td>559</td>\n",
       "    </tr>\n",
       "    <tr>\n",
       "      <th>12</th>\n",
       "      <td>1959-09-01</td>\n",
       "      <td>463</td>\n",
       "    </tr>\n",
       "    <tr>\n",
       "      <th>13</th>\n",
       "      <td>1959-10-01</td>\n",
       "      <td>407</td>\n",
       "    </tr>\n",
       "    <tr>\n",
       "      <th>14</th>\n",
       "      <td>1959-11-01</td>\n",
       "      <td>362</td>\n",
       "    </tr>\n",
       "    <tr>\n",
       "      <th>15</th>\n",
       "      <td>1959-12-01</td>\n",
       "      <td>405</td>\n",
       "    </tr>\n",
       "    <tr>\n",
       "      <th>16</th>\n",
       "      <td>1960-01-01</td>\n",
       "      <td>417</td>\n",
       "    </tr>\n",
       "    <tr>\n",
       "      <th>17</th>\n",
       "      <td>1960-02-01</td>\n",
       "      <td>391</td>\n",
       "    </tr>\n",
       "    <tr>\n",
       "      <th>18</th>\n",
       "      <td>1960-03-01</td>\n",
       "      <td>419</td>\n",
       "    </tr>\n",
       "    <tr>\n",
       "      <th>19</th>\n",
       "      <td>1960-04-01</td>\n",
       "      <td>461</td>\n",
       "    </tr>\n",
       "    <tr>\n",
       "      <th>20</th>\n",
       "      <td>1960-05-01</td>\n",
       "      <td>472</td>\n",
       "    </tr>\n",
       "    <tr>\n",
       "      <th>21</th>\n",
       "      <td>1960-06-01</td>\n",
       "      <td>535</td>\n",
       "    </tr>\n",
       "    <tr>\n",
       "      <th>22</th>\n",
       "      <td>1960-07-01</td>\n",
       "      <td>622</td>\n",
       "    </tr>\n",
       "    <tr>\n",
       "      <th>23</th>\n",
       "      <td>1960-08-01</td>\n",
       "      <td>606</td>\n",
       "    </tr>\n",
       "    <tr>\n",
       "      <th>24</th>\n",
       "      <td>1960-09-01</td>\n",
       "      <td>508</td>\n",
       "    </tr>\n",
       "    <tr>\n",
       "      <th>25</th>\n",
       "      <td>1960-10-01</td>\n",
       "      <td>461</td>\n",
       "    </tr>\n",
       "    <tr>\n",
       "      <th>26</th>\n",
       "      <td>1960-11-01</td>\n",
       "      <td>390</td>\n",
       "    </tr>\n",
       "    <tr>\n",
       "      <th>27</th>\n",
       "      <td>1960-12-01</td>\n",
       "      <td>432</td>\n",
       "    </tr>\n",
       "  </tbody>\n",
       "</table>\n",
       "</div>"
      ],
      "text/plain": [
       "           ds    y\n",
       "0  1958-09-01  404\n",
       "1  1958-10-01  359\n",
       "2  1958-11-01  310\n",
       "3  1958-12-01  337\n",
       "4  1959-01-01  360\n",
       "5  1959-02-01  342\n",
       "6  1959-03-01  406\n",
       "7  1959-04-01  396\n",
       "8  1959-05-01  420\n",
       "9  1959-06-01  472\n",
       "10 1959-07-01  548\n",
       "11 1959-08-01  559\n",
       "12 1959-09-01  463\n",
       "13 1959-10-01  407\n",
       "14 1959-11-01  362\n",
       "15 1959-12-01  405\n",
       "16 1960-01-01  417\n",
       "17 1960-02-01  391\n",
       "18 1960-03-01  419\n",
       "19 1960-04-01  461\n",
       "20 1960-05-01  472\n",
       "21 1960-06-01  535\n",
       "22 1960-07-01  622\n",
       "23 1960-08-01  606\n",
       "24 1960-09-01  508\n",
       "25 1960-10-01  461\n",
       "26 1960-11-01  390\n",
       "27 1960-12-01  432"
      ]
     },
     "execution_count": 22,
     "metadata": {},
     "output_type": "execute_result"
    }
   ],
   "source": [
    "# Preprocessing untuk menggunakan Prophet model ini untuk df_test\n",
    "\n",
    "df_test.reset_index(inplace = True)\n",
    "df_test.rename(columns={'Month':'ds', '#Passengers':'y'}, inplace = True)\n",
    "    \n",
    "df_test"
   ]
  },
  {
   "cell_type": "code",
   "execution_count": 23,
   "id": "bcaeab31",
   "metadata": {
    "execution": {
     "iopub.execute_input": "2022-09-18T19:33:36.146891Z",
     "iopub.status.busy": "2022-09-18T19:33:36.146253Z",
     "iopub.status.idle": "2022-09-18T19:33:37.036689Z",
     "shell.execute_reply": "2022-09-18T19:33:37.035517Z"
    },
    "papermill": {
     "duration": 0.907091,
     "end_time": "2022-09-18T19:33:37.039451",
     "exception": false,
     "start_time": "2022-09-18T19:33:36.132360",
     "status": "completed"
    },
    "tags": []
   },
   "outputs": [],
   "source": [
    "# Kita panggil model FbProphetnya\n",
    "\n",
    "model = Prophet()"
   ]
  },
  {
   "cell_type": "code",
   "execution_count": 24,
   "id": "6acf3bcb",
   "metadata": {
    "execution": {
     "iopub.execute_input": "2022-09-18T19:33:37.066285Z",
     "iopub.status.busy": "2022-09-18T19:33:37.065910Z",
     "iopub.status.idle": "2022-09-18T19:33:37.195967Z",
     "shell.execute_reply": "2022-09-18T19:33:37.194836Z"
    },
    "papermill": {
     "duration": 0.146114,
     "end_time": "2022-09-18T19:33:37.198308",
     "exception": false,
     "start_time": "2022-09-18T19:33:37.052194",
     "status": "completed"
    },
    "tags": []
   },
   "outputs": [
    {
     "name": "stderr",
     "output_type": "stream",
     "text": [
      "19:33:37 - cmdstanpy - INFO - Chain [1] start processing\n",
      "19:33:37 - cmdstanpy - INFO - Chain [1] done processing\n"
     ]
    },
    {
     "data": {
      "text/plain": [
       "<prophet.forecaster.Prophet at 0x7f1a88d29350>"
      ]
     },
     "execution_count": 24,
     "metadata": {},
     "output_type": "execute_result"
    }
   ],
   "source": [
    "# Kita ingin melatih model machine learning kita\n",
    "model.fit(df_train)"
   ]
  },
  {
   "cell_type": "code",
   "execution_count": 25,
   "id": "e4b40da1",
   "metadata": {
    "execution": {
     "iopub.execute_input": "2022-09-18T19:33:37.226691Z",
     "iopub.status.busy": "2022-09-18T19:33:37.226223Z",
     "iopub.status.idle": "2022-09-18T19:33:37.866668Z",
     "shell.execute_reply": "2022-09-18T19:33:37.865615Z"
    },
    "papermill": {
     "duration": 0.657955,
     "end_time": "2022-09-18T19:33:37.869599",
     "exception": false,
     "start_time": "2022-09-18T19:33:37.211644",
     "status": "completed"
    },
    "tags": []
   },
   "outputs": [],
   "source": [
    "# Kita ingin memprediksi menggunakan model machine learning kita\n",
    "hasil_prediksi = model.predict(df_test)"
   ]
  },
  {
   "cell_type": "code",
   "execution_count": 26,
   "id": "135ecd5a",
   "metadata": {
    "execution": {
     "iopub.execute_input": "2022-09-18T19:33:37.897568Z",
     "iopub.status.busy": "2022-09-18T19:33:37.896807Z",
     "iopub.status.idle": "2022-09-18T19:33:37.934561Z",
     "shell.execute_reply": "2022-09-18T19:33:37.933718Z"
    },
    "papermill": {
     "duration": 0.054254,
     "end_time": "2022-09-18T19:33:37.936901",
     "exception": false,
     "start_time": "2022-09-18T19:33:37.882647",
     "status": "completed"
    },
    "tags": []
   },
   "outputs": [
    {
     "data": {
      "text/html": [
       "<div>\n",
       "<style scoped>\n",
       "    .dataframe tbody tr th:only-of-type {\n",
       "        vertical-align: middle;\n",
       "    }\n",
       "\n",
       "    .dataframe tbody tr th {\n",
       "        vertical-align: top;\n",
       "    }\n",
       "\n",
       "    .dataframe thead th {\n",
       "        text-align: right;\n",
       "    }\n",
       "</style>\n",
       "<table border=\"1\" class=\"dataframe\">\n",
       "  <thead>\n",
       "    <tr style=\"text-align: right;\">\n",
       "      <th></th>\n",
       "      <th>ds</th>\n",
       "      <th>trend</th>\n",
       "      <th>yhat_lower</th>\n",
       "      <th>yhat_upper</th>\n",
       "      <th>trend_lower</th>\n",
       "      <th>trend_upper</th>\n",
       "      <th>additive_terms</th>\n",
       "      <th>additive_terms_lower</th>\n",
       "      <th>additive_terms_upper</th>\n",
       "      <th>yearly</th>\n",
       "      <th>yearly_lower</th>\n",
       "      <th>yearly_upper</th>\n",
       "      <th>multiplicative_terms</th>\n",
       "      <th>multiplicative_terms_lower</th>\n",
       "      <th>multiplicative_terms_upper</th>\n",
       "      <th>yhat</th>\n",
       "    </tr>\n",
       "  </thead>\n",
       "  <tbody>\n",
       "    <tr>\n",
       "      <th>0</th>\n",
       "      <td>1958-09-01</td>\n",
       "      <td>407.830912</td>\n",
       "      <td>396.948076</td>\n",
       "      <td>444.849442</td>\n",
       "      <td>407.830912</td>\n",
       "      <td>407.833335</td>\n",
       "      <td>13.733482</td>\n",
       "      <td>13.733482</td>\n",
       "      <td>13.733482</td>\n",
       "      <td>13.733482</td>\n",
       "      <td>13.733482</td>\n",
       "      <td>13.733482</td>\n",
       "      <td>0.0</td>\n",
       "      <td>0.0</td>\n",
       "      <td>0.0</td>\n",
       "      <td>421.564394</td>\n",
       "    </tr>\n",
       "    <tr>\n",
       "      <th>1</th>\n",
       "      <td>1958-10-01</td>\n",
       "      <td>410.973425</td>\n",
       "      <td>367.134383</td>\n",
       "      <td>416.485664</td>\n",
       "      <td>410.954823</td>\n",
       "      <td>410.999875</td>\n",
       "      <td>-19.957543</td>\n",
       "      <td>-19.957543</td>\n",
       "      <td>-19.957543</td>\n",
       "      <td>-19.957543</td>\n",
       "      <td>-19.957543</td>\n",
       "      <td>-19.957543</td>\n",
       "      <td>0.0</td>\n",
       "      <td>0.0</td>\n",
       "      <td>0.0</td>\n",
       "      <td>391.015882</td>\n",
       "    </tr>\n",
       "    <tr>\n",
       "      <th>2</th>\n",
       "      <td>1958-11-01</td>\n",
       "      <td>414.220689</td>\n",
       "      <td>341.913646</td>\n",
       "      <td>386.779724</td>\n",
       "      <td>414.171714</td>\n",
       "      <td>414.286477</td>\n",
       "      <td>-49.242518</td>\n",
       "      <td>-49.242518</td>\n",
       "      <td>-49.242518</td>\n",
       "      <td>-49.242518</td>\n",
       "      <td>-49.242518</td>\n",
       "      <td>-49.242518</td>\n",
       "      <td>0.0</td>\n",
       "      <td>0.0</td>\n",
       "      <td>0.0</td>\n",
       "      <td>364.978172</td>\n",
       "    </tr>\n",
       "    <tr>\n",
       "      <th>3</th>\n",
       "      <td>1958-12-01</td>\n",
       "      <td>417.363203</td>\n",
       "      <td>368.803992</td>\n",
       "      <td>416.770997</td>\n",
       "      <td>417.270175</td>\n",
       "      <td>417.483231</td>\n",
       "      <td>-25.356628</td>\n",
       "      <td>-25.356628</td>\n",
       "      <td>-25.356628</td>\n",
       "      <td>-25.356628</td>\n",
       "      <td>-25.356628</td>\n",
       "      <td>-25.356628</td>\n",
       "      <td>0.0</td>\n",
       "      <td>0.0</td>\n",
       "      <td>0.0</td>\n",
       "      <td>392.006575</td>\n",
       "    </tr>\n",
       "    <tr>\n",
       "      <th>4</th>\n",
       "      <td>1959-01-01</td>\n",
       "      <td>420.610467</td>\n",
       "      <td>376.547264</td>\n",
       "      <td>420.421245</td>\n",
       "      <td>420.452855</td>\n",
       "      <td>420.802831</td>\n",
       "      <td>-21.547834</td>\n",
       "      <td>-21.547834</td>\n",
       "      <td>-21.547834</td>\n",
       "      <td>-21.547834</td>\n",
       "      <td>-21.547834</td>\n",
       "      <td>-21.547834</td>\n",
       "      <td>0.0</td>\n",
       "      <td>0.0</td>\n",
       "      <td>0.0</td>\n",
       "      <td>399.062633</td>\n",
       "    </tr>\n",
       "    <tr>\n",
       "      <th>5</th>\n",
       "      <td>1959-02-01</td>\n",
       "      <td>423.857731</td>\n",
       "      <td>375.170623</td>\n",
       "      <td>419.924882</td>\n",
       "      <td>423.644555</td>\n",
       "      <td>424.129877</td>\n",
       "      <td>-26.604196</td>\n",
       "      <td>-26.604196</td>\n",
       "      <td>-26.604196</td>\n",
       "      <td>-26.604196</td>\n",
       "      <td>-26.604196</td>\n",
       "      <td>-26.604196</td>\n",
       "      <td>0.0</td>\n",
       "      <td>0.0</td>\n",
       "      <td>0.0</td>\n",
       "      <td>397.253535</td>\n",
       "    </tr>\n",
       "    <tr>\n",
       "      <th>6</th>\n",
       "      <td>1959-03-01</td>\n",
       "      <td>426.790744</td>\n",
       "      <td>405.161916</td>\n",
       "      <td>452.046218</td>\n",
       "      <td>426.492625</td>\n",
       "      <td>427.147270</td>\n",
       "      <td>1.716052</td>\n",
       "      <td>1.716052</td>\n",
       "      <td>1.716052</td>\n",
       "      <td>1.716052</td>\n",
       "      <td>1.716052</td>\n",
       "      <td>1.716052</td>\n",
       "      <td>0.0</td>\n",
       "      <td>0.0</td>\n",
       "      <td>0.0</td>\n",
       "      <td>428.506796</td>\n",
       "    </tr>\n",
       "    <tr>\n",
       "      <th>7</th>\n",
       "      <td>1959-04-01</td>\n",
       "      <td>430.038008</td>\n",
       "      <td>400.804035</td>\n",
       "      <td>446.232972</td>\n",
       "      <td>429.662815</td>\n",
       "      <td>430.477683</td>\n",
       "      <td>-6.877089</td>\n",
       "      <td>-6.877089</td>\n",
       "      <td>-6.877089</td>\n",
       "      <td>-6.877089</td>\n",
       "      <td>-6.877089</td>\n",
       "      <td>-6.877089</td>\n",
       "      <td>0.0</td>\n",
       "      <td>0.0</td>\n",
       "      <td>0.0</td>\n",
       "      <td>423.160919</td>\n",
       "    </tr>\n",
       "    <tr>\n",
       "      <th>8</th>\n",
       "      <td>1959-05-01</td>\n",
       "      <td>433.180521</td>\n",
       "      <td>405.154694</td>\n",
       "      <td>451.446220</td>\n",
       "      <td>432.729028</td>\n",
       "      <td>433.710305</td>\n",
       "      <td>-4.673195</td>\n",
       "      <td>-4.673195</td>\n",
       "      <td>-4.673195</td>\n",
       "      <td>-4.673195</td>\n",
       "      <td>-4.673195</td>\n",
       "      <td>-4.673195</td>\n",
       "      <td>0.0</td>\n",
       "      <td>0.0</td>\n",
       "      <td>0.0</td>\n",
       "      <td>428.507326</td>\n",
       "    </tr>\n",
       "    <tr>\n",
       "      <th>9</th>\n",
       "      <td>1959-06-01</td>\n",
       "      <td>436.427785</td>\n",
       "      <td>438.219515</td>\n",
       "      <td>485.784884</td>\n",
       "      <td>435.877478</td>\n",
       "      <td>437.055729</td>\n",
       "      <td>25.797064</td>\n",
       "      <td>25.797064</td>\n",
       "      <td>25.797064</td>\n",
       "      <td>25.797064</td>\n",
       "      <td>25.797064</td>\n",
       "      <td>25.797064</td>\n",
       "      <td>0.0</td>\n",
       "      <td>0.0</td>\n",
       "      <td>0.0</td>\n",
       "      <td>462.224849</td>\n",
       "    </tr>\n",
       "    <tr>\n",
       "      <th>10</th>\n",
       "      <td>1959-07-01</td>\n",
       "      <td>439.570299</td>\n",
       "      <td>474.327820</td>\n",
       "      <td>520.235951</td>\n",
       "      <td>438.935708</td>\n",
       "      <td>440.312145</td>\n",
       "      <td>58.382090</td>\n",
       "      <td>58.382090</td>\n",
       "      <td>58.382090</td>\n",
       "      <td>58.382090</td>\n",
       "      <td>58.382090</td>\n",
       "      <td>58.382090</td>\n",
       "      <td>0.0</td>\n",
       "      <td>0.0</td>\n",
       "      <td>0.0</td>\n",
       "      <td>497.952389</td>\n",
       "    </tr>\n",
       "    <tr>\n",
       "      <th>11</th>\n",
       "      <td>1959-08-01</td>\n",
       "      <td>442.817563</td>\n",
       "      <td>471.992347</td>\n",
       "      <td>515.455314</td>\n",
       "      <td>442.091140</td>\n",
       "      <td>443.667930</td>\n",
       "      <td>51.638767</td>\n",
       "      <td>51.638767</td>\n",
       "      <td>51.638767</td>\n",
       "      <td>51.638767</td>\n",
       "      <td>51.638767</td>\n",
       "      <td>51.638767</td>\n",
       "      <td>0.0</td>\n",
       "      <td>0.0</td>\n",
       "      <td>0.0</td>\n",
       "      <td>494.456330</td>\n",
       "    </tr>\n",
       "    <tr>\n",
       "      <th>12</th>\n",
       "      <td>1959-09-01</td>\n",
       "      <td>446.064827</td>\n",
       "      <td>436.135939</td>\n",
       "      <td>482.995182</td>\n",
       "      <td>445.212636</td>\n",
       "      <td>447.030029</td>\n",
       "      <td>13.759161</td>\n",
       "      <td>13.759161</td>\n",
       "      <td>13.759161</td>\n",
       "      <td>13.759161</td>\n",
       "      <td>13.759161</td>\n",
       "      <td>13.759161</td>\n",
       "      <td>0.0</td>\n",
       "      <td>0.0</td>\n",
       "      <td>0.0</td>\n",
       "      <td>459.823988</td>\n",
       "    </tr>\n",
       "    <tr>\n",
       "      <th>13</th>\n",
       "      <td>1959-10-01</td>\n",
       "      <td>449.207340</td>\n",
       "      <td>406.912058</td>\n",
       "      <td>453.463164</td>\n",
       "      <td>448.265824</td>\n",
       "      <td>450.293376</td>\n",
       "      <td>-19.672208</td>\n",
       "      <td>-19.672208</td>\n",
       "      <td>-19.672208</td>\n",
       "      <td>-19.672208</td>\n",
       "      <td>-19.672208</td>\n",
       "      <td>-19.672208</td>\n",
       "      <td>0.0</td>\n",
       "      <td>0.0</td>\n",
       "      <td>0.0</td>\n",
       "      <td>429.535132</td>\n",
       "    </tr>\n",
       "    <tr>\n",
       "      <th>14</th>\n",
       "      <td>1959-11-01</td>\n",
       "      <td>452.454604</td>\n",
       "      <td>381.772365</td>\n",
       "      <td>426.094418</td>\n",
       "      <td>451.417107</td>\n",
       "      <td>453.660929</td>\n",
       "      <td>-48.933265</td>\n",
       "      <td>-48.933265</td>\n",
       "      <td>-48.933265</td>\n",
       "      <td>-48.933265</td>\n",
       "      <td>-48.933265</td>\n",
       "      <td>-48.933265</td>\n",
       "      <td>0.0</td>\n",
       "      <td>0.0</td>\n",
       "      <td>0.0</td>\n",
       "      <td>403.521340</td>\n",
       "    </tr>\n",
       "    <tr>\n",
       "      <th>15</th>\n",
       "      <td>1959-12-01</td>\n",
       "      <td>455.597118</td>\n",
       "      <td>407.974749</td>\n",
       "      <td>454.396657</td>\n",
       "      <td>454.461056</td>\n",
       "      <td>456.924181</td>\n",
       "      <td>-24.699936</td>\n",
       "      <td>-24.699936</td>\n",
       "      <td>-24.699936</td>\n",
       "      <td>-24.699936</td>\n",
       "      <td>-24.699936</td>\n",
       "      <td>-24.699936</td>\n",
       "      <td>0.0</td>\n",
       "      <td>0.0</td>\n",
       "      <td>0.0</td>\n",
       "      <td>430.897182</td>\n",
       "    </tr>\n",
       "    <tr>\n",
       "      <th>16</th>\n",
       "      <td>1960-01-01</td>\n",
       "      <td>458.844382</td>\n",
       "      <td>411.848450</td>\n",
       "      <td>457.864344</td>\n",
       "      <td>457.582229</td>\n",
       "      <td>460.286156</td>\n",
       "      <td>-22.447454</td>\n",
       "      <td>-22.447454</td>\n",
       "      <td>-22.447454</td>\n",
       "      <td>-22.447454</td>\n",
       "      <td>-22.447454</td>\n",
       "      <td>-22.447454</td>\n",
       "      <td>0.0</td>\n",
       "      <td>0.0</td>\n",
       "      <td>0.0</td>\n",
       "      <td>436.396928</td>\n",
       "    </tr>\n",
       "    <tr>\n",
       "      <th>17</th>\n",
       "      <td>1960-02-01</td>\n",
       "      <td>462.091646</td>\n",
       "      <td>413.936082</td>\n",
       "      <td>460.612104</td>\n",
       "      <td>460.716335</td>\n",
       "      <td>463.651804</td>\n",
       "      <td>-25.738954</td>\n",
       "      <td>-25.738954</td>\n",
       "      <td>-25.738954</td>\n",
       "      <td>-25.738954</td>\n",
       "      <td>-25.738954</td>\n",
       "      <td>-25.738954</td>\n",
       "      <td>0.0</td>\n",
       "      <td>0.0</td>\n",
       "      <td>0.0</td>\n",
       "      <td>436.352692</td>\n",
       "    </tr>\n",
       "    <tr>\n",
       "      <th>18</th>\n",
       "      <td>1960-03-01</td>\n",
       "      <td>465.129409</td>\n",
       "      <td>445.481011</td>\n",
       "      <td>494.433946</td>\n",
       "      <td>463.600561</td>\n",
       "      <td>466.810907</td>\n",
       "      <td>5.144037</td>\n",
       "      <td>5.144037</td>\n",
       "      <td>5.144037</td>\n",
       "      <td>5.144037</td>\n",
       "      <td>5.144037</td>\n",
       "      <td>5.144037</td>\n",
       "      <td>0.0</td>\n",
       "      <td>0.0</td>\n",
       "      <td>0.0</td>\n",
       "      <td>470.273446</td>\n",
       "    </tr>\n",
       "    <tr>\n",
       "      <th>19</th>\n",
       "      <td>1960-04-01</td>\n",
       "      <td>468.376673</td>\n",
       "      <td>439.515152</td>\n",
       "      <td>484.222440</td>\n",
       "      <td>466.716285</td>\n",
       "      <td>470.180033</td>\n",
       "      <td>-5.255275</td>\n",
       "      <td>-5.255275</td>\n",
       "      <td>-5.255275</td>\n",
       "      <td>-5.255275</td>\n",
       "      <td>-5.255275</td>\n",
       "      <td>-5.255275</td>\n",
       "      <td>0.0</td>\n",
       "      <td>0.0</td>\n",
       "      <td>0.0</td>\n",
       "      <td>463.121398</td>\n",
       "    </tr>\n",
       "    <tr>\n",
       "      <th>20</th>\n",
       "      <td>1960-05-01</td>\n",
       "      <td>471.519186</td>\n",
       "      <td>440.877304</td>\n",
       "      <td>486.102341</td>\n",
       "      <td>469.763067</td>\n",
       "      <td>473.479469</td>\n",
       "      <td>-8.094068</td>\n",
       "      <td>-8.094068</td>\n",
       "      <td>-8.094068</td>\n",
       "      <td>-8.094068</td>\n",
       "      <td>-8.094068</td>\n",
       "      <td>-8.094068</td>\n",
       "      <td>0.0</td>\n",
       "      <td>0.0</td>\n",
       "      <td>0.0</td>\n",
       "      <td>463.425119</td>\n",
       "    </tr>\n",
       "    <tr>\n",
       "      <th>21</th>\n",
       "      <td>1960-06-01</td>\n",
       "      <td>474.766450</td>\n",
       "      <td>479.709035</td>\n",
       "      <td>526.523104</td>\n",
       "      <td>472.928014</td>\n",
       "      <td>476.891892</td>\n",
       "      <td>28.794853</td>\n",
       "      <td>28.794853</td>\n",
       "      <td>28.794853</td>\n",
       "      <td>28.794853</td>\n",
       "      <td>28.794853</td>\n",
       "      <td>28.794853</td>\n",
       "      <td>0.0</td>\n",
       "      <td>0.0</td>\n",
       "      <td>0.0</td>\n",
       "      <td>503.561304</td>\n",
       "    </tr>\n",
       "    <tr>\n",
       "      <th>22</th>\n",
       "      <td>1960-07-01</td>\n",
       "      <td>477.908964</td>\n",
       "      <td>509.442844</td>\n",
       "      <td>553.455687</td>\n",
       "      <td>475.890026</td>\n",
       "      <td>480.201239</td>\n",
       "      <td>53.755874</td>\n",
       "      <td>53.755874</td>\n",
       "      <td>53.755874</td>\n",
       "      <td>53.755874</td>\n",
       "      <td>53.755874</td>\n",
       "      <td>53.755874</td>\n",
       "      <td>0.0</td>\n",
       "      <td>0.0</td>\n",
       "      <td>0.0</td>\n",
       "      <td>531.664838</td>\n",
       "    </tr>\n",
       "    <tr>\n",
       "      <th>23</th>\n",
       "      <td>1960-08-01</td>\n",
       "      <td>481.156228</td>\n",
       "      <td>514.813074</td>\n",
       "      <td>559.920483</td>\n",
       "      <td>478.991802</td>\n",
       "      <td>483.596396</td>\n",
       "      <td>55.577043</td>\n",
       "      <td>55.577043</td>\n",
       "      <td>55.577043</td>\n",
       "      <td>55.577043</td>\n",
       "      <td>55.577043</td>\n",
       "      <td>55.577043</td>\n",
       "      <td>0.0</td>\n",
       "      <td>0.0</td>\n",
       "      <td>0.0</td>\n",
       "      <td>536.733271</td>\n",
       "    </tr>\n",
       "    <tr>\n",
       "      <th>24</th>\n",
       "      <td>1960-09-01</td>\n",
       "      <td>484.403492</td>\n",
       "      <td>474.627517</td>\n",
       "      <td>520.799795</td>\n",
       "      <td>482.134513</td>\n",
       "      <td>486.992440</td>\n",
       "      <td>13.731557</td>\n",
       "      <td>13.731557</td>\n",
       "      <td>13.731557</td>\n",
       "      <td>13.731557</td>\n",
       "      <td>13.731557</td>\n",
       "      <td>13.731557</td>\n",
       "      <td>0.0</td>\n",
       "      <td>0.0</td>\n",
       "      <td>0.0</td>\n",
       "      <td>498.135049</td>\n",
       "    </tr>\n",
       "    <tr>\n",
       "      <th>25</th>\n",
       "      <td>1960-10-01</td>\n",
       "      <td>487.546006</td>\n",
       "      <td>445.082472</td>\n",
       "      <td>490.497371</td>\n",
       "      <td>485.100281</td>\n",
       "      <td>490.307918</td>\n",
       "      <td>-20.479301</td>\n",
       "      <td>-20.479301</td>\n",
       "      <td>-20.479301</td>\n",
       "      <td>-20.479301</td>\n",
       "      <td>-20.479301</td>\n",
       "      <td>-20.479301</td>\n",
       "      <td>0.0</td>\n",
       "      <td>0.0</td>\n",
       "      <td>0.0</td>\n",
       "      <td>467.066705</td>\n",
       "    </tr>\n",
       "    <tr>\n",
       "      <th>26</th>\n",
       "      <td>1960-11-01</td>\n",
       "      <td>490.793270</td>\n",
       "      <td>418.891074</td>\n",
       "      <td>465.951179</td>\n",
       "      <td>488.244914</td>\n",
       "      <td>493.775383</td>\n",
       "      <td>-49.801180</td>\n",
       "      <td>-49.801180</td>\n",
       "      <td>-49.801180</td>\n",
       "      <td>-49.801180</td>\n",
       "      <td>-49.801180</td>\n",
       "      <td>-49.801180</td>\n",
       "      <td>0.0</td>\n",
       "      <td>0.0</td>\n",
       "      <td>0.0</td>\n",
       "      <td>440.992089</td>\n",
       "    </tr>\n",
       "    <tr>\n",
       "      <th>27</th>\n",
       "      <td>1960-12-01</td>\n",
       "      <td>493.935783</td>\n",
       "      <td>444.751706</td>\n",
       "      <td>490.883091</td>\n",
       "      <td>491.264047</td>\n",
       "      <td>497.114311</td>\n",
       "      <td>-26.722632</td>\n",
       "      <td>-26.722632</td>\n",
       "      <td>-26.722632</td>\n",
       "      <td>-26.722632</td>\n",
       "      <td>-26.722632</td>\n",
       "      <td>-26.722632</td>\n",
       "      <td>0.0</td>\n",
       "      <td>0.0</td>\n",
       "      <td>0.0</td>\n",
       "      <td>467.213151</td>\n",
       "    </tr>\n",
       "  </tbody>\n",
       "</table>\n",
       "</div>"
      ],
      "text/plain": [
       "           ds       trend  yhat_lower  yhat_upper  trend_lower  trend_upper  \\\n",
       "0  1958-09-01  407.830912  396.948076  444.849442   407.830912   407.833335   \n",
       "1  1958-10-01  410.973425  367.134383  416.485664   410.954823   410.999875   \n",
       "2  1958-11-01  414.220689  341.913646  386.779724   414.171714   414.286477   \n",
       "3  1958-12-01  417.363203  368.803992  416.770997   417.270175   417.483231   \n",
       "4  1959-01-01  420.610467  376.547264  420.421245   420.452855   420.802831   \n",
       "5  1959-02-01  423.857731  375.170623  419.924882   423.644555   424.129877   \n",
       "6  1959-03-01  426.790744  405.161916  452.046218   426.492625   427.147270   \n",
       "7  1959-04-01  430.038008  400.804035  446.232972   429.662815   430.477683   \n",
       "8  1959-05-01  433.180521  405.154694  451.446220   432.729028   433.710305   \n",
       "9  1959-06-01  436.427785  438.219515  485.784884   435.877478   437.055729   \n",
       "10 1959-07-01  439.570299  474.327820  520.235951   438.935708   440.312145   \n",
       "11 1959-08-01  442.817563  471.992347  515.455314   442.091140   443.667930   \n",
       "12 1959-09-01  446.064827  436.135939  482.995182   445.212636   447.030029   \n",
       "13 1959-10-01  449.207340  406.912058  453.463164   448.265824   450.293376   \n",
       "14 1959-11-01  452.454604  381.772365  426.094418   451.417107   453.660929   \n",
       "15 1959-12-01  455.597118  407.974749  454.396657   454.461056   456.924181   \n",
       "16 1960-01-01  458.844382  411.848450  457.864344   457.582229   460.286156   \n",
       "17 1960-02-01  462.091646  413.936082  460.612104   460.716335   463.651804   \n",
       "18 1960-03-01  465.129409  445.481011  494.433946   463.600561   466.810907   \n",
       "19 1960-04-01  468.376673  439.515152  484.222440   466.716285   470.180033   \n",
       "20 1960-05-01  471.519186  440.877304  486.102341   469.763067   473.479469   \n",
       "21 1960-06-01  474.766450  479.709035  526.523104   472.928014   476.891892   \n",
       "22 1960-07-01  477.908964  509.442844  553.455687   475.890026   480.201239   \n",
       "23 1960-08-01  481.156228  514.813074  559.920483   478.991802   483.596396   \n",
       "24 1960-09-01  484.403492  474.627517  520.799795   482.134513   486.992440   \n",
       "25 1960-10-01  487.546006  445.082472  490.497371   485.100281   490.307918   \n",
       "26 1960-11-01  490.793270  418.891074  465.951179   488.244914   493.775383   \n",
       "27 1960-12-01  493.935783  444.751706  490.883091   491.264047   497.114311   \n",
       "\n",
       "    additive_terms  additive_terms_lower  additive_terms_upper     yearly  \\\n",
       "0        13.733482             13.733482             13.733482  13.733482   \n",
       "1       -19.957543            -19.957543            -19.957543 -19.957543   \n",
       "2       -49.242518            -49.242518            -49.242518 -49.242518   \n",
       "3       -25.356628            -25.356628            -25.356628 -25.356628   \n",
       "4       -21.547834            -21.547834            -21.547834 -21.547834   \n",
       "5       -26.604196            -26.604196            -26.604196 -26.604196   \n",
       "6         1.716052              1.716052              1.716052   1.716052   \n",
       "7        -6.877089             -6.877089             -6.877089  -6.877089   \n",
       "8        -4.673195             -4.673195             -4.673195  -4.673195   \n",
       "9        25.797064             25.797064             25.797064  25.797064   \n",
       "10       58.382090             58.382090             58.382090  58.382090   \n",
       "11       51.638767             51.638767             51.638767  51.638767   \n",
       "12       13.759161             13.759161             13.759161  13.759161   \n",
       "13      -19.672208            -19.672208            -19.672208 -19.672208   \n",
       "14      -48.933265            -48.933265            -48.933265 -48.933265   \n",
       "15      -24.699936            -24.699936            -24.699936 -24.699936   \n",
       "16      -22.447454            -22.447454            -22.447454 -22.447454   \n",
       "17      -25.738954            -25.738954            -25.738954 -25.738954   \n",
       "18        5.144037              5.144037              5.144037   5.144037   \n",
       "19       -5.255275             -5.255275             -5.255275  -5.255275   \n",
       "20       -8.094068             -8.094068             -8.094068  -8.094068   \n",
       "21       28.794853             28.794853             28.794853  28.794853   \n",
       "22       53.755874             53.755874             53.755874  53.755874   \n",
       "23       55.577043             55.577043             55.577043  55.577043   \n",
       "24       13.731557             13.731557             13.731557  13.731557   \n",
       "25      -20.479301            -20.479301            -20.479301 -20.479301   \n",
       "26      -49.801180            -49.801180            -49.801180 -49.801180   \n",
       "27      -26.722632            -26.722632            -26.722632 -26.722632   \n",
       "\n",
       "    yearly_lower  yearly_upper  multiplicative_terms  \\\n",
       "0      13.733482     13.733482                   0.0   \n",
       "1     -19.957543    -19.957543                   0.0   \n",
       "2     -49.242518    -49.242518                   0.0   \n",
       "3     -25.356628    -25.356628                   0.0   \n",
       "4     -21.547834    -21.547834                   0.0   \n",
       "5     -26.604196    -26.604196                   0.0   \n",
       "6       1.716052      1.716052                   0.0   \n",
       "7      -6.877089     -6.877089                   0.0   \n",
       "8      -4.673195     -4.673195                   0.0   \n",
       "9      25.797064     25.797064                   0.0   \n",
       "10     58.382090     58.382090                   0.0   \n",
       "11     51.638767     51.638767                   0.0   \n",
       "12     13.759161     13.759161                   0.0   \n",
       "13    -19.672208    -19.672208                   0.0   \n",
       "14    -48.933265    -48.933265                   0.0   \n",
       "15    -24.699936    -24.699936                   0.0   \n",
       "16    -22.447454    -22.447454                   0.0   \n",
       "17    -25.738954    -25.738954                   0.0   \n",
       "18      5.144037      5.144037                   0.0   \n",
       "19     -5.255275     -5.255275                   0.0   \n",
       "20     -8.094068     -8.094068                   0.0   \n",
       "21     28.794853     28.794853                   0.0   \n",
       "22     53.755874     53.755874                   0.0   \n",
       "23     55.577043     55.577043                   0.0   \n",
       "24     13.731557     13.731557                   0.0   \n",
       "25    -20.479301    -20.479301                   0.0   \n",
       "26    -49.801180    -49.801180                   0.0   \n",
       "27    -26.722632    -26.722632                   0.0   \n",
       "\n",
       "    multiplicative_terms_lower  multiplicative_terms_upper        yhat  \n",
       "0                          0.0                         0.0  421.564394  \n",
       "1                          0.0                         0.0  391.015882  \n",
       "2                          0.0                         0.0  364.978172  \n",
       "3                          0.0                         0.0  392.006575  \n",
       "4                          0.0                         0.0  399.062633  \n",
       "5                          0.0                         0.0  397.253535  \n",
       "6                          0.0                         0.0  428.506796  \n",
       "7                          0.0                         0.0  423.160919  \n",
       "8                          0.0                         0.0  428.507326  \n",
       "9                          0.0                         0.0  462.224849  \n",
       "10                         0.0                         0.0  497.952389  \n",
       "11                         0.0                         0.0  494.456330  \n",
       "12                         0.0                         0.0  459.823988  \n",
       "13                         0.0                         0.0  429.535132  \n",
       "14                         0.0                         0.0  403.521340  \n",
       "15                         0.0                         0.0  430.897182  \n",
       "16                         0.0                         0.0  436.396928  \n",
       "17                         0.0                         0.0  436.352692  \n",
       "18                         0.0                         0.0  470.273446  \n",
       "19                         0.0                         0.0  463.121398  \n",
       "20                         0.0                         0.0  463.425119  \n",
       "21                         0.0                         0.0  503.561304  \n",
       "22                         0.0                         0.0  531.664838  \n",
       "23                         0.0                         0.0  536.733271  \n",
       "24                         0.0                         0.0  498.135049  \n",
       "25                         0.0                         0.0  467.066705  \n",
       "26                         0.0                         0.0  440.992089  \n",
       "27                         0.0                         0.0  467.213151  "
      ]
     },
     "execution_count": 26,
     "metadata": {},
     "output_type": "execute_result"
    }
   ],
   "source": [
    "#Menampilkan hasil prediksi\n",
    "\n",
    "hasil_prediksi"
   ]
  },
  {
   "cell_type": "code",
   "execution_count": 27,
   "id": "3f2069da",
   "metadata": {
    "execution": {
     "iopub.execute_input": "2022-09-18T19:33:37.967238Z",
     "iopub.status.busy": "2022-09-18T19:33:37.966129Z",
     "iopub.status.idle": "2022-09-18T19:33:38.133056Z",
     "shell.execute_reply": "2022-09-18T19:33:38.131917Z"
    },
    "papermill": {
     "duration": 0.184492,
     "end_time": "2022-09-18T19:33:38.135725",
     "exception": false,
     "start_time": "2022-09-18T19:33:37.951233",
     "status": "completed"
    },
    "tags": []
   },
   "outputs": [],
   "source": [
    "from sklearn.metrics import mean_squared_error\n",
    "from sklearn.metrics import mean_absolute_error"
   ]
  },
  {
   "cell_type": "code",
   "execution_count": 28,
   "id": "c9e22c04",
   "metadata": {
    "execution": {
     "iopub.execute_input": "2022-09-18T19:33:38.167368Z",
     "iopub.status.busy": "2022-09-18T19:33:38.166013Z",
     "iopub.status.idle": "2022-09-18T19:33:38.171956Z",
     "shell.execute_reply": "2022-09-18T19:33:38.171158Z"
    },
    "papermill": {
     "duration": 0.023245,
     "end_time": "2022-09-18T19:33:38.174001",
     "exception": false,
     "start_time": "2022-09-18T19:33:38.150756",
     "status": "completed"
    },
    "tags": []
   },
   "outputs": [],
   "source": [
    "hasil_prediksi['yhat'] = hasil_prediksi['yhat'].astype(int)"
   ]
  },
  {
   "cell_type": "code",
   "execution_count": 29,
   "id": "a0f72ac6",
   "metadata": {
    "execution": {
     "iopub.execute_input": "2022-09-18T19:33:38.202862Z",
     "iopub.status.busy": "2022-09-18T19:33:38.202416Z",
     "iopub.status.idle": "2022-09-18T19:33:38.210475Z",
     "shell.execute_reply": "2022-09-18T19:33:38.209343Z"
    },
    "papermill": {
     "duration": 0.025184,
     "end_time": "2022-09-18T19:33:38.212806",
     "exception": false,
     "start_time": "2022-09-18T19:33:38.187622",
     "status": "completed"
    },
    "tags": []
   },
   "outputs": [
    {
     "data": {
      "text/plain": [
       "0     404\n",
       "1     359\n",
       "2     310\n",
       "3     337\n",
       "4     360\n",
       "5     342\n",
       "6     406\n",
       "7     396\n",
       "8     420\n",
       "9     472\n",
       "10    548\n",
       "11    559\n",
       "12    463\n",
       "13    407\n",
       "14    362\n",
       "15    405\n",
       "16    417\n",
       "17    391\n",
       "18    419\n",
       "19    461\n",
       "20    472\n",
       "21    535\n",
       "22    622\n",
       "23    606\n",
       "24    508\n",
       "25    461\n",
       "26    390\n",
       "27    432\n",
       "Name: y, dtype: int64"
      ]
     },
     "execution_count": 29,
     "metadata": {},
     "output_type": "execute_result"
    }
   ],
   "source": [
    "df_test['y']"
   ]
  },
  {
   "cell_type": "code",
   "execution_count": 30,
   "id": "84e6ba04",
   "metadata": {
    "execution": {
     "iopub.execute_input": "2022-09-18T19:33:38.243990Z",
     "iopub.status.busy": "2022-09-18T19:33:38.242867Z",
     "iopub.status.idle": "2022-09-18T19:33:38.250683Z",
     "shell.execute_reply": "2022-09-18T19:33:38.249680Z"
    },
    "papermill": {
     "duration": 0.026155,
     "end_time": "2022-09-18T19:33:38.253021",
     "exception": false,
     "start_time": "2022-09-18T19:33:38.226866",
     "status": "completed"
    },
    "tags": []
   },
   "outputs": [
    {
     "data": {
      "text/plain": [
       "0     421\n",
       "1     391\n",
       "2     364\n",
       "3     392\n",
       "4     399\n",
       "5     397\n",
       "6     428\n",
       "7     423\n",
       "8     428\n",
       "9     462\n",
       "10    497\n",
       "11    494\n",
       "12    459\n",
       "13    429\n",
       "14    403\n",
       "15    430\n",
       "16    436\n",
       "17    436\n",
       "18    470\n",
       "19    463\n",
       "20    463\n",
       "21    503\n",
       "22    531\n",
       "23    536\n",
       "24    498\n",
       "25    467\n",
       "26    440\n",
       "27    467\n",
       "Name: yhat, dtype: int64"
      ]
     },
     "execution_count": 30,
     "metadata": {},
     "output_type": "execute_result"
    }
   ],
   "source": [
    "hasil_prediksi['yhat']"
   ]
  },
  {
   "cell_type": "code",
   "execution_count": 31,
   "id": "e193f589",
   "metadata": {
    "execution": {
     "iopub.execute_input": "2022-09-18T19:33:38.283459Z",
     "iopub.status.busy": "2022-09-18T19:33:38.283004Z",
     "iopub.status.idle": "2022-09-18T19:33:38.291198Z",
     "shell.execute_reply": "2022-09-18T19:33:38.290038Z"
    },
    "papermill": {
     "duration": 0.026004,
     "end_time": "2022-09-18T19:33:38.293399",
     "exception": false,
     "start_time": "2022-09-18T19:33:38.267395",
     "status": "completed"
    },
    "tags": []
   },
   "outputs": [
    {
     "data": {
      "text/plain": [
       "1640.9642857142858"
      ]
     },
     "execution_count": 31,
     "metadata": {},
     "output_type": "execute_result"
    }
   ],
   "source": [
    "mean_squared_error(df_test['y'], hasil_prediksi['yhat'])"
   ]
  },
  {
   "cell_type": "code",
   "execution_count": 32,
   "id": "9d24e0e9",
   "metadata": {
    "execution": {
     "iopub.execute_input": "2022-09-18T19:33:38.324217Z",
     "iopub.status.busy": "2022-09-18T19:33:38.323480Z",
     "iopub.status.idle": "2022-09-18T19:33:38.331770Z",
     "shell.execute_reply": "2022-09-18T19:33:38.330529Z"
    },
    "papermill": {
     "duration": 0.026283,
     "end_time": "2022-09-18T19:33:38.334209",
     "exception": false,
     "start_time": "2022-09-18T19:33:38.307926",
     "status": "completed"
    },
    "tags": []
   },
   "outputs": [
    {
     "data": {
      "text/plain": [
       "33.82142857142857"
      ]
     },
     "execution_count": 32,
     "metadata": {},
     "output_type": "execute_result"
    }
   ],
   "source": [
    "mean_absolute_error(df_test['y'], hasil_prediksi['yhat'])"
   ]
  },
  {
   "cell_type": "code",
   "execution_count": 33,
   "id": "f85e7e55",
   "metadata": {
    "execution": {
     "iopub.execute_input": "2022-09-18T19:33:38.365811Z",
     "iopub.status.busy": "2022-09-18T19:33:38.365366Z",
     "iopub.status.idle": "2022-09-18T19:33:38.655877Z",
     "shell.execute_reply": "2022-09-18T19:33:38.654575Z"
    },
    "papermill": {
     "duration": 0.309423,
     "end_time": "2022-09-18T19:33:38.658381",
     "exception": false,
     "start_time": "2022-09-18T19:33:38.348958",
     "status": "completed"
    },
    "tags": []
   },
   "outputs": [
    {
     "data": {
      "image/png": "[encoded data removed]",
      "text/plain": [
       "<Figure size 1080x360 with 1 Axes>"
      ]
     },
     "metadata": {
      "needs_background": "light"
     },
     "output_type": "display_data"
    }
   ],
   "source": [
    "# Visualisai hasil prediksi machine learning\n",
    "\n",
    "f, ax = plt.subplots(1)\n",
    "f.set_figheight(5)\n",
    "f.set_figwidth(15)\n",
    "fig = model.plot(hasil_prediksi,\n",
    "                 ax=ax)\n",
    "plt.show()"
   ]
  },
  {
   "cell_type": "code",
   "execution_count": 34,
   "id": "3b3a716e",
   "metadata": {
    "execution": {
     "iopub.execute_input": "2022-09-18T19:33:38.691073Z",
     "iopub.status.busy": "2022-09-18T19:33:38.690585Z",
     "iopub.status.idle": "2022-09-18T19:33:39.015013Z",
     "shell.execute_reply": "2022-09-18T19:33:39.013710Z"
    },
    "papermill": {
     "duration": 0.344198,
     "end_time": "2022-09-18T19:33:39.017755",
     "exception": false,
     "start_time": "2022-09-18T19:33:38.673557",
     "status": "completed"
    },
    "tags": []
   },
   "outputs": [
    {
     "data": {
      "image/png": "[encoded data removed]",
      "text/plain": [
       "<Figure size 1080x360 with 1 Axes>"
      ]
     },
     "metadata": {
      "needs_background": "light"
     },
     "output_type": "display_data"
    }
   ],
   "source": [
    "# Visualisasi perbandingan antara hasil prediksi machine learning dengan data yang asli\n",
    "f, ax = plt.subplots(1)\n",
    "f.set_figheight(5)\n",
    "f.set_figwidth(15)\n",
    "ax.plot(df_test['ds'], df_test['y'], color='r')\n",
    "fig = model.plot(hasil_prediksi, ax=ax)"
   ]
  },
  {
   "cell_type": "code",
   "execution_count": 35,
   "id": "962f7f9b",
   "metadata": {
    "execution": {
     "iopub.execute_input": "2022-09-18T19:33:39.052913Z",
     "iopub.status.busy": "2022-09-18T19:33:39.052467Z",
     "iopub.status.idle": "2022-09-18T19:33:39.059400Z",
     "shell.execute_reply": "2022-09-18T19:33:39.058192Z"
    },
    "papermill": {
     "duration": 0.027458,
     "end_time": "2022-09-18T19:33:39.062137",
     "exception": false,
     "start_time": "2022-09-18T19:33:39.034679",
     "status": "completed"
    },
    "tags": []
   },
   "outputs": [],
   "source": [
    "# Kita perlu ngebuat dataframe baru\n",
    "prediksi_tahun_berikutnya = pd.DataFrame(columns=['ds', 'y'])"
   ]
  },
  {
   "cell_type": "code",
   "execution_count": 36,
   "id": "1b877fef",
   "metadata": {
    "execution": {
     "iopub.execute_input": "2022-09-18T19:33:39.095292Z",
     "iopub.status.busy": "2022-09-18T19:33:39.094872Z",
     "iopub.status.idle": "2022-09-18T19:33:39.101510Z",
     "shell.execute_reply": "2022-09-18T19:33:39.100678Z"
    },
    "papermill": {
     "duration": 0.025659,
     "end_time": "2022-09-18T19:33:39.103721",
     "exception": false,
     "start_time": "2022-09-18T19:33:39.078062",
     "status": "completed"
    },
    "tags": []
   },
   "outputs": [],
   "source": [
    "# Masukan tanggal yang kita inginkan untuk diprediksi\n",
    "\n",
    "prediksi_tahun_berikutnya['ds'] = pd.date_range(start='1961-01-01', periods=12, freq='MS')"
   ]
  },
  {
   "cell_type": "code",
   "execution_count": 37,
   "id": "d56a1c74",
   "metadata": {
    "execution": {
     "iopub.execute_input": "2022-09-18T19:33:39.136461Z",
     "iopub.status.busy": "2022-09-18T19:33:39.136050Z",
     "iopub.status.idle": "2022-09-18T19:33:39.146745Z",
     "shell.execute_reply": "2022-09-18T19:33:39.145696Z"
    },
    "papermill": {
     "duration": 0.029797,
     "end_time": "2022-09-18T19:33:39.149128",
     "exception": false,
     "start_time": "2022-09-18T19:33:39.119331",
     "status": "completed"
    },
    "tags": []
   },
   "outputs": [
    {
     "data": {
      "text/html": [
       "<div>\n",
       "<style scoped>\n",
       "    .dataframe tbody tr th:only-of-type {\n",
       "        vertical-align: middle;\n",
       "    }\n",
       "\n",
       "    .dataframe tbody tr th {\n",
       "        vertical-align: top;\n",
       "    }\n",
       "\n",
       "    .dataframe thead th {\n",
       "        text-align: right;\n",
       "    }\n",
       "</style>\n",
       "<table border=\"1\" class=\"dataframe\">\n",
       "  <thead>\n",
       "    <tr style=\"text-align: right;\">\n",
       "      <th></th>\n",
       "      <th>ds</th>\n",
       "      <th>y</th>\n",
       "    </tr>\n",
       "  </thead>\n",
       "  <tbody>\n",
       "    <tr>\n",
       "      <th>0</th>\n",
       "      <td>1961-01-01</td>\n",
       "      <td>NaN</td>\n",
       "    </tr>\n",
       "    <tr>\n",
       "      <th>1</th>\n",
       "      <td>1961-02-01</td>\n",
       "      <td>NaN</td>\n",
       "    </tr>\n",
       "    <tr>\n",
       "      <th>2</th>\n",
       "      <td>1961-03-01</td>\n",
       "      <td>NaN</td>\n",
       "    </tr>\n",
       "    <tr>\n",
       "      <th>3</th>\n",
       "      <td>1961-04-01</td>\n",
       "      <td>NaN</td>\n",
       "    </tr>\n",
       "    <tr>\n",
       "      <th>4</th>\n",
       "      <td>1961-05-01</td>\n",
       "      <td>NaN</td>\n",
       "    </tr>\n",
       "    <tr>\n",
       "      <th>5</th>\n",
       "      <td>1961-06-01</td>\n",
       "      <td>NaN</td>\n",
       "    </tr>\n",
       "    <tr>\n",
       "      <th>6</th>\n",
       "      <td>1961-07-01</td>\n",
       "      <td>NaN</td>\n",
       "    </tr>\n",
       "    <tr>\n",
       "      <th>7</th>\n",
       "      <td>1961-08-01</td>\n",
       "      <td>NaN</td>\n",
       "    </tr>\n",
       "    <tr>\n",
       "      <th>8</th>\n",
       "      <td>1961-09-01</td>\n",
       "      <td>NaN</td>\n",
       "    </tr>\n",
       "    <tr>\n",
       "      <th>9</th>\n",
       "      <td>1961-10-01</td>\n",
       "      <td>NaN</td>\n",
       "    </tr>\n",
       "    <tr>\n",
       "      <th>10</th>\n",
       "      <td>1961-11-01</td>\n",
       "      <td>NaN</td>\n",
       "    </tr>\n",
       "    <tr>\n",
       "      <th>11</th>\n",
       "      <td>1961-12-01</td>\n",
       "      <td>NaN</td>\n",
       "    </tr>\n",
       "  </tbody>\n",
       "</table>\n",
       "</div>"
      ],
      "text/plain": [
       "           ds    y\n",
       "0  1961-01-01  NaN\n",
       "1  1961-02-01  NaN\n",
       "2  1961-03-01  NaN\n",
       "3  1961-04-01  NaN\n",
       "4  1961-05-01  NaN\n",
       "5  1961-06-01  NaN\n",
       "6  1961-07-01  NaN\n",
       "7  1961-08-01  NaN\n",
       "8  1961-09-01  NaN\n",
       "9  1961-10-01  NaN\n",
       "10 1961-11-01  NaN\n",
       "11 1961-12-01  NaN"
      ]
     },
     "execution_count": 37,
     "metadata": {},
     "output_type": "execute_result"
    }
   ],
   "source": [
    "prediksi_tahun_berikutnya"
   ]
  },
  {
   "cell_type": "code",
   "execution_count": null,
   "id": "b4f7eb61",
   "metadata": {
    "papermill": {
     "duration": 0.015103,
     "end_time": "2022-09-18T19:33:39.179667",
     "exception": false,
     "start_time": "2022-09-18T19:33:39.164564",
     "status": "completed"
    },
    "tags": []
   },
   "outputs": [],
   "source": []
  },
  {
   "cell_type": "code",
   "execution_count": 38,
   "id": "19140d45",
   "metadata": {
    "execution": {
     "iopub.execute_input": "2022-09-18T19:33:39.213024Z",
     "iopub.status.busy": "2022-09-18T19:33:39.211759Z",
     "iopub.status.idle": "2022-09-18T19:33:39.779607Z",
     "shell.execute_reply": "2022-09-18T19:33:39.778364Z"
    },
    "papermill": {
     "duration": 0.587129,
     "end_time": "2022-09-18T19:33:39.782232",
     "exception": false,
     "start_time": "2022-09-18T19:33:39.195103",
     "status": "completed"
    },
    "tags": []
   },
   "outputs": [],
   "source": [
    "hasil_prediksi_satu_tahun_kedepan = model.predict(prediksi_tahun_berikutnya)"
   ]
  },
  {
   "cell_type": "code",
   "execution_count": 39,
   "id": "5e88cae6",
   "metadata": {
    "execution": {
     "iopub.execute_input": "2022-09-18T19:33:39.817895Z",
     "iopub.status.busy": "2022-09-18T19:33:39.816766Z",
     "iopub.status.idle": "2022-09-18T19:33:40.121274Z",
     "shell.execute_reply": "2022-09-18T19:33:40.120017Z"
    },
    "papermill": {
     "duration": 0.324387,
     "end_time": "2022-09-18T19:33:40.123790",
     "exception": false,
     "start_time": "2022-09-18T19:33:39.799403",
     "status": "completed"
    },
    "tags": []
   },
   "outputs": [
    {
     "data": {
      "image/png": "[encoded data removed]",
      "text/plain": [
       "<Figure size 1080x360 with 1 Axes>"
      ]
     },
     "metadata": {
      "needs_background": "light"
     },
     "output_type": "display_data"
    }
   ],
   "source": [
    "# Visualisai hasil prediksi machine learning\n",
    "\n",
    "f, ax = plt.subplots(1)\n",
    "f.set_figheight(5)\n",
    "f.set_figwidth(15)\n",
    "ax.plot(df_test['ds'], df_test['y'], color='r')\n",
    "fig = model.plot(hasil_prediksi_satu_tahun_kedepan,\n",
    "                 ax=ax)\n",
    "fig = plt.suptitle(\"Prediksi Penumpang Satu Tahun Kedepan\")\n",
    "plt.show()"
   ]
  }
 ],
 "metadata": {
  "kernelspec": {
   "display_name": "Python 3",
   "language": "python",
   "name": "python3"
  },
  "language_info": {
   "codemirror_mode": {
    "name": "ipython",
    "version": 3
   },
   "file_extension": ".py",
   "mimetype": "text/x-python",
   "name": "python",
   "nbconvert_exporter": "python",
   "pygments_lexer": "ipython3",
   "version": "3.7.12"
  },
  "papermill": {
   "default_parameters": {},
   "duration": 16.10773,
   "end_time": "2022-09-18T19:33:40.963901",
   "environment_variables": {},
   "exception": null,
   "input_path": "__notebook__.ipynb",
   "output_path": "__notebook__.ipynb",
   "parameters": {},
   "start_time": "2022-09-18T19:33:24.856171",
   "version": "2.3.4"
  }
 },
 "nbformat": 4,
 "nbformat_minor": 5
}
