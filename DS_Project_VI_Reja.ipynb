{
  "nbformat": 4,
  "nbformat_minor": 0,
  "metadata": {
    "colab": {
      "provenance": [],
      "collapsed_sections": [],
      "authorship_tag": "ABX9TyOqwUIvlqMVwqT7J3ieR+ON",
      "include_colab_link": true
    },
    "kernelspec": {
      "name": "python3",
      "display_name": "Python 3"
    },
    "language_info": {
      "name": "python"
    }
  },
  "cells": [
    {
      "cell_type": "markdown",
      "metadata": {
        "id": "view-in-github",
        "colab_type": "text"
      },
      "source": [
        "<a href=\"https://colab.research.google.com/github/rejahub/My-Projects/blob/main/DS_Project_VI_Reja.ipynb\" target=\"_parent\"><img src=\"https://colab.research.google.com/assets/colab-badge.svg\" alt=\"Open In Colab\"/></a>"
      ]
    },
    {
      "cell_type": "markdown",
      "source": [
        "#Import Library"
      ],
      "metadata": {
        "id": "fr17K_tDml-6"
      }
    },
    {
      "cell_type": "code",
      "execution_count": 47,
      "metadata": {
        "id": "Hz_aB1x0lcLy"
      },
      "outputs": [],
      "source": [
        "import os\n",
        "import sys\n",
        "import pandas as pd\n",
        "import numpy as np\n",
        "import seaborn as sns\n",
        "import matplotlib.pyplot as plt"
      ]
    },
    {
      "cell_type": "markdown",
      "source": [
        "#Load Data"
      ],
      "metadata": {
        "id": "X8FfKrHFm9o5"
      }
    },
    {
      "cell_type": "code",
      "source": [
        "from google.colab import drive\n",
        "drive.mount('/content/drive')"
      ],
      "metadata": {
        "colab": {
          "base_uri": "https://localhost:8080/"
        },
        "id": "fH7Fvowsmy67",
        "outputId": "4c9a6622-f2f7-4868-f75b-cc1dbfaa0521"
      },
      "execution_count": 2,
      "outputs": [
        {
          "output_type": "stream",
          "name": "stdout",
          "text": [
            "Mounted at /content/drive\n"
          ]
        }
      ]
    },
    {
      "cell_type": "code",
      "source": [
        "import os\n",
        "myDirFiles = '/content/drive/MyDrive/Colab Notebooks/Digital Skola/My Project/Project VI'\n",
        "os.chdir(myDirFiles)"
      ],
      "metadata": {
        "id": "nduwwGDwnF0a"
      },
      "execution_count": 3,
      "outputs": []
    },
    {
      "cell_type": "code",
      "source": [
        "df = pd.read_csv('/content/drive/MyDrive/Colab Notebooks/Digital Skola/My Project/Project VI/clustering_guide.zip (Unzipped Files)/data/customer-segmentation.csv')\n",
        "df.head()"
      ],
      "metadata": {
        "colab": {
          "base_uri": "https://localhost:8080/",
          "height": 600
        },
        "id": "Cz4C-ptbnLiw",
        "outputId": "a89fc2d5-2c35-4493-d972-e30fa734e5e4"
      },
      "execution_count": 8,
      "outputs": [
        {
          "output_type": "execute_result",
          "data": {
            "text/plain": [
              "   Row ID        Order ID  Order Date   Ship Date       Ship Mode Customer ID  \\\n",
              "0       1  CA-2017-152156  08/11/2017  11/11/2017    Second Class    CG-12520   \n",
              "1       2  CA-2017-152156  08/11/2017  11/11/2017    Second Class    CG-12520   \n",
              "2       3  CA-2017-138688  12/06/2017  16/06/2017    Second Class    DV-13045   \n",
              "3       4  US-2016-108966  11/10/2016  18/10/2016  Standard Class    SO-20335   \n",
              "4       5  US-2016-108966  11/10/2016  18/10/2016  Standard Class    SO-20335   \n",
              "\n",
              "     Customer Name    Segment        Country             City       State  \\\n",
              "0      Claire Gute   Consumer  United States        Henderson    Kentucky   \n",
              "1      Claire Gute   Consumer  United States        Henderson    Kentucky   \n",
              "2  Darrin Van Huff  Corporate  United States      Los Angeles  California   \n",
              "3   Sean O'Donnell   Consumer  United States  Fort Lauderdale     Florida   \n",
              "4   Sean O'Donnell   Consumer  United States  Fort Lauderdale     Florida   \n",
              "\n",
              "   Postal Code Region       Product ID         Category Sub-Category  \\\n",
              "0      42420.0  South  FUR-BO-10001798        Furniture    Bookcases   \n",
              "1      42420.0  South  FUR-CH-10000454        Furniture       Chairs   \n",
              "2      90036.0   West  OFF-LA-10000240  Office Supplies       Labels   \n",
              "3      33311.0  South  FUR-TA-10000577        Furniture       Tables   \n",
              "4      33311.0  South  OFF-ST-10000760  Office Supplies      Storage   \n",
              "\n",
              "                                        Product Name     Sales  \n",
              "0                  Bush Somerset Collection Bookcase  261.9600  \n",
              "1  Hon Deluxe Fabric Upholstered Stacking Chairs,...  731.9400  \n",
              "2  Self-Adhesive Address Labels for Typewriters b...   14.6200  \n",
              "3      Bretford CR4500 Series Slim Rectangular Table  957.5775  \n",
              "4                     Eldon Fold 'N Roll Cart System   22.3680  "
            ],
            "text/html": [
              "\n",
              "  <div id=\"df-4a1d4fdf-f0ce-430d-aec9-c47d6b295327\">\n",
              "    <div class=\"colab-df-container\">\n",
              "      <div>\n",
              "<style scoped>\n",
              "    .dataframe tbody tr th:only-of-type {\n",
              "        vertical-align: middle;\n",
              "    }\n",
              "\n",
              "    .dataframe tbody tr th {\n",
              "        vertical-align: top;\n",
              "    }\n",
              "\n",
              "    .dataframe thead th {\n",
              "        text-align: right;\n",
              "    }\n",
              "</style>\n",
              "<table border=\"1\" class=\"dataframe\">\n",
              "  <thead>\n",
              "    <tr style=\"text-align: right;\">\n",
              "      <th></th>\n",
              "      <th>Row ID</th>\n",
              "      <th>Order ID</th>\n",
              "      <th>Order Date</th>\n",
              "      <th>Ship Date</th>\n",
              "      <th>Ship Mode</th>\n",
              "      <th>Customer ID</th>\n",
              "      <th>Customer Name</th>\n",
              "      <th>Segment</th>\n",
              "      <th>Country</th>\n",
              "      <th>City</th>\n",
              "      <th>State</th>\n",
              "      <th>Postal Code</th>\n",
              "      <th>Region</th>\n",
              "      <th>Product ID</th>\n",
              "      <th>Category</th>\n",
              "      <th>Sub-Category</th>\n",
              "      <th>Product Name</th>\n",
              "      <th>Sales</th>\n",
              "    </tr>\n",
              "  </thead>\n",
              "  <tbody>\n",
              "    <tr>\n",
              "      <th>0</th>\n",
              "      <td>1</td>\n",
              "      <td>CA-2017-152156</td>\n",
              "      <td>08/11/2017</td>\n",
              "      <td>11/11/2017</td>\n",
              "      <td>Second Class</td>\n",
              "      <td>CG-12520</td>\n",
              "      <td>Claire Gute</td>\n",
              "      <td>Consumer</td>\n",
              "      <td>United States</td>\n",
              "      <td>Henderson</td>\n",
              "      <td>Kentucky</td>\n",
              "      <td>42420.0</td>\n",
              "      <td>South</td>\n",
              "      <td>FUR-BO-10001798</td>\n",
              "      <td>Furniture</td>\n",
              "      <td>Bookcases</td>\n",
              "      <td>Bush Somerset Collection Bookcase</td>\n",
              "      <td>261.9600</td>\n",
              "    </tr>\n",
              "    <tr>\n",
              "      <th>1</th>\n",
              "      <td>2</td>\n",
              "      <td>CA-2017-152156</td>\n",
              "      <td>08/11/2017</td>\n",
              "      <td>11/11/2017</td>\n",
              "      <td>Second Class</td>\n",
              "      <td>CG-12520</td>\n",
              "      <td>Claire Gute</td>\n",
              "      <td>Consumer</td>\n",
              "      <td>United States</td>\n",
              "      <td>Henderson</td>\n",
              "      <td>Kentucky</td>\n",
              "      <td>42420.0</td>\n",
              "      <td>South</td>\n",
              "      <td>FUR-CH-10000454</td>\n",
              "      <td>Furniture</td>\n",
              "      <td>Chairs</td>\n",
              "      <td>Hon Deluxe Fabric Upholstered Stacking Chairs,...</td>\n",
              "      <td>731.9400</td>\n",
              "    </tr>\n",
              "    <tr>\n",
              "      <th>2</th>\n",
              "      <td>3</td>\n",
              "      <td>CA-2017-138688</td>\n",
              "      <td>12/06/2017</td>\n",
              "      <td>16/06/2017</td>\n",
              "      <td>Second Class</td>\n",
              "      <td>DV-13045</td>\n",
              "      <td>Darrin Van Huff</td>\n",
              "      <td>Corporate</td>\n",
              "      <td>United States</td>\n",
              "      <td>Los Angeles</td>\n",
              "      <td>California</td>\n",
              "      <td>90036.0</td>\n",
              "      <td>West</td>\n",
              "      <td>OFF-LA-10000240</td>\n",
              "      <td>Office Supplies</td>\n",
              "      <td>Labels</td>\n",
              "      <td>Self-Adhesive Address Labels for Typewriters b...</td>\n",
              "      <td>14.6200</td>\n",
              "    </tr>\n",
              "    <tr>\n",
              "      <th>3</th>\n",
              "      <td>4</td>\n",
              "      <td>US-2016-108966</td>\n",
              "      <td>11/10/2016</td>\n",
              "      <td>18/10/2016</td>\n",
              "      <td>Standard Class</td>\n",
              "      <td>SO-20335</td>\n",
              "      <td>Sean O'Donnell</td>\n",
              "      <td>Consumer</td>\n",
              "      <td>United States</td>\n",
              "      <td>Fort Lauderdale</td>\n",
              "      <td>Florida</td>\n",
              "      <td>33311.0</td>\n",
              "      <td>South</td>\n",
              "      <td>FUR-TA-10000577</td>\n",
              "      <td>Furniture</td>\n",
              "      <td>Tables</td>\n",
              "      <td>Bretford CR4500 Series Slim Rectangular Table</td>\n",
              "      <td>957.5775</td>\n",
              "    </tr>\n",
              "    <tr>\n",
              "      <th>4</th>\n",
              "      <td>5</td>\n",
              "      <td>US-2016-108966</td>\n",
              "      <td>11/10/2016</td>\n",
              "      <td>18/10/2016</td>\n",
              "      <td>Standard Class</td>\n",
              "      <td>SO-20335</td>\n",
              "      <td>Sean O'Donnell</td>\n",
              "      <td>Consumer</td>\n",
              "      <td>United States</td>\n",
              "      <td>Fort Lauderdale</td>\n",
              "      <td>Florida</td>\n",
              "      <td>33311.0</td>\n",
              "      <td>South</td>\n",
              "      <td>OFF-ST-10000760</td>\n",
              "      <td>Office Supplies</td>\n",
              "      <td>Storage</td>\n",
              "      <td>Eldon Fold 'N Roll Cart System</td>\n",
              "      <td>22.3680</td>\n",
              "    </tr>\n",
              "  </tbody>\n",
              "</table>\n",
              "</div>\n",
              "      <button class=\"colab-df-convert\" onclick=\"convertToInteractive('df-4a1d4fdf-f0ce-430d-aec9-c47d6b295327')\"\n",
              "              title=\"Convert this dataframe to an interactive table.\"\n",
              "              style=\"display:none;\">\n",
              "        \n",
              "  <svg xmlns=\"http://www.w3.org/2000/svg\" height=\"24px\"viewBox=\"0 0 24 24\"\n",
              "       width=\"24px\">\n",
              "    <path d=\"M0 0h24v24H0V0z\" fill=\"none\"/>\n",
              "    <path d=\"M18.56 5.44l.94 2.06.94-2.06 2.06-.94-2.06-.94-.94-2.06-.94 2.06-2.06.94zm-11 1L8.5 8.5l.94-2.06 2.06-.94-2.06-.94L8.5 2.5l-.94 2.06-2.06.94zm10 10l.94 2.06.94-2.06 2.06-.94-2.06-.94-.94-2.06-.94 2.06-2.06.94z\"/><path d=\"M17.41 7.96l-1.37-1.37c-.4-.4-.92-.59-1.43-.59-.52 0-1.04.2-1.43.59L10.3 9.45l-7.72 7.72c-.78.78-.78 2.05 0 2.83L4 21.41c.39.39.9.59 1.41.59.51 0 1.02-.2 1.41-.59l7.78-7.78 2.81-2.81c.8-.78.8-2.07 0-2.86zM5.41 20L4 18.59l7.72-7.72 1.47 1.35L5.41 20z\"/>\n",
              "  </svg>\n",
              "      </button>\n",
              "      \n",
              "  <style>\n",
              "    .colab-df-container {\n",
              "      display:flex;\n",
              "      flex-wrap:wrap;\n",
              "      gap: 12px;\n",
              "    }\n",
              "\n",
              "    .colab-df-convert {\n",
              "      background-color: #E8F0FE;\n",
              "      border: none;\n",
              "      border-radius: 50%;\n",
              "      cursor: pointer;\n",
              "      display: none;\n",
              "      fill: #1967D2;\n",
              "      height: 32px;\n",
              "      padding: 0 0 0 0;\n",
              "      width: 32px;\n",
              "    }\n",
              "\n",
              "    .colab-df-convert:hover {\n",
              "      background-color: #E2EBFA;\n",
              "      box-shadow: 0px 1px 2px rgba(60, 64, 67, 0.3), 0px 1px 3px 1px rgba(60, 64, 67, 0.15);\n",
              "      fill: #174EA6;\n",
              "    }\n",
              "\n",
              "    [theme=dark] .colab-df-convert {\n",
              "      background-color: #3B4455;\n",
              "      fill: #D2E3FC;\n",
              "    }\n",
              "\n",
              "    [theme=dark] .colab-df-convert:hover {\n",
              "      background-color: #434B5C;\n",
              "      box-shadow: 0px 1px 3px 1px rgba(0, 0, 0, 0.15);\n",
              "      filter: drop-shadow(0px 1px 2px rgba(0, 0, 0, 0.3));\n",
              "      fill: #FFFFFF;\n",
              "    }\n",
              "  </style>\n",
              "\n",
              "      <script>\n",
              "        const buttonEl =\n",
              "          document.querySelector('#df-4a1d4fdf-f0ce-430d-aec9-c47d6b295327 button.colab-df-convert');\n",
              "        buttonEl.style.display =\n",
              "          google.colab.kernel.accessAllowed ? 'block' : 'none';\n",
              "\n",
              "        async function convertToInteractive(key) {\n",
              "          const element = document.querySelector('#df-4a1d4fdf-f0ce-430d-aec9-c47d6b295327');\n",
              "          const dataTable =\n",
              "            await google.colab.kernel.invokeFunction('convertToInteractive',\n",
              "                                                     [key], {});\n",
              "          if (!dataTable) return;\n",
              "\n",
              "          const docLinkHtml = 'Like what you see? Visit the ' +\n",
              "            '<a target=\"_blank\" href=https://colab.research.google.com/notebooks/data_table.ipynb>data table notebook</a>'\n",
              "            + ' to learn more about interactive tables.';\n",
              "          element.innerHTML = '';\n",
              "          dataTable['output_type'] = 'display_data';\n",
              "          await google.colab.output.renderOutput(dataTable, element);\n",
              "          const docLink = document.createElement('div');\n",
              "          docLink.innerHTML = docLinkHtml;\n",
              "          element.appendChild(docLink);\n",
              "        }\n",
              "      </script>\n",
              "    </div>\n",
              "  </div>\n",
              "  "
            ]
          },
          "metadata": {},
          "execution_count": 8
        }
      ]
    },
    {
      "cell_type": "markdown",
      "source": [
        "#Data Understanding"
      ],
      "metadata": {
        "id": "Ht3bLP20nMKV"
      }
    },
    {
      "cell_type": "code",
      "source": [
        "#Menampilkan jumlah rows dan columns\n",
        "df.shape"
      ],
      "metadata": {
        "colab": {
          "base_uri": "https://localhost:8080/"
        },
        "id": "iDdhuclbnSA5",
        "outputId": "14c8b427-1e62-47ea-e361-8fca88c443bf"
      },
      "execution_count": 9,
      "outputs": [
        {
          "output_type": "execute_result",
          "data": {
            "text/plain": [
              "(9800, 18)"
            ]
          },
          "metadata": {},
          "execution_count": 9
        }
      ]
    },
    {
      "cell_type": "code",
      "source": [
        "#Menampilkan type data\n",
        "df.dtypes"
      ],
      "metadata": {
        "colab": {
          "base_uri": "https://localhost:8080/"
        },
        "id": "wsGVi27lnW0T",
        "outputId": "7ad1b1df-f982-4141-a52d-94f45fa8f41d"
      },
      "execution_count": 10,
      "outputs": [
        {
          "output_type": "execute_result",
          "data": {
            "text/plain": [
              "Row ID             int64\n",
              "Order ID          object\n",
              "Order Date        object\n",
              "Ship Date         object\n",
              "Ship Mode         object\n",
              "Customer ID       object\n",
              "Customer Name     object\n",
              "Segment           object\n",
              "Country           object\n",
              "City              object\n",
              "State             object\n",
              "Postal Code      float64\n",
              "Region            object\n",
              "Product ID        object\n",
              "Category          object\n",
              "Sub-Category      object\n",
              "Product Name      object\n",
              "Sales            float64\n",
              "dtype: object"
            ]
          },
          "metadata": {},
          "execution_count": 10
        }
      ]
    },
    {
      "cell_type": "code",
      "source": [
        "#Menampilkan jumlah NaN pada data\n",
        "df.isna().sum()"
      ],
      "metadata": {
        "colab": {
          "base_uri": "https://localhost:8080/"
        },
        "id": "mFlFeCkZnbiD",
        "outputId": "1ccaf5f1-5d0d-4916-c549-b385689671f8"
      },
      "execution_count": 11,
      "outputs": [
        {
          "output_type": "execute_result",
          "data": {
            "text/plain": [
              "Row ID            0\n",
              "Order ID          0\n",
              "Order Date        0\n",
              "Ship Date         0\n",
              "Ship Mode         0\n",
              "Customer ID       0\n",
              "Customer Name     0\n",
              "Segment           0\n",
              "Country           0\n",
              "City              0\n",
              "State             0\n",
              "Postal Code      11\n",
              "Region            0\n",
              "Product ID        0\n",
              "Category          0\n",
              "Sub-Category      0\n",
              "Product Name      0\n",
              "Sales             0\n",
              "dtype: int64"
            ]
          },
          "metadata": {},
          "execution_count": 11
        }
      ]
    },
    {
      "cell_type": "markdown",
      "source": [
        "###Ship Mode"
      ],
      "metadata": {
        "id": "6khvhh6rpxcx"
      }
    },
    {
      "cell_type": "code",
      "source": [
        "#Menampilkan value pada Ship Mode\n",
        "df['Ship Mode'].value_counts()"
      ],
      "metadata": {
        "colab": {
          "base_uri": "https://localhost:8080/"
        },
        "id": "XVU3S998ncPI",
        "outputId": "e180301e-33bc-4336-8c06-edf4b731c62b"
      },
      "execution_count": 12,
      "outputs": [
        {
          "output_type": "execute_result",
          "data": {
            "text/plain": [
              "Standard Class    5859\n",
              "Second Class      1902\n",
              "First Class       1501\n",
              "Same Day           538\n",
              "Name: Ship Mode, dtype: int64"
            ]
          },
          "metadata": {},
          "execution_count": 12
        }
      ]
    },
    {
      "cell_type": "markdown",
      "source": [
        "###Segment"
      ],
      "metadata": {
        "id": "v3bf49WTqPI4"
      }
    },
    {
      "cell_type": "code",
      "source": [
        "#Menampilkan value pada Segment\n",
        "df['Segment'].value_counts()"
      ],
      "metadata": {
        "colab": {
          "base_uri": "https://localhost:8080/"
        },
        "id": "6ZGiL_86qOjB",
        "outputId": "2feea49b-f468-43fd-92b3-23d7ff69ac25"
      },
      "execution_count": 13,
      "outputs": [
        {
          "output_type": "execute_result",
          "data": {
            "text/plain": [
              "Consumer       5101\n",
              "Corporate      2953\n",
              "Home Office    1746\n",
              "Name: Segment, dtype: int64"
            ]
          },
          "metadata": {},
          "execution_count": 13
        }
      ]
    },
    {
      "cell_type": "markdown",
      "source": [
        "###Country"
      ],
      "metadata": {
        "id": "556s-pRRq-jr"
      }
    },
    {
      "cell_type": "code",
      "source": [
        "#Menampilkan value pada Country\n",
        "df['Country'].value_counts()"
      ],
      "metadata": {
        "colab": {
          "base_uri": "https://localhost:8080/"
        },
        "id": "fJwOfddrqcIQ",
        "outputId": "b81e1a9b-e18d-4448-c6fc-5da683085336"
      },
      "execution_count": 14,
      "outputs": [
        {
          "output_type": "execute_result",
          "data": {
            "text/plain": [
              "United States    9800\n",
              "Name: Country, dtype: int64"
            ]
          },
          "metadata": {},
          "execution_count": 14
        }
      ]
    },
    {
      "cell_type": "markdown",
      "source": [
        "###City"
      ],
      "metadata": {
        "id": "LWLVf4oerydi"
      }
    },
    {
      "cell_type": "code",
      "source": [
        "#Menampilkan value pada City\n",
        "df['City'].value_counts()"
      ],
      "metadata": {
        "colab": {
          "base_uri": "https://localhost:8080/"
        },
        "id": "87aCYgKZrFOI",
        "outputId": "a64b25c8-e203-4de4-b85d-85442d314a14"
      },
      "execution_count": 15,
      "outputs": [
        {
          "output_type": "execute_result",
          "data": {
            "text/plain": [
              "New York City    891\n",
              "Los Angeles      728\n",
              "Philadelphia     532\n",
              "San Francisco    500\n",
              "Seattle          426\n",
              "                ... \n",
              "San Mateo          1\n",
              "Cheyenne           1\n",
              "Conway             1\n",
              "Melbourne          1\n",
              "Springdale         1\n",
              "Name: City, Length: 529, dtype: int64"
            ]
          },
          "metadata": {},
          "execution_count": 15
        }
      ]
    },
    {
      "cell_type": "markdown",
      "source": [
        "###Sales"
      ],
      "metadata": {
        "id": "Heh3gBlxr0rb"
      }
    },
    {
      "cell_type": "code",
      "source": [
        "#Menampilkan value pada Sales\n",
        "df['Sales'].value_counts()"
      ],
      "metadata": {
        "colab": {
          "base_uri": "https://localhost:8080/"
        },
        "id": "cQVdQ-wwsAFo",
        "outputId": "fae0f4d8-cb27-4f01-9eef-52aae7df9166"
      },
      "execution_count": 16,
      "outputs": [
        {
          "output_type": "execute_result",
          "data": {
            "text/plain": [
              "12.960     55\n",
              "15.552     39\n",
              "19.440     39\n",
              "10.368     35\n",
              "25.920     34\n",
              "           ..\n",
              "339.136     1\n",
              "60.048      1\n",
              "5.022       1\n",
              "7.857       1\n",
              "10.384      1\n",
              "Name: Sales, Length: 5757, dtype: int64"
            ]
          },
          "metadata": {},
          "execution_count": 16
        }
      ]
    },
    {
      "cell_type": "markdown",
      "source": [
        "###Category"
      ],
      "metadata": {
        "id": "D79OJV18r0pZ"
      }
    },
    {
      "cell_type": "code",
      "source": [
        "#Menampilkan value pada Category\n",
        "df['Category'].value_counts()"
      ],
      "metadata": {
        "colab": {
          "base_uri": "https://localhost:8080/"
        },
        "id": "ZZKW3PYfsOl6",
        "outputId": "27150a5e-7786-482d-bbc8-faade59510c5"
      },
      "execution_count": 17,
      "outputs": [
        {
          "output_type": "execute_result",
          "data": {
            "text/plain": [
              "Office Supplies    5909\n",
              "Furniture          2078\n",
              "Technology         1813\n",
              "Name: Category, dtype: int64"
            ]
          },
          "metadata": {},
          "execution_count": 17
        }
      ]
    },
    {
      "cell_type": "markdown",
      "source": [
        "Feature yang akan kita gunakan:\n",
        "\n",
        "1. Ship Mode\n",
        "2. Category\n",
        "3. Sales\n",
        "Tapi hanya untuk customer yang bersegment \"Consumer\".\n",
        "\n",
        "Ikut sertakan Customer ID untuk agregasi"
      ],
      "metadata": {
        "id": "2RgepN7gsXSC"
      }
    },
    {
      "cell_type": "code",
      "source": [
        "df_consumer = df[df['Segment'] == 'Consumer'][['Customer ID', 'Ship Mode', 'Category', 'Sales']]\n",
        "df_consumer.head()"
      ],
      "metadata": {
        "colab": {
          "base_uri": "https://localhost:8080/",
          "height": 206
        },
        "id": "Qpq7vSUTsT6r",
        "outputId": "ce4e7caf-1590-4f13-b76d-41f4db9d9059"
      },
      "execution_count": 18,
      "outputs": [
        {
          "output_type": "execute_result",
          "data": {
            "text/plain": [
              "  Customer ID       Ship Mode         Category     Sales\n",
              "0    CG-12520    Second Class        Furniture  261.9600\n",
              "1    CG-12520    Second Class        Furniture  731.9400\n",
              "3    SO-20335  Standard Class        Furniture  957.5775\n",
              "4    SO-20335  Standard Class  Office Supplies   22.3680\n",
              "5    BH-11710  Standard Class        Furniture   48.8600"
            ],
            "text/html": [
              "\n",
              "  <div id=\"df-27633008-84ae-44e2-ba2c-823890b75e3a\">\n",
              "    <div class=\"colab-df-container\">\n",
              "      <div>\n",
              "<style scoped>\n",
              "    .dataframe tbody tr th:only-of-type {\n",
              "        vertical-align: middle;\n",
              "    }\n",
              "\n",
              "    .dataframe tbody tr th {\n",
              "        vertical-align: top;\n",
              "    }\n",
              "\n",
              "    .dataframe thead th {\n",
              "        text-align: right;\n",
              "    }\n",
              "</style>\n",
              "<table border=\"1\" class=\"dataframe\">\n",
              "  <thead>\n",
              "    <tr style=\"text-align: right;\">\n",
              "      <th></th>\n",
              "      <th>Customer ID</th>\n",
              "      <th>Ship Mode</th>\n",
              "      <th>Category</th>\n",
              "      <th>Sales</th>\n",
              "    </tr>\n",
              "  </thead>\n",
              "  <tbody>\n",
              "    <tr>\n",
              "      <th>0</th>\n",
              "      <td>CG-12520</td>\n",
              "      <td>Second Class</td>\n",
              "      <td>Furniture</td>\n",
              "      <td>261.9600</td>\n",
              "    </tr>\n",
              "    <tr>\n",
              "      <th>1</th>\n",
              "      <td>CG-12520</td>\n",
              "      <td>Second Class</td>\n",
              "      <td>Furniture</td>\n",
              "      <td>731.9400</td>\n",
              "    </tr>\n",
              "    <tr>\n",
              "      <th>3</th>\n",
              "      <td>SO-20335</td>\n",
              "      <td>Standard Class</td>\n",
              "      <td>Furniture</td>\n",
              "      <td>957.5775</td>\n",
              "    </tr>\n",
              "    <tr>\n",
              "      <th>4</th>\n",
              "      <td>SO-20335</td>\n",
              "      <td>Standard Class</td>\n",
              "      <td>Office Supplies</td>\n",
              "      <td>22.3680</td>\n",
              "    </tr>\n",
              "    <tr>\n",
              "      <th>5</th>\n",
              "      <td>BH-11710</td>\n",
              "      <td>Standard Class</td>\n",
              "      <td>Furniture</td>\n",
              "      <td>48.8600</td>\n",
              "    </tr>\n",
              "  </tbody>\n",
              "</table>\n",
              "</div>\n",
              "      <button class=\"colab-df-convert\" onclick=\"convertToInteractive('df-27633008-84ae-44e2-ba2c-823890b75e3a')\"\n",
              "              title=\"Convert this dataframe to an interactive table.\"\n",
              "              style=\"display:none;\">\n",
              "        \n",
              "  <svg xmlns=\"http://www.w3.org/2000/svg\" height=\"24px\"viewBox=\"0 0 24 24\"\n",
              "       width=\"24px\">\n",
              "    <path d=\"M0 0h24v24H0V0z\" fill=\"none\"/>\n",
              "    <path d=\"M18.56 5.44l.94 2.06.94-2.06 2.06-.94-2.06-.94-.94-2.06-.94 2.06-2.06.94zm-11 1L8.5 8.5l.94-2.06 2.06-.94-2.06-.94L8.5 2.5l-.94 2.06-2.06.94zm10 10l.94 2.06.94-2.06 2.06-.94-2.06-.94-.94-2.06-.94 2.06-2.06.94z\"/><path d=\"M17.41 7.96l-1.37-1.37c-.4-.4-.92-.59-1.43-.59-.52 0-1.04.2-1.43.59L10.3 9.45l-7.72 7.72c-.78.78-.78 2.05 0 2.83L4 21.41c.39.39.9.59 1.41.59.51 0 1.02-.2 1.41-.59l7.78-7.78 2.81-2.81c.8-.78.8-2.07 0-2.86zM5.41 20L4 18.59l7.72-7.72 1.47 1.35L5.41 20z\"/>\n",
              "  </svg>\n",
              "      </button>\n",
              "      \n",
              "  <style>\n",
              "    .colab-df-container {\n",
              "      display:flex;\n",
              "      flex-wrap:wrap;\n",
              "      gap: 12px;\n",
              "    }\n",
              "\n",
              "    .colab-df-convert {\n",
              "      background-color: #E8F0FE;\n",
              "      border: none;\n",
              "      border-radius: 50%;\n",
              "      cursor: pointer;\n",
              "      display: none;\n",
              "      fill: #1967D2;\n",
              "      height: 32px;\n",
              "      padding: 0 0 0 0;\n",
              "      width: 32px;\n",
              "    }\n",
              "\n",
              "    .colab-df-convert:hover {\n",
              "      background-color: #E2EBFA;\n",
              "      box-shadow: 0px 1px 2px rgba(60, 64, 67, 0.3), 0px 1px 3px 1px rgba(60, 64, 67, 0.15);\n",
              "      fill: #174EA6;\n",
              "    }\n",
              "\n",
              "    [theme=dark] .colab-df-convert {\n",
              "      background-color: #3B4455;\n",
              "      fill: #D2E3FC;\n",
              "    }\n",
              "\n",
              "    [theme=dark] .colab-df-convert:hover {\n",
              "      background-color: #434B5C;\n",
              "      box-shadow: 0px 1px 3px 1px rgba(0, 0, 0, 0.15);\n",
              "      filter: drop-shadow(0px 1px 2px rgba(0, 0, 0, 0.3));\n",
              "      fill: #FFFFFF;\n",
              "    }\n",
              "  </style>\n",
              "\n",
              "      <script>\n",
              "        const buttonEl =\n",
              "          document.querySelector('#df-27633008-84ae-44e2-ba2c-823890b75e3a button.colab-df-convert');\n",
              "        buttonEl.style.display =\n",
              "          google.colab.kernel.accessAllowed ? 'block' : 'none';\n",
              "\n",
              "        async function convertToInteractive(key) {\n",
              "          const element = document.querySelector('#df-27633008-84ae-44e2-ba2c-823890b75e3a');\n",
              "          const dataTable =\n",
              "            await google.colab.kernel.invokeFunction('convertToInteractive',\n",
              "                                                     [key], {});\n",
              "          if (!dataTable) return;\n",
              "\n",
              "          const docLinkHtml = 'Like what you see? Visit the ' +\n",
              "            '<a target=\"_blank\" href=https://colab.research.google.com/notebooks/data_table.ipynb>data table notebook</a>'\n",
              "            + ' to learn more about interactive tables.';\n",
              "          element.innerHTML = '';\n",
              "          dataTable['output_type'] = 'display_data';\n",
              "          await google.colab.output.renderOutput(dataTable, element);\n",
              "          const docLink = document.createElement('div');\n",
              "          docLink.innerHTML = docLinkHtml;\n",
              "          element.appendChild(docLink);\n",
              "        }\n",
              "      </script>\n",
              "    </div>\n",
              "  </div>\n",
              "  "
            ]
          },
          "metadata": {},
          "execution_count": 18
        }
      ]
    },
    {
      "cell_type": "markdown",
      "source": [
        "#Data Preprocessing"
      ],
      "metadata": {
        "id": "9EUsVB4fsspU"
      }
    },
    {
      "cell_type": "markdown",
      "source": [
        "##Feature Engineering"
      ],
      "metadata": {
        "id": "TgtL5gxvuBjh"
      }
    },
    {
      "cell_type": "markdown",
      "source": [
        "###Encoding"
      ],
      "metadata": {
        "id": "T6LK2VuIuGZY"
      }
    },
    {
      "cell_type": "code",
      "source": [
        "#OneHotEncoder -> Categorical\n",
        "df_consumer_category = pd.get_dummies(df_consumer['Category'])\n",
        "df_consumer_ship =  pd.get_dummies(df_consumer['Ship Mode'])\n",
        "\n",
        "df_consumer = pd.concat([df_consumer, df_consumer_category, df_consumer_ship], axis=1)"
      ],
      "metadata": {
        "id": "3yzmzOH-tqBn"
      },
      "execution_count": 19,
      "outputs": []
    },
    {
      "cell_type": "code",
      "source": [
        "df_consumer.drop(['Ship Mode', 'Category'], axis=1, inplace=True)"
      ],
      "metadata": {
        "id": "ZXKw3wmquXUx"
      },
      "execution_count": 20,
      "outputs": []
    },
    {
      "cell_type": "code",
      "source": [
        "df_consumer.head()"
      ],
      "metadata": {
        "colab": {
          "base_uri": "https://localhost:8080/",
          "height": 206
        },
        "id": "eKrPzR1PuZ-y",
        "outputId": "1081004c-5508-4c5a-fe10-5022b660ca15"
      },
      "execution_count": 21,
      "outputs": [
        {
          "output_type": "execute_result",
          "data": {
            "text/plain": [
              "  Customer ID     Sales  Furniture  Office Supplies  Technology  First Class  \\\n",
              "0    CG-12520  261.9600          1                0           0            0   \n",
              "1    CG-12520  731.9400          1                0           0            0   \n",
              "3    SO-20335  957.5775          1                0           0            0   \n",
              "4    SO-20335   22.3680          0                1           0            0   \n",
              "5    BH-11710   48.8600          1                0           0            0   \n",
              "\n",
              "   Same Day  Second Class  Standard Class  \n",
              "0         0             1               0  \n",
              "1         0             1               0  \n",
              "3         0             0               1  \n",
              "4         0             0               1  \n",
              "5         0             0               1  "
            ],
            "text/html": [
              "\n",
              "  <div id=\"df-dd061995-5e30-44c2-8567-7ded807f4128\">\n",
              "    <div class=\"colab-df-container\">\n",
              "      <div>\n",
              "<style scoped>\n",
              "    .dataframe tbody tr th:only-of-type {\n",
              "        vertical-align: middle;\n",
              "    }\n",
              "\n",
              "    .dataframe tbody tr th {\n",
              "        vertical-align: top;\n",
              "    }\n",
              "\n",
              "    .dataframe thead th {\n",
              "        text-align: right;\n",
              "    }\n",
              "</style>\n",
              "<table border=\"1\" class=\"dataframe\">\n",
              "  <thead>\n",
              "    <tr style=\"text-align: right;\">\n",
              "      <th></th>\n",
              "      <th>Customer ID</th>\n",
              "      <th>Sales</th>\n",
              "      <th>Furniture</th>\n",
              "      <th>Office Supplies</th>\n",
              "      <th>Technology</th>\n",
              "      <th>First Class</th>\n",
              "      <th>Same Day</th>\n",
              "      <th>Second Class</th>\n",
              "      <th>Standard Class</th>\n",
              "    </tr>\n",
              "  </thead>\n",
              "  <tbody>\n",
              "    <tr>\n",
              "      <th>0</th>\n",
              "      <td>CG-12520</td>\n",
              "      <td>261.9600</td>\n",
              "      <td>1</td>\n",
              "      <td>0</td>\n",
              "      <td>0</td>\n",
              "      <td>0</td>\n",
              "      <td>0</td>\n",
              "      <td>1</td>\n",
              "      <td>0</td>\n",
              "    </tr>\n",
              "    <tr>\n",
              "      <th>1</th>\n",
              "      <td>CG-12520</td>\n",
              "      <td>731.9400</td>\n",
              "      <td>1</td>\n",
              "      <td>0</td>\n",
              "      <td>0</td>\n",
              "      <td>0</td>\n",
              "      <td>0</td>\n",
              "      <td>1</td>\n",
              "      <td>0</td>\n",
              "    </tr>\n",
              "    <tr>\n",
              "      <th>3</th>\n",
              "      <td>SO-20335</td>\n",
              "      <td>957.5775</td>\n",
              "      <td>1</td>\n",
              "      <td>0</td>\n",
              "      <td>0</td>\n",
              "      <td>0</td>\n",
              "      <td>0</td>\n",
              "      <td>0</td>\n",
              "      <td>1</td>\n",
              "    </tr>\n",
              "    <tr>\n",
              "      <th>4</th>\n",
              "      <td>SO-20335</td>\n",
              "      <td>22.3680</td>\n",
              "      <td>0</td>\n",
              "      <td>1</td>\n",
              "      <td>0</td>\n",
              "      <td>0</td>\n",
              "      <td>0</td>\n",
              "      <td>0</td>\n",
              "      <td>1</td>\n",
              "    </tr>\n",
              "    <tr>\n",
              "      <th>5</th>\n",
              "      <td>BH-11710</td>\n",
              "      <td>48.8600</td>\n",
              "      <td>1</td>\n",
              "      <td>0</td>\n",
              "      <td>0</td>\n",
              "      <td>0</td>\n",
              "      <td>0</td>\n",
              "      <td>0</td>\n",
              "      <td>1</td>\n",
              "    </tr>\n",
              "  </tbody>\n",
              "</table>\n",
              "</div>\n",
              "      <button class=\"colab-df-convert\" onclick=\"convertToInteractive('df-dd061995-5e30-44c2-8567-7ded807f4128')\"\n",
              "              title=\"Convert this dataframe to an interactive table.\"\n",
              "              style=\"display:none;\">\n",
              "        \n",
              "  <svg xmlns=\"http://www.w3.org/2000/svg\" height=\"24px\"viewBox=\"0 0 24 24\"\n",
              "       width=\"24px\">\n",
              "    <path d=\"M0 0h24v24H0V0z\" fill=\"none\"/>\n",
              "    <path d=\"M18.56 5.44l.94 2.06.94-2.06 2.06-.94-2.06-.94-.94-2.06-.94 2.06-2.06.94zm-11 1L8.5 8.5l.94-2.06 2.06-.94-2.06-.94L8.5 2.5l-.94 2.06-2.06.94zm10 10l.94 2.06.94-2.06 2.06-.94-2.06-.94-.94-2.06-.94 2.06-2.06.94z\"/><path d=\"M17.41 7.96l-1.37-1.37c-.4-.4-.92-.59-1.43-.59-.52 0-1.04.2-1.43.59L10.3 9.45l-7.72 7.72c-.78.78-.78 2.05 0 2.83L4 21.41c.39.39.9.59 1.41.59.51 0 1.02-.2 1.41-.59l7.78-7.78 2.81-2.81c.8-.78.8-2.07 0-2.86zM5.41 20L4 18.59l7.72-7.72 1.47 1.35L5.41 20z\"/>\n",
              "  </svg>\n",
              "      </button>\n",
              "      \n",
              "  <style>\n",
              "    .colab-df-container {\n",
              "      display:flex;\n",
              "      flex-wrap:wrap;\n",
              "      gap: 12px;\n",
              "    }\n",
              "\n",
              "    .colab-df-convert {\n",
              "      background-color: #E8F0FE;\n",
              "      border: none;\n",
              "      border-radius: 50%;\n",
              "      cursor: pointer;\n",
              "      display: none;\n",
              "      fill: #1967D2;\n",
              "      height: 32px;\n",
              "      padding: 0 0 0 0;\n",
              "      width: 32px;\n",
              "    }\n",
              "\n",
              "    .colab-df-convert:hover {\n",
              "      background-color: #E2EBFA;\n",
              "      box-shadow: 0px 1px 2px rgba(60, 64, 67, 0.3), 0px 1px 3px 1px rgba(60, 64, 67, 0.15);\n",
              "      fill: #174EA6;\n",
              "    }\n",
              "\n",
              "    [theme=dark] .colab-df-convert {\n",
              "      background-color: #3B4455;\n",
              "      fill: #D2E3FC;\n",
              "    }\n",
              "\n",
              "    [theme=dark] .colab-df-convert:hover {\n",
              "      background-color: #434B5C;\n",
              "      box-shadow: 0px 1px 3px 1px rgba(0, 0, 0, 0.15);\n",
              "      filter: drop-shadow(0px 1px 2px rgba(0, 0, 0, 0.3));\n",
              "      fill: #FFFFFF;\n",
              "    }\n",
              "  </style>\n",
              "\n",
              "      <script>\n",
              "        const buttonEl =\n",
              "          document.querySelector('#df-dd061995-5e30-44c2-8567-7ded807f4128 button.colab-df-convert');\n",
              "        buttonEl.style.display =\n",
              "          google.colab.kernel.accessAllowed ? 'block' : 'none';\n",
              "\n",
              "        async function convertToInteractive(key) {\n",
              "          const element = document.querySelector('#df-dd061995-5e30-44c2-8567-7ded807f4128');\n",
              "          const dataTable =\n",
              "            await google.colab.kernel.invokeFunction('convertToInteractive',\n",
              "                                                     [key], {});\n",
              "          if (!dataTable) return;\n",
              "\n",
              "          const docLinkHtml = 'Like what you see? Visit the ' +\n",
              "            '<a target=\"_blank\" href=https://colab.research.google.com/notebooks/data_table.ipynb>data table notebook</a>'\n",
              "            + ' to learn more about interactive tables.';\n",
              "          element.innerHTML = '';\n",
              "          dataTable['output_type'] = 'display_data';\n",
              "          await google.colab.output.renderOutput(dataTable, element);\n",
              "          const docLink = document.createElement('div');\n",
              "          docLink.innerHTML = docLinkHtml;\n",
              "          element.appendChild(docLink);\n",
              "        }\n",
              "      </script>\n",
              "    </div>\n",
              "  </div>\n",
              "  "
            ]
          },
          "metadata": {},
          "execution_count": 21
        }
      ]
    },
    {
      "cell_type": "markdown",
      "source": [
        "##Aggregate per User"
      ],
      "metadata": {
        "id": "beUddPQBucry"
      }
    },
    {
      "cell_type": "markdown",
      "source": [
        "Apa yang kita butuh per customer:\n",
        "\n",
        "1. Sales: Average, Total\n",
        "\n",
        "2. Total Transaksi\n",
        "\n",
        "3. Furniture, Office Supplies: Average\n",
        "\n",
        "4. First Class, Same Day, Second Class: Average"
      ],
      "metadata": {
        "id": "mdD7S97guo3p"
      }
    },
    {
      "cell_type": "code",
      "source": [
        "df_consumer.groupby('Customer ID').mean()"
      ],
      "metadata": {
        "colab": {
          "base_uri": "https://localhost:8080/",
          "height": 455
        },
        "id": "r2_anN1NubTB",
        "outputId": "e94ed38a-389f-47cb-9e36-bea2efd787fe"
      },
      "execution_count": 22,
      "outputs": [
        {
          "output_type": "execute_result",
          "data": {
            "text/plain": [
              "                  Sales  Furniture  Office Supplies  Technology  First Class  \\\n",
              "Customer ID                                                                    \n",
              "AA-10315     505.778182   0.090909         0.727273    0.181818     0.090909   \n",
              "AA-10375      70.426000   0.066667         0.733333    0.200000     0.266667   \n",
              "AA-10480     149.209333   0.166667         0.666667    0.166667     0.000000   \n",
              "AA-10645     282.607500   0.444444         0.444444    0.111111     0.388889   \n",
              "AB-10015     147.692667   0.333333         0.500000    0.166667     0.833333   \n",
              "...                 ...        ...              ...         ...          ...   \n",
              "VS-21820     131.997625   0.375000         0.500000    0.125000     0.000000   \n",
              "WB-21850     175.134571   0.142857         0.628571    0.228571     0.171429   \n",
              "XP-21865      84.809214   0.142857         0.750000    0.107143     0.071429   \n",
              "ZC-21910     258.893774   0.258065         0.548387    0.193548     0.129032   \n",
              "ZD-21925     165.993778   0.222222         0.444444    0.333333     0.111111   \n",
              "\n",
              "             Same Day  Second Class  Standard Class  \n",
              "Customer ID                                          \n",
              "AA-10315     0.000000      0.000000        0.909091  \n",
              "AA-10375     0.000000      0.200000        0.533333  \n",
              "AA-10480     0.083333      0.000000        0.916667  \n",
              "AA-10645     0.000000      0.000000        0.611111  \n",
              "AB-10015     0.000000      0.000000        0.166667  \n",
              "...               ...           ...             ...  \n",
              "VS-21820     0.000000      0.250000        0.750000  \n",
              "WB-21850     0.314286      0.000000        0.514286  \n",
              "XP-21865     0.000000      0.107143        0.821429  \n",
              "ZC-21910     0.000000      0.032258        0.838710  \n",
              "ZD-21925     0.222222      0.333333        0.333333  \n",
              "\n",
              "[409 rows x 8 columns]"
            ],
            "text/html": [
              "\n",
              "  <div id=\"df-e8d9b79b-c791-41b1-9aa1-0b6327a5b494\">\n",
              "    <div class=\"colab-df-container\">\n",
              "      <div>\n",
              "<style scoped>\n",
              "    .dataframe tbody tr th:only-of-type {\n",
              "        vertical-align: middle;\n",
              "    }\n",
              "\n",
              "    .dataframe tbody tr th {\n",
              "        vertical-align: top;\n",
              "    }\n",
              "\n",
              "    .dataframe thead th {\n",
              "        text-align: right;\n",
              "    }\n",
              "</style>\n",
              "<table border=\"1\" class=\"dataframe\">\n",
              "  <thead>\n",
              "    <tr style=\"text-align: right;\">\n",
              "      <th></th>\n",
              "      <th>Sales</th>\n",
              "      <th>Furniture</th>\n",
              "      <th>Office Supplies</th>\n",
              "      <th>Technology</th>\n",
              "      <th>First Class</th>\n",
              "      <th>Same Day</th>\n",
              "      <th>Second Class</th>\n",
              "      <th>Standard Class</th>\n",
              "    </tr>\n",
              "    <tr>\n",
              "      <th>Customer ID</th>\n",
              "      <th></th>\n",
              "      <th></th>\n",
              "      <th></th>\n",
              "      <th></th>\n",
              "      <th></th>\n",
              "      <th></th>\n",
              "      <th></th>\n",
              "      <th></th>\n",
              "    </tr>\n",
              "  </thead>\n",
              "  <tbody>\n",
              "    <tr>\n",
              "      <th>AA-10315</th>\n",
              "      <td>505.778182</td>\n",
              "      <td>0.090909</td>\n",
              "      <td>0.727273</td>\n",
              "      <td>0.181818</td>\n",
              "      <td>0.090909</td>\n",
              "      <td>0.000000</td>\n",
              "      <td>0.000000</td>\n",
              "      <td>0.909091</td>\n",
              "    </tr>\n",
              "    <tr>\n",
              "      <th>AA-10375</th>\n",
              "      <td>70.426000</td>\n",
              "      <td>0.066667</td>\n",
              "      <td>0.733333</td>\n",
              "      <td>0.200000</td>\n",
              "      <td>0.266667</td>\n",
              "      <td>0.000000</td>\n",
              "      <td>0.200000</td>\n",
              "      <td>0.533333</td>\n",
              "    </tr>\n",
              "    <tr>\n",
              "      <th>AA-10480</th>\n",
              "      <td>149.209333</td>\n",
              "      <td>0.166667</td>\n",
              "      <td>0.666667</td>\n",
              "      <td>0.166667</td>\n",
              "      <td>0.000000</td>\n",
              "      <td>0.083333</td>\n",
              "      <td>0.000000</td>\n",
              "      <td>0.916667</td>\n",
              "    </tr>\n",
              "    <tr>\n",
              "      <th>AA-10645</th>\n",
              "      <td>282.607500</td>\n",
              "      <td>0.444444</td>\n",
              "      <td>0.444444</td>\n",
              "      <td>0.111111</td>\n",
              "      <td>0.388889</td>\n",
              "      <td>0.000000</td>\n",
              "      <td>0.000000</td>\n",
              "      <td>0.611111</td>\n",
              "    </tr>\n",
              "    <tr>\n",
              "      <th>AB-10015</th>\n",
              "      <td>147.692667</td>\n",
              "      <td>0.333333</td>\n",
              "      <td>0.500000</td>\n",
              "      <td>0.166667</td>\n",
              "      <td>0.833333</td>\n",
              "      <td>0.000000</td>\n",
              "      <td>0.000000</td>\n",
              "      <td>0.166667</td>\n",
              "    </tr>\n",
              "    <tr>\n",
              "      <th>...</th>\n",
              "      <td>...</td>\n",
              "      <td>...</td>\n",
              "      <td>...</td>\n",
              "      <td>...</td>\n",
              "      <td>...</td>\n",
              "      <td>...</td>\n",
              "      <td>...</td>\n",
              "      <td>...</td>\n",
              "    </tr>\n",
              "    <tr>\n",
              "      <th>VS-21820</th>\n",
              "      <td>131.997625</td>\n",
              "      <td>0.375000</td>\n",
              "      <td>0.500000</td>\n",
              "      <td>0.125000</td>\n",
              "      <td>0.000000</td>\n",
              "      <td>0.000000</td>\n",
              "      <td>0.250000</td>\n",
              "      <td>0.750000</td>\n",
              "    </tr>\n",
              "    <tr>\n",
              "      <th>WB-21850</th>\n",
              "      <td>175.134571</td>\n",
              "      <td>0.142857</td>\n",
              "      <td>0.628571</td>\n",
              "      <td>0.228571</td>\n",
              "      <td>0.171429</td>\n",
              "      <td>0.314286</td>\n",
              "      <td>0.000000</td>\n",
              "      <td>0.514286</td>\n",
              "    </tr>\n",
              "    <tr>\n",
              "      <th>XP-21865</th>\n",
              "      <td>84.809214</td>\n",
              "      <td>0.142857</td>\n",
              "      <td>0.750000</td>\n",
              "      <td>0.107143</td>\n",
              "      <td>0.071429</td>\n",
              "      <td>0.000000</td>\n",
              "      <td>0.107143</td>\n",
              "      <td>0.821429</td>\n",
              "    </tr>\n",
              "    <tr>\n",
              "      <th>ZC-21910</th>\n",
              "      <td>258.893774</td>\n",
              "      <td>0.258065</td>\n",
              "      <td>0.548387</td>\n",
              "      <td>0.193548</td>\n",
              "      <td>0.129032</td>\n",
              "      <td>0.000000</td>\n",
              "      <td>0.032258</td>\n",
              "      <td>0.838710</td>\n",
              "    </tr>\n",
              "    <tr>\n",
              "      <th>ZD-21925</th>\n",
              "      <td>165.993778</td>\n",
              "      <td>0.222222</td>\n",
              "      <td>0.444444</td>\n",
              "      <td>0.333333</td>\n",
              "      <td>0.111111</td>\n",
              "      <td>0.222222</td>\n",
              "      <td>0.333333</td>\n",
              "      <td>0.333333</td>\n",
              "    </tr>\n",
              "  </tbody>\n",
              "</table>\n",
              "<p>409 rows × 8 columns</p>\n",
              "</div>\n",
              "      <button class=\"colab-df-convert\" onclick=\"convertToInteractive('df-e8d9b79b-c791-41b1-9aa1-0b6327a5b494')\"\n",
              "              title=\"Convert this dataframe to an interactive table.\"\n",
              "              style=\"display:none;\">\n",
              "        \n",
              "  <svg xmlns=\"http://www.w3.org/2000/svg\" height=\"24px\"viewBox=\"0 0 24 24\"\n",
              "       width=\"24px\">\n",
              "    <path d=\"M0 0h24v24H0V0z\" fill=\"none\"/>\n",
              "    <path d=\"M18.56 5.44l.94 2.06.94-2.06 2.06-.94-2.06-.94-.94-2.06-.94 2.06-2.06.94zm-11 1L8.5 8.5l.94-2.06 2.06-.94-2.06-.94L8.5 2.5l-.94 2.06-2.06.94zm10 10l.94 2.06.94-2.06 2.06-.94-2.06-.94-.94-2.06-.94 2.06-2.06.94z\"/><path d=\"M17.41 7.96l-1.37-1.37c-.4-.4-.92-.59-1.43-.59-.52 0-1.04.2-1.43.59L10.3 9.45l-7.72 7.72c-.78.78-.78 2.05 0 2.83L4 21.41c.39.39.9.59 1.41.59.51 0 1.02-.2 1.41-.59l7.78-7.78 2.81-2.81c.8-.78.8-2.07 0-2.86zM5.41 20L4 18.59l7.72-7.72 1.47 1.35L5.41 20z\"/>\n",
              "  </svg>\n",
              "      </button>\n",
              "      \n",
              "  <style>\n",
              "    .colab-df-container {\n",
              "      display:flex;\n",
              "      flex-wrap:wrap;\n",
              "      gap: 12px;\n",
              "    }\n",
              "\n",
              "    .colab-df-convert {\n",
              "      background-color: #E8F0FE;\n",
              "      border: none;\n",
              "      border-radius: 50%;\n",
              "      cursor: pointer;\n",
              "      display: none;\n",
              "      fill: #1967D2;\n",
              "      height: 32px;\n",
              "      padding: 0 0 0 0;\n",
              "      width: 32px;\n",
              "    }\n",
              "\n",
              "    .colab-df-convert:hover {\n",
              "      background-color: #E2EBFA;\n",
              "      box-shadow: 0px 1px 2px rgba(60, 64, 67, 0.3), 0px 1px 3px 1px rgba(60, 64, 67, 0.15);\n",
              "      fill: #174EA6;\n",
              "    }\n",
              "\n",
              "    [theme=dark] .colab-df-convert {\n",
              "      background-color: #3B4455;\n",
              "      fill: #D2E3FC;\n",
              "    }\n",
              "\n",
              "    [theme=dark] .colab-df-convert:hover {\n",
              "      background-color: #434B5C;\n",
              "      box-shadow: 0px 1px 3px 1px rgba(0, 0, 0, 0.15);\n",
              "      filter: drop-shadow(0px 1px 2px rgba(0, 0, 0, 0.3));\n",
              "      fill: #FFFFFF;\n",
              "    }\n",
              "  </style>\n",
              "\n",
              "      <script>\n",
              "        const buttonEl =\n",
              "          document.querySelector('#df-e8d9b79b-c791-41b1-9aa1-0b6327a5b494 button.colab-df-convert');\n",
              "        buttonEl.style.display =\n",
              "          google.colab.kernel.accessAllowed ? 'block' : 'none';\n",
              "\n",
              "        async function convertToInteractive(key) {\n",
              "          const element = document.querySelector('#df-e8d9b79b-c791-41b1-9aa1-0b6327a5b494');\n",
              "          const dataTable =\n",
              "            await google.colab.kernel.invokeFunction('convertToInteractive',\n",
              "                                                     [key], {});\n",
              "          if (!dataTable) return;\n",
              "\n",
              "          const docLinkHtml = 'Like what you see? Visit the ' +\n",
              "            '<a target=\"_blank\" href=https://colab.research.google.com/notebooks/data_table.ipynb>data table notebook</a>'\n",
              "            + ' to learn more about interactive tables.';\n",
              "          element.innerHTML = '';\n",
              "          dataTable['output_type'] = 'display_data';\n",
              "          await google.colab.output.renderOutput(dataTable, element);\n",
              "          const docLink = document.createElement('div');\n",
              "          docLink.innerHTML = docLinkHtml;\n",
              "          element.appendChild(docLink);\n",
              "        }\n",
              "      </script>\n",
              "    </div>\n",
              "  </div>\n",
              "  "
            ]
          },
          "metadata": {},
          "execution_count": 22
        }
      ]
    },
    {
      "cell_type": "code",
      "source": [
        "df_consumer_agg = df_consumer.groupby('Customer ID').agg({\n",
        "    # Pola ==> \"Kolom\": [('kolom_baru', 'fungsi_aggregasi')]\n",
        "    # ship mode\n",
        "    'First Class': [('avg_first_class', 'mean')],\n",
        "    'Second Class': [('avg_second_class', 'mean')],\n",
        "    'Same Day': [('avg_same_day', 'mean')],\n",
        "    'Standard Class': [('avg_standard_class', 'mean')],\n",
        "    \n",
        "    # category\n",
        "    'Furniture': [('avg_furniture', 'mean')],\n",
        "    'Office Supplies': [('avg_office_sup', 'mean')],\n",
        "    'Technology': [('avg_tech', 'mean')],\n",
        "    \n",
        "    # sales\n",
        "    'Sales': [('avg_sales', 'mean'), ('total_trx', 'count'), ('total_sales', 'sum')]\n",
        "})"
      ],
      "metadata": {
        "id": "mXuJbBGyvDzp"
      },
      "execution_count": 23,
      "outputs": []
    },
    {
      "cell_type": "code",
      "source": [
        "df_consumer_agg"
      ],
      "metadata": {
        "colab": {
          "base_uri": "https://localhost:8080/",
          "height": 530
        },
        "id": "tLjSfjhXvHox",
        "outputId": "b98a39ae-619e-474a-ac91-9612ba87d2c6"
      },
      "execution_count": 24,
      "outputs": [
        {
          "output_type": "execute_result",
          "data": {
            "text/plain": [
              "                First Class     Second Class     Same Day     Standard Class  \\\n",
              "            avg_first_class avg_second_class avg_same_day avg_standard_class   \n",
              "Customer ID                                                                    \n",
              "AA-10315           0.090909         0.000000     0.000000           0.909091   \n",
              "AA-10375           0.266667         0.200000     0.000000           0.533333   \n",
              "AA-10480           0.000000         0.000000     0.083333           0.916667   \n",
              "AA-10645           0.388889         0.000000     0.000000           0.611111   \n",
              "AB-10015           0.833333         0.000000     0.000000           0.166667   \n",
              "...                     ...              ...          ...                ...   \n",
              "VS-21820           0.000000         0.250000     0.000000           0.750000   \n",
              "WB-21850           0.171429         0.000000     0.314286           0.514286   \n",
              "XP-21865           0.071429         0.107143     0.000000           0.821429   \n",
              "ZC-21910           0.129032         0.032258     0.000000           0.838710   \n",
              "ZD-21925           0.111111         0.333333     0.222222           0.333333   \n",
              "\n",
              "                Furniture Office Supplies Technology       Sales            \\\n",
              "            avg_furniture  avg_office_sup   avg_tech   avg_sales total_trx   \n",
              "Customer ID                                                                  \n",
              "AA-10315         0.090909        0.727273   0.181818  505.778182        11   \n",
              "AA-10375         0.066667        0.733333   0.200000   70.426000        15   \n",
              "AA-10480         0.166667        0.666667   0.166667  149.209333        12   \n",
              "AA-10645         0.444444        0.444444   0.111111  282.607500        18   \n",
              "AB-10015         0.333333        0.500000   0.166667  147.692667         6   \n",
              "...                   ...             ...        ...         ...       ...   \n",
              "VS-21820         0.375000        0.500000   0.125000  131.997625         8   \n",
              "WB-21850         0.142857        0.628571   0.228571  175.134571        35   \n",
              "XP-21865         0.142857        0.750000   0.107143   84.809214        28   \n",
              "ZC-21910         0.258065        0.548387   0.193548  258.893774        31   \n",
              "ZD-21925         0.222222        0.444444   0.333333  165.993778         9   \n",
              "\n",
              "                         \n",
              "            total_sales  \n",
              "Customer ID              \n",
              "AA-10315       5563.560  \n",
              "AA-10375       1056.390  \n",
              "AA-10480       1790.512  \n",
              "AA-10645       5086.935  \n",
              "AB-10015        886.156  \n",
              "...                 ...  \n",
              "VS-21820       1055.981  \n",
              "WB-21850       6129.710  \n",
              "XP-21865       2374.658  \n",
              "ZC-21910       8025.707  \n",
              "ZD-21925       1493.944  \n",
              "\n",
              "[409 rows x 10 columns]"
            ],
            "text/html": [
              "\n",
              "  <div id=\"df-b046a29b-38f4-49b3-9a7e-c44670179eb5\">\n",
              "    <div class=\"colab-df-container\">\n",
              "      <div>\n",
              "<style scoped>\n",
              "    .dataframe tbody tr th:only-of-type {\n",
              "        vertical-align: middle;\n",
              "    }\n",
              "\n",
              "    .dataframe tbody tr th {\n",
              "        vertical-align: top;\n",
              "    }\n",
              "\n",
              "    .dataframe thead tr th {\n",
              "        text-align: left;\n",
              "    }\n",
              "\n",
              "    .dataframe thead tr:last-of-type th {\n",
              "        text-align: right;\n",
              "    }\n",
              "</style>\n",
              "<table border=\"1\" class=\"dataframe\">\n",
              "  <thead>\n",
              "    <tr>\n",
              "      <th></th>\n",
              "      <th>First Class</th>\n",
              "      <th>Second Class</th>\n",
              "      <th>Same Day</th>\n",
              "      <th>Standard Class</th>\n",
              "      <th>Furniture</th>\n",
              "      <th>Office Supplies</th>\n",
              "      <th>Technology</th>\n",
              "      <th colspan=\"3\" halign=\"left\">Sales</th>\n",
              "    </tr>\n",
              "    <tr>\n",
              "      <th></th>\n",
              "      <th>avg_first_class</th>\n",
              "      <th>avg_second_class</th>\n",
              "      <th>avg_same_day</th>\n",
              "      <th>avg_standard_class</th>\n",
              "      <th>avg_furniture</th>\n",
              "      <th>avg_office_sup</th>\n",
              "      <th>avg_tech</th>\n",
              "      <th>avg_sales</th>\n",
              "      <th>total_trx</th>\n",
              "      <th>total_sales</th>\n",
              "    </tr>\n",
              "    <tr>\n",
              "      <th>Customer ID</th>\n",
              "      <th></th>\n",
              "      <th></th>\n",
              "      <th></th>\n",
              "      <th></th>\n",
              "      <th></th>\n",
              "      <th></th>\n",
              "      <th></th>\n",
              "      <th></th>\n",
              "      <th></th>\n",
              "      <th></th>\n",
              "    </tr>\n",
              "  </thead>\n",
              "  <tbody>\n",
              "    <tr>\n",
              "      <th>AA-10315</th>\n",
              "      <td>0.090909</td>\n",
              "      <td>0.000000</td>\n",
              "      <td>0.000000</td>\n",
              "      <td>0.909091</td>\n",
              "      <td>0.090909</td>\n",
              "      <td>0.727273</td>\n",
              "      <td>0.181818</td>\n",
              "      <td>505.778182</td>\n",
              "      <td>11</td>\n",
              "      <td>5563.560</td>\n",
              "    </tr>\n",
              "    <tr>\n",
              "      <th>AA-10375</th>\n",
              "      <td>0.266667</td>\n",
              "      <td>0.200000</td>\n",
              "      <td>0.000000</td>\n",
              "      <td>0.533333</td>\n",
              "      <td>0.066667</td>\n",
              "      <td>0.733333</td>\n",
              "      <td>0.200000</td>\n",
              "      <td>70.426000</td>\n",
              "      <td>15</td>\n",
              "      <td>1056.390</td>\n",
              "    </tr>\n",
              "    <tr>\n",
              "      <th>AA-10480</th>\n",
              "      <td>0.000000</td>\n",
              "      <td>0.000000</td>\n",
              "      <td>0.083333</td>\n",
              "      <td>0.916667</td>\n",
              "      <td>0.166667</td>\n",
              "      <td>0.666667</td>\n",
              "      <td>0.166667</td>\n",
              "      <td>149.209333</td>\n",
              "      <td>12</td>\n",
              "      <td>1790.512</td>\n",
              "    </tr>\n",
              "    <tr>\n",
              "      <th>AA-10645</th>\n",
              "      <td>0.388889</td>\n",
              "      <td>0.000000</td>\n",
              "      <td>0.000000</td>\n",
              "      <td>0.611111</td>\n",
              "      <td>0.444444</td>\n",
              "      <td>0.444444</td>\n",
              "      <td>0.111111</td>\n",
              "      <td>282.607500</td>\n",
              "      <td>18</td>\n",
              "      <td>5086.935</td>\n",
              "    </tr>\n",
              "    <tr>\n",
              "      <th>AB-10015</th>\n",
              "      <td>0.833333</td>\n",
              "      <td>0.000000</td>\n",
              "      <td>0.000000</td>\n",
              "      <td>0.166667</td>\n",
              "      <td>0.333333</td>\n",
              "      <td>0.500000</td>\n",
              "      <td>0.166667</td>\n",
              "      <td>147.692667</td>\n",
              "      <td>6</td>\n",
              "      <td>886.156</td>\n",
              "    </tr>\n",
              "    <tr>\n",
              "      <th>...</th>\n",
              "      <td>...</td>\n",
              "      <td>...</td>\n",
              "      <td>...</td>\n",
              "      <td>...</td>\n",
              "      <td>...</td>\n",
              "      <td>...</td>\n",
              "      <td>...</td>\n",
              "      <td>...</td>\n",
              "      <td>...</td>\n",
              "      <td>...</td>\n",
              "    </tr>\n",
              "    <tr>\n",
              "      <th>VS-21820</th>\n",
              "      <td>0.000000</td>\n",
              "      <td>0.250000</td>\n",
              "      <td>0.000000</td>\n",
              "      <td>0.750000</td>\n",
              "      <td>0.375000</td>\n",
              "      <td>0.500000</td>\n",
              "      <td>0.125000</td>\n",
              "      <td>131.997625</td>\n",
              "      <td>8</td>\n",
              "      <td>1055.981</td>\n",
              "    </tr>\n",
              "    <tr>\n",
              "      <th>WB-21850</th>\n",
              "      <td>0.171429</td>\n",
              "      <td>0.000000</td>\n",
              "      <td>0.314286</td>\n",
              "      <td>0.514286</td>\n",
              "      <td>0.142857</td>\n",
              "      <td>0.628571</td>\n",
              "      <td>0.228571</td>\n",
              "      <td>175.134571</td>\n",
              "      <td>35</td>\n",
              "      <td>6129.710</td>\n",
              "    </tr>\n",
              "    <tr>\n",
              "      <th>XP-21865</th>\n",
              "      <td>0.071429</td>\n",
              "      <td>0.107143</td>\n",
              "      <td>0.000000</td>\n",
              "      <td>0.821429</td>\n",
              "      <td>0.142857</td>\n",
              "      <td>0.750000</td>\n",
              "      <td>0.107143</td>\n",
              "      <td>84.809214</td>\n",
              "      <td>28</td>\n",
              "      <td>2374.658</td>\n",
              "    </tr>\n",
              "    <tr>\n",
              "      <th>ZC-21910</th>\n",
              "      <td>0.129032</td>\n",
              "      <td>0.032258</td>\n",
              "      <td>0.000000</td>\n",
              "      <td>0.838710</td>\n",
              "      <td>0.258065</td>\n",
              "      <td>0.548387</td>\n",
              "      <td>0.193548</td>\n",
              "      <td>258.893774</td>\n",
              "      <td>31</td>\n",
              "      <td>8025.707</td>\n",
              "    </tr>\n",
              "    <tr>\n",
              "      <th>ZD-21925</th>\n",
              "      <td>0.111111</td>\n",
              "      <td>0.333333</td>\n",
              "      <td>0.222222</td>\n",
              "      <td>0.333333</td>\n",
              "      <td>0.222222</td>\n",
              "      <td>0.444444</td>\n",
              "      <td>0.333333</td>\n",
              "      <td>165.993778</td>\n",
              "      <td>9</td>\n",
              "      <td>1493.944</td>\n",
              "    </tr>\n",
              "  </tbody>\n",
              "</table>\n",
              "<p>409 rows × 10 columns</p>\n",
              "</div>\n",
              "      <button class=\"colab-df-convert\" onclick=\"convertToInteractive('df-b046a29b-38f4-49b3-9a7e-c44670179eb5')\"\n",
              "              title=\"Convert this dataframe to an interactive table.\"\n",
              "              style=\"display:none;\">\n",
              "        \n",
              "  <svg xmlns=\"http://www.w3.org/2000/svg\" height=\"24px\"viewBox=\"0 0 24 24\"\n",
              "       width=\"24px\">\n",
              "    <path d=\"M0 0h24v24H0V0z\" fill=\"none\"/>\n",
              "    <path d=\"M18.56 5.44l.94 2.06.94-2.06 2.06-.94-2.06-.94-.94-2.06-.94 2.06-2.06.94zm-11 1L8.5 8.5l.94-2.06 2.06-.94-2.06-.94L8.5 2.5l-.94 2.06-2.06.94zm10 10l.94 2.06.94-2.06 2.06-.94-2.06-.94-.94-2.06-.94 2.06-2.06.94z\"/><path d=\"M17.41 7.96l-1.37-1.37c-.4-.4-.92-.59-1.43-.59-.52 0-1.04.2-1.43.59L10.3 9.45l-7.72 7.72c-.78.78-.78 2.05 0 2.83L4 21.41c.39.39.9.59 1.41.59.51 0 1.02-.2 1.41-.59l7.78-7.78 2.81-2.81c.8-.78.8-2.07 0-2.86zM5.41 20L4 18.59l7.72-7.72 1.47 1.35L5.41 20z\"/>\n",
              "  </svg>\n",
              "      </button>\n",
              "      \n",
              "  <style>\n",
              "    .colab-df-container {\n",
              "      display:flex;\n",
              "      flex-wrap:wrap;\n",
              "      gap: 12px;\n",
              "    }\n",
              "\n",
              "    .colab-df-convert {\n",
              "      background-color: #E8F0FE;\n",
              "      border: none;\n",
              "      border-radius: 50%;\n",
              "      cursor: pointer;\n",
              "      display: none;\n",
              "      fill: #1967D2;\n",
              "      height: 32px;\n",
              "      padding: 0 0 0 0;\n",
              "      width: 32px;\n",
              "    }\n",
              "\n",
              "    .colab-df-convert:hover {\n",
              "      background-color: #E2EBFA;\n",
              "      box-shadow: 0px 1px 2px rgba(60, 64, 67, 0.3), 0px 1px 3px 1px rgba(60, 64, 67, 0.15);\n",
              "      fill: #174EA6;\n",
              "    }\n",
              "\n",
              "    [theme=dark] .colab-df-convert {\n",
              "      background-color: #3B4455;\n",
              "      fill: #D2E3FC;\n",
              "    }\n",
              "\n",
              "    [theme=dark] .colab-df-convert:hover {\n",
              "      background-color: #434B5C;\n",
              "      box-shadow: 0px 1px 3px 1px rgba(0, 0, 0, 0.15);\n",
              "      filter: drop-shadow(0px 1px 2px rgba(0, 0, 0, 0.3));\n",
              "      fill: #FFFFFF;\n",
              "    }\n",
              "  </style>\n",
              "\n",
              "      <script>\n",
              "        const buttonEl =\n",
              "          document.querySelector('#df-b046a29b-38f4-49b3-9a7e-c44670179eb5 button.colab-df-convert');\n",
              "        buttonEl.style.display =\n",
              "          google.colab.kernel.accessAllowed ? 'block' : 'none';\n",
              "\n",
              "        async function convertToInteractive(key) {\n",
              "          const element = document.querySelector('#df-b046a29b-38f4-49b3-9a7e-c44670179eb5');\n",
              "          const dataTable =\n",
              "            await google.colab.kernel.invokeFunction('convertToInteractive',\n",
              "                                                     [key], {});\n",
              "          if (!dataTable) return;\n",
              "\n",
              "          const docLinkHtml = 'Like what you see? Visit the ' +\n",
              "            '<a target=\"_blank\" href=https://colab.research.google.com/notebooks/data_table.ipynb>data table notebook</a>'\n",
              "            + ' to learn more about interactive tables.';\n",
              "          element.innerHTML = '';\n",
              "          dataTable['output_type'] = 'display_data';\n",
              "          await google.colab.output.renderOutput(dataTable, element);\n",
              "          const docLink = document.createElement('div');\n",
              "          docLink.innerHTML = docLinkHtml;\n",
              "          element.appendChild(docLink);\n",
              "        }\n",
              "      </script>\n",
              "    </div>\n",
              "  </div>\n",
              "  "
            ]
          },
          "metadata": {},
          "execution_count": 24
        }
      ]
    },
    {
      "cell_type": "code",
      "source": [
        "df_consumer_agg['First Class']['avg_first_class']"
      ],
      "metadata": {
        "colab": {
          "base_uri": "https://localhost:8080/"
        },
        "id": "-DRuNk3OvLTY",
        "outputId": "28247a9a-415e-4cb7-80ae-d8b7903265cd"
      },
      "execution_count": 25,
      "outputs": [
        {
          "output_type": "execute_result",
          "data": {
            "text/plain": [
              "Customer ID\n",
              "AA-10315    0.090909\n",
              "AA-10375    0.266667\n",
              "AA-10480    0.000000\n",
              "AA-10645    0.388889\n",
              "AB-10015    0.833333\n",
              "              ...   \n",
              "VS-21820    0.000000\n",
              "WB-21850    0.171429\n",
              "XP-21865    0.071429\n",
              "ZC-21910    0.129032\n",
              "ZD-21925    0.111111\n",
              "Name: avg_first_class, Length: 409, dtype: float64"
            ]
          },
          "metadata": {},
          "execution_count": 25
        }
      ]
    },
    {
      "cell_type": "code",
      "source": [
        "# menghilangkan level column\n",
        "df_consumer_agg.columns = df_consumer_agg.columns.droplevel()"
      ],
      "metadata": {
        "id": "BD0NFvmsvOV7"
      },
      "execution_count": 26,
      "outputs": []
    },
    {
      "cell_type": "code",
      "source": [
        "df_consumer_agg.head()"
      ],
      "metadata": {
        "colab": {
          "base_uri": "https://localhost:8080/",
          "height": 282
        },
        "id": "Ct769TVUvQxI",
        "outputId": "0a146158-464a-41db-bd79-5f9e0dd00970"
      },
      "execution_count": 27,
      "outputs": [
        {
          "output_type": "execute_result",
          "data": {
            "text/plain": [
              "             avg_first_class  avg_second_class  avg_same_day  \\\n",
              "Customer ID                                                    \n",
              "AA-10315            0.090909               0.0      0.000000   \n",
              "AA-10375            0.266667               0.2      0.000000   \n",
              "AA-10480            0.000000               0.0      0.083333   \n",
              "AA-10645            0.388889               0.0      0.000000   \n",
              "AB-10015            0.833333               0.0      0.000000   \n",
              "\n",
              "             avg_standard_class  avg_furniture  avg_office_sup  avg_tech  \\\n",
              "Customer ID                                                                \n",
              "AA-10315               0.909091       0.090909        0.727273  0.181818   \n",
              "AA-10375               0.533333       0.066667        0.733333  0.200000   \n",
              "AA-10480               0.916667       0.166667        0.666667  0.166667   \n",
              "AA-10645               0.611111       0.444444        0.444444  0.111111   \n",
              "AB-10015               0.166667       0.333333        0.500000  0.166667   \n",
              "\n",
              "              avg_sales  total_trx  total_sales  \n",
              "Customer ID                                      \n",
              "AA-10315     505.778182         11     5563.560  \n",
              "AA-10375      70.426000         15     1056.390  \n",
              "AA-10480     149.209333         12     1790.512  \n",
              "AA-10645     282.607500         18     5086.935  \n",
              "AB-10015     147.692667          6      886.156  "
            ],
            "text/html": [
              "\n",
              "  <div id=\"df-61085dc3-a193-465c-8c02-4bbd58996741\">\n",
              "    <div class=\"colab-df-container\">\n",
              "      <div>\n",
              "<style scoped>\n",
              "    .dataframe tbody tr th:only-of-type {\n",
              "        vertical-align: middle;\n",
              "    }\n",
              "\n",
              "    .dataframe tbody tr th {\n",
              "        vertical-align: top;\n",
              "    }\n",
              "\n",
              "    .dataframe thead th {\n",
              "        text-align: right;\n",
              "    }\n",
              "</style>\n",
              "<table border=\"1\" class=\"dataframe\">\n",
              "  <thead>\n",
              "    <tr style=\"text-align: right;\">\n",
              "      <th></th>\n",
              "      <th>avg_first_class</th>\n",
              "      <th>avg_second_class</th>\n",
              "      <th>avg_same_day</th>\n",
              "      <th>avg_standard_class</th>\n",
              "      <th>avg_furniture</th>\n",
              "      <th>avg_office_sup</th>\n",
              "      <th>avg_tech</th>\n",
              "      <th>avg_sales</th>\n",
              "      <th>total_trx</th>\n",
              "      <th>total_sales</th>\n",
              "    </tr>\n",
              "    <tr>\n",
              "      <th>Customer ID</th>\n",
              "      <th></th>\n",
              "      <th></th>\n",
              "      <th></th>\n",
              "      <th></th>\n",
              "      <th></th>\n",
              "      <th></th>\n",
              "      <th></th>\n",
              "      <th></th>\n",
              "      <th></th>\n",
              "      <th></th>\n",
              "    </tr>\n",
              "  </thead>\n",
              "  <tbody>\n",
              "    <tr>\n",
              "      <th>AA-10315</th>\n",
              "      <td>0.090909</td>\n",
              "      <td>0.0</td>\n",
              "      <td>0.000000</td>\n",
              "      <td>0.909091</td>\n",
              "      <td>0.090909</td>\n",
              "      <td>0.727273</td>\n",
              "      <td>0.181818</td>\n",
              "      <td>505.778182</td>\n",
              "      <td>11</td>\n",
              "      <td>5563.560</td>\n",
              "    </tr>\n",
              "    <tr>\n",
              "      <th>AA-10375</th>\n",
              "      <td>0.266667</td>\n",
              "      <td>0.2</td>\n",
              "      <td>0.000000</td>\n",
              "      <td>0.533333</td>\n",
              "      <td>0.066667</td>\n",
              "      <td>0.733333</td>\n",
              "      <td>0.200000</td>\n",
              "      <td>70.426000</td>\n",
              "      <td>15</td>\n",
              "      <td>1056.390</td>\n",
              "    </tr>\n",
              "    <tr>\n",
              "      <th>AA-10480</th>\n",
              "      <td>0.000000</td>\n",
              "      <td>0.0</td>\n",
              "      <td>0.083333</td>\n",
              "      <td>0.916667</td>\n",
              "      <td>0.166667</td>\n",
              "      <td>0.666667</td>\n",
              "      <td>0.166667</td>\n",
              "      <td>149.209333</td>\n",
              "      <td>12</td>\n",
              "      <td>1790.512</td>\n",
              "    </tr>\n",
              "    <tr>\n",
              "      <th>AA-10645</th>\n",
              "      <td>0.388889</td>\n",
              "      <td>0.0</td>\n",
              "      <td>0.000000</td>\n",
              "      <td>0.611111</td>\n",
              "      <td>0.444444</td>\n",
              "      <td>0.444444</td>\n",
              "      <td>0.111111</td>\n",
              "      <td>282.607500</td>\n",
              "      <td>18</td>\n",
              "      <td>5086.935</td>\n",
              "    </tr>\n",
              "    <tr>\n",
              "      <th>AB-10015</th>\n",
              "      <td>0.833333</td>\n",
              "      <td>0.0</td>\n",
              "      <td>0.000000</td>\n",
              "      <td>0.166667</td>\n",
              "      <td>0.333333</td>\n",
              "      <td>0.500000</td>\n",
              "      <td>0.166667</td>\n",
              "      <td>147.692667</td>\n",
              "      <td>6</td>\n",
              "      <td>886.156</td>\n",
              "    </tr>\n",
              "  </tbody>\n",
              "</table>\n",
              "</div>\n",
              "      <button class=\"colab-df-convert\" onclick=\"convertToInteractive('df-61085dc3-a193-465c-8c02-4bbd58996741')\"\n",
              "              title=\"Convert this dataframe to an interactive table.\"\n",
              "              style=\"display:none;\">\n",
              "        \n",
              "  <svg xmlns=\"http://www.w3.org/2000/svg\" height=\"24px\"viewBox=\"0 0 24 24\"\n",
              "       width=\"24px\">\n",
              "    <path d=\"M0 0h24v24H0V0z\" fill=\"none\"/>\n",
              "    <path d=\"M18.56 5.44l.94 2.06.94-2.06 2.06-.94-2.06-.94-.94-2.06-.94 2.06-2.06.94zm-11 1L8.5 8.5l.94-2.06 2.06-.94-2.06-.94L8.5 2.5l-.94 2.06-2.06.94zm10 10l.94 2.06.94-2.06 2.06-.94-2.06-.94-.94-2.06-.94 2.06-2.06.94z\"/><path d=\"M17.41 7.96l-1.37-1.37c-.4-.4-.92-.59-1.43-.59-.52 0-1.04.2-1.43.59L10.3 9.45l-7.72 7.72c-.78.78-.78 2.05 0 2.83L4 21.41c.39.39.9.59 1.41.59.51 0 1.02-.2 1.41-.59l7.78-7.78 2.81-2.81c.8-.78.8-2.07 0-2.86zM5.41 20L4 18.59l7.72-7.72 1.47 1.35L5.41 20z\"/>\n",
              "  </svg>\n",
              "      </button>\n",
              "      \n",
              "  <style>\n",
              "    .colab-df-container {\n",
              "      display:flex;\n",
              "      flex-wrap:wrap;\n",
              "      gap: 12px;\n",
              "    }\n",
              "\n",
              "    .colab-df-convert {\n",
              "      background-color: #E8F0FE;\n",
              "      border: none;\n",
              "      border-radius: 50%;\n",
              "      cursor: pointer;\n",
              "      display: none;\n",
              "      fill: #1967D2;\n",
              "      height: 32px;\n",
              "      padding: 0 0 0 0;\n",
              "      width: 32px;\n",
              "    }\n",
              "\n",
              "    .colab-df-convert:hover {\n",
              "      background-color: #E2EBFA;\n",
              "      box-shadow: 0px 1px 2px rgba(60, 64, 67, 0.3), 0px 1px 3px 1px rgba(60, 64, 67, 0.15);\n",
              "      fill: #174EA6;\n",
              "    }\n",
              "\n",
              "    [theme=dark] .colab-df-convert {\n",
              "      background-color: #3B4455;\n",
              "      fill: #D2E3FC;\n",
              "    }\n",
              "\n",
              "    [theme=dark] .colab-df-convert:hover {\n",
              "      background-color: #434B5C;\n",
              "      box-shadow: 0px 1px 3px 1px rgba(0, 0, 0, 0.15);\n",
              "      filter: drop-shadow(0px 1px 2px rgba(0, 0, 0, 0.3));\n",
              "      fill: #FFFFFF;\n",
              "    }\n",
              "  </style>\n",
              "\n",
              "      <script>\n",
              "        const buttonEl =\n",
              "          document.querySelector('#df-61085dc3-a193-465c-8c02-4bbd58996741 button.colab-df-convert');\n",
              "        buttonEl.style.display =\n",
              "          google.colab.kernel.accessAllowed ? 'block' : 'none';\n",
              "\n",
              "        async function convertToInteractive(key) {\n",
              "          const element = document.querySelector('#df-61085dc3-a193-465c-8c02-4bbd58996741');\n",
              "          const dataTable =\n",
              "            await google.colab.kernel.invokeFunction('convertToInteractive',\n",
              "                                                     [key], {});\n",
              "          if (!dataTable) return;\n",
              "\n",
              "          const docLinkHtml = 'Like what you see? Visit the ' +\n",
              "            '<a target=\"_blank\" href=https://colab.research.google.com/notebooks/data_table.ipynb>data table notebook</a>'\n",
              "            + ' to learn more about interactive tables.';\n",
              "          element.innerHTML = '';\n",
              "          dataTable['output_type'] = 'display_data';\n",
              "          await google.colab.output.renderOutput(dataTable, element);\n",
              "          const docLink = document.createElement('div');\n",
              "          docLink.innerHTML = docLinkHtml;\n",
              "          element.appendChild(docLink);\n",
              "        }\n",
              "      </script>\n",
              "    </div>\n",
              "  </div>\n",
              "  "
            ]
          },
          "metadata": {},
          "execution_count": 27
        }
      ]
    },
    {
      "cell_type": "code",
      "source": [
        "df_consumer_agg['avg_first_class']"
      ],
      "metadata": {
        "colab": {
          "base_uri": "https://localhost:8080/"
        },
        "id": "1vzpwu7RvTPQ",
        "outputId": "9f2bae2f-eb2d-4e2c-c3f7-23c9dbd83284"
      },
      "execution_count": 28,
      "outputs": [
        {
          "output_type": "execute_result",
          "data": {
            "text/plain": [
              "Customer ID\n",
              "AA-10315    0.090909\n",
              "AA-10375    0.266667\n",
              "AA-10480    0.000000\n",
              "AA-10645    0.388889\n",
              "AB-10015    0.833333\n",
              "              ...   \n",
              "VS-21820    0.000000\n",
              "WB-21850    0.171429\n",
              "XP-21865    0.071429\n",
              "ZC-21910    0.129032\n",
              "ZD-21925    0.111111\n",
              "Name: avg_first_class, Length: 409, dtype: float64"
            ]
          },
          "metadata": {},
          "execution_count": 28
        }
      ]
    },
    {
      "cell_type": "markdown",
      "source": [
        "##Scaling"
      ],
      "metadata": {
        "id": "dCbWOtAGvZTf"
      }
    },
    {
      "cell_type": "markdown",
      "source": [
        "Contoh efek non scaling pada perhitungan jarak.\n",
        "\n",
        "x1 = (10.000, 0.1) --> (0.5, 0.1)\n",
        "\n",
        "x2 = (10.200, 0.1) --> (0.51, 0.1)\n",
        "\n",
        "distance (x1, x2), diangka 200an."
      ],
      "metadata": {
        "id": "dPCppg19vyAZ"
      }
    },
    {
      "cell_type": "code",
      "source": [
        "from sklearn.preprocessing import StandardScaler\n",
        "scaler = StandardScaler()\n",
        "scaler.fit(df_consumer_agg)"
      ],
      "metadata": {
        "colab": {
          "base_uri": "https://localhost:8080/"
        },
        "id": "GLNdImXBvvN4",
        "outputId": "1c6ab418-181f-4dfc-8625-ed262a734052"
      },
      "execution_count": 29,
      "outputs": [
        {
          "output_type": "execute_result",
          "data": {
            "text/plain": [
              "StandardScaler()"
            ]
          },
          "metadata": {},
          "execution_count": 29
        }
      ]
    },
    {
      "cell_type": "code",
      "source": [
        "X = scaler.transform(df_consumer_agg)\n",
        "X.shape"
      ],
      "metadata": {
        "colab": {
          "base_uri": "https://localhost:8080/"
        },
        "id": "E-lkIJxPv2F6",
        "outputId": "0e1c5429-745d-487e-e1bd-9dae30582f6a"
      },
      "execution_count": 30,
      "outputs": [
        {
          "output_type": "execute_result",
          "data": {
            "text/plain": [
              "(409, 10)"
            ]
          },
          "metadata": {},
          "execution_count": 30
        }
      ]
    },
    {
      "cell_type": "code",
      "source": [
        "X"
      ],
      "metadata": {
        "colab": {
          "base_uri": "https://localhost:8080/"
        },
        "id": "h7fMdiSzv4OZ",
        "outputId": "fc50e437-fa86-4b28-c48e-ced35ad84423"
      },
      "execution_count": 31,
      "outputs": [
        {
          "output_type": "execute_result",
          "data": {
            "text/plain": [
              "array([[-0.33345614, -0.92878641, -0.49676041, ...,  1.80657524,\n",
              "        -0.23430635,  1.06674543],\n",
              "       [ 0.64500967,  0.02881738, -0.49676041, ..., -0.90936659,\n",
              "         0.40244646, -0.67745476],\n",
              "       [-0.83955915, -0.92878641,  0.14606687, ..., -0.41787726,\n",
              "        -0.07511815, -0.39336169],\n",
              "       ...,\n",
              "       [-0.44190679, -0.41578438, -0.49676041, ..., -0.819637  ,\n",
              "         2.47189307, -0.16730686],\n",
              "       [-0.1212194 , -0.77433419, -0.49676041, ...,  0.26638843,\n",
              "         2.94945768,  2.01955556],\n",
              "       [-0.22098881,  0.66721991,  1.21744566, ..., -0.31316761,\n",
              "        -0.55268275, -0.5081286 ]])"
            ]
          },
          "metadata": {},
          "execution_count": 31
        }
      ]
    },
    {
      "cell_type": "markdown",
      "source": [
        "# Clustering"
      ],
      "metadata": {
        "id": "PQOfTcsgwnDq"
      }
    },
    {
      "cell_type": "markdown",
      "source": [
        "##KMeans"
      ],
      "metadata": {
        "id": "Q_dVs4OMv-Ag"
      }
    },
    {
      "cell_type": "code",
      "source": [
        "from sklearn.cluster import KMeans\n",
        "\n",
        "km = KMeans(3)\n",
        "km.fit(X)"
      ],
      "metadata": {
        "colab": {
          "base_uri": "https://localhost:8080/"
        },
        "id": "UkjWLGZlv6qI",
        "outputId": "607cf7f1-5e2d-4635-fce1-ff72cfdfc625"
      },
      "execution_count": 32,
      "outputs": [
        {
          "output_type": "execute_result",
          "data": {
            "text/plain": [
              "KMeans(n_clusters=3)"
            ]
          },
          "metadata": {},
          "execution_count": 32
        }
      ]
    },
    {
      "cell_type": "code",
      "source": [
        "km.predict(X)"
      ],
      "metadata": {
        "colab": {
          "base_uri": "https://localhost:8080/"
        },
        "id": "y0bxzMqawSUn",
        "outputId": "f3f596d0-f15c-4ca1-f489-df124800414c"
      },
      "execution_count": 33,
      "outputs": [
        {
          "output_type": "execute_result",
          "data": {
            "text/plain": [
              "array([0, 2, 2, 0, 1, 0, 1, 2, 0, 1, 2, 1, 2, 1, 1, 1, 2, 0, 1, 1, 1, 1,\n",
              "       2, 0, 2, 2, 0, 2, 2, 2, 2, 1, 2, 0, 2, 2, 1, 1, 1, 2, 1, 1, 2, 1,\n",
              "       0, 2, 0, 1, 2, 2, 1, 2, 2, 2, 2, 2, 2, 2, 2, 2, 1, 2, 2, 2, 1, 0,\n",
              "       2, 2, 1, 2, 2, 2, 1, 1, 0, 2, 1, 1, 0, 2, 1, 2, 1, 2, 0, 1, 2, 2,\n",
              "       2, 2, 2, 2, 0, 2, 2, 2, 1, 2, 1, 2, 2, 2, 2, 2, 2, 2, 2, 2, 2, 1,\n",
              "       2, 2, 1, 1, 1, 2, 1, 2, 2, 1, 1, 2, 2, 2, 1, 2, 2, 1, 2, 2, 2, 2,\n",
              "       1, 1, 1, 1, 0, 2, 2, 2, 2, 2, 2, 2, 2, 2, 2, 1, 2, 2, 0, 2, 2, 1,\n",
              "       2, 1, 2, 2, 2, 0, 2, 2, 2, 0, 2, 2, 0, 1, 2, 2, 2, 1, 2, 2, 1, 2,\n",
              "       0, 0, 2, 2, 1, 1, 2, 1, 1, 0, 1, 1, 2, 0, 2, 2, 2, 1, 1, 1, 2, 2,\n",
              "       2, 2, 0, 2, 2, 1, 2, 0, 1, 1, 2, 2, 0, 1, 2, 1, 2, 2, 2, 0, 0, 1,\n",
              "       1, 0, 0, 2, 0, 2, 1, 0, 1, 1, 1, 0, 1, 1, 1, 2, 1, 1, 2, 1, 1, 1,\n",
              "       2, 1, 2, 0, 2, 1, 1, 2, 1, 1, 1, 2, 2, 2, 1, 2, 2, 1, 2, 2, 2, 1,\n",
              "       0, 2, 2, 1, 2, 2, 1, 1, 1, 2, 0, 1, 1, 2, 2, 2, 1, 2, 0, 1, 2, 1,\n",
              "       0, 2, 1, 1, 0, 0, 2, 1, 0, 2, 2, 2, 0, 2, 1, 1, 2, 1, 0, 2, 0, 2,\n",
              "       1, 1, 1, 1, 1, 2, 1, 2, 0, 1, 1, 1, 1, 2, 2, 2, 1, 2, 1, 1, 2, 2,\n",
              "       1, 2, 1, 1, 0, 2, 1, 1, 1, 1, 1, 2, 2, 0, 2, 0, 2, 0, 2, 0, 2, 2,\n",
              "       0, 1, 2, 1, 1, 2, 2, 2, 2, 2, 2, 1, 2, 2, 2, 2, 2, 1, 0, 2, 1, 2,\n",
              "       2, 2, 1, 2, 2, 0, 2, 1, 1, 1, 1, 1, 1, 2, 2, 1, 0, 0, 2, 2, 2, 2,\n",
              "       1, 2, 0, 2, 2, 0, 2, 1, 2, 0, 2, 0, 1], dtype=int32)"
            ]
          },
          "metadata": {},
          "execution_count": 33
        }
      ]
    },
    {
      "cell_type": "code",
      "source": [
        "df_consumer_agg['cluster'] = km.predict(X)\n",
        "df_consumer_agg"
      ],
      "metadata": {
        "colab": {
          "base_uri": "https://localhost:8080/",
          "height": 710
        },
        "id": "MgaobEPxwVRg",
        "outputId": "08b0a924-1a83-4bd6-f321-54c3ec81d1e4"
      },
      "execution_count": 34,
      "outputs": [
        {
          "output_type": "execute_result",
          "data": {
            "text/plain": [
              "             avg_first_class  avg_second_class  avg_same_day  \\\n",
              "Customer ID                                                    \n",
              "AA-10315            0.090909          0.000000      0.000000   \n",
              "AA-10375            0.266667          0.200000      0.000000   \n",
              "AA-10480            0.000000          0.000000      0.083333   \n",
              "AA-10645            0.388889          0.000000      0.000000   \n",
              "AB-10015            0.833333          0.000000      0.000000   \n",
              "...                      ...               ...           ...   \n",
              "VS-21820            0.000000          0.250000      0.000000   \n",
              "WB-21850            0.171429          0.000000      0.314286   \n",
              "XP-21865            0.071429          0.107143      0.000000   \n",
              "ZC-21910            0.129032          0.032258      0.000000   \n",
              "ZD-21925            0.111111          0.333333      0.222222   \n",
              "\n",
              "             avg_standard_class  avg_furniture  avg_office_sup  avg_tech  \\\n",
              "Customer ID                                                                \n",
              "AA-10315               0.909091       0.090909        0.727273  0.181818   \n",
              "AA-10375               0.533333       0.066667        0.733333  0.200000   \n",
              "AA-10480               0.916667       0.166667        0.666667  0.166667   \n",
              "AA-10645               0.611111       0.444444        0.444444  0.111111   \n",
              "AB-10015               0.166667       0.333333        0.500000  0.166667   \n",
              "...                         ...            ...             ...       ...   \n",
              "VS-21820               0.750000       0.375000        0.500000  0.125000   \n",
              "WB-21850               0.514286       0.142857        0.628571  0.228571   \n",
              "XP-21865               0.821429       0.142857        0.750000  0.107143   \n",
              "ZC-21910               0.838710       0.258065        0.548387  0.193548   \n",
              "ZD-21925               0.333333       0.222222        0.444444  0.333333   \n",
              "\n",
              "              avg_sales  total_trx  total_sales  cluster  \n",
              "Customer ID                                               \n",
              "AA-10315     505.778182         11     5563.560        0  \n",
              "AA-10375      70.426000         15     1056.390        2  \n",
              "AA-10480     149.209333         12     1790.512        2  \n",
              "AA-10645     282.607500         18     5086.935        0  \n",
              "AB-10015     147.692667          6      886.156        1  \n",
              "...                 ...        ...          ...      ...  \n",
              "VS-21820     131.997625          8     1055.981        2  \n",
              "WB-21850     175.134571         35     6129.710        0  \n",
              "XP-21865      84.809214         28     2374.658        2  \n",
              "ZC-21910     258.893774         31     8025.707        0  \n",
              "ZD-21925     165.993778          9     1493.944        1  \n",
              "\n",
              "[409 rows x 11 columns]"
            ],
            "text/html": [
              "\n",
              "  <div id=\"df-0699ecd8-137e-4989-a34b-847eed755bca\">\n",
              "    <div class=\"colab-df-container\">\n",
              "      <div>\n",
              "<style scoped>\n",
              "    .dataframe tbody tr th:only-of-type {\n",
              "        vertical-align: middle;\n",
              "    }\n",
              "\n",
              "    .dataframe tbody tr th {\n",
              "        vertical-align: top;\n",
              "    }\n",
              "\n",
              "    .dataframe thead th {\n",
              "        text-align: right;\n",
              "    }\n",
              "</style>\n",
              "<table border=\"1\" class=\"dataframe\">\n",
              "  <thead>\n",
              "    <tr style=\"text-align: right;\">\n",
              "      <th></th>\n",
              "      <th>avg_first_class</th>\n",
              "      <th>avg_second_class</th>\n",
              "      <th>avg_same_day</th>\n",
              "      <th>avg_standard_class</th>\n",
              "      <th>avg_furniture</th>\n",
              "      <th>avg_office_sup</th>\n",
              "      <th>avg_tech</th>\n",
              "      <th>avg_sales</th>\n",
              "      <th>total_trx</th>\n",
              "      <th>total_sales</th>\n",
              "      <th>cluster</th>\n",
              "    </tr>\n",
              "    <tr>\n",
              "      <th>Customer ID</th>\n",
              "      <th></th>\n",
              "      <th></th>\n",
              "      <th></th>\n",
              "      <th></th>\n",
              "      <th></th>\n",
              "      <th></th>\n",
              "      <th></th>\n",
              "      <th></th>\n",
              "      <th></th>\n",
              "      <th></th>\n",
              "      <th></th>\n",
              "    </tr>\n",
              "  </thead>\n",
              "  <tbody>\n",
              "    <tr>\n",
              "      <th>AA-10315</th>\n",
              "      <td>0.090909</td>\n",
              "      <td>0.000000</td>\n",
              "      <td>0.000000</td>\n",
              "      <td>0.909091</td>\n",
              "      <td>0.090909</td>\n",
              "      <td>0.727273</td>\n",
              "      <td>0.181818</td>\n",
              "      <td>505.778182</td>\n",
              "      <td>11</td>\n",
              "      <td>5563.560</td>\n",
              "      <td>0</td>\n",
              "    </tr>\n",
              "    <tr>\n",
              "      <th>AA-10375</th>\n",
              "      <td>0.266667</td>\n",
              "      <td>0.200000</td>\n",
              "      <td>0.000000</td>\n",
              "      <td>0.533333</td>\n",
              "      <td>0.066667</td>\n",
              "      <td>0.733333</td>\n",
              "      <td>0.200000</td>\n",
              "      <td>70.426000</td>\n",
              "      <td>15</td>\n",
              "      <td>1056.390</td>\n",
              "      <td>2</td>\n",
              "    </tr>\n",
              "    <tr>\n",
              "      <th>AA-10480</th>\n",
              "      <td>0.000000</td>\n",
              "      <td>0.000000</td>\n",
              "      <td>0.083333</td>\n",
              "      <td>0.916667</td>\n",
              "      <td>0.166667</td>\n",
              "      <td>0.666667</td>\n",
              "      <td>0.166667</td>\n",
              "      <td>149.209333</td>\n",
              "      <td>12</td>\n",
              "      <td>1790.512</td>\n",
              "      <td>2</td>\n",
              "    </tr>\n",
              "    <tr>\n",
              "      <th>AA-10645</th>\n",
              "      <td>0.388889</td>\n",
              "      <td>0.000000</td>\n",
              "      <td>0.000000</td>\n",
              "      <td>0.611111</td>\n",
              "      <td>0.444444</td>\n",
              "      <td>0.444444</td>\n",
              "      <td>0.111111</td>\n",
              "      <td>282.607500</td>\n",
              "      <td>18</td>\n",
              "      <td>5086.935</td>\n",
              "      <td>0</td>\n",
              "    </tr>\n",
              "    <tr>\n",
              "      <th>AB-10015</th>\n",
              "      <td>0.833333</td>\n",
              "      <td>0.000000</td>\n",
              "      <td>0.000000</td>\n",
              "      <td>0.166667</td>\n",
              "      <td>0.333333</td>\n",
              "      <td>0.500000</td>\n",
              "      <td>0.166667</td>\n",
              "      <td>147.692667</td>\n",
              "      <td>6</td>\n",
              "      <td>886.156</td>\n",
              "      <td>1</td>\n",
              "    </tr>\n",
              "    <tr>\n",
              "      <th>...</th>\n",
              "      <td>...</td>\n",
              "      <td>...</td>\n",
              "      <td>...</td>\n",
              "      <td>...</td>\n",
              "      <td>...</td>\n",
              "      <td>...</td>\n",
              "      <td>...</td>\n",
              "      <td>...</td>\n",
              "      <td>...</td>\n",
              "      <td>...</td>\n",
              "      <td>...</td>\n",
              "    </tr>\n",
              "    <tr>\n",
              "      <th>VS-21820</th>\n",
              "      <td>0.000000</td>\n",
              "      <td>0.250000</td>\n",
              "      <td>0.000000</td>\n",
              "      <td>0.750000</td>\n",
              "      <td>0.375000</td>\n",
              "      <td>0.500000</td>\n",
              "      <td>0.125000</td>\n",
              "      <td>131.997625</td>\n",
              "      <td>8</td>\n",
              "      <td>1055.981</td>\n",
              "      <td>2</td>\n",
              "    </tr>\n",
              "    <tr>\n",
              "      <th>WB-21850</th>\n",
              "      <td>0.171429</td>\n",
              "      <td>0.000000</td>\n",
              "      <td>0.314286</td>\n",
              "      <td>0.514286</td>\n",
              "      <td>0.142857</td>\n",
              "      <td>0.628571</td>\n",
              "      <td>0.228571</td>\n",
              "      <td>175.134571</td>\n",
              "      <td>35</td>\n",
              "      <td>6129.710</td>\n",
              "      <td>0</td>\n",
              "    </tr>\n",
              "    <tr>\n",
              "      <th>XP-21865</th>\n",
              "      <td>0.071429</td>\n",
              "      <td>0.107143</td>\n",
              "      <td>0.000000</td>\n",
              "      <td>0.821429</td>\n",
              "      <td>0.142857</td>\n",
              "      <td>0.750000</td>\n",
              "      <td>0.107143</td>\n",
              "      <td>84.809214</td>\n",
              "      <td>28</td>\n",
              "      <td>2374.658</td>\n",
              "      <td>2</td>\n",
              "    </tr>\n",
              "    <tr>\n",
              "      <th>ZC-21910</th>\n",
              "      <td>0.129032</td>\n",
              "      <td>0.032258</td>\n",
              "      <td>0.000000</td>\n",
              "      <td>0.838710</td>\n",
              "      <td>0.258065</td>\n",
              "      <td>0.548387</td>\n",
              "      <td>0.193548</td>\n",
              "      <td>258.893774</td>\n",
              "      <td>31</td>\n",
              "      <td>8025.707</td>\n",
              "      <td>0</td>\n",
              "    </tr>\n",
              "    <tr>\n",
              "      <th>ZD-21925</th>\n",
              "      <td>0.111111</td>\n",
              "      <td>0.333333</td>\n",
              "      <td>0.222222</td>\n",
              "      <td>0.333333</td>\n",
              "      <td>0.222222</td>\n",
              "      <td>0.444444</td>\n",
              "      <td>0.333333</td>\n",
              "      <td>165.993778</td>\n",
              "      <td>9</td>\n",
              "      <td>1493.944</td>\n",
              "      <td>1</td>\n",
              "    </tr>\n",
              "  </tbody>\n",
              "</table>\n",
              "<p>409 rows × 11 columns</p>\n",
              "</div>\n",
              "      <button class=\"colab-df-convert\" onclick=\"convertToInteractive('df-0699ecd8-137e-4989-a34b-847eed755bca')\"\n",
              "              title=\"Convert this dataframe to an interactive table.\"\n",
              "              style=\"display:none;\">\n",
              "        \n",
              "  <svg xmlns=\"http://www.w3.org/2000/svg\" height=\"24px\"viewBox=\"0 0 24 24\"\n",
              "       width=\"24px\">\n",
              "    <path d=\"M0 0h24v24H0V0z\" fill=\"none\"/>\n",
              "    <path d=\"M18.56 5.44l.94 2.06.94-2.06 2.06-.94-2.06-.94-.94-2.06-.94 2.06-2.06.94zm-11 1L8.5 8.5l.94-2.06 2.06-.94-2.06-.94L8.5 2.5l-.94 2.06-2.06.94zm10 10l.94 2.06.94-2.06 2.06-.94-2.06-.94-.94-2.06-.94 2.06-2.06.94z\"/><path d=\"M17.41 7.96l-1.37-1.37c-.4-.4-.92-.59-1.43-.59-.52 0-1.04.2-1.43.59L10.3 9.45l-7.72 7.72c-.78.78-.78 2.05 0 2.83L4 21.41c.39.39.9.59 1.41.59.51 0 1.02-.2 1.41-.59l7.78-7.78 2.81-2.81c.8-.78.8-2.07 0-2.86zM5.41 20L4 18.59l7.72-7.72 1.47 1.35L5.41 20z\"/>\n",
              "  </svg>\n",
              "      </button>\n",
              "      \n",
              "  <style>\n",
              "    .colab-df-container {\n",
              "      display:flex;\n",
              "      flex-wrap:wrap;\n",
              "      gap: 12px;\n",
              "    }\n",
              "\n",
              "    .colab-df-convert {\n",
              "      background-color: #E8F0FE;\n",
              "      border: none;\n",
              "      border-radius: 50%;\n",
              "      cursor: pointer;\n",
              "      display: none;\n",
              "      fill: #1967D2;\n",
              "      height: 32px;\n",
              "      padding: 0 0 0 0;\n",
              "      width: 32px;\n",
              "    }\n",
              "\n",
              "    .colab-df-convert:hover {\n",
              "      background-color: #E2EBFA;\n",
              "      box-shadow: 0px 1px 2px rgba(60, 64, 67, 0.3), 0px 1px 3px 1px rgba(60, 64, 67, 0.15);\n",
              "      fill: #174EA6;\n",
              "    }\n",
              "\n",
              "    [theme=dark] .colab-df-convert {\n",
              "      background-color: #3B4455;\n",
              "      fill: #D2E3FC;\n",
              "    }\n",
              "\n",
              "    [theme=dark] .colab-df-convert:hover {\n",
              "      background-color: #434B5C;\n",
              "      box-shadow: 0px 1px 3px 1px rgba(0, 0, 0, 0.15);\n",
              "      filter: drop-shadow(0px 1px 2px rgba(0, 0, 0, 0.3));\n",
              "      fill: #FFFFFF;\n",
              "    }\n",
              "  </style>\n",
              "\n",
              "      <script>\n",
              "        const buttonEl =\n",
              "          document.querySelector('#df-0699ecd8-137e-4989-a34b-847eed755bca button.colab-df-convert');\n",
              "        buttonEl.style.display =\n",
              "          google.colab.kernel.accessAllowed ? 'block' : 'none';\n",
              "\n",
              "        async function convertToInteractive(key) {\n",
              "          const element = document.querySelector('#df-0699ecd8-137e-4989-a34b-847eed755bca');\n",
              "          const dataTable =\n",
              "            await google.colab.kernel.invokeFunction('convertToInteractive',\n",
              "                                                     [key], {});\n",
              "          if (!dataTable) return;\n",
              "\n",
              "          const docLinkHtml = 'Like what you see? Visit the ' +\n",
              "            '<a target=\"_blank\" href=https://colab.research.google.com/notebooks/data_table.ipynb>data table notebook</a>'\n",
              "            + ' to learn more about interactive tables.';\n",
              "          element.innerHTML = '';\n",
              "          dataTable['output_type'] = 'display_data';\n",
              "          await google.colab.output.renderOutput(dataTable, element);\n",
              "          const docLink = document.createElement('div');\n",
              "          docLink.innerHTML = docLinkHtml;\n",
              "          element.appendChild(docLink);\n",
              "        }\n",
              "      </script>\n",
              "    </div>\n",
              "  </div>\n",
              "  "
            ]
          },
          "metadata": {},
          "execution_count": 34
        }
      ]
    },
    {
      "cell_type": "code",
      "source": [
        "km.inertia_"
      ],
      "metadata": {
        "colab": {
          "base_uri": "https://localhost:8080/"
        },
        "id": "i5k64ogswX1S",
        "outputId": "68800c13-e005-438c-e649-56680e61caf1"
      },
      "execution_count": 35,
      "outputs": [
        {
          "output_type": "execute_result",
          "data": {
            "text/plain": [
              "3112.4898768185785"
            ]
          },
          "metadata": {},
          "execution_count": 35
        }
      ]
    },
    {
      "cell_type": "markdown",
      "source": [
        "##Elbow Method"
      ],
      "metadata": {
        "id": "TlxOfFINw0h5"
      }
    },
    {
      "cell_type": "code",
      "source": [
        "# flow, coba cluster dengan k yang beragam, dari 1 sampai 20. Nanti lihat plot inertia\n",
        "INERTIA = []\n",
        "for i in range(20):\n",
        "    km_i = KMeans(i+1)\n",
        "    km_i.fit(X)\n",
        "    INERTIA.append(km_i.inertia_)"
      ],
      "metadata": {
        "id": "juq8njknwz8C"
      },
      "execution_count": 36,
      "outputs": []
    },
    {
      "cell_type": "code",
      "source": [
        "sns.lineplot(y=INERTIA, x=range(1, 21))"
      ],
      "metadata": {
        "colab": {
          "base_uri": "https://localhost:8080/",
          "height": 282
        },
        "id": "2FCE4Pdjw8qx",
        "outputId": "0e77004a-9849-49e1-8142-d397054ab10f"
      },
      "execution_count": 37,
      "outputs": [
        {
          "output_type": "execute_result",
          "data": {
            "text/plain": [
              "<matplotlib.axes._subplots.AxesSubplot at 0x7f1f73f2e750>"
            ]
          },
          "metadata": {},
          "execution_count": 37
        },
        {
          "output_type": "display_data",
          "data": {
            "text/plain": [
              "<Figure size 432x288 with 1 Axes>"
            ],
            "image/png": "[encoded data removed]"
          },
          "metadata": {
            "needs_background": "light"
          }
        }
      ]
    },
    {
      "cell_type": "markdown",
      "source": [
        "Kesimpulan: Berdasarkan grafik, penurunan drastis ada di 6, 7, atau 8."
      ],
      "metadata": {
        "id": "FFc_-dsjxTNY"
      }
    },
    {
      "cell_type": "markdown",
      "source": [
        "##(Optional) Yellowbrick"
      ],
      "metadata": {
        "id": "z_D1KtcHxe7O"
      }
    },
    {
      "cell_type": "code",
      "source": [
        "np.random.seed(31415)\n",
        "from yellowbrick.cluster import KElbowVisualizer\n",
        "\n",
        "model = KMeans()\n",
        "visualizer = KElbowVisualizer(model, k=(1,20))\n",
        "\n",
        "visualizer.fit(X)    # Fit the data to the visualizer\n",
        "visualizer.show()    # Finalize and render the figure"
      ],
      "metadata": {
        "colab": {
          "base_uri": "https://localhost:8080/",
          "height": 393
        },
        "id": "wIn7G-TzxQSy",
        "outputId": "f48a199b-d861-4a2f-b9b3-37544449825e"
      },
      "execution_count": 38,
      "outputs": [
        {
          "output_type": "display_data",
          "data": {
            "text/plain": [
              "<Figure size 576x396 with 2 Axes>"
            ],
            "image/png": "[encoded data removed]"
          },
          "metadata": {}
        },
        {
          "output_type": "execute_result",
          "data": {
            "text/plain": [
              "<matplotlib.axes._subplots.AxesSubplot at 0x7f1f6f66bfd0>"
            ]
          },
          "metadata": {},
          "execution_count": 38
        }
      ]
    },
    {
      "cell_type": "markdown",
      "source": [
        "Kesimpulan: dari yellowbrick, k yang digunakan = 7"
      ],
      "metadata": {
        "id": "aDHgE8ddxsSy"
      }
    },
    {
      "cell_type": "code",
      "source": [
        "km = KMeans(n_clusters=7)\n",
        "km.fit(X)\n",
        "df_consumer_agg['cluster'] = km.predict(X)\n",
        "df_consumer_agg"
      ],
      "metadata": {
        "colab": {
          "base_uri": "https://localhost:8080/",
          "height": 710
        },
        "id": "cyIXT1K1xtQQ",
        "outputId": "fca16fd2-2753-4d13-955b-b6dc5de47b96"
      },
      "execution_count": 39,
      "outputs": [
        {
          "output_type": "execute_result",
          "data": {
            "text/plain": [
              "             avg_first_class  avg_second_class  avg_same_day  \\\n",
              "Customer ID                                                    \n",
              "AA-10315            0.090909          0.000000      0.000000   \n",
              "AA-10375            0.266667          0.200000      0.000000   \n",
              "AA-10480            0.000000          0.000000      0.083333   \n",
              "AA-10645            0.388889          0.000000      0.000000   \n",
              "AB-10015            0.833333          0.000000      0.000000   \n",
              "...                      ...               ...           ...   \n",
              "VS-21820            0.000000          0.250000      0.000000   \n",
              "WB-21850            0.171429          0.000000      0.314286   \n",
              "XP-21865            0.071429          0.107143      0.000000   \n",
              "ZC-21910            0.129032          0.032258      0.000000   \n",
              "ZD-21925            0.111111          0.333333      0.222222   \n",
              "\n",
              "             avg_standard_class  avg_furniture  avg_office_sup  avg_tech  \\\n",
              "Customer ID                                                                \n",
              "AA-10315               0.909091       0.090909        0.727273  0.181818   \n",
              "AA-10375               0.533333       0.066667        0.733333  0.200000   \n",
              "AA-10480               0.916667       0.166667        0.666667  0.166667   \n",
              "AA-10645               0.611111       0.444444        0.444444  0.111111   \n",
              "AB-10015               0.166667       0.333333        0.500000  0.166667   \n",
              "...                         ...            ...             ...       ...   \n",
              "VS-21820               0.750000       0.375000        0.500000  0.125000   \n",
              "WB-21850               0.514286       0.142857        0.628571  0.228571   \n",
              "XP-21865               0.821429       0.142857        0.750000  0.107143   \n",
              "ZC-21910               0.838710       0.258065        0.548387  0.193548   \n",
              "ZD-21925               0.333333       0.222222        0.444444  0.333333   \n",
              "\n",
              "              avg_sales  total_trx  total_sales  cluster  \n",
              "Customer ID                                               \n",
              "AA-10315     505.778182         11     5563.560        0  \n",
              "AA-10375      70.426000         15     1056.390        3  \n",
              "AA-10480     149.209333         12     1790.512        3  \n",
              "AA-10645     282.607500         18     5086.935        0  \n",
              "AB-10015     147.692667          6      886.156        4  \n",
              "...                 ...        ...          ...      ...  \n",
              "VS-21820     131.997625          8     1055.981        1  \n",
              "WB-21850     175.134571         35     6129.710        0  \n",
              "XP-21865      84.809214         28     2374.658        0  \n",
              "ZC-21910     258.893774         31     8025.707        0  \n",
              "ZD-21925     165.993778          9     1493.944        2  \n",
              "\n",
              "[409 rows x 11 columns]"
            ],
            "text/html": [
              "\n",
              "  <div id=\"df-68b230d8-f37d-4204-a1e7-e7156239fad6\">\n",
              "    <div class=\"colab-df-container\">\n",
              "      <div>\n",
              "<style scoped>\n",
              "    .dataframe tbody tr th:only-of-type {\n",
              "        vertical-align: middle;\n",
              "    }\n",
              "\n",
              "    .dataframe tbody tr th {\n",
              "        vertical-align: top;\n",
              "    }\n",
              "\n",
              "    .dataframe thead th {\n",
              "        text-align: right;\n",
              "    }\n",
              "</style>\n",
              "<table border=\"1\" class=\"dataframe\">\n",
              "  <thead>\n",
              "    <tr style=\"text-align: right;\">\n",
              "      <th></th>\n",
              "      <th>avg_first_class</th>\n",
              "      <th>avg_second_class</th>\n",
              "      <th>avg_same_day</th>\n",
              "      <th>avg_standard_class</th>\n",
              "      <th>avg_furniture</th>\n",
              "      <th>avg_office_sup</th>\n",
              "      <th>avg_tech</th>\n",
              "      <th>avg_sales</th>\n",
              "      <th>total_trx</th>\n",
              "      <th>total_sales</th>\n",
              "      <th>cluster</th>\n",
              "    </tr>\n",
              "    <tr>\n",
              "      <th>Customer ID</th>\n",
              "      <th></th>\n",
              "      <th></th>\n",
              "      <th></th>\n",
              "      <th></th>\n",
              "      <th></th>\n",
              "      <th></th>\n",
              "      <th></th>\n",
              "      <th></th>\n",
              "      <th></th>\n",
              "      <th></th>\n",
              "      <th></th>\n",
              "    </tr>\n",
              "  </thead>\n",
              "  <tbody>\n",
              "    <tr>\n",
              "      <th>AA-10315</th>\n",
              "      <td>0.090909</td>\n",
              "      <td>0.000000</td>\n",
              "      <td>0.000000</td>\n",
              "      <td>0.909091</td>\n",
              "      <td>0.090909</td>\n",
              "      <td>0.727273</td>\n",
              "      <td>0.181818</td>\n",
              "      <td>505.778182</td>\n",
              "      <td>11</td>\n",
              "      <td>5563.560</td>\n",
              "      <td>0</td>\n",
              "    </tr>\n",
              "    <tr>\n",
              "      <th>AA-10375</th>\n",
              "      <td>0.266667</td>\n",
              "      <td>0.200000</td>\n",
              "      <td>0.000000</td>\n",
              "      <td>0.533333</td>\n",
              "      <td>0.066667</td>\n",
              "      <td>0.733333</td>\n",
              "      <td>0.200000</td>\n",
              "      <td>70.426000</td>\n",
              "      <td>15</td>\n",
              "      <td>1056.390</td>\n",
              "      <td>3</td>\n",
              "    </tr>\n",
              "    <tr>\n",
              "      <th>AA-10480</th>\n",
              "      <td>0.000000</td>\n",
              "      <td>0.000000</td>\n",
              "      <td>0.083333</td>\n",
              "      <td>0.916667</td>\n",
              "      <td>0.166667</td>\n",
              "      <td>0.666667</td>\n",
              "      <td>0.166667</td>\n",
              "      <td>149.209333</td>\n",
              "      <td>12</td>\n",
              "      <td>1790.512</td>\n",
              "      <td>3</td>\n",
              "    </tr>\n",
              "    <tr>\n",
              "      <th>AA-10645</th>\n",
              "      <td>0.388889</td>\n",
              "      <td>0.000000</td>\n",
              "      <td>0.000000</td>\n",
              "      <td>0.611111</td>\n",
              "      <td>0.444444</td>\n",
              "      <td>0.444444</td>\n",
              "      <td>0.111111</td>\n",
              "      <td>282.607500</td>\n",
              "      <td>18</td>\n",
              "      <td>5086.935</td>\n",
              "      <td>0</td>\n",
              "    </tr>\n",
              "    <tr>\n",
              "      <th>AB-10015</th>\n",
              "      <td>0.833333</td>\n",
              "      <td>0.000000</td>\n",
              "      <td>0.000000</td>\n",
              "      <td>0.166667</td>\n",
              "      <td>0.333333</td>\n",
              "      <td>0.500000</td>\n",
              "      <td>0.166667</td>\n",
              "      <td>147.692667</td>\n",
              "      <td>6</td>\n",
              "      <td>886.156</td>\n",
              "      <td>4</td>\n",
              "    </tr>\n",
              "    <tr>\n",
              "      <th>...</th>\n",
              "      <td>...</td>\n",
              "      <td>...</td>\n",
              "      <td>...</td>\n",
              "      <td>...</td>\n",
              "      <td>...</td>\n",
              "      <td>...</td>\n",
              "      <td>...</td>\n",
              "      <td>...</td>\n",
              "      <td>...</td>\n",
              "      <td>...</td>\n",
              "      <td>...</td>\n",
              "    </tr>\n",
              "    <tr>\n",
              "      <th>VS-21820</th>\n",
              "      <td>0.000000</td>\n",
              "      <td>0.250000</td>\n",
              "      <td>0.000000</td>\n",
              "      <td>0.750000</td>\n",
              "      <td>0.375000</td>\n",
              "      <td>0.500000</td>\n",
              "      <td>0.125000</td>\n",
              "      <td>131.997625</td>\n",
              "      <td>8</td>\n",
              "      <td>1055.981</td>\n",
              "      <td>1</td>\n",
              "    </tr>\n",
              "    <tr>\n",
              "      <th>WB-21850</th>\n",
              "      <td>0.171429</td>\n",
              "      <td>0.000000</td>\n",
              "      <td>0.314286</td>\n",
              "      <td>0.514286</td>\n",
              "      <td>0.142857</td>\n",
              "      <td>0.628571</td>\n",
              "      <td>0.228571</td>\n",
              "      <td>175.134571</td>\n",
              "      <td>35</td>\n",
              "      <td>6129.710</td>\n",
              "      <td>0</td>\n",
              "    </tr>\n",
              "    <tr>\n",
              "      <th>XP-21865</th>\n",
              "      <td>0.071429</td>\n",
              "      <td>0.107143</td>\n",
              "      <td>0.000000</td>\n",
              "      <td>0.821429</td>\n",
              "      <td>0.142857</td>\n",
              "      <td>0.750000</td>\n",
              "      <td>0.107143</td>\n",
              "      <td>84.809214</td>\n",
              "      <td>28</td>\n",
              "      <td>2374.658</td>\n",
              "      <td>0</td>\n",
              "    </tr>\n",
              "    <tr>\n",
              "      <th>ZC-21910</th>\n",
              "      <td>0.129032</td>\n",
              "      <td>0.032258</td>\n",
              "      <td>0.000000</td>\n",
              "      <td>0.838710</td>\n",
              "      <td>0.258065</td>\n",
              "      <td>0.548387</td>\n",
              "      <td>0.193548</td>\n",
              "      <td>258.893774</td>\n",
              "      <td>31</td>\n",
              "      <td>8025.707</td>\n",
              "      <td>0</td>\n",
              "    </tr>\n",
              "    <tr>\n",
              "      <th>ZD-21925</th>\n",
              "      <td>0.111111</td>\n",
              "      <td>0.333333</td>\n",
              "      <td>0.222222</td>\n",
              "      <td>0.333333</td>\n",
              "      <td>0.222222</td>\n",
              "      <td>0.444444</td>\n",
              "      <td>0.333333</td>\n",
              "      <td>165.993778</td>\n",
              "      <td>9</td>\n",
              "      <td>1493.944</td>\n",
              "      <td>2</td>\n",
              "    </tr>\n",
              "  </tbody>\n",
              "</table>\n",
              "<p>409 rows × 11 columns</p>\n",
              "</div>\n",
              "      <button class=\"colab-df-convert\" onclick=\"convertToInteractive('df-68b230d8-f37d-4204-a1e7-e7156239fad6')\"\n",
              "              title=\"Convert this dataframe to an interactive table.\"\n",
              "              style=\"display:none;\">\n",
              "        \n",
              "  <svg xmlns=\"http://www.w3.org/2000/svg\" height=\"24px\"viewBox=\"0 0 24 24\"\n",
              "       width=\"24px\">\n",
              "    <path d=\"M0 0h24v24H0V0z\" fill=\"none\"/>\n",
              "    <path d=\"M18.56 5.44l.94 2.06.94-2.06 2.06-.94-2.06-.94-.94-2.06-.94 2.06-2.06.94zm-11 1L8.5 8.5l.94-2.06 2.06-.94-2.06-.94L8.5 2.5l-.94 2.06-2.06.94zm10 10l.94 2.06.94-2.06 2.06-.94-2.06-.94-.94-2.06-.94 2.06-2.06.94z\"/><path d=\"M17.41 7.96l-1.37-1.37c-.4-.4-.92-.59-1.43-.59-.52 0-1.04.2-1.43.59L10.3 9.45l-7.72 7.72c-.78.78-.78 2.05 0 2.83L4 21.41c.39.39.9.59 1.41.59.51 0 1.02-.2 1.41-.59l7.78-7.78 2.81-2.81c.8-.78.8-2.07 0-2.86zM5.41 20L4 18.59l7.72-7.72 1.47 1.35L5.41 20z\"/>\n",
              "  </svg>\n",
              "      </button>\n",
              "      \n",
              "  <style>\n",
              "    .colab-df-container {\n",
              "      display:flex;\n",
              "      flex-wrap:wrap;\n",
              "      gap: 12px;\n",
              "    }\n",
              "\n",
              "    .colab-df-convert {\n",
              "      background-color: #E8F0FE;\n",
              "      border: none;\n",
              "      border-radius: 50%;\n",
              "      cursor: pointer;\n",
              "      display: none;\n",
              "      fill: #1967D2;\n",
              "      height: 32px;\n",
              "      padding: 0 0 0 0;\n",
              "      width: 32px;\n",
              "    }\n",
              "\n",
              "    .colab-df-convert:hover {\n",
              "      background-color: #E2EBFA;\n",
              "      box-shadow: 0px 1px 2px rgba(60, 64, 67, 0.3), 0px 1px 3px 1px rgba(60, 64, 67, 0.15);\n",
              "      fill: #174EA6;\n",
              "    }\n",
              "\n",
              "    [theme=dark] .colab-df-convert {\n",
              "      background-color: #3B4455;\n",
              "      fill: #D2E3FC;\n",
              "    }\n",
              "\n",
              "    [theme=dark] .colab-df-convert:hover {\n",
              "      background-color: #434B5C;\n",
              "      box-shadow: 0px 1px 3px 1px rgba(0, 0, 0, 0.15);\n",
              "      filter: drop-shadow(0px 1px 2px rgba(0, 0, 0, 0.3));\n",
              "      fill: #FFFFFF;\n",
              "    }\n",
              "  </style>\n",
              "\n",
              "      <script>\n",
              "        const buttonEl =\n",
              "          document.querySelector('#df-68b230d8-f37d-4204-a1e7-e7156239fad6 button.colab-df-convert');\n",
              "        buttonEl.style.display =\n",
              "          google.colab.kernel.accessAllowed ? 'block' : 'none';\n",
              "\n",
              "        async function convertToInteractive(key) {\n",
              "          const element = document.querySelector('#df-68b230d8-f37d-4204-a1e7-e7156239fad6');\n",
              "          const dataTable =\n",
              "            await google.colab.kernel.invokeFunction('convertToInteractive',\n",
              "                                                     [key], {});\n",
              "          if (!dataTable) return;\n",
              "\n",
              "          const docLinkHtml = 'Like what you see? Visit the ' +\n",
              "            '<a target=\"_blank\" href=https://colab.research.google.com/notebooks/data_table.ipynb>data table notebook</a>'\n",
              "            + ' to learn more about interactive tables.';\n",
              "          element.innerHTML = '';\n",
              "          dataTable['output_type'] = 'display_data';\n",
              "          await google.colab.output.renderOutput(dataTable, element);\n",
              "          const docLink = document.createElement('div');\n",
              "          docLink.innerHTML = docLinkHtml;\n",
              "          element.appendChild(docLink);\n",
              "        }\n",
              "      </script>\n",
              "    </div>\n",
              "  </div>\n",
              "  "
            ]
          },
          "metadata": {},
          "execution_count": 39
        }
      ]
    },
    {
      "cell_type": "markdown",
      "source": [
        "##Segment Analysis - Sales"
      ],
      "metadata": {
        "id": "My_BA9sSxyvp"
      }
    },
    {
      "cell_type": "code",
      "source": [
        "df_consumer_agg['cluster'].value_counts()"
      ],
      "metadata": {
        "colab": {
          "base_uri": "https://localhost:8080/"
        },
        "id": "QIeYIIwCx1wZ",
        "outputId": "39acc083-a065-4b11-a594-b3a489023aea"
      },
      "execution_count": 40,
      "outputs": [
        {
          "output_type": "execute_result",
          "data": {
            "text/plain": [
              "0    95\n",
              "3    82\n",
              "1    67\n",
              "5    56\n",
              "4    46\n",
              "2    36\n",
              "6    27\n",
              "Name: cluster, dtype: int64"
            ]
          },
          "metadata": {},
          "execution_count": 40
        }
      ]
    },
    {
      "cell_type": "code",
      "source": [
        "sns.histplot(data=df_consumer_agg, x='avg_sales', hue='cluster', palette='tab10')"
      ],
      "metadata": {
        "colab": {
          "base_uri": "https://localhost:8080/",
          "height": 378
        },
        "id": "ROAT40uYx5xg",
        "outputId": "9316a561-bcea-4add-84d0-8bc1b22a44ee"
      },
      "execution_count": 41,
      "outputs": [
        {
          "output_type": "execute_result",
          "data": {
            "text/plain": [
              "<matplotlib.axes._subplots.AxesSubplot at 0x7f1f6da68a90>"
            ]
          },
          "metadata": {},
          "execution_count": 41
        },
        {
          "output_type": "display_data",
          "data": {
            "text/plain": [
              "<Figure size 576x396 with 1 Axes>"
            ],
            "image/png": "[encoded data removed]"
          },
          "metadata": {}
        }
      ]
    },
    {
      "cell_type": "markdown",
      "source": [
        "##Bootstrapping"
      ],
      "metadata": {
        "id": "PRLiC3mVyBIQ"
      }
    },
    {
      "cell_type": "markdown",
      "source": [
        "[1, 2, 3, 4, 5] -> ambil random 7.\n",
        "\n",
        "without replacement -> [1, 3, 5], [1, 2, 4]\n",
        "\n",
        "with replacement -> [1, 1, 3]"
      ],
      "metadata": {
        "id": "Ql0l5HqByGIg"
      }
    },
    {
      "cell_type": "code",
      "source": [
        "def bootstrap(df, column): \n",
        "    BOOTS = []\n",
        "    for i in range(200):\n",
        "        for j in range(7):\n",
        "            # with replacement\n",
        "            mean = df[df['cluster'] == j].sample(100, replace=True)[column].mean()\n",
        "            BOOTS.append((j, mean))\n",
        "    df_boots = pd.DataFrame(BOOTS, columns = ['cluster', column])\n",
        "    return df_boots"
      ],
      "metadata": {
        "id": "5eoDc64byDBA"
      },
      "execution_count": 42,
      "outputs": []
    },
    {
      "cell_type": "code",
      "source": [
        "column = 'avg_sales'\n",
        "df_boots = bootstrap(df_consumer_agg, column)\n",
        "sns.histplot(data=df_boots, x=column, hue='cluster', palette='tab10')"
      ],
      "metadata": {
        "colab": {
          "base_uri": "https://localhost:8080/",
          "height": 378
        },
        "id": "0u11Z77gyKvA",
        "outputId": "7adf8207-35f9-4805-d0a1-4de892d444aa"
      },
      "execution_count": 43,
      "outputs": [
        {
          "output_type": "execute_result",
          "data": {
            "text/plain": [
              "<matplotlib.axes._subplots.AxesSubplot at 0x7f1f6da32590>"
            ]
          },
          "metadata": {},
          "execution_count": 43
        },
        {
          "output_type": "display_data",
          "data": {
            "text/plain": [
              "<Figure size 576x396 with 1 Axes>"
            ],
            "image/png": "[encoded data removed]"
          },
          "metadata": {}
        }
      ]
    },
    {
      "cell_type": "code",
      "source": [
        "column = 'total_trx'\n",
        "df_boots = bootstrap(df_consumer_agg, column)\n",
        "sns.histplot(data=df_boots, x=column, hue='cluster', palette='tab10')"
      ],
      "metadata": {
        "colab": {
          "base_uri": "https://localhost:8080/",
          "height": 378
        },
        "id": "QTOnNdumyOW6",
        "outputId": "d53414f8-b21f-4916-940c-c3d52b6ded1b"
      },
      "execution_count": 44,
      "outputs": [
        {
          "output_type": "execute_result",
          "data": {
            "text/plain": [
              "<matplotlib.axes._subplots.AxesSubplot at 0x7f1f6d303ed0>"
            ]
          },
          "metadata": {},
          "execution_count": 44
        },
        {
          "output_type": "display_data",
          "data": {
            "text/plain": [
              "<Figure size 576x396 with 1 Axes>"
            ],
            "image/png": "[encoded data removed]"
          },
          "metadata": {}
        }
      ]
    },
    {
      "cell_type": "code",
      "source": [
        "column = 'avg_standard_class'\n",
        "df_boots = bootstrap(df_consumer_agg, column)\n",
        "sns.histplot(data=df_boots, x=column, hue='cluster', palette='tab10')"
      ],
      "metadata": {
        "colab": {
          "base_uri": "https://localhost:8080/",
          "height": 378
        },
        "id": "lrT5CS7pyTtT",
        "outputId": "4951042c-89ae-4438-99bf-931bda3aea23"
      },
      "execution_count": 45,
      "outputs": [
        {
          "output_type": "execute_result",
          "data": {
            "text/plain": [
              "<matplotlib.axes._subplots.AxesSubplot at 0x7f1f6d10c1d0>"
            ]
          },
          "metadata": {},
          "execution_count": 45
        },
        {
          "output_type": "display_data",
          "data": {
            "text/plain": [
              "<Figure size 576x396 with 1 Axes>"
            ],
            "image/png": "[encoded data removed]"
          },
          "metadata": {}
        }
      ]
    },
    {
      "cell_type": "markdown",
      "source": [
        "##Agregasi per Cluster"
      ],
      "metadata": {
        "id": "aXA-7CC5yo17"
      }
    },
    {
      "cell_type": "code",
      "source": [
        "df_cluster_agg = df_consumer_agg.groupby('cluster').median().reset_index()\n",
        "df_cluster_agg"
      ],
      "metadata": {
        "colab": {
          "base_uri": "https://localhost:8080/",
          "height": 269
        },
        "id": "i_ApmvxZyWNR",
        "outputId": "e6847b49-543a-4573-94d9-7eb127bf7a05"
      },
      "execution_count": 46,
      "outputs": [
        {
          "output_type": "execute_result",
          "data": {
            "text/plain": [
              "   cluster  avg_first_class  avg_second_class  avg_same_day  \\\n",
              "0        0         0.107143          0.133333         0.000   \n",
              "1        1         0.000000          0.100000         0.000   \n",
              "2        2         0.095455          0.125000         0.375   \n",
              "3        3         0.000000          0.000000         0.000   \n",
              "4        4         0.476190          0.100000         0.000   \n",
              "5        5         0.000000          0.559028         0.000   \n",
              "6        6         0.076923          0.125000         0.000   \n",
              "\n",
              "   avg_standard_class  avg_furniture  avg_office_sup  avg_tech   avg_sales  \\\n",
              "0            0.705882       0.200000        0.607143  0.181818  214.799857   \n",
              "1            0.750000       0.333333        0.428571  0.222222  209.732286   \n",
              "2            0.296703       0.193750        0.591667  0.181985  159.988389   \n",
              "3            0.800000       0.118056        0.750000  0.105556  115.502850   \n",
              "4            0.333333       0.258333        0.555556  0.178571  147.248379   \n",
              "5            0.352941       0.175192        0.607692  0.193750  166.922868   \n",
              "6            0.636364       0.187500        0.562500  0.222222  607.937115   \n",
              "\n",
              "   total_trx  total_sales  \n",
              "0       18.0     3670.258  \n",
              "1        9.0     2095.064  \n",
              "2       10.0     1581.052  \n",
              "3        8.0      972.862  \n",
              "4        9.5     1696.035  \n",
              "5       12.0     1923.058  \n",
              "6       16.0     9062.864  "
            ],
            "text/html": [
              "\n",
              "  <div id=\"df-ffa05343-a0ab-4877-95ec-d38513e422ee\">\n",
              "    <div class=\"colab-df-container\">\n",
              "      <div>\n",
              "<style scoped>\n",
              "    .dataframe tbody tr th:only-of-type {\n",
              "        vertical-align: middle;\n",
              "    }\n",
              "\n",
              "    .dataframe tbody tr th {\n",
              "        vertical-align: top;\n",
              "    }\n",
              "\n",
              "    .dataframe thead th {\n",
              "        text-align: right;\n",
              "    }\n",
              "</style>\n",
              "<table border=\"1\" class=\"dataframe\">\n",
              "  <thead>\n",
              "    <tr style=\"text-align: right;\">\n",
              "      <th></th>\n",
              "      <th>cluster</th>\n",
              "      <th>avg_first_class</th>\n",
              "      <th>avg_second_class</th>\n",
              "      <th>avg_same_day</th>\n",
              "      <th>avg_standard_class</th>\n",
              "      <th>avg_furniture</th>\n",
              "      <th>avg_office_sup</th>\n",
              "      <th>avg_tech</th>\n",
              "      <th>avg_sales</th>\n",
              "      <th>total_trx</th>\n",
              "      <th>total_sales</th>\n",
              "    </tr>\n",
              "  </thead>\n",
              "  <tbody>\n",
              "    <tr>\n",
              "      <th>0</th>\n",
              "      <td>0</td>\n",
              "      <td>0.107143</td>\n",
              "      <td>0.133333</td>\n",
              "      <td>0.000</td>\n",
              "      <td>0.705882</td>\n",
              "      <td>0.200000</td>\n",
              "      <td>0.607143</td>\n",
              "      <td>0.181818</td>\n",
              "      <td>214.799857</td>\n",
              "      <td>18.0</td>\n",
              "      <td>3670.258</td>\n",
              "    </tr>\n",
              "    <tr>\n",
              "      <th>1</th>\n",
              "      <td>1</td>\n",
              "      <td>0.000000</td>\n",
              "      <td>0.100000</td>\n",
              "      <td>0.000</td>\n",
              "      <td>0.750000</td>\n",
              "      <td>0.333333</td>\n",
              "      <td>0.428571</td>\n",
              "      <td>0.222222</td>\n",
              "      <td>209.732286</td>\n",
              "      <td>9.0</td>\n",
              "      <td>2095.064</td>\n",
              "    </tr>\n",
              "    <tr>\n",
              "      <th>2</th>\n",
              "      <td>2</td>\n",
              "      <td>0.095455</td>\n",
              "      <td>0.125000</td>\n",
              "      <td>0.375</td>\n",
              "      <td>0.296703</td>\n",
              "      <td>0.193750</td>\n",
              "      <td>0.591667</td>\n",
              "      <td>0.181985</td>\n",
              "      <td>159.988389</td>\n",
              "      <td>10.0</td>\n",
              "      <td>1581.052</td>\n",
              "    </tr>\n",
              "    <tr>\n",
              "      <th>3</th>\n",
              "      <td>3</td>\n",
              "      <td>0.000000</td>\n",
              "      <td>0.000000</td>\n",
              "      <td>0.000</td>\n",
              "      <td>0.800000</td>\n",
              "      <td>0.118056</td>\n",
              "      <td>0.750000</td>\n",
              "      <td>0.105556</td>\n",
              "      <td>115.502850</td>\n",
              "      <td>8.0</td>\n",
              "      <td>972.862</td>\n",
              "    </tr>\n",
              "    <tr>\n",
              "      <th>4</th>\n",
              "      <td>4</td>\n",
              "      <td>0.476190</td>\n",
              "      <td>0.100000</td>\n",
              "      <td>0.000</td>\n",
              "      <td>0.333333</td>\n",
              "      <td>0.258333</td>\n",
              "      <td>0.555556</td>\n",
              "      <td>0.178571</td>\n",
              "      <td>147.248379</td>\n",
              "      <td>9.5</td>\n",
              "      <td>1696.035</td>\n",
              "    </tr>\n",
              "    <tr>\n",
              "      <th>5</th>\n",
              "      <td>5</td>\n",
              "      <td>0.000000</td>\n",
              "      <td>0.559028</td>\n",
              "      <td>0.000</td>\n",
              "      <td>0.352941</td>\n",
              "      <td>0.175192</td>\n",
              "      <td>0.607692</td>\n",
              "      <td>0.193750</td>\n",
              "      <td>166.922868</td>\n",
              "      <td>12.0</td>\n",
              "      <td>1923.058</td>\n",
              "    </tr>\n",
              "    <tr>\n",
              "      <th>6</th>\n",
              "      <td>6</td>\n",
              "      <td>0.076923</td>\n",
              "      <td>0.125000</td>\n",
              "      <td>0.000</td>\n",
              "      <td>0.636364</td>\n",
              "      <td>0.187500</td>\n",
              "      <td>0.562500</td>\n",
              "      <td>0.222222</td>\n",
              "      <td>607.937115</td>\n",
              "      <td>16.0</td>\n",
              "      <td>9062.864</td>\n",
              "    </tr>\n",
              "  </tbody>\n",
              "</table>\n",
              "</div>\n",
              "      <button class=\"colab-df-convert\" onclick=\"convertToInteractive('df-ffa05343-a0ab-4877-95ec-d38513e422ee')\"\n",
              "              title=\"Convert this dataframe to an interactive table.\"\n",
              "              style=\"display:none;\">\n",
              "        \n",
              "  <svg xmlns=\"http://www.w3.org/2000/svg\" height=\"24px\"viewBox=\"0 0 24 24\"\n",
              "       width=\"24px\">\n",
              "    <path d=\"M0 0h24v24H0V0z\" fill=\"none\"/>\n",
              "    <path d=\"M18.56 5.44l.94 2.06.94-2.06 2.06-.94-2.06-.94-.94-2.06-.94 2.06-2.06.94zm-11 1L8.5 8.5l.94-2.06 2.06-.94-2.06-.94L8.5 2.5l-.94 2.06-2.06.94zm10 10l.94 2.06.94-2.06 2.06-.94-2.06-.94-.94-2.06-.94 2.06-2.06.94z\"/><path d=\"M17.41 7.96l-1.37-1.37c-.4-.4-.92-.59-1.43-.59-.52 0-1.04.2-1.43.59L10.3 9.45l-7.72 7.72c-.78.78-.78 2.05 0 2.83L4 21.41c.39.39.9.59 1.41.59.51 0 1.02-.2 1.41-.59l7.78-7.78 2.81-2.81c.8-.78.8-2.07 0-2.86zM5.41 20L4 18.59l7.72-7.72 1.47 1.35L5.41 20z\"/>\n",
              "  </svg>\n",
              "      </button>\n",
              "      \n",
              "  <style>\n",
              "    .colab-df-container {\n",
              "      display:flex;\n",
              "      flex-wrap:wrap;\n",
              "      gap: 12px;\n",
              "    }\n",
              "\n",
              "    .colab-df-convert {\n",
              "      background-color: #E8F0FE;\n",
              "      border: none;\n",
              "      border-radius: 50%;\n",
              "      cursor: pointer;\n",
              "      display: none;\n",
              "      fill: #1967D2;\n",
              "      height: 32px;\n",
              "      padding: 0 0 0 0;\n",
              "      width: 32px;\n",
              "    }\n",
              "\n",
              "    .colab-df-convert:hover {\n",
              "      background-color: #E2EBFA;\n",
              "      box-shadow: 0px 1px 2px rgba(60, 64, 67, 0.3), 0px 1px 3px 1px rgba(60, 64, 67, 0.15);\n",
              "      fill: #174EA6;\n",
              "    }\n",
              "\n",
              "    [theme=dark] .colab-df-convert {\n",
              "      background-color: #3B4455;\n",
              "      fill: #D2E3FC;\n",
              "    }\n",
              "\n",
              "    [theme=dark] .colab-df-convert:hover {\n",
              "      background-color: #434B5C;\n",
              "      box-shadow: 0px 1px 3px 1px rgba(0, 0, 0, 0.15);\n",
              "      filter: drop-shadow(0px 1px 2px rgba(0, 0, 0, 0.3));\n",
              "      fill: #FFFFFF;\n",
              "    }\n",
              "  </style>\n",
              "\n",
              "      <script>\n",
              "        const buttonEl =\n",
              "          document.querySelector('#df-ffa05343-a0ab-4877-95ec-d38513e422ee button.colab-df-convert');\n",
              "        buttonEl.style.display =\n",
              "          google.colab.kernel.accessAllowed ? 'block' : 'none';\n",
              "\n",
              "        async function convertToInteractive(key) {\n",
              "          const element = document.querySelector('#df-ffa05343-a0ab-4877-95ec-d38513e422ee');\n",
              "          const dataTable =\n",
              "            await google.colab.kernel.invokeFunction('convertToInteractive',\n",
              "                                                     [key], {});\n",
              "          if (!dataTable) return;\n",
              "\n",
              "          const docLinkHtml = 'Like what you see? Visit the ' +\n",
              "            '<a target=\"_blank\" href=https://colab.research.google.com/notebooks/data_table.ipynb>data table notebook</a>'\n",
              "            + ' to learn more about interactive tables.';\n",
              "          element.innerHTML = '';\n",
              "          dataTable['output_type'] = 'display_data';\n",
              "          await google.colab.output.renderOutput(dataTable, element);\n",
              "          const docLink = document.createElement('div');\n",
              "          docLink.innerHTML = docLinkHtml;\n",
              "          element.appendChild(docLink);\n",
              "        }\n",
              "      </script>\n",
              "    </div>\n",
              "  </div>\n",
              "  "
            ]
          },
          "metadata": {},
          "execution_count": 46
        }
      ]
    },
    {
      "cell_type": "code",
      "source": [
        "columns = df_cluster_agg.columns[1:]\n",
        "\n",
        "fig, axs = plt.subplots(ncols=2, nrows=5, figsize=(20, 40))\n",
        "for r in range(5):  # jumlah baris / rows\n",
        "    for c in range(2):  # jumlah column\n",
        "        # avg_second_class => r=0, c=1\n",
        "        column_idx = (r*2) + c # --> mengambil index columns yang ke (0*2) + 1 = 1\n",
        "        sns.barplot(data=df_cluster_agg, x='cluster', y=columns[column_idx], ax=axs[r][c])"
      ],
      "metadata": {
        "colab": {
          "base_uri": "https://localhost:8080/",
          "height": 1000
        },
        "id": "urc8XSpKzagZ",
        "outputId": "f5ea138b-7d38-4874-d9c5-803abb0b9a2a"
      },
      "execution_count": 50,
      "outputs": [
        {
          "output_type": "display_data",
          "data": {
            "text/plain": [
              "<Figure size 1440x2880 with 10 Axes>"
            ],
            "image/png": "[encoded data removed]"
          },
          "metadata": {}
        }
      ]
    },
    {
      "cell_type": "code",
      "source": [
        "columns"
      ],
      "metadata": {
        "colab": {
          "base_uri": "https://localhost:8080/"
        },
        "id": "9zqPaLv2zv8R",
        "outputId": "45213921-b3ec-4de3-bee7-f501f330561a"
      },
      "execution_count": 51,
      "outputs": [
        {
          "output_type": "execute_result",
          "data": {
            "text/plain": [
              "Index(['avg_first_class', 'avg_second_class', 'avg_same_day',\n",
              "       'avg_standard_class', 'avg_furniture', 'avg_office_sup', 'avg_tech',\n",
              "       'avg_sales', 'total_trx', 'total_sales'],\n",
              "      dtype='object')"
            ]
          },
          "metadata": {},
          "execution_count": 51
        }
      ]
    },
    {
      "cell_type": "markdown",
      "source": [
        "##Frequent Items each segment"
      ],
      "metadata": {
        "id": "NJD7k-q8z4wA"
      }
    },
    {
      "cell_type": "code",
      "source": [
        "# hvc = high value customer berdasarkan total_sales dan average sales\n",
        "\n",
        "customer_id_hvc = df_consumer_agg[df_consumer_agg['cluster'] == 4].index\n",
        "df[df['Customer ID'].isin(customer_id_hvc)].groupby('Sub-Category').size().sort_values(ascending=False)"
      ],
      "metadata": {
        "colab": {
          "base_uri": "https://localhost:8080/"
        },
        "id": "XOQLyVq5z0yy",
        "outputId": "8e307609-7fc7-48b9-cf8f-2b6926e4bff9"
      },
      "execution_count": 52,
      "outputs": [
        {
          "output_type": "execute_result",
          "data": {
            "text/plain": [
              "Sub-Category\n",
              "Binders        68\n",
              "Paper          65\n",
              "Furnishings    63\n",
              "Phones         40\n",
              "Accessories    35\n",
              "Art            33\n",
              "Storage        32\n",
              "Chairs         28\n",
              "Appliances     21\n",
              "Labels         18\n",
              "Tables         14\n",
              "Bookcases      14\n",
              "Fasteners      11\n",
              "Envelopes       8\n",
              "Machines        7\n",
              "Supplies        4\n",
              "Copiers         1\n",
              "dtype: int64"
            ]
          },
          "metadata": {},
          "execution_count": 52
        }
      ]
    },
    {
      "cell_type": "markdown",
      "source": [
        "#Data Science Mini Project"
      ],
      "metadata": {
        "id": "lnXfTmWX0Hoq"
      }
    },
    {
      "cell_type": "markdown",
      "source": [
        "Ambil segment lain selain \"Consumer\", lakukan segmentasi, berikan minimal 3 insight yang didapat."
      ],
      "metadata": {
        "id": "eUbWjzJU0OqB"
      }
    },
    {
      "cell_type": "markdown",
      "source": [
        "##Clustering Segment Corporate"
      ],
      "metadata": {
        "id": "kpq-ytq20WIC"
      }
    },
    {
      "cell_type": "code",
      "source": [
        "df_corporate = df[df['Segment'] == 'Corporate'][['Customer ID', 'Ship Mode', 'Category', 'Sales']]\n",
        "df_corporate.head()"
      ],
      "metadata": {
        "colab": {
          "base_uri": "https://localhost:8080/",
          "height": 206
        },
        "id": "0lzRqAflz__i",
        "outputId": "7cfa0124-ee01-4177-c4f1-20e8f34e0fab"
      },
      "execution_count": 53,
      "outputs": [
        {
          "output_type": "execute_result",
          "data": {
            "text/plain": [
              "   Customer ID       Ship Mode         Category     Sales\n",
              "2     DV-13045    Second Class  Office Supplies    14.620\n",
              "21    KB-16585  Standard Class  Office Supplies    19.460\n",
              "22    KB-16585  Standard Class  Office Supplies    60.340\n",
              "35    GH-14485     First Class       Technology  1097.544\n",
              "36    GH-14485     First Class        Furniture   190.920"
            ],
            "text/html": [
              "\n",
              "  <div id=\"df-6bde11ad-9674-4406-8b1a-8a2534d3725c\">\n",
              "    <div class=\"colab-df-container\">\n",
              "      <div>\n",
              "<style scoped>\n",
              "    .dataframe tbody tr th:only-of-type {\n",
              "        vertical-align: middle;\n",
              "    }\n",
              "\n",
              "    .dataframe tbody tr th {\n",
              "        vertical-align: top;\n",
              "    }\n",
              "\n",
              "    .dataframe thead th {\n",
              "        text-align: right;\n",
              "    }\n",
              "</style>\n",
              "<table border=\"1\" class=\"dataframe\">\n",
              "  <thead>\n",
              "    <tr style=\"text-align: right;\">\n",
              "      <th></th>\n",
              "      <th>Customer ID</th>\n",
              "      <th>Ship Mode</th>\n",
              "      <th>Category</th>\n",
              "      <th>Sales</th>\n",
              "    </tr>\n",
              "  </thead>\n",
              "  <tbody>\n",
              "    <tr>\n",
              "      <th>2</th>\n",
              "      <td>DV-13045</td>\n",
              "      <td>Second Class</td>\n",
              "      <td>Office Supplies</td>\n",
              "      <td>14.620</td>\n",
              "    </tr>\n",
              "    <tr>\n",
              "      <th>21</th>\n",
              "      <td>KB-16585</td>\n",
              "      <td>Standard Class</td>\n",
              "      <td>Office Supplies</td>\n",
              "      <td>19.460</td>\n",
              "    </tr>\n",
              "    <tr>\n",
              "      <th>22</th>\n",
              "      <td>KB-16585</td>\n",
              "      <td>Standard Class</td>\n",
              "      <td>Office Supplies</td>\n",
              "      <td>60.340</td>\n",
              "    </tr>\n",
              "    <tr>\n",
              "      <th>35</th>\n",
              "      <td>GH-14485</td>\n",
              "      <td>First Class</td>\n",
              "      <td>Technology</td>\n",
              "      <td>1097.544</td>\n",
              "    </tr>\n",
              "    <tr>\n",
              "      <th>36</th>\n",
              "      <td>GH-14485</td>\n",
              "      <td>First Class</td>\n",
              "      <td>Furniture</td>\n",
              "      <td>190.920</td>\n",
              "    </tr>\n",
              "  </tbody>\n",
              "</table>\n",
              "</div>\n",
              "      <button class=\"colab-df-convert\" onclick=\"convertToInteractive('df-6bde11ad-9674-4406-8b1a-8a2534d3725c')\"\n",
              "              title=\"Convert this dataframe to an interactive table.\"\n",
              "              style=\"display:none;\">\n",
              "        \n",
              "  <svg xmlns=\"http://www.w3.org/2000/svg\" height=\"24px\"viewBox=\"0 0 24 24\"\n",
              "       width=\"24px\">\n",
              "    <path d=\"M0 0h24v24H0V0z\" fill=\"none\"/>\n",
              "    <path d=\"M18.56 5.44l.94 2.06.94-2.06 2.06-.94-2.06-.94-.94-2.06-.94 2.06-2.06.94zm-11 1L8.5 8.5l.94-2.06 2.06-.94-2.06-.94L8.5 2.5l-.94 2.06-2.06.94zm10 10l.94 2.06.94-2.06 2.06-.94-2.06-.94-.94-2.06-.94 2.06-2.06.94z\"/><path d=\"M17.41 7.96l-1.37-1.37c-.4-.4-.92-.59-1.43-.59-.52 0-1.04.2-1.43.59L10.3 9.45l-7.72 7.72c-.78.78-.78 2.05 0 2.83L4 21.41c.39.39.9.59 1.41.59.51 0 1.02-.2 1.41-.59l7.78-7.78 2.81-2.81c.8-.78.8-2.07 0-2.86zM5.41 20L4 18.59l7.72-7.72 1.47 1.35L5.41 20z\"/>\n",
              "  </svg>\n",
              "      </button>\n",
              "      \n",
              "  <style>\n",
              "    .colab-df-container {\n",
              "      display:flex;\n",
              "      flex-wrap:wrap;\n",
              "      gap: 12px;\n",
              "    }\n",
              "\n",
              "    .colab-df-convert {\n",
              "      background-color: #E8F0FE;\n",
              "      border: none;\n",
              "      border-radius: 50%;\n",
              "      cursor: pointer;\n",
              "      display: none;\n",
              "      fill: #1967D2;\n",
              "      height: 32px;\n",
              "      padding: 0 0 0 0;\n",
              "      width: 32px;\n",
              "    }\n",
              "\n",
              "    .colab-df-convert:hover {\n",
              "      background-color: #E2EBFA;\n",
              "      box-shadow: 0px 1px 2px rgba(60, 64, 67, 0.3), 0px 1px 3px 1px rgba(60, 64, 67, 0.15);\n",
              "      fill: #174EA6;\n",
              "    }\n",
              "\n",
              "    [theme=dark] .colab-df-convert {\n",
              "      background-color: #3B4455;\n",
              "      fill: #D2E3FC;\n",
              "    }\n",
              "\n",
              "    [theme=dark] .colab-df-convert:hover {\n",
              "      background-color: #434B5C;\n",
              "      box-shadow: 0px 1px 3px 1px rgba(0, 0, 0, 0.15);\n",
              "      filter: drop-shadow(0px 1px 2px rgba(0, 0, 0, 0.3));\n",
              "      fill: #FFFFFF;\n",
              "    }\n",
              "  </style>\n",
              "\n",
              "      <script>\n",
              "        const buttonEl =\n",
              "          document.querySelector('#df-6bde11ad-9674-4406-8b1a-8a2534d3725c button.colab-df-convert');\n",
              "        buttonEl.style.display =\n",
              "          google.colab.kernel.accessAllowed ? 'block' : 'none';\n",
              "\n",
              "        async function convertToInteractive(key) {\n",
              "          const element = document.querySelector('#df-6bde11ad-9674-4406-8b1a-8a2534d3725c');\n",
              "          const dataTable =\n",
              "            await google.colab.kernel.invokeFunction('convertToInteractive',\n",
              "                                                     [key], {});\n",
              "          if (!dataTable) return;\n",
              "\n",
              "          const docLinkHtml = 'Like what you see? Visit the ' +\n",
              "            '<a target=\"_blank\" href=https://colab.research.google.com/notebooks/data_table.ipynb>data table notebook</a>'\n",
              "            + ' to learn more about interactive tables.';\n",
              "          element.innerHTML = '';\n",
              "          dataTable['output_type'] = 'display_data';\n",
              "          await google.colab.output.renderOutput(dataTable, element);\n",
              "          const docLink = document.createElement('div');\n",
              "          docLink.innerHTML = docLinkHtml;\n",
              "          element.appendChild(docLink);\n",
              "        }\n",
              "      </script>\n",
              "    </div>\n",
              "  </div>\n",
              "  "
            ]
          },
          "metadata": {},
          "execution_count": 53
        }
      ]
    },
    {
      "cell_type": "code",
      "source": [
        "df_corporate_category = pd.get_dummies(df_corporate['Category'])\n",
        "df_corporate_ship =  pd.get_dummies(df_corporate['Ship Mode'])\n",
        "\n",
        "df_corporate = pd.concat([df_corporate, df_corporate_category, df_corporate_ship], axis=1)"
      ],
      "metadata": {
        "id": "9rnaVMBm0eeb"
      },
      "execution_count": 54,
      "outputs": []
    },
    {
      "cell_type": "code",
      "source": [
        "df_corporate.drop(['Ship Mode', 'Category'], axis=1, inplace=True)"
      ],
      "metadata": {
        "id": "d_h4INJD0iEx"
      },
      "execution_count": 55,
      "outputs": []
    },
    {
      "cell_type": "code",
      "source": [
        "df_corporate.head()"
      ],
      "metadata": {
        "colab": {
          "base_uri": "https://localhost:8080/",
          "height": 206
        },
        "id": "ZrTqvEcZ0keh",
        "outputId": "fda43c95-2083-400a-9414-32208c943dc1"
      },
      "execution_count": 56,
      "outputs": [
        {
          "output_type": "execute_result",
          "data": {
            "text/plain": [
              "   Customer ID     Sales  Furniture  Office Supplies  Technology  First Class  \\\n",
              "2     DV-13045    14.620          0                1           0            0   \n",
              "21    KB-16585    19.460          0                1           0            0   \n",
              "22    KB-16585    60.340          0                1           0            0   \n",
              "35    GH-14485  1097.544          0                0           1            1   \n",
              "36    GH-14485   190.920          1                0           0            1   \n",
              "\n",
              "    Same Day  Second Class  Standard Class  \n",
              "2          0             1               0  \n",
              "21         0             0               1  \n",
              "22         0             0               1  \n",
              "35         0             0               0  \n",
              "36         0             0               0  "
            ],
            "text/html": [
              "\n",
              "  <div id=\"df-17c0ce22-f03f-4be8-a374-41e8a8485769\">\n",
              "    <div class=\"colab-df-container\">\n",
              "      <div>\n",
              "<style scoped>\n",
              "    .dataframe tbody tr th:only-of-type {\n",
              "        vertical-align: middle;\n",
              "    }\n",
              "\n",
              "    .dataframe tbody tr th {\n",
              "        vertical-align: top;\n",
              "    }\n",
              "\n",
              "    .dataframe thead th {\n",
              "        text-align: right;\n",
              "    }\n",
              "</style>\n",
              "<table border=\"1\" class=\"dataframe\">\n",
              "  <thead>\n",
              "    <tr style=\"text-align: right;\">\n",
              "      <th></th>\n",
              "      <th>Customer ID</th>\n",
              "      <th>Sales</th>\n",
              "      <th>Furniture</th>\n",
              "      <th>Office Supplies</th>\n",
              "      <th>Technology</th>\n",
              "      <th>First Class</th>\n",
              "      <th>Same Day</th>\n",
              "      <th>Second Class</th>\n",
              "      <th>Standard Class</th>\n",
              "    </tr>\n",
              "  </thead>\n",
              "  <tbody>\n",
              "    <tr>\n",
              "      <th>2</th>\n",
              "      <td>DV-13045</td>\n",
              "      <td>14.620</td>\n",
              "      <td>0</td>\n",
              "      <td>1</td>\n",
              "      <td>0</td>\n",
              "      <td>0</td>\n",
              "      <td>0</td>\n",
              "      <td>1</td>\n",
              "      <td>0</td>\n",
              "    </tr>\n",
              "    <tr>\n",
              "      <th>21</th>\n",
              "      <td>KB-16585</td>\n",
              "      <td>19.460</td>\n",
              "      <td>0</td>\n",
              "      <td>1</td>\n",
              "      <td>0</td>\n",
              "      <td>0</td>\n",
              "      <td>0</td>\n",
              "      <td>0</td>\n",
              "      <td>1</td>\n",
              "    </tr>\n",
              "    <tr>\n",
              "      <th>22</th>\n",
              "      <td>KB-16585</td>\n",
              "      <td>60.340</td>\n",
              "      <td>0</td>\n",
              "      <td>1</td>\n",
              "      <td>0</td>\n",
              "      <td>0</td>\n",
              "      <td>0</td>\n",
              "      <td>0</td>\n",
              "      <td>1</td>\n",
              "    </tr>\n",
              "    <tr>\n",
              "      <th>35</th>\n",
              "      <td>GH-14485</td>\n",
              "      <td>1097.544</td>\n",
              "      <td>0</td>\n",
              "      <td>0</td>\n",
              "      <td>1</td>\n",
              "      <td>1</td>\n",
              "      <td>0</td>\n",
              "      <td>0</td>\n",
              "      <td>0</td>\n",
              "    </tr>\n",
              "    <tr>\n",
              "      <th>36</th>\n",
              "      <td>GH-14485</td>\n",
              "      <td>190.920</td>\n",
              "      <td>1</td>\n",
              "      <td>0</td>\n",
              "      <td>0</td>\n",
              "      <td>1</td>\n",
              "      <td>0</td>\n",
              "      <td>0</td>\n",
              "      <td>0</td>\n",
              "    </tr>\n",
              "  </tbody>\n",
              "</table>\n",
              "</div>\n",
              "      <button class=\"colab-df-convert\" onclick=\"convertToInteractive('df-17c0ce22-f03f-4be8-a374-41e8a8485769')\"\n",
              "              title=\"Convert this dataframe to an interactive table.\"\n",
              "              style=\"display:none;\">\n",
              "        \n",
              "  <svg xmlns=\"http://www.w3.org/2000/svg\" height=\"24px\"viewBox=\"0 0 24 24\"\n",
              "       width=\"24px\">\n",
              "    <path d=\"M0 0h24v24H0V0z\" fill=\"none\"/>\n",
              "    <path d=\"M18.56 5.44l.94 2.06.94-2.06 2.06-.94-2.06-.94-.94-2.06-.94 2.06-2.06.94zm-11 1L8.5 8.5l.94-2.06 2.06-.94-2.06-.94L8.5 2.5l-.94 2.06-2.06.94zm10 10l.94 2.06.94-2.06 2.06-.94-2.06-.94-.94-2.06-.94 2.06-2.06.94z\"/><path d=\"M17.41 7.96l-1.37-1.37c-.4-.4-.92-.59-1.43-.59-.52 0-1.04.2-1.43.59L10.3 9.45l-7.72 7.72c-.78.78-.78 2.05 0 2.83L4 21.41c.39.39.9.59 1.41.59.51 0 1.02-.2 1.41-.59l7.78-7.78 2.81-2.81c.8-.78.8-2.07 0-2.86zM5.41 20L4 18.59l7.72-7.72 1.47 1.35L5.41 20z\"/>\n",
              "  </svg>\n",
              "      </button>\n",
              "      \n",
              "  <style>\n",
              "    .colab-df-container {\n",
              "      display:flex;\n",
              "      flex-wrap:wrap;\n",
              "      gap: 12px;\n",
              "    }\n",
              "\n",
              "    .colab-df-convert {\n",
              "      background-color: #E8F0FE;\n",
              "      border: none;\n",
              "      border-radius: 50%;\n",
              "      cursor: pointer;\n",
              "      display: none;\n",
              "      fill: #1967D2;\n",
              "      height: 32px;\n",
              "      padding: 0 0 0 0;\n",
              "      width: 32px;\n",
              "    }\n",
              "\n",
              "    .colab-df-convert:hover {\n",
              "      background-color: #E2EBFA;\n",
              "      box-shadow: 0px 1px 2px rgba(60, 64, 67, 0.3), 0px 1px 3px 1px rgba(60, 64, 67, 0.15);\n",
              "      fill: #174EA6;\n",
              "    }\n",
              "\n",
              "    [theme=dark] .colab-df-convert {\n",
              "      background-color: #3B4455;\n",
              "      fill: #D2E3FC;\n",
              "    }\n",
              "\n",
              "    [theme=dark] .colab-df-convert:hover {\n",
              "      background-color: #434B5C;\n",
              "      box-shadow: 0px 1px 3px 1px rgba(0, 0, 0, 0.15);\n",
              "      filter: drop-shadow(0px 1px 2px rgba(0, 0, 0, 0.3));\n",
              "      fill: #FFFFFF;\n",
              "    }\n",
              "  </style>\n",
              "\n",
              "      <script>\n",
              "        const buttonEl =\n",
              "          document.querySelector('#df-17c0ce22-f03f-4be8-a374-41e8a8485769 button.colab-df-convert');\n",
              "        buttonEl.style.display =\n",
              "          google.colab.kernel.accessAllowed ? 'block' : 'none';\n",
              "\n",
              "        async function convertToInteractive(key) {\n",
              "          const element = document.querySelector('#df-17c0ce22-f03f-4be8-a374-41e8a8485769');\n",
              "          const dataTable =\n",
              "            await google.colab.kernel.invokeFunction('convertToInteractive',\n",
              "                                                     [key], {});\n",
              "          if (!dataTable) return;\n",
              "\n",
              "          const docLinkHtml = 'Like what you see? Visit the ' +\n",
              "            '<a target=\"_blank\" href=https://colab.research.google.com/notebooks/data_table.ipynb>data table notebook</a>'\n",
              "            + ' to learn more about interactive tables.';\n",
              "          element.innerHTML = '';\n",
              "          dataTable['output_type'] = 'display_data';\n",
              "          await google.colab.output.renderOutput(dataTable, element);\n",
              "          const docLink = document.createElement('div');\n",
              "          docLink.innerHTML = docLinkHtml;\n",
              "          element.appendChild(docLink);\n",
              "        }\n",
              "      </script>\n",
              "    </div>\n",
              "  </div>\n",
              "  "
            ]
          },
          "metadata": {},
          "execution_count": 56
        }
      ]
    },
    {
      "cell_type": "code",
      "source": [
        "df_corporate.groupby('Customer ID').mean()"
      ],
      "metadata": {
        "colab": {
          "base_uri": "https://localhost:8080/",
          "height": 455
        },
        "id": "bAZTV7eU0nsq",
        "outputId": "d826545b-119e-433d-e537-31ca2ca79e3e"
      },
      "execution_count": 57,
      "outputs": [
        {
          "output_type": "execute_result",
          "data": {
            "text/plain": [
              "                  Sales  Furniture  Office Supplies  Technology  First Class  \\\n",
              "Customer ID                                                                    \n",
              "AB-10600     189.482750   0.250000         0.375000    0.375000     0.750000   \n",
              "AC-10420     185.160000   0.200000         0.800000    0.000000     0.000000   \n",
              "AC-10615     140.982556   0.222222         0.555556    0.222222     0.000000   \n",
              "AG-10300      73.509600   0.400000         0.600000    0.000000     0.200000   \n",
              "AG-10495     101.374786   0.142857         0.714286    0.142857     0.071429   \n",
              "...                 ...        ...              ...         ...          ...   \n",
              "VG-21805      83.686400   0.000000         0.800000    0.200000     0.200000   \n",
              "VP-21760     240.037571   0.357143         0.428571    0.214286     0.571429   \n",
              "VW-21775     340.779889   0.222222         0.444444    0.333333     0.166667   \n",
              "YC-21895     681.793750   0.125000         0.625000    0.250000     0.250000   \n",
              "YS-21880     560.037000   0.250000         0.666667    0.083333     0.083333   \n",
              "\n",
              "             Same Day  Second Class  Standard Class  \n",
              "Customer ID                                          \n",
              "AB-10600     0.000000      0.000000        0.250000  \n",
              "AC-10420     0.000000      0.400000        0.600000  \n",
              "AC-10615     0.055556      0.000000        0.944444  \n",
              "AG-10300     0.000000      0.000000        0.800000  \n",
              "AG-10495     0.142857      0.142857        0.642857  \n",
              "...               ...           ...             ...  \n",
              "VG-21805     0.000000      0.000000        0.800000  \n",
              "VP-21760     0.000000      0.000000        0.428571  \n",
              "VW-21775     0.000000      0.222222        0.611111  \n",
              "YC-21895     0.125000      0.000000        0.625000  \n",
              "YS-21880     0.000000      0.000000        0.916667  \n",
              "\n",
              "[236 rows x 8 columns]"
            ],
            "text/html": [
              "\n",
              "  <div id=\"df-c885c761-3dca-49b1-b446-a8575b15bc69\">\n",
              "    <div class=\"colab-df-container\">\n",
              "      <div>\n",
              "<style scoped>\n",
              "    .dataframe tbody tr th:only-of-type {\n",
              "        vertical-align: middle;\n",
              "    }\n",
              "\n",
              "    .dataframe tbody tr th {\n",
              "        vertical-align: top;\n",
              "    }\n",
              "\n",
              "    .dataframe thead th {\n",
              "        text-align: right;\n",
              "    }\n",
              "</style>\n",
              "<table border=\"1\" class=\"dataframe\">\n",
              "  <thead>\n",
              "    <tr style=\"text-align: right;\">\n",
              "      <th></th>\n",
              "      <th>Sales</th>\n",
              "      <th>Furniture</th>\n",
              "      <th>Office Supplies</th>\n",
              "      <th>Technology</th>\n",
              "      <th>First Class</th>\n",
              "      <th>Same Day</th>\n",
              "      <th>Second Class</th>\n",
              "      <th>Standard Class</th>\n",
              "    </tr>\n",
              "    <tr>\n",
              "      <th>Customer ID</th>\n",
              "      <th></th>\n",
              "      <th></th>\n",
              "      <th></th>\n",
              "      <th></th>\n",
              "      <th></th>\n",
              "      <th></th>\n",
              "      <th></th>\n",
              "      <th></th>\n",
              "    </tr>\n",
              "  </thead>\n",
              "  <tbody>\n",
              "    <tr>\n",
              "      <th>AB-10600</th>\n",
              "      <td>189.482750</td>\n",
              "      <td>0.250000</td>\n",
              "      <td>0.375000</td>\n",
              "      <td>0.375000</td>\n",
              "      <td>0.750000</td>\n",
              "      <td>0.000000</td>\n",
              "      <td>0.000000</td>\n",
              "      <td>0.250000</td>\n",
              "    </tr>\n",
              "    <tr>\n",
              "      <th>AC-10420</th>\n",
              "      <td>185.160000</td>\n",
              "      <td>0.200000</td>\n",
              "      <td>0.800000</td>\n",
              "      <td>0.000000</td>\n",
              "      <td>0.000000</td>\n",
              "      <td>0.000000</td>\n",
              "      <td>0.400000</td>\n",
              "      <td>0.600000</td>\n",
              "    </tr>\n",
              "    <tr>\n",
              "      <th>AC-10615</th>\n",
              "      <td>140.982556</td>\n",
              "      <td>0.222222</td>\n",
              "      <td>0.555556</td>\n",
              "      <td>0.222222</td>\n",
              "      <td>0.000000</td>\n",
              "      <td>0.055556</td>\n",
              "      <td>0.000000</td>\n",
              "      <td>0.944444</td>\n",
              "    </tr>\n",
              "    <tr>\n",
              "      <th>AG-10300</th>\n",
              "      <td>73.509600</td>\n",
              "      <td>0.400000</td>\n",
              "      <td>0.600000</td>\n",
              "      <td>0.000000</td>\n",
              "      <td>0.200000</td>\n",
              "      <td>0.000000</td>\n",
              "      <td>0.000000</td>\n",
              "      <td>0.800000</td>\n",
              "    </tr>\n",
              "    <tr>\n",
              "      <th>AG-10495</th>\n",
              "      <td>101.374786</td>\n",
              "      <td>0.142857</td>\n",
              "      <td>0.714286</td>\n",
              "      <td>0.142857</td>\n",
              "      <td>0.071429</td>\n",
              "      <td>0.142857</td>\n",
              "      <td>0.142857</td>\n",
              "      <td>0.642857</td>\n",
              "    </tr>\n",
              "    <tr>\n",
              "      <th>...</th>\n",
              "      <td>...</td>\n",
              "      <td>...</td>\n",
              "      <td>...</td>\n",
              "      <td>...</td>\n",
              "      <td>...</td>\n",
              "      <td>...</td>\n",
              "      <td>...</td>\n",
              "      <td>...</td>\n",
              "    </tr>\n",
              "    <tr>\n",
              "      <th>VG-21805</th>\n",
              "      <td>83.686400</td>\n",
              "      <td>0.000000</td>\n",
              "      <td>0.800000</td>\n",
              "      <td>0.200000</td>\n",
              "      <td>0.200000</td>\n",
              "      <td>0.000000</td>\n",
              "      <td>0.000000</td>\n",
              "      <td>0.800000</td>\n",
              "    </tr>\n",
              "    <tr>\n",
              "      <th>VP-21760</th>\n",
              "      <td>240.037571</td>\n",
              "      <td>0.357143</td>\n",
              "      <td>0.428571</td>\n",
              "      <td>0.214286</td>\n",
              "      <td>0.571429</td>\n",
              "      <td>0.000000</td>\n",
              "      <td>0.000000</td>\n",
              "      <td>0.428571</td>\n",
              "    </tr>\n",
              "    <tr>\n",
              "      <th>VW-21775</th>\n",
              "      <td>340.779889</td>\n",
              "      <td>0.222222</td>\n",
              "      <td>0.444444</td>\n",
              "      <td>0.333333</td>\n",
              "      <td>0.166667</td>\n",
              "      <td>0.000000</td>\n",
              "      <td>0.222222</td>\n",
              "      <td>0.611111</td>\n",
              "    </tr>\n",
              "    <tr>\n",
              "      <th>YC-21895</th>\n",
              "      <td>681.793750</td>\n",
              "      <td>0.125000</td>\n",
              "      <td>0.625000</td>\n",
              "      <td>0.250000</td>\n",
              "      <td>0.250000</td>\n",
              "      <td>0.125000</td>\n",
              "      <td>0.000000</td>\n",
              "      <td>0.625000</td>\n",
              "    </tr>\n",
              "    <tr>\n",
              "      <th>YS-21880</th>\n",
              "      <td>560.037000</td>\n",
              "      <td>0.250000</td>\n",
              "      <td>0.666667</td>\n",
              "      <td>0.083333</td>\n",
              "      <td>0.083333</td>\n",
              "      <td>0.000000</td>\n",
              "      <td>0.000000</td>\n",
              "      <td>0.916667</td>\n",
              "    </tr>\n",
              "  </tbody>\n",
              "</table>\n",
              "<p>236 rows × 8 columns</p>\n",
              "</div>\n",
              "      <button class=\"colab-df-convert\" onclick=\"convertToInteractive('df-c885c761-3dca-49b1-b446-a8575b15bc69')\"\n",
              "              title=\"Convert this dataframe to an interactive table.\"\n",
              "              style=\"display:none;\">\n",
              "        \n",
              "  <svg xmlns=\"http://www.w3.org/2000/svg\" height=\"24px\"viewBox=\"0 0 24 24\"\n",
              "       width=\"24px\">\n",
              "    <path d=\"M0 0h24v24H0V0z\" fill=\"none\"/>\n",
              "    <path d=\"M18.56 5.44l.94 2.06.94-2.06 2.06-.94-2.06-.94-.94-2.06-.94 2.06-2.06.94zm-11 1L8.5 8.5l.94-2.06 2.06-.94-2.06-.94L8.5 2.5l-.94 2.06-2.06.94zm10 10l.94 2.06.94-2.06 2.06-.94-2.06-.94-.94-2.06-.94 2.06-2.06.94z\"/><path d=\"M17.41 7.96l-1.37-1.37c-.4-.4-.92-.59-1.43-.59-.52 0-1.04.2-1.43.59L10.3 9.45l-7.72 7.72c-.78.78-.78 2.05 0 2.83L4 21.41c.39.39.9.59 1.41.59.51 0 1.02-.2 1.41-.59l7.78-7.78 2.81-2.81c.8-.78.8-2.07 0-2.86zM5.41 20L4 18.59l7.72-7.72 1.47 1.35L5.41 20z\"/>\n",
              "  </svg>\n",
              "      </button>\n",
              "      \n",
              "  <style>\n",
              "    .colab-df-container {\n",
              "      display:flex;\n",
              "      flex-wrap:wrap;\n",
              "      gap: 12px;\n",
              "    }\n",
              "\n",
              "    .colab-df-convert {\n",
              "      background-color: #E8F0FE;\n",
              "      border: none;\n",
              "      border-radius: 50%;\n",
              "      cursor: pointer;\n",
              "      display: none;\n",
              "      fill: #1967D2;\n",
              "      height: 32px;\n",
              "      padding: 0 0 0 0;\n",
              "      width: 32px;\n",
              "    }\n",
              "\n",
              "    .colab-df-convert:hover {\n",
              "      background-color: #E2EBFA;\n",
              "      box-shadow: 0px 1px 2px rgba(60, 64, 67, 0.3), 0px 1px 3px 1px rgba(60, 64, 67, 0.15);\n",
              "      fill: #174EA6;\n",
              "    }\n",
              "\n",
              "    [theme=dark] .colab-df-convert {\n",
              "      background-color: #3B4455;\n",
              "      fill: #D2E3FC;\n",
              "    }\n",
              "\n",
              "    [theme=dark] .colab-df-convert:hover {\n",
              "      background-color: #434B5C;\n",
              "      box-shadow: 0px 1px 3px 1px rgba(0, 0, 0, 0.15);\n",
              "      filter: drop-shadow(0px 1px 2px rgba(0, 0, 0, 0.3));\n",
              "      fill: #FFFFFF;\n",
              "    }\n",
              "  </style>\n",
              "\n",
              "      <script>\n",
              "        const buttonEl =\n",
              "          document.querySelector('#df-c885c761-3dca-49b1-b446-a8575b15bc69 button.colab-df-convert');\n",
              "        buttonEl.style.display =\n",
              "          google.colab.kernel.accessAllowed ? 'block' : 'none';\n",
              "\n",
              "        async function convertToInteractive(key) {\n",
              "          const element = document.querySelector('#df-c885c761-3dca-49b1-b446-a8575b15bc69');\n",
              "          const dataTable =\n",
              "            await google.colab.kernel.invokeFunction('convertToInteractive',\n",
              "                                                     [key], {});\n",
              "          if (!dataTable) return;\n",
              "\n",
              "          const docLinkHtml = 'Like what you see? Visit the ' +\n",
              "            '<a target=\"_blank\" href=https://colab.research.google.com/notebooks/data_table.ipynb>data table notebook</a>'\n",
              "            + ' to learn more about interactive tables.';\n",
              "          element.innerHTML = '';\n",
              "          dataTable['output_type'] = 'display_data';\n",
              "          await google.colab.output.renderOutput(dataTable, element);\n",
              "          const docLink = document.createElement('div');\n",
              "          docLink.innerHTML = docLinkHtml;\n",
              "          element.appendChild(docLink);\n",
              "        }\n",
              "      </script>\n",
              "    </div>\n",
              "  </div>\n",
              "  "
            ]
          },
          "metadata": {},
          "execution_count": 57
        }
      ]
    },
    {
      "cell_type": "code",
      "source": [
        "df_corporate_agg = df_corporate.groupby('Customer ID').agg({\n",
        "    'First Class': [('avg_first_class', 'mean')],\n",
        "    'Second Class': [('avg_second_class', 'mean')],\n",
        "    'Same Day': [('avg_same_day', 'mean')],\n",
        "    'Standard Class': [('avg_standard_class', 'mean')],\n",
        "    \n",
        "    'Furniture': [('avg_furniture', 'mean')],\n",
        "    'Office Supplies': [('avg_office_sup', 'mean')],\n",
        "    'Technology': [('avg_tech', 'mean')],\n",
        "    \n",
        "    'Sales': [('avg_sales', 'mean'), ('total_trx', 'count'), ('total_sales', 'sum')]\n",
        "})"
      ],
      "metadata": {
        "id": "JrE3VKVp0rFU"
      },
      "execution_count": 58,
      "outputs": []
    },
    {
      "cell_type": "code",
      "source": [
        "df_corporate_agg"
      ],
      "metadata": {
        "colab": {
          "base_uri": "https://localhost:8080/",
          "height": 530
        },
        "id": "f_HlBtX10uS1",
        "outputId": "2a8554bd-875b-48e4-ef32-352f5035029c"
      },
      "execution_count": 59,
      "outputs": [
        {
          "output_type": "execute_result",
          "data": {
            "text/plain": [
              "                First Class     Second Class     Same Day     Standard Class  \\\n",
              "            avg_first_class avg_second_class avg_same_day avg_standard_class   \n",
              "Customer ID                                                                    \n",
              "AB-10600           0.750000         0.000000     0.000000           0.250000   \n",
              "AC-10420           0.000000         0.400000     0.000000           0.600000   \n",
              "AC-10615           0.000000         0.000000     0.055556           0.944444   \n",
              "AG-10300           0.200000         0.000000     0.000000           0.800000   \n",
              "AG-10495           0.071429         0.142857     0.142857           0.642857   \n",
              "...                     ...              ...          ...                ...   \n",
              "VG-21805           0.200000         0.000000     0.000000           0.800000   \n",
              "VP-21760           0.571429         0.000000     0.000000           0.428571   \n",
              "VW-21775           0.166667         0.222222     0.000000           0.611111   \n",
              "YC-21895           0.250000         0.000000     0.125000           0.625000   \n",
              "YS-21880           0.083333         0.000000     0.000000           0.916667   \n",
              "\n",
              "                Furniture Office Supplies Technology       Sales            \\\n",
              "            avg_furniture  avg_office_sup   avg_tech   avg_sales total_trx   \n",
              "Customer ID                                                                  \n",
              "AB-10600         0.250000        0.375000   0.375000  189.482750         8   \n",
              "AC-10420         0.200000        0.800000   0.000000  185.160000         5   \n",
              "AC-10615         0.222222        0.555556   0.222222  140.982556        18   \n",
              "AG-10300         0.400000        0.600000   0.000000   73.509600         5   \n",
              "AG-10495         0.142857        0.714286   0.142857  101.374786        14   \n",
              "...                   ...             ...        ...         ...       ...   \n",
              "VG-21805         0.000000        0.800000   0.200000   83.686400         5   \n",
              "VP-21760         0.357143        0.428571   0.214286  240.037571        14   \n",
              "VW-21775         0.222222        0.444444   0.333333  340.779889        18   \n",
              "YC-21895         0.125000        0.625000   0.250000  681.793750         8   \n",
              "YS-21880         0.250000        0.666667   0.083333  560.037000        12   \n",
              "\n",
              "                         \n",
              "            total_sales  \n",
              "Customer ID              \n",
              "AB-10600       1515.862  \n",
              "AC-10420        925.800  \n",
              "AC-10615       2537.686  \n",
              "AG-10300        367.548  \n",
              "AG-10495       1419.247  \n",
              "...                 ...  \n",
              "VG-21805        418.432  \n",
              "VP-21760       3360.526  \n",
              "VW-21775       6134.038  \n",
              "YC-21895       5454.350  \n",
              "YS-21880       6720.444  \n",
              "\n",
              "[236 rows x 10 columns]"
            ],
            "text/html": [
              "\n",
              "  <div id=\"df-55ae580f-6cb0-4d38-8861-57ace685467c\">\n",
              "    <div class=\"colab-df-container\">\n",
              "      <div>\n",
              "<style scoped>\n",
              "    .dataframe tbody tr th:only-of-type {\n",
              "        vertical-align: middle;\n",
              "    }\n",
              "\n",
              "    .dataframe tbody tr th {\n",
              "        vertical-align: top;\n",
              "    }\n",
              "\n",
              "    .dataframe thead tr th {\n",
              "        text-align: left;\n",
              "    }\n",
              "\n",
              "    .dataframe thead tr:last-of-type th {\n",
              "        text-align: right;\n",
              "    }\n",
              "</style>\n",
              "<table border=\"1\" class=\"dataframe\">\n",
              "  <thead>\n",
              "    <tr>\n",
              "      <th></th>\n",
              "      <th>First Class</th>\n",
              "      <th>Second Class</th>\n",
              "      <th>Same Day</th>\n",
              "      <th>Standard Class</th>\n",
              "      <th>Furniture</th>\n",
              "      <th>Office Supplies</th>\n",
              "      <th>Technology</th>\n",
              "      <th colspan=\"3\" halign=\"left\">Sales</th>\n",
              "    </tr>\n",
              "    <tr>\n",
              "      <th></th>\n",
              "      <th>avg_first_class</th>\n",
              "      <th>avg_second_class</th>\n",
              "      <th>avg_same_day</th>\n",
              "      <th>avg_standard_class</th>\n",
              "      <th>avg_furniture</th>\n",
              "      <th>avg_office_sup</th>\n",
              "      <th>avg_tech</th>\n",
              "      <th>avg_sales</th>\n",
              "      <th>total_trx</th>\n",
              "      <th>total_sales</th>\n",
              "    </tr>\n",
              "    <tr>\n",
              "      <th>Customer ID</th>\n",
              "      <th></th>\n",
              "      <th></th>\n",
              "      <th></th>\n",
              "      <th></th>\n",
              "      <th></th>\n",
              "      <th></th>\n",
              "      <th></th>\n",
              "      <th></th>\n",
              "      <th></th>\n",
              "      <th></th>\n",
              "    </tr>\n",
              "  </thead>\n",
              "  <tbody>\n",
              "    <tr>\n",
              "      <th>AB-10600</th>\n",
              "      <td>0.750000</td>\n",
              "      <td>0.000000</td>\n",
              "      <td>0.000000</td>\n",
              "      <td>0.250000</td>\n",
              "      <td>0.250000</td>\n",
              "      <td>0.375000</td>\n",
              "      <td>0.375000</td>\n",
              "      <td>189.482750</td>\n",
              "      <td>8</td>\n",
              "      <td>1515.862</td>\n",
              "    </tr>\n",
              "    <tr>\n",
              "      <th>AC-10420</th>\n",
              "      <td>0.000000</td>\n",
              "      <td>0.400000</td>\n",
              "      <td>0.000000</td>\n",
              "      <td>0.600000</td>\n",
              "      <td>0.200000</td>\n",
              "      <td>0.800000</td>\n",
              "      <td>0.000000</td>\n",
              "      <td>185.160000</td>\n",
              "      <td>5</td>\n",
              "      <td>925.800</td>\n",
              "    </tr>\n",
              "    <tr>\n",
              "      <th>AC-10615</th>\n",
              "      <td>0.000000</td>\n",
              "      <td>0.000000</td>\n",
              "      <td>0.055556</td>\n",
              "      <td>0.944444</td>\n",
              "      <td>0.222222</td>\n",
              "      <td>0.555556</td>\n",
              "      <td>0.222222</td>\n",
              "      <td>140.982556</td>\n",
              "      <td>18</td>\n",
              "      <td>2537.686</td>\n",
              "    </tr>\n",
              "    <tr>\n",
              "      <th>AG-10300</th>\n",
              "      <td>0.200000</td>\n",
              "      <td>0.000000</td>\n",
              "      <td>0.000000</td>\n",
              "      <td>0.800000</td>\n",
              "      <td>0.400000</td>\n",
              "      <td>0.600000</td>\n",
              "      <td>0.000000</td>\n",
              "      <td>73.509600</td>\n",
              "      <td>5</td>\n",
              "      <td>367.548</td>\n",
              "    </tr>\n",
              "    <tr>\n",
              "      <th>AG-10495</th>\n",
              "      <td>0.071429</td>\n",
              "      <td>0.142857</td>\n",
              "      <td>0.142857</td>\n",
              "      <td>0.642857</td>\n",
              "      <td>0.142857</td>\n",
              "      <td>0.714286</td>\n",
              "      <td>0.142857</td>\n",
              "      <td>101.374786</td>\n",
              "      <td>14</td>\n",
              "      <td>1419.247</td>\n",
              "    </tr>\n",
              "    <tr>\n",
              "      <th>...</th>\n",
              "      <td>...</td>\n",
              "      <td>...</td>\n",
              "      <td>...</td>\n",
              "      <td>...</td>\n",
              "      <td>...</td>\n",
              "      <td>...</td>\n",
              "      <td>...</td>\n",
              "      <td>...</td>\n",
              "      <td>...</td>\n",
              "      <td>...</td>\n",
              "    </tr>\n",
              "    <tr>\n",
              "      <th>VG-21805</th>\n",
              "      <td>0.200000</td>\n",
              "      <td>0.000000</td>\n",
              "      <td>0.000000</td>\n",
              "      <td>0.800000</td>\n",
              "      <td>0.000000</td>\n",
              "      <td>0.800000</td>\n",
              "      <td>0.200000</td>\n",
              "      <td>83.686400</td>\n",
              "      <td>5</td>\n",
              "      <td>418.432</td>\n",
              "    </tr>\n",
              "    <tr>\n",
              "      <th>VP-21760</th>\n",
              "      <td>0.571429</td>\n",
              "      <td>0.000000</td>\n",
              "      <td>0.000000</td>\n",
              "      <td>0.428571</td>\n",
              "      <td>0.357143</td>\n",
              "      <td>0.428571</td>\n",
              "      <td>0.214286</td>\n",
              "      <td>240.037571</td>\n",
              "      <td>14</td>\n",
              "      <td>3360.526</td>\n",
              "    </tr>\n",
              "    <tr>\n",
              "      <th>VW-21775</th>\n",
              "      <td>0.166667</td>\n",
              "      <td>0.222222</td>\n",
              "      <td>0.000000</td>\n",
              "      <td>0.611111</td>\n",
              "      <td>0.222222</td>\n",
              "      <td>0.444444</td>\n",
              "      <td>0.333333</td>\n",
              "      <td>340.779889</td>\n",
              "      <td>18</td>\n",
              "      <td>6134.038</td>\n",
              "    </tr>\n",
              "    <tr>\n",
              "      <th>YC-21895</th>\n",
              "      <td>0.250000</td>\n",
              "      <td>0.000000</td>\n",
              "      <td>0.125000</td>\n",
              "      <td>0.625000</td>\n",
              "      <td>0.125000</td>\n",
              "      <td>0.625000</td>\n",
              "      <td>0.250000</td>\n",
              "      <td>681.793750</td>\n",
              "      <td>8</td>\n",
              "      <td>5454.350</td>\n",
              "    </tr>\n",
              "    <tr>\n",
              "      <th>YS-21880</th>\n",
              "      <td>0.083333</td>\n",
              "      <td>0.000000</td>\n",
              "      <td>0.000000</td>\n",
              "      <td>0.916667</td>\n",
              "      <td>0.250000</td>\n",
              "      <td>0.666667</td>\n",
              "      <td>0.083333</td>\n",
              "      <td>560.037000</td>\n",
              "      <td>12</td>\n",
              "      <td>6720.444</td>\n",
              "    </tr>\n",
              "  </tbody>\n",
              "</table>\n",
              "<p>236 rows × 10 columns</p>\n",
              "</div>\n",
              "      <button class=\"colab-df-convert\" onclick=\"convertToInteractive('df-55ae580f-6cb0-4d38-8861-57ace685467c')\"\n",
              "              title=\"Convert this dataframe to an interactive table.\"\n",
              "              style=\"display:none;\">\n",
              "        \n",
              "  <svg xmlns=\"http://www.w3.org/2000/svg\" height=\"24px\"viewBox=\"0 0 24 24\"\n",
              "       width=\"24px\">\n",
              "    <path d=\"M0 0h24v24H0V0z\" fill=\"none\"/>\n",
              "    <path d=\"M18.56 5.44l.94 2.06.94-2.06 2.06-.94-2.06-.94-.94-2.06-.94 2.06-2.06.94zm-11 1L8.5 8.5l.94-2.06 2.06-.94-2.06-.94L8.5 2.5l-.94 2.06-2.06.94zm10 10l.94 2.06.94-2.06 2.06-.94-2.06-.94-.94-2.06-.94 2.06-2.06.94z\"/><path d=\"M17.41 7.96l-1.37-1.37c-.4-.4-.92-.59-1.43-.59-.52 0-1.04.2-1.43.59L10.3 9.45l-7.72 7.72c-.78.78-.78 2.05 0 2.83L4 21.41c.39.39.9.59 1.41.59.51 0 1.02-.2 1.41-.59l7.78-7.78 2.81-2.81c.8-.78.8-2.07 0-2.86zM5.41 20L4 18.59l7.72-7.72 1.47 1.35L5.41 20z\"/>\n",
              "  </svg>\n",
              "      </button>\n",
              "      \n",
              "  <style>\n",
              "    .colab-df-container {\n",
              "      display:flex;\n",
              "      flex-wrap:wrap;\n",
              "      gap: 12px;\n",
              "    }\n",
              "\n",
              "    .colab-df-convert {\n",
              "      background-color: #E8F0FE;\n",
              "      border: none;\n",
              "      border-radius: 50%;\n",
              "      cursor: pointer;\n",
              "      display: none;\n",
              "      fill: #1967D2;\n",
              "      height: 32px;\n",
              "      padding: 0 0 0 0;\n",
              "      width: 32px;\n",
              "    }\n",
              "\n",
              "    .colab-df-convert:hover {\n",
              "      background-color: #E2EBFA;\n",
              "      box-shadow: 0px 1px 2px rgba(60, 64, 67, 0.3), 0px 1px 3px 1px rgba(60, 64, 67, 0.15);\n",
              "      fill: #174EA6;\n",
              "    }\n",
              "\n",
              "    [theme=dark] .colab-df-convert {\n",
              "      background-color: #3B4455;\n",
              "      fill: #D2E3FC;\n",
              "    }\n",
              "\n",
              "    [theme=dark] .colab-df-convert:hover {\n",
              "      background-color: #434B5C;\n",
              "      box-shadow: 0px 1px 3px 1px rgba(0, 0, 0, 0.15);\n",
              "      filter: drop-shadow(0px 1px 2px rgba(0, 0, 0, 0.3));\n",
              "      fill: #FFFFFF;\n",
              "    }\n",
              "  </style>\n",
              "\n",
              "      <script>\n",
              "        const buttonEl =\n",
              "          document.querySelector('#df-55ae580f-6cb0-4d38-8861-57ace685467c button.colab-df-convert');\n",
              "        buttonEl.style.display =\n",
              "          google.colab.kernel.accessAllowed ? 'block' : 'none';\n",
              "\n",
              "        async function convertToInteractive(key) {\n",
              "          const element = document.querySelector('#df-55ae580f-6cb0-4d38-8861-57ace685467c');\n",
              "          const dataTable =\n",
              "            await google.colab.kernel.invokeFunction('convertToInteractive',\n",
              "                                                     [key], {});\n",
              "          if (!dataTable) return;\n",
              "\n",
              "          const docLinkHtml = 'Like what you see? Visit the ' +\n",
              "            '<a target=\"_blank\" href=https://colab.research.google.com/notebooks/data_table.ipynb>data table notebook</a>'\n",
              "            + ' to learn more about interactive tables.';\n",
              "          element.innerHTML = '';\n",
              "          dataTable['output_type'] = 'display_data';\n",
              "          await google.colab.output.renderOutput(dataTable, element);\n",
              "          const docLink = document.createElement('div');\n",
              "          docLink.innerHTML = docLinkHtml;\n",
              "          element.appendChild(docLink);\n",
              "        }\n",
              "      </script>\n",
              "    </div>\n",
              "  </div>\n",
              "  "
            ]
          },
          "metadata": {},
          "execution_count": 59
        }
      ]
    },
    {
      "cell_type": "code",
      "source": [
        "df_corporate_agg['First Class']['avg_first_class']"
      ],
      "metadata": {
        "colab": {
          "base_uri": "https://localhost:8080/"
        },
        "id": "uwFz6_FN0xVc",
        "outputId": "00a984f3-1f44-4250-8e1c-a039b6fd6893"
      },
      "execution_count": 60,
      "outputs": [
        {
          "output_type": "execute_result",
          "data": {
            "text/plain": [
              "Customer ID\n",
              "AB-10600    0.750000\n",
              "AC-10420    0.000000\n",
              "AC-10615    0.000000\n",
              "AG-10300    0.200000\n",
              "AG-10495    0.071429\n",
              "              ...   \n",
              "VG-21805    0.200000\n",
              "VP-21760    0.571429\n",
              "VW-21775    0.166667\n",
              "YC-21895    0.250000\n",
              "YS-21880    0.083333\n",
              "Name: avg_first_class, Length: 236, dtype: float64"
            ]
          },
          "metadata": {},
          "execution_count": 60
        }
      ]
    },
    {
      "cell_type": "code",
      "source": [
        "df_corporate_agg.columns = df_corporate_agg.columns.droplevel()"
      ],
      "metadata": {
        "id": "iNAfjBQD0z7x"
      },
      "execution_count": 61,
      "outputs": []
    },
    {
      "cell_type": "code",
      "source": [
        "df_corporate_agg.head()"
      ],
      "metadata": {
        "colab": {
          "base_uri": "https://localhost:8080/",
          "height": 282
        },
        "id": "tutbdEvG02iK",
        "outputId": "68f1b3f1-0667-414c-9992-8c6885af80d8"
      },
      "execution_count": 62,
      "outputs": [
        {
          "output_type": "execute_result",
          "data": {
            "text/plain": [
              "             avg_first_class  avg_second_class  avg_same_day  \\\n",
              "Customer ID                                                    \n",
              "AB-10600            0.750000          0.000000      0.000000   \n",
              "AC-10420            0.000000          0.400000      0.000000   \n",
              "AC-10615            0.000000          0.000000      0.055556   \n",
              "AG-10300            0.200000          0.000000      0.000000   \n",
              "AG-10495            0.071429          0.142857      0.142857   \n",
              "\n",
              "             avg_standard_class  avg_furniture  avg_office_sup  avg_tech  \\\n",
              "Customer ID                                                                \n",
              "AB-10600               0.250000       0.250000        0.375000  0.375000   \n",
              "AC-10420               0.600000       0.200000        0.800000  0.000000   \n",
              "AC-10615               0.944444       0.222222        0.555556  0.222222   \n",
              "AG-10300               0.800000       0.400000        0.600000  0.000000   \n",
              "AG-10495               0.642857       0.142857        0.714286  0.142857   \n",
              "\n",
              "              avg_sales  total_trx  total_sales  \n",
              "Customer ID                                      \n",
              "AB-10600     189.482750          8     1515.862  \n",
              "AC-10420     185.160000          5      925.800  \n",
              "AC-10615     140.982556         18     2537.686  \n",
              "AG-10300      73.509600          5      367.548  \n",
              "AG-10495     101.374786         14     1419.247  "
            ],
            "text/html": [
              "\n",
              "  <div id=\"df-0a3303c9-68fc-4022-b9c5-c7d6610e695e\">\n",
              "    <div class=\"colab-df-container\">\n",
              "      <div>\n",
              "<style scoped>\n",
              "    .dataframe tbody tr th:only-of-type {\n",
              "        vertical-align: middle;\n",
              "    }\n",
              "\n",
              "    .dataframe tbody tr th {\n",
              "        vertical-align: top;\n",
              "    }\n",
              "\n",
              "    .dataframe thead th {\n",
              "        text-align: right;\n",
              "    }\n",
              "</style>\n",
              "<table border=\"1\" class=\"dataframe\">\n",
              "  <thead>\n",
              "    <tr style=\"text-align: right;\">\n",
              "      <th></th>\n",
              "      <th>avg_first_class</th>\n",
              "      <th>avg_second_class</th>\n",
              "      <th>avg_same_day</th>\n",
              "      <th>avg_standard_class</th>\n",
              "      <th>avg_furniture</th>\n",
              "      <th>avg_office_sup</th>\n",
              "      <th>avg_tech</th>\n",
              "      <th>avg_sales</th>\n",
              "      <th>total_trx</th>\n",
              "      <th>total_sales</th>\n",
              "    </tr>\n",
              "    <tr>\n",
              "      <th>Customer ID</th>\n",
              "      <th></th>\n",
              "      <th></th>\n",
              "      <th></th>\n",
              "      <th></th>\n",
              "      <th></th>\n",
              "      <th></th>\n",
              "      <th></th>\n",
              "      <th></th>\n",
              "      <th></th>\n",
              "      <th></th>\n",
              "    </tr>\n",
              "  </thead>\n",
              "  <tbody>\n",
              "    <tr>\n",
              "      <th>AB-10600</th>\n",
              "      <td>0.750000</td>\n",
              "      <td>0.000000</td>\n",
              "      <td>0.000000</td>\n",
              "      <td>0.250000</td>\n",
              "      <td>0.250000</td>\n",
              "      <td>0.375000</td>\n",
              "      <td>0.375000</td>\n",
              "      <td>189.482750</td>\n",
              "      <td>8</td>\n",
              "      <td>1515.862</td>\n",
              "    </tr>\n",
              "    <tr>\n",
              "      <th>AC-10420</th>\n",
              "      <td>0.000000</td>\n",
              "      <td>0.400000</td>\n",
              "      <td>0.000000</td>\n",
              "      <td>0.600000</td>\n",
              "      <td>0.200000</td>\n",
              "      <td>0.800000</td>\n",
              "      <td>0.000000</td>\n",
              "      <td>185.160000</td>\n",
              "      <td>5</td>\n",
              "      <td>925.800</td>\n",
              "    </tr>\n",
              "    <tr>\n",
              "      <th>AC-10615</th>\n",
              "      <td>0.000000</td>\n",
              "      <td>0.000000</td>\n",
              "      <td>0.055556</td>\n",
              "      <td>0.944444</td>\n",
              "      <td>0.222222</td>\n",
              "      <td>0.555556</td>\n",
              "      <td>0.222222</td>\n",
              "      <td>140.982556</td>\n",
              "      <td>18</td>\n",
              "      <td>2537.686</td>\n",
              "    </tr>\n",
              "    <tr>\n",
              "      <th>AG-10300</th>\n",
              "      <td>0.200000</td>\n",
              "      <td>0.000000</td>\n",
              "      <td>0.000000</td>\n",
              "      <td>0.800000</td>\n",
              "      <td>0.400000</td>\n",
              "      <td>0.600000</td>\n",
              "      <td>0.000000</td>\n",
              "      <td>73.509600</td>\n",
              "      <td>5</td>\n",
              "      <td>367.548</td>\n",
              "    </tr>\n",
              "    <tr>\n",
              "      <th>AG-10495</th>\n",
              "      <td>0.071429</td>\n",
              "      <td>0.142857</td>\n",
              "      <td>0.142857</td>\n",
              "      <td>0.642857</td>\n",
              "      <td>0.142857</td>\n",
              "      <td>0.714286</td>\n",
              "      <td>0.142857</td>\n",
              "      <td>101.374786</td>\n",
              "      <td>14</td>\n",
              "      <td>1419.247</td>\n",
              "    </tr>\n",
              "  </tbody>\n",
              "</table>\n",
              "</div>\n",
              "      <button class=\"colab-df-convert\" onclick=\"convertToInteractive('df-0a3303c9-68fc-4022-b9c5-c7d6610e695e')\"\n",
              "              title=\"Convert this dataframe to an interactive table.\"\n",
              "              style=\"display:none;\">\n",
              "        \n",
              "  <svg xmlns=\"http://www.w3.org/2000/svg\" height=\"24px\"viewBox=\"0 0 24 24\"\n",
              "       width=\"24px\">\n",
              "    <path d=\"M0 0h24v24H0V0z\" fill=\"none\"/>\n",
              "    <path d=\"M18.56 5.44l.94 2.06.94-2.06 2.06-.94-2.06-.94-.94-2.06-.94 2.06-2.06.94zm-11 1L8.5 8.5l.94-2.06 2.06-.94-2.06-.94L8.5 2.5l-.94 2.06-2.06.94zm10 10l.94 2.06.94-2.06 2.06-.94-2.06-.94-.94-2.06-.94 2.06-2.06.94z\"/><path d=\"M17.41 7.96l-1.37-1.37c-.4-.4-.92-.59-1.43-.59-.52 0-1.04.2-1.43.59L10.3 9.45l-7.72 7.72c-.78.78-.78 2.05 0 2.83L4 21.41c.39.39.9.59 1.41.59.51 0 1.02-.2 1.41-.59l7.78-7.78 2.81-2.81c.8-.78.8-2.07 0-2.86zM5.41 20L4 18.59l7.72-7.72 1.47 1.35L5.41 20z\"/>\n",
              "  </svg>\n",
              "      </button>\n",
              "      \n",
              "  <style>\n",
              "    .colab-df-container {\n",
              "      display:flex;\n",
              "      flex-wrap:wrap;\n",
              "      gap: 12px;\n",
              "    }\n",
              "\n",
              "    .colab-df-convert {\n",
              "      background-color: #E8F0FE;\n",
              "      border: none;\n",
              "      border-radius: 50%;\n",
              "      cursor: pointer;\n",
              "      display: none;\n",
              "      fill: #1967D2;\n",
              "      height: 32px;\n",
              "      padding: 0 0 0 0;\n",
              "      width: 32px;\n",
              "    }\n",
              "\n",
              "    .colab-df-convert:hover {\n",
              "      background-color: #E2EBFA;\n",
              "      box-shadow: 0px 1px 2px rgba(60, 64, 67, 0.3), 0px 1px 3px 1px rgba(60, 64, 67, 0.15);\n",
              "      fill: #174EA6;\n",
              "    }\n",
              "\n",
              "    [theme=dark] .colab-df-convert {\n",
              "      background-color: #3B4455;\n",
              "      fill: #D2E3FC;\n",
              "    }\n",
              "\n",
              "    [theme=dark] .colab-df-convert:hover {\n",
              "      background-color: #434B5C;\n",
              "      box-shadow: 0px 1px 3px 1px rgba(0, 0, 0, 0.15);\n",
              "      filter: drop-shadow(0px 1px 2px rgba(0, 0, 0, 0.3));\n",
              "      fill: #FFFFFF;\n",
              "    }\n",
              "  </style>\n",
              "\n",
              "      <script>\n",
              "        const buttonEl =\n",
              "          document.querySelector('#df-0a3303c9-68fc-4022-b9c5-c7d6610e695e button.colab-df-convert');\n",
              "        buttonEl.style.display =\n",
              "          google.colab.kernel.accessAllowed ? 'block' : 'none';\n",
              "\n",
              "        async function convertToInteractive(key) {\n",
              "          const element = document.querySelector('#df-0a3303c9-68fc-4022-b9c5-c7d6610e695e');\n",
              "          const dataTable =\n",
              "            await google.colab.kernel.invokeFunction('convertToInteractive',\n",
              "                                                     [key], {});\n",
              "          if (!dataTable) return;\n",
              "\n",
              "          const docLinkHtml = 'Like what you see? Visit the ' +\n",
              "            '<a target=\"_blank\" href=https://colab.research.google.com/notebooks/data_table.ipynb>data table notebook</a>'\n",
              "            + ' to learn more about interactive tables.';\n",
              "          element.innerHTML = '';\n",
              "          dataTable['output_type'] = 'display_data';\n",
              "          await google.colab.output.renderOutput(dataTable, element);\n",
              "          const docLink = document.createElement('div');\n",
              "          docLink.innerHTML = docLinkHtml;\n",
              "          element.appendChild(docLink);\n",
              "        }\n",
              "      </script>\n",
              "    </div>\n",
              "  </div>\n",
              "  "
            ]
          },
          "metadata": {},
          "execution_count": 62
        }
      ]
    },
    {
      "cell_type": "code",
      "source": [
        "df_corporate_agg['avg_first_class']"
      ],
      "metadata": {
        "colab": {
          "base_uri": "https://localhost:8080/"
        },
        "id": "XmZyrXUn05B9",
        "outputId": "0bf9cf94-a731-45a7-9b09-fe183e831305"
      },
      "execution_count": 63,
      "outputs": [
        {
          "output_type": "execute_result",
          "data": {
            "text/plain": [
              "Customer ID\n",
              "AB-10600    0.750000\n",
              "AC-10420    0.000000\n",
              "AC-10615    0.000000\n",
              "AG-10300    0.200000\n",
              "AG-10495    0.071429\n",
              "              ...   \n",
              "VG-21805    0.200000\n",
              "VP-21760    0.571429\n",
              "VW-21775    0.166667\n",
              "YC-21895    0.250000\n",
              "YS-21880    0.083333\n",
              "Name: avg_first_class, Length: 236, dtype: float64"
            ]
          },
          "metadata": {},
          "execution_count": 63
        }
      ]
    },
    {
      "cell_type": "code",
      "source": [
        "from sklearn.preprocessing import StandardScaler\n",
        "scaler = StandardScaler()\n",
        "scaler.fit(df_corporate_agg)"
      ],
      "metadata": {
        "colab": {
          "base_uri": "https://localhost:8080/"
        },
        "id": "WJ62cPIl046Y",
        "outputId": "7a73b2a5-b32d-4900-c2e1-3d55c94e62d0"
      },
      "execution_count": 64,
      "outputs": [
        {
          "output_type": "execute_result",
          "data": {
            "text/plain": [
              "StandardScaler()"
            ]
          },
          "metadata": {},
          "execution_count": 64
        }
      ]
    },
    {
      "cell_type": "code",
      "source": [
        "X = scaler.transform(df_corporate_agg)\n",
        "X.shape"
      ],
      "metadata": {
        "colab": {
          "base_uri": "https://localhost:8080/"
        },
        "id": "1-6DCUYi0_HJ",
        "outputId": "df8c6f5a-88cf-4bd3-dcd2-0b1ba7fe4497"
      },
      "execution_count": 65,
      "outputs": [
        {
          "output_type": "execute_result",
          "data": {
            "text/plain": [
              "(236, 10)"
            ]
          },
          "metadata": {},
          "execution_count": 65
        }
      ]
    },
    {
      "cell_type": "code",
      "source": [
        "X"
      ],
      "metadata": {
        "colab": {
          "base_uri": "https://localhost:8080/"
        },
        "id": "XsRxpmmx1gvI",
        "outputId": "fa8e7829-a020-478f-8d03-bda49270c48f"
      },
      "execution_count": 66,
      "outputs": [
        {
          "output_type": "execute_result",
          "data": {
            "text/plain": [
              "array([[ 3.118945  , -0.9698398 , -0.44278868, ..., -0.22923443,\n",
              "        -0.75066388, -0.57452289],\n",
              "       [-0.87789674,  0.99936344, -0.44278868, ..., -0.24897564,\n",
              "        -1.24969677, -0.81641198],\n",
              "       [-0.87789674, -0.9698398 ,  0.24241936, ..., -0.45072592,\n",
              "         0.91277909, -0.15563795],\n",
              "       ...,\n",
              "       [ 0.01029031,  0.124162  , -0.44278868, ...,  0.46171183,\n",
              "         0.91277909,  1.31864496],\n",
              "       [ 0.45438384, -0.9698398 ,  1.09892942, ...,  2.01905955,\n",
              "        -0.75066388,  1.04001472],\n",
              "       [-0.43380322, -0.9698398 , -0.44278868, ...,  1.46301882,\n",
              "        -0.08528669,  1.55903532]])"
            ]
          },
          "metadata": {},
          "execution_count": 66
        }
      ]
    },
    {
      "cell_type": "code",
      "source": [
        "from sklearn.cluster import KMeans\n",
        "\n",
        "km = KMeans(3)\n",
        "km.fit(X)"
      ],
      "metadata": {
        "colab": {
          "base_uri": "https://localhost:8080/"
        },
        "id": "3p6vDMlH1iPy",
        "outputId": "61f4bafc-30eb-4a82-96b8-63202eaf4d22"
      },
      "execution_count": 67,
      "outputs": [
        {
          "output_type": "execute_result",
          "data": {
            "text/plain": [
              "KMeans(n_clusters=3)"
            ]
          },
          "metadata": {},
          "execution_count": 67
        }
      ]
    },
    {
      "cell_type": "code",
      "source": [
        "km.predict(X)"
      ],
      "metadata": {
        "colab": {
          "base_uri": "https://localhost:8080/"
        },
        "id": "SC-dBMqB1mnA",
        "outputId": "9103541e-6a20-4f0d-bded-19c15d20b8e2"
      },
      "execution_count": 68,
      "outputs": [
        {
          "output_type": "execute_result",
          "data": {
            "text/plain": [
              "array([0, 1, 1, 1, 1, 1, 0, 0, 0, 2, 1, 2, 1, 0, 0, 2, 2, 0, 0, 0, 0, 1,\n",
              "       2, 1, 0, 1, 1, 0, 2, 1, 1, 1, 1, 2, 2, 2, 1, 1, 1, 2, 0, 1, 2, 0,\n",
              "       0, 1, 0, 2, 0, 2, 0, 1, 1, 1, 1, 1, 1, 1, 1, 0, 0, 0, 1, 0, 1, 1,\n",
              "       2, 1, 1, 0, 1, 2, 1, 0, 1, 0, 1, 1, 2, 2, 1, 1, 2, 2, 1, 0, 1, 2,\n",
              "       0, 1, 2, 2, 1, 0, 1, 0, 1, 0, 2, 2, 1, 1, 2, 1, 1, 1, 0, 2, 2, 2,\n",
              "       2, 1, 1, 2, 2, 2, 2, 0, 1, 1, 0, 1, 2, 1, 2, 1, 1, 2, 2, 1, 0, 0,\n",
              "       1, 2, 1, 1, 2, 1, 2, 0, 1, 2, 2, 1, 2, 2, 1, 0, 1, 1, 1, 0, 2, 0,\n",
              "       1, 0, 1, 1, 1, 1, 1, 1, 0, 1, 1, 0, 1, 2, 1, 0, 2, 1, 2, 1, 1, 1,\n",
              "       0, 1, 2, 1, 0, 2, 1, 2, 1, 0, 0, 1, 2, 2, 1, 1, 0, 1, 1, 1, 0, 2,\n",
              "       2, 1, 2, 2, 0, 1, 1, 0, 1, 1, 1, 2, 1, 1, 2, 1, 2, 1, 0, 0, 1, 0,\n",
              "       2, 2, 1, 1, 0, 1, 2, 2, 0, 1, 1, 1, 0, 2, 2, 2], dtype=int32)"
            ]
          },
          "metadata": {},
          "execution_count": 68
        }
      ]
    },
    {
      "cell_type": "code",
      "source": [
        "df_corporate_agg['cluster'] = km.predict(X)\n",
        "df_corporate_agg"
      ],
      "metadata": {
        "colab": {
          "base_uri": "https://localhost:8080/",
          "height": 710
        },
        "id": "R_IBcdP-1n4q",
        "outputId": "7e009192-3990-46c6-d6a7-f19d411d4292"
      },
      "execution_count": 69,
      "outputs": [
        {
          "output_type": "execute_result",
          "data": {
            "text/plain": [
              "             avg_first_class  avg_second_class  avg_same_day  \\\n",
              "Customer ID                                                    \n",
              "AB-10600            0.750000          0.000000      0.000000   \n",
              "AC-10420            0.000000          0.400000      0.000000   \n",
              "AC-10615            0.000000          0.000000      0.055556   \n",
              "AG-10300            0.200000          0.000000      0.000000   \n",
              "AG-10495            0.071429          0.142857      0.142857   \n",
              "...                      ...               ...           ...   \n",
              "VG-21805            0.200000          0.000000      0.000000   \n",
              "VP-21760            0.571429          0.000000      0.000000   \n",
              "VW-21775            0.166667          0.222222      0.000000   \n",
              "YC-21895            0.250000          0.000000      0.125000   \n",
              "YS-21880            0.083333          0.000000      0.000000   \n",
              "\n",
              "             avg_standard_class  avg_furniture  avg_office_sup  avg_tech  \\\n",
              "Customer ID                                                                \n",
              "AB-10600               0.250000       0.250000        0.375000  0.375000   \n",
              "AC-10420               0.600000       0.200000        0.800000  0.000000   \n",
              "AC-10615               0.944444       0.222222        0.555556  0.222222   \n",
              "AG-10300               0.800000       0.400000        0.600000  0.000000   \n",
              "AG-10495               0.642857       0.142857        0.714286  0.142857   \n",
              "...                         ...            ...             ...       ...   \n",
              "VG-21805               0.800000       0.000000        0.800000  0.200000   \n",
              "VP-21760               0.428571       0.357143        0.428571  0.214286   \n",
              "VW-21775               0.611111       0.222222        0.444444  0.333333   \n",
              "YC-21895               0.625000       0.125000        0.625000  0.250000   \n",
              "YS-21880               0.916667       0.250000        0.666667  0.083333   \n",
              "\n",
              "              avg_sales  total_trx  total_sales  cluster  \n",
              "Customer ID                                               \n",
              "AB-10600     189.482750          8     1515.862        0  \n",
              "AC-10420     185.160000          5      925.800        1  \n",
              "AC-10615     140.982556         18     2537.686        1  \n",
              "AG-10300      73.509600          5      367.548        1  \n",
              "AG-10495     101.374786         14     1419.247        1  \n",
              "...                 ...        ...          ...      ...  \n",
              "VG-21805      83.686400          5      418.432        1  \n",
              "VP-21760     240.037571         14     3360.526        0  \n",
              "VW-21775     340.779889         18     6134.038        2  \n",
              "YC-21895     681.793750          8     5454.350        2  \n",
              "YS-21880     560.037000         12     6720.444        2  \n",
              "\n",
              "[236 rows x 11 columns]"
            ],
            "text/html": [
              "\n",
              "  <div id=\"df-e2131c21-e929-43c4-98d2-f733acd5a47c\">\n",
              "    <div class=\"colab-df-container\">\n",
              "      <div>\n",
              "<style scoped>\n",
              "    .dataframe tbody tr th:only-of-type {\n",
              "        vertical-align: middle;\n",
              "    }\n",
              "\n",
              "    .dataframe tbody tr th {\n",
              "        vertical-align: top;\n",
              "    }\n",
              "\n",
              "    .dataframe thead th {\n",
              "        text-align: right;\n",
              "    }\n",
              "</style>\n",
              "<table border=\"1\" class=\"dataframe\">\n",
              "  <thead>\n",
              "    <tr style=\"text-align: right;\">\n",
              "      <th></th>\n",
              "      <th>avg_first_class</th>\n",
              "      <th>avg_second_class</th>\n",
              "      <th>avg_same_day</th>\n",
              "      <th>avg_standard_class</th>\n",
              "      <th>avg_furniture</th>\n",
              "      <th>avg_office_sup</th>\n",
              "      <th>avg_tech</th>\n",
              "      <th>avg_sales</th>\n",
              "      <th>total_trx</th>\n",
              "      <th>total_sales</th>\n",
              "      <th>cluster</th>\n",
              "    </tr>\n",
              "    <tr>\n",
              "      <th>Customer ID</th>\n",
              "      <th></th>\n",
              "      <th></th>\n",
              "      <th></th>\n",
              "      <th></th>\n",
              "      <th></th>\n",
              "      <th></th>\n",
              "      <th></th>\n",
              "      <th></th>\n",
              "      <th></th>\n",
              "      <th></th>\n",
              "      <th></th>\n",
              "    </tr>\n",
              "  </thead>\n",
              "  <tbody>\n",
              "    <tr>\n",
              "      <th>AB-10600</th>\n",
              "      <td>0.750000</td>\n",
              "      <td>0.000000</td>\n",
              "      <td>0.000000</td>\n",
              "      <td>0.250000</td>\n",
              "      <td>0.250000</td>\n",
              "      <td>0.375000</td>\n",
              "      <td>0.375000</td>\n",
              "      <td>189.482750</td>\n",
              "      <td>8</td>\n",
              "      <td>1515.862</td>\n",
              "      <td>0</td>\n",
              "    </tr>\n",
              "    <tr>\n",
              "      <th>AC-10420</th>\n",
              "      <td>0.000000</td>\n",
              "      <td>0.400000</td>\n",
              "      <td>0.000000</td>\n",
              "      <td>0.600000</td>\n",
              "      <td>0.200000</td>\n",
              "      <td>0.800000</td>\n",
              "      <td>0.000000</td>\n",
              "      <td>185.160000</td>\n",
              "      <td>5</td>\n",
              "      <td>925.800</td>\n",
              "      <td>1</td>\n",
              "    </tr>\n",
              "    <tr>\n",
              "      <th>AC-10615</th>\n",
              "      <td>0.000000</td>\n",
              "      <td>0.000000</td>\n",
              "      <td>0.055556</td>\n",
              "      <td>0.944444</td>\n",
              "      <td>0.222222</td>\n",
              "      <td>0.555556</td>\n",
              "      <td>0.222222</td>\n",
              "      <td>140.982556</td>\n",
              "      <td>18</td>\n",
              "      <td>2537.686</td>\n",
              "      <td>1</td>\n",
              "    </tr>\n",
              "    <tr>\n",
              "      <th>AG-10300</th>\n",
              "      <td>0.200000</td>\n",
              "      <td>0.000000</td>\n",
              "      <td>0.000000</td>\n",
              "      <td>0.800000</td>\n",
              "      <td>0.400000</td>\n",
              "      <td>0.600000</td>\n",
              "      <td>0.000000</td>\n",
              "      <td>73.509600</td>\n",
              "      <td>5</td>\n",
              "      <td>367.548</td>\n",
              "      <td>1</td>\n",
              "    </tr>\n",
              "    <tr>\n",
              "      <th>AG-10495</th>\n",
              "      <td>0.071429</td>\n",
              "      <td>0.142857</td>\n",
              "      <td>0.142857</td>\n",
              "      <td>0.642857</td>\n",
              "      <td>0.142857</td>\n",
              "      <td>0.714286</td>\n",
              "      <td>0.142857</td>\n",
              "      <td>101.374786</td>\n",
              "      <td>14</td>\n",
              "      <td>1419.247</td>\n",
              "      <td>1</td>\n",
              "    </tr>\n",
              "    <tr>\n",
              "      <th>...</th>\n",
              "      <td>...</td>\n",
              "      <td>...</td>\n",
              "      <td>...</td>\n",
              "      <td>...</td>\n",
              "      <td>...</td>\n",
              "      <td>...</td>\n",
              "      <td>...</td>\n",
              "      <td>...</td>\n",
              "      <td>...</td>\n",
              "      <td>...</td>\n",
              "      <td>...</td>\n",
              "    </tr>\n",
              "    <tr>\n",
              "      <th>VG-21805</th>\n",
              "      <td>0.200000</td>\n",
              "      <td>0.000000</td>\n",
              "      <td>0.000000</td>\n",
              "      <td>0.800000</td>\n",
              "      <td>0.000000</td>\n",
              "      <td>0.800000</td>\n",
              "      <td>0.200000</td>\n",
              "      <td>83.686400</td>\n",
              "      <td>5</td>\n",
              "      <td>418.432</td>\n",
              "      <td>1</td>\n",
              "    </tr>\n",
              "    <tr>\n",
              "      <th>VP-21760</th>\n",
              "      <td>0.571429</td>\n",
              "      <td>0.000000</td>\n",
              "      <td>0.000000</td>\n",
              "      <td>0.428571</td>\n",
              "      <td>0.357143</td>\n",
              "      <td>0.428571</td>\n",
              "      <td>0.214286</td>\n",
              "      <td>240.037571</td>\n",
              "      <td>14</td>\n",
              "      <td>3360.526</td>\n",
              "      <td>0</td>\n",
              "    </tr>\n",
              "    <tr>\n",
              "      <th>VW-21775</th>\n",
              "      <td>0.166667</td>\n",
              "      <td>0.222222</td>\n",
              "      <td>0.000000</td>\n",
              "      <td>0.611111</td>\n",
              "      <td>0.222222</td>\n",
              "      <td>0.444444</td>\n",
              "      <td>0.333333</td>\n",
              "      <td>340.779889</td>\n",
              "      <td>18</td>\n",
              "      <td>6134.038</td>\n",
              "      <td>2</td>\n",
              "    </tr>\n",
              "    <tr>\n",
              "      <th>YC-21895</th>\n",
              "      <td>0.250000</td>\n",
              "      <td>0.000000</td>\n",
              "      <td>0.125000</td>\n",
              "      <td>0.625000</td>\n",
              "      <td>0.125000</td>\n",
              "      <td>0.625000</td>\n",
              "      <td>0.250000</td>\n",
              "      <td>681.793750</td>\n",
              "      <td>8</td>\n",
              "      <td>5454.350</td>\n",
              "      <td>2</td>\n",
              "    </tr>\n",
              "    <tr>\n",
              "      <th>YS-21880</th>\n",
              "      <td>0.083333</td>\n",
              "      <td>0.000000</td>\n",
              "      <td>0.000000</td>\n",
              "      <td>0.916667</td>\n",
              "      <td>0.250000</td>\n",
              "      <td>0.666667</td>\n",
              "      <td>0.083333</td>\n",
              "      <td>560.037000</td>\n",
              "      <td>12</td>\n",
              "      <td>6720.444</td>\n",
              "      <td>2</td>\n",
              "    </tr>\n",
              "  </tbody>\n",
              "</table>\n",
              "<p>236 rows × 11 columns</p>\n",
              "</div>\n",
              "      <button class=\"colab-df-convert\" onclick=\"convertToInteractive('df-e2131c21-e929-43c4-98d2-f733acd5a47c')\"\n",
              "              title=\"Convert this dataframe to an interactive table.\"\n",
              "              style=\"display:none;\">\n",
              "        \n",
              "  <svg xmlns=\"http://www.w3.org/2000/svg\" height=\"24px\"viewBox=\"0 0 24 24\"\n",
              "       width=\"24px\">\n",
              "    <path d=\"M0 0h24v24H0V0z\" fill=\"none\"/>\n",
              "    <path d=\"M18.56 5.44l.94 2.06.94-2.06 2.06-.94-2.06-.94-.94-2.06-.94 2.06-2.06.94zm-11 1L8.5 8.5l.94-2.06 2.06-.94-2.06-.94L8.5 2.5l-.94 2.06-2.06.94zm10 10l.94 2.06.94-2.06 2.06-.94-2.06-.94-.94-2.06-.94 2.06-2.06.94z\"/><path d=\"M17.41 7.96l-1.37-1.37c-.4-.4-.92-.59-1.43-.59-.52 0-1.04.2-1.43.59L10.3 9.45l-7.72 7.72c-.78.78-.78 2.05 0 2.83L4 21.41c.39.39.9.59 1.41.59.51 0 1.02-.2 1.41-.59l7.78-7.78 2.81-2.81c.8-.78.8-2.07 0-2.86zM5.41 20L4 18.59l7.72-7.72 1.47 1.35L5.41 20z\"/>\n",
              "  </svg>\n",
              "      </button>\n",
              "      \n",
              "  <style>\n",
              "    .colab-df-container {\n",
              "      display:flex;\n",
              "      flex-wrap:wrap;\n",
              "      gap: 12px;\n",
              "    }\n",
              "\n",
              "    .colab-df-convert {\n",
              "      background-color: #E8F0FE;\n",
              "      border: none;\n",
              "      border-radius: 50%;\n",
              "      cursor: pointer;\n",
              "      display: none;\n",
              "      fill: #1967D2;\n",
              "      height: 32px;\n",
              "      padding: 0 0 0 0;\n",
              "      width: 32px;\n",
              "    }\n",
              "\n",
              "    .colab-df-convert:hover {\n",
              "      background-color: #E2EBFA;\n",
              "      box-shadow: 0px 1px 2px rgba(60, 64, 67, 0.3), 0px 1px 3px 1px rgba(60, 64, 67, 0.15);\n",
              "      fill: #174EA6;\n",
              "    }\n",
              "\n",
              "    [theme=dark] .colab-df-convert {\n",
              "      background-color: #3B4455;\n",
              "      fill: #D2E3FC;\n",
              "    }\n",
              "\n",
              "    [theme=dark] .colab-df-convert:hover {\n",
              "      background-color: #434B5C;\n",
              "      box-shadow: 0px 1px 3px 1px rgba(0, 0, 0, 0.15);\n",
              "      filter: drop-shadow(0px 1px 2px rgba(0, 0, 0, 0.3));\n",
              "      fill: #FFFFFF;\n",
              "    }\n",
              "  </style>\n",
              "\n",
              "      <script>\n",
              "        const buttonEl =\n",
              "          document.querySelector('#df-e2131c21-e929-43c4-98d2-f733acd5a47c button.colab-df-convert');\n",
              "        buttonEl.style.display =\n",
              "          google.colab.kernel.accessAllowed ? 'block' : 'none';\n",
              "\n",
              "        async function convertToInteractive(key) {\n",
              "          const element = document.querySelector('#df-e2131c21-e929-43c4-98d2-f733acd5a47c');\n",
              "          const dataTable =\n",
              "            await google.colab.kernel.invokeFunction('convertToInteractive',\n",
              "                                                     [key], {});\n",
              "          if (!dataTable) return;\n",
              "\n",
              "          const docLinkHtml = 'Like what you see? Visit the ' +\n",
              "            '<a target=\"_blank\" href=https://colab.research.google.com/notebooks/data_table.ipynb>data table notebook</a>'\n",
              "            + ' to learn more about interactive tables.';\n",
              "          element.innerHTML = '';\n",
              "          dataTable['output_type'] = 'display_data';\n",
              "          await google.colab.output.renderOutput(dataTable, element);\n",
              "          const docLink = document.createElement('div');\n",
              "          docLink.innerHTML = docLinkHtml;\n",
              "          element.appendChild(docLink);\n",
              "        }\n",
              "      </script>\n",
              "    </div>\n",
              "  </div>\n",
              "  "
            ]
          },
          "metadata": {},
          "execution_count": 69
        }
      ]
    },
    {
      "cell_type": "code",
      "source": [
        "km.inertia_"
      ],
      "metadata": {
        "colab": {
          "base_uri": "https://localhost:8080/"
        },
        "id": "5cHP9eWj1q-y",
        "outputId": "c70c6dbd-c932-4424-f73f-a903ba4f032a"
      },
      "execution_count": 70,
      "outputs": [
        {
          "output_type": "execute_result",
          "data": {
            "text/plain": [
              "1828.5212405817779"
            ]
          },
          "metadata": {},
          "execution_count": 70
        }
      ]
    },
    {
      "cell_type": "markdown",
      "source": [
        "##Elbow Method"
      ],
      "metadata": {
        "id": "pI4iY36i10oT"
      }
    },
    {
      "cell_type": "code",
      "source": [
        "INERTIA = []\n",
        "for i in range(20):\n",
        "    km_i = KMeans(i+1)\n",
        "    km_i.fit(X)\n",
        "    INERTIA.append(km_i.inertia_)"
      ],
      "metadata": {
        "id": "2aQWsF2t13hp"
      },
      "execution_count": 71,
      "outputs": []
    },
    {
      "cell_type": "code",
      "source": [
        "sns.lineplot(y=INERTIA, x=range(1, 21))"
      ],
      "metadata": {
        "colab": {
          "base_uri": "https://localhost:8080/",
          "height": 364
        },
        "id": "t5FIWwEH23Lz",
        "outputId": "8740f247-5ca8-4774-ac27-31c32c5ba075"
      },
      "execution_count": 72,
      "outputs": [
        {
          "output_type": "execute_result",
          "data": {
            "text/plain": [
              "<matplotlib.axes._subplots.AxesSubplot at 0x7f1f6b1680d0>"
            ]
          },
          "metadata": {},
          "execution_count": 72
        },
        {
          "output_type": "display_data",
          "data": {
            "text/plain": [
              "<Figure size 576x396 with 1 Axes>"
            ],
            "image/png": "[encoded data removed]"
          },
          "metadata": {}
        }
      ]
    },
    {
      "cell_type": "code",
      "source": [
        "np.random.seed(31415)\n",
        "from yellowbrick.cluster import KElbowVisualizer\n",
        "\n",
        "model = KMeans()\n",
        "visualizer = KElbowVisualizer(model, k=(1,20))\n",
        "\n",
        "visualizer.fit(X)        \n",
        "visualizer.show() "
      ],
      "metadata": {
        "colab": {
          "base_uri": "https://localhost:8080/",
          "height": 393
        },
        "id": "_FZ05wvQ25np",
        "outputId": "6ddb9e0f-294d-4833-867b-17fd71dbfca9"
      },
      "execution_count": 73,
      "outputs": [
        {
          "output_type": "display_data",
          "data": {
            "text/plain": [
              "<Figure size 576x396 with 2 Axes>"
            ],
            "image/png": "[encoded data removed]"
          },
          "metadata": {}
        },
        {
          "output_type": "execute_result",
          "data": {
            "text/plain": [
              "<matplotlib.axes._subplots.AxesSubplot at 0x7f1f6b109810>"
            ]
          },
          "metadata": {},
          "execution_count": 73
        }
      ]
    },
    {
      "cell_type": "markdown",
      "source": [
        "Kesimpulan k yang kita gunakan = 8."
      ],
      "metadata": {
        "id": "qEgZ_6163CEu"
      }
    },
    {
      "cell_type": "code",
      "source": [
        "km = KMeans(n_clusters=8)\n",
        "km.fit(X)\n",
        "df_corporate_agg['cluster'] = km.predict(X)\n",
        "df_corporate_agg"
      ],
      "metadata": {
        "colab": {
          "base_uri": "https://localhost:8080/",
          "height": 710
        },
        "id": "pZobYdsN3DIk",
        "outputId": "d3d975a1-d6cf-4509-f54a-4a713357c0d0"
      },
      "execution_count": 74,
      "outputs": [
        {
          "output_type": "execute_result",
          "data": {
            "text/plain": [
              "             avg_first_class  avg_second_class  avg_same_day  \\\n",
              "Customer ID                                                    \n",
              "AB-10600            0.750000          0.000000      0.000000   \n",
              "AC-10420            0.000000          0.400000      0.000000   \n",
              "AC-10615            0.000000          0.000000      0.055556   \n",
              "AG-10300            0.200000          0.000000      0.000000   \n",
              "AG-10495            0.071429          0.142857      0.142857   \n",
              "...                      ...               ...           ...   \n",
              "VG-21805            0.200000          0.000000      0.000000   \n",
              "VP-21760            0.571429          0.000000      0.000000   \n",
              "VW-21775            0.166667          0.222222      0.000000   \n",
              "YC-21895            0.250000          0.000000      0.125000   \n",
              "YS-21880            0.083333          0.000000      0.000000   \n",
              "\n",
              "             avg_standard_class  avg_furniture  avg_office_sup  avg_tech  \\\n",
              "Customer ID                                                                \n",
              "AB-10600               0.250000       0.250000        0.375000  0.375000   \n",
              "AC-10420               0.600000       0.200000        0.800000  0.000000   \n",
              "AC-10615               0.944444       0.222222        0.555556  0.222222   \n",
              "AG-10300               0.800000       0.400000        0.600000  0.000000   \n",
              "AG-10495               0.642857       0.142857        0.714286  0.142857   \n",
              "...                         ...            ...             ...       ...   \n",
              "VG-21805               0.800000       0.000000        0.800000  0.200000   \n",
              "VP-21760               0.428571       0.357143        0.428571  0.214286   \n",
              "VW-21775               0.611111       0.222222        0.444444  0.333333   \n",
              "YC-21895               0.625000       0.125000        0.625000  0.250000   \n",
              "YS-21880               0.916667       0.250000        0.666667  0.083333   \n",
              "\n",
              "              avg_sales  total_trx  total_sales  cluster  \n",
              "Customer ID                                               \n",
              "AB-10600     189.482750          8     1515.862        6  \n",
              "AC-10420     185.160000          5      925.800        1  \n",
              "AC-10615     140.982556         18     2537.686        5  \n",
              "AG-10300      73.509600          5      367.548        1  \n",
              "AG-10495     101.374786         14     1419.247        1  \n",
              "...                 ...        ...          ...      ...  \n",
              "VG-21805      83.686400          5      418.432        1  \n",
              "VP-21760     240.037571         14     3360.526        6  \n",
              "VW-21775     340.779889         18     6134.038        4  \n",
              "YC-21895     681.793750          8     5454.350        4  \n",
              "YS-21880     560.037000         12     6720.444        4  \n",
              "\n",
              "[236 rows x 11 columns]"
            ],
            "text/html": [
              "\n",
              "  <div id=\"df-bb45df62-07ce-41f8-b8db-01a4b9ec204a\">\n",
              "    <div class=\"colab-df-container\">\n",
              "      <div>\n",
              "<style scoped>\n",
              "    .dataframe tbody tr th:only-of-type {\n",
              "        vertical-align: middle;\n",
              "    }\n",
              "\n",
              "    .dataframe tbody tr th {\n",
              "        vertical-align: top;\n",
              "    }\n",
              "\n",
              "    .dataframe thead th {\n",
              "        text-align: right;\n",
              "    }\n",
              "</style>\n",
              "<table border=\"1\" class=\"dataframe\">\n",
              "  <thead>\n",
              "    <tr style=\"text-align: right;\">\n",
              "      <th></th>\n",
              "      <th>avg_first_class</th>\n",
              "      <th>avg_second_class</th>\n",
              "      <th>avg_same_day</th>\n",
              "      <th>avg_standard_class</th>\n",
              "      <th>avg_furniture</th>\n",
              "      <th>avg_office_sup</th>\n",
              "      <th>avg_tech</th>\n",
              "      <th>avg_sales</th>\n",
              "      <th>total_trx</th>\n",
              "      <th>total_sales</th>\n",
              "      <th>cluster</th>\n",
              "    </tr>\n",
              "    <tr>\n",
              "      <th>Customer ID</th>\n",
              "      <th></th>\n",
              "      <th></th>\n",
              "      <th></th>\n",
              "      <th></th>\n",
              "      <th></th>\n",
              "      <th></th>\n",
              "      <th></th>\n",
              "      <th></th>\n",
              "      <th></th>\n",
              "      <th></th>\n",
              "      <th></th>\n",
              "    </tr>\n",
              "  </thead>\n",
              "  <tbody>\n",
              "    <tr>\n",
              "      <th>AB-10600</th>\n",
              "      <td>0.750000</td>\n",
              "      <td>0.000000</td>\n",
              "      <td>0.000000</td>\n",
              "      <td>0.250000</td>\n",
              "      <td>0.250000</td>\n",
              "      <td>0.375000</td>\n",
              "      <td>0.375000</td>\n",
              "      <td>189.482750</td>\n",
              "      <td>8</td>\n",
              "      <td>1515.862</td>\n",
              "      <td>6</td>\n",
              "    </tr>\n",
              "    <tr>\n",
              "      <th>AC-10420</th>\n",
              "      <td>0.000000</td>\n",
              "      <td>0.400000</td>\n",
              "      <td>0.000000</td>\n",
              "      <td>0.600000</td>\n",
              "      <td>0.200000</td>\n",
              "      <td>0.800000</td>\n",
              "      <td>0.000000</td>\n",
              "      <td>185.160000</td>\n",
              "      <td>5</td>\n",
              "      <td>925.800</td>\n",
              "      <td>1</td>\n",
              "    </tr>\n",
              "    <tr>\n",
              "      <th>AC-10615</th>\n",
              "      <td>0.000000</td>\n",
              "      <td>0.000000</td>\n",
              "      <td>0.055556</td>\n",
              "      <td>0.944444</td>\n",
              "      <td>0.222222</td>\n",
              "      <td>0.555556</td>\n",
              "      <td>0.222222</td>\n",
              "      <td>140.982556</td>\n",
              "      <td>18</td>\n",
              "      <td>2537.686</td>\n",
              "      <td>5</td>\n",
              "    </tr>\n",
              "    <tr>\n",
              "      <th>AG-10300</th>\n",
              "      <td>0.200000</td>\n",
              "      <td>0.000000</td>\n",
              "      <td>0.000000</td>\n",
              "      <td>0.800000</td>\n",
              "      <td>0.400000</td>\n",
              "      <td>0.600000</td>\n",
              "      <td>0.000000</td>\n",
              "      <td>73.509600</td>\n",
              "      <td>5</td>\n",
              "      <td>367.548</td>\n",
              "      <td>1</td>\n",
              "    </tr>\n",
              "    <tr>\n",
              "      <th>AG-10495</th>\n",
              "      <td>0.071429</td>\n",
              "      <td>0.142857</td>\n",
              "      <td>0.142857</td>\n",
              "      <td>0.642857</td>\n",
              "      <td>0.142857</td>\n",
              "      <td>0.714286</td>\n",
              "      <td>0.142857</td>\n",
              "      <td>101.374786</td>\n",
              "      <td>14</td>\n",
              "      <td>1419.247</td>\n",
              "      <td>1</td>\n",
              "    </tr>\n",
              "    <tr>\n",
              "      <th>...</th>\n",
              "      <td>...</td>\n",
              "      <td>...</td>\n",
              "      <td>...</td>\n",
              "      <td>...</td>\n",
              "      <td>...</td>\n",
              "      <td>...</td>\n",
              "      <td>...</td>\n",
              "      <td>...</td>\n",
              "      <td>...</td>\n",
              "      <td>...</td>\n",
              "      <td>...</td>\n",
              "    </tr>\n",
              "    <tr>\n",
              "      <th>VG-21805</th>\n",
              "      <td>0.200000</td>\n",
              "      <td>0.000000</td>\n",
              "      <td>0.000000</td>\n",
              "      <td>0.800000</td>\n",
              "      <td>0.000000</td>\n",
              "      <td>0.800000</td>\n",
              "      <td>0.200000</td>\n",
              "      <td>83.686400</td>\n",
              "      <td>5</td>\n",
              "      <td>418.432</td>\n",
              "      <td>1</td>\n",
              "    </tr>\n",
              "    <tr>\n",
              "      <th>VP-21760</th>\n",
              "      <td>0.571429</td>\n",
              "      <td>0.000000</td>\n",
              "      <td>0.000000</td>\n",
              "      <td>0.428571</td>\n",
              "      <td>0.357143</td>\n",
              "      <td>0.428571</td>\n",
              "      <td>0.214286</td>\n",
              "      <td>240.037571</td>\n",
              "      <td>14</td>\n",
              "      <td>3360.526</td>\n",
              "      <td>6</td>\n",
              "    </tr>\n",
              "    <tr>\n",
              "      <th>VW-21775</th>\n",
              "      <td>0.166667</td>\n",
              "      <td>0.222222</td>\n",
              "      <td>0.000000</td>\n",
              "      <td>0.611111</td>\n",
              "      <td>0.222222</td>\n",
              "      <td>0.444444</td>\n",
              "      <td>0.333333</td>\n",
              "      <td>340.779889</td>\n",
              "      <td>18</td>\n",
              "      <td>6134.038</td>\n",
              "      <td>4</td>\n",
              "    </tr>\n",
              "    <tr>\n",
              "      <th>YC-21895</th>\n",
              "      <td>0.250000</td>\n",
              "      <td>0.000000</td>\n",
              "      <td>0.125000</td>\n",
              "      <td>0.625000</td>\n",
              "      <td>0.125000</td>\n",
              "      <td>0.625000</td>\n",
              "      <td>0.250000</td>\n",
              "      <td>681.793750</td>\n",
              "      <td>8</td>\n",
              "      <td>5454.350</td>\n",
              "      <td>4</td>\n",
              "    </tr>\n",
              "    <tr>\n",
              "      <th>YS-21880</th>\n",
              "      <td>0.083333</td>\n",
              "      <td>0.000000</td>\n",
              "      <td>0.000000</td>\n",
              "      <td>0.916667</td>\n",
              "      <td>0.250000</td>\n",
              "      <td>0.666667</td>\n",
              "      <td>0.083333</td>\n",
              "      <td>560.037000</td>\n",
              "      <td>12</td>\n",
              "      <td>6720.444</td>\n",
              "      <td>4</td>\n",
              "    </tr>\n",
              "  </tbody>\n",
              "</table>\n",
              "<p>236 rows × 11 columns</p>\n",
              "</div>\n",
              "      <button class=\"colab-df-convert\" onclick=\"convertToInteractive('df-bb45df62-07ce-41f8-b8db-01a4b9ec204a')\"\n",
              "              title=\"Convert this dataframe to an interactive table.\"\n",
              "              style=\"display:none;\">\n",
              "        \n",
              "  <svg xmlns=\"http://www.w3.org/2000/svg\" height=\"24px\"viewBox=\"0 0 24 24\"\n",
              "       width=\"24px\">\n",
              "    <path d=\"M0 0h24v24H0V0z\" fill=\"none\"/>\n",
              "    <path d=\"M18.56 5.44l.94 2.06.94-2.06 2.06-.94-2.06-.94-.94-2.06-.94 2.06-2.06.94zm-11 1L8.5 8.5l.94-2.06 2.06-.94-2.06-.94L8.5 2.5l-.94 2.06-2.06.94zm10 10l.94 2.06.94-2.06 2.06-.94-2.06-.94-.94-2.06-.94 2.06-2.06.94z\"/><path d=\"M17.41 7.96l-1.37-1.37c-.4-.4-.92-.59-1.43-.59-.52 0-1.04.2-1.43.59L10.3 9.45l-7.72 7.72c-.78.78-.78 2.05 0 2.83L4 21.41c.39.39.9.59 1.41.59.51 0 1.02-.2 1.41-.59l7.78-7.78 2.81-2.81c.8-.78.8-2.07 0-2.86zM5.41 20L4 18.59l7.72-7.72 1.47 1.35L5.41 20z\"/>\n",
              "  </svg>\n",
              "      </button>\n",
              "      \n",
              "  <style>\n",
              "    .colab-df-container {\n",
              "      display:flex;\n",
              "      flex-wrap:wrap;\n",
              "      gap: 12px;\n",
              "    }\n",
              "\n",
              "    .colab-df-convert {\n",
              "      background-color: #E8F0FE;\n",
              "      border: none;\n",
              "      border-radius: 50%;\n",
              "      cursor: pointer;\n",
              "      display: none;\n",
              "      fill: #1967D2;\n",
              "      height: 32px;\n",
              "      padding: 0 0 0 0;\n",
              "      width: 32px;\n",
              "    }\n",
              "\n",
              "    .colab-df-convert:hover {\n",
              "      background-color: #E2EBFA;\n",
              "      box-shadow: 0px 1px 2px rgba(60, 64, 67, 0.3), 0px 1px 3px 1px rgba(60, 64, 67, 0.15);\n",
              "      fill: #174EA6;\n",
              "    }\n",
              "\n",
              "    [theme=dark] .colab-df-convert {\n",
              "      background-color: #3B4455;\n",
              "      fill: #D2E3FC;\n",
              "    }\n",
              "\n",
              "    [theme=dark] .colab-df-convert:hover {\n",
              "      background-color: #434B5C;\n",
              "      box-shadow: 0px 1px 3px 1px rgba(0, 0, 0, 0.15);\n",
              "      filter: drop-shadow(0px 1px 2px rgba(0, 0, 0, 0.3));\n",
              "      fill: #FFFFFF;\n",
              "    }\n",
              "  </style>\n",
              "\n",
              "      <script>\n",
              "        const buttonEl =\n",
              "          document.querySelector('#df-bb45df62-07ce-41f8-b8db-01a4b9ec204a button.colab-df-convert');\n",
              "        buttonEl.style.display =\n",
              "          google.colab.kernel.accessAllowed ? 'block' : 'none';\n",
              "\n",
              "        async function convertToInteractive(key) {\n",
              "          const element = document.querySelector('#df-bb45df62-07ce-41f8-b8db-01a4b9ec204a');\n",
              "          const dataTable =\n",
              "            await google.colab.kernel.invokeFunction('convertToInteractive',\n",
              "                                                     [key], {});\n",
              "          if (!dataTable) return;\n",
              "\n",
              "          const docLinkHtml = 'Like what you see? Visit the ' +\n",
              "            '<a target=\"_blank\" href=https://colab.research.google.com/notebooks/data_table.ipynb>data table notebook</a>'\n",
              "            + ' to learn more about interactive tables.';\n",
              "          element.innerHTML = '';\n",
              "          dataTable['output_type'] = 'display_data';\n",
              "          await google.colab.output.renderOutput(dataTable, element);\n",
              "          const docLink = document.createElement('div');\n",
              "          docLink.innerHTML = docLinkHtml;\n",
              "          element.appendChild(docLink);\n",
              "        }\n",
              "      </script>\n",
              "    </div>\n",
              "  </div>\n",
              "  "
            ]
          },
          "metadata": {},
          "execution_count": 74
        }
      ]
    },
    {
      "cell_type": "markdown",
      "source": [
        "##Segment Analysis - Sales"
      ],
      "metadata": {
        "id": "rrCn-_vC3TU7"
      }
    },
    {
      "cell_type": "code",
      "source": [
        "df_corporate_agg['cluster'].value_counts()"
      ],
      "metadata": {
        "colab": {
          "base_uri": "https://localhost:8080/"
        },
        "id": "Wa3JFVvw3XqB",
        "outputId": "37283db2-3202-4fc2-e12a-7d8951f63759"
      },
      "execution_count": 75,
      "outputs": [
        {
          "output_type": "execute_result",
          "data": {
            "text/plain": [
              "1    54\n",
              "5    50\n",
              "6    41\n",
              "0    34\n",
              "4    24\n",
              "3    15\n",
              "2    14\n",
              "7     4\n",
              "Name: cluster, dtype: int64"
            ]
          },
          "metadata": {},
          "execution_count": 75
        }
      ]
    },
    {
      "cell_type": "code",
      "source": [
        "sns.histplot(data=df_corporate_agg, x='avg_sales', hue='cluster', palette='tab10')"
      ],
      "metadata": {
        "colab": {
          "base_uri": "https://localhost:8080/",
          "height": 378
        },
        "id": "84w0Frqf3hy0",
        "outputId": "ab7f4c32-c46c-471f-9540-42691b2855ff"
      },
      "execution_count": 76,
      "outputs": [
        {
          "output_type": "execute_result",
          "data": {
            "text/plain": [
              "<matplotlib.axes._subplots.AxesSubplot at 0x7f1f6afd56d0>"
            ]
          },
          "metadata": {},
          "execution_count": 76
        },
        {
          "output_type": "display_data",
          "data": {
            "text/plain": [
              "<Figure size 576x396 with 1 Axes>"
            ],
            "image/png": "[encoded data removed]"
          },
          "metadata": {}
        }
      ]
    },
    {
      "cell_type": "code",
      "source": [
        "def bootstrap(df, column): \n",
        "    BOOTS = []\n",
        "    for i in range(200):\n",
        "        for j in range(7):\n",
        "            # with replacement\n",
        "            mean = df[df['cluster'] == j].sample(100, replace=True)[column].mean()\n",
        "            BOOTS.append((j, mean))\n",
        "    df_boots = pd.DataFrame(BOOTS, columns = ['cluster', column])\n",
        "    return df_boots"
      ],
      "metadata": {
        "id": "D3z9qFAy3myj"
      },
      "execution_count": 77,
      "outputs": []
    },
    {
      "cell_type": "code",
      "source": [
        "column = 'avg_sales'\n",
        "df_boots = bootstrap(df_corporate_agg, column)\n",
        "sns.histplot(data=df_boots, x=column, hue='cluster', palette='tab10')"
      ],
      "metadata": {
        "colab": {
          "base_uri": "https://localhost:8080/",
          "height": 378
        },
        "id": "_Xp4kKP73ojY",
        "outputId": "ccf24149-4069-4aa7-81bf-6a52868a2635"
      },
      "execution_count": 78,
      "outputs": [
        {
          "output_type": "execute_result",
          "data": {
            "text/plain": [
              "<matplotlib.axes._subplots.AxesSubplot at 0x7f1f6afb4ed0>"
            ]
          },
          "metadata": {},
          "execution_count": 78
        },
        {
          "output_type": "display_data",
          "data": {
            "text/plain": [
              "<Figure size 576x396 with 1 Axes>"
            ],
            "image/png": "[encoded data removed]"
          },
          "metadata": {}
        }
      ]
    },
    {
      "cell_type": "code",
      "source": [
        "column = 'total_trx'\n",
        "df_boots = bootstrap(df_corporate_agg, column)\n",
        "sns.histplot(data=df_boots, x=column, hue='cluster', palette='tab10')"
      ],
      "metadata": {
        "colab": {
          "base_uri": "https://localhost:8080/",
          "height": 378
        },
        "id": "qUZAaoSS3u4h",
        "outputId": "201beab8-f013-4ad9-d2c0-dd0ba3cbaba4"
      },
      "execution_count": 79,
      "outputs": [
        {
          "output_type": "execute_result",
          "data": {
            "text/plain": [
              "<matplotlib.axes._subplots.AxesSubplot at 0x7f1f6afcc210>"
            ]
          },
          "metadata": {},
          "execution_count": 79
        },
        {
          "output_type": "display_data",
          "data": {
            "text/plain": [
              "<Figure size 576x396 with 1 Axes>"
            ],
            "image/png": "[encoded data removed]"
          },
          "metadata": {}
        }
      ]
    },
    {
      "cell_type": "code",
      "source": [
        "column = 'avg_same_day'\n",
        "df_boots = bootstrap(df_corporate_agg, column)\n",
        "sns.histplot(data=df_boots, x=column, hue='cluster', palette='tab10')"
      ],
      "metadata": {
        "colab": {
          "base_uri": "https://localhost:8080/",
          "height": 378
        },
        "id": "Jm_O6SRx3xFi",
        "outputId": "88711642-59f4-49b5-98fc-ffc4edb284d9"
      },
      "execution_count": 82,
      "outputs": [
        {
          "output_type": "execute_result",
          "data": {
            "text/plain": [
              "<matplotlib.axes._subplots.AxesSubplot at 0x7f1f6a822990>"
            ]
          },
          "metadata": {},
          "execution_count": 82
        },
        {
          "output_type": "display_data",
          "data": {
            "text/plain": [
              "<Figure size 576x396 with 1 Axes>"
            ],
            "image/png": "[encoded data removed]"
          },
          "metadata": {}
        }
      ]
    },
    {
      "cell_type": "code",
      "source": [
        "column = 'avg_first_class'\n",
        "df_boots = bootstrap(df_corporate_agg, column)\n",
        "sns.histplot(data=df_boots, x=column, hue='cluster', palette='tab10')"
      ],
      "metadata": {
        "colab": {
          "base_uri": "https://localhost:8080/",
          "height": 378
        },
        "id": "q008b4qQ329L",
        "outputId": "1feab9f9-2154-47fc-cdc8-082c51074bfc"
      },
      "execution_count": 81,
      "outputs": [
        {
          "output_type": "execute_result",
          "data": {
            "text/plain": [
              "<matplotlib.axes._subplots.AxesSubplot at 0x7f1f6a244090>"
            ]
          },
          "metadata": {},
          "execution_count": 81
        },
        {
          "output_type": "display_data",
          "data": {
            "text/plain": [
              "<Figure size 576x396 with 1 Axes>"
            ],
            "image/png": "[encoded data removed]"
          },
          "metadata": {}
        }
      ]
    },
    {
      "cell_type": "markdown",
      "source": [
        "##Agregasi per Cluster"
      ],
      "metadata": {
        "id": "Ur_nLbfJ4c9b"
      }
    },
    {
      "cell_type": "code",
      "source": [
        "df_cluster_agg = df_corporate_agg.groupby('cluster').median().reset_index()\n",
        "df_cluster_agg"
      ],
      "metadata": {
        "colab": {
          "base_uri": "https://localhost:8080/",
          "height": 344
        },
        "id": "8ZoYsc7q35Bg",
        "outputId": "47880622-5f80-4205-d43c-2676c41cadd8"
      },
      "execution_count": 83,
      "outputs": [
        {
          "output_type": "execute_result",
          "data": {
            "text/plain": [
              "   cluster  avg_first_class  avg_second_class  avg_same_day  \\\n",
              "0        0         0.059028          0.531136      0.000000   \n",
              "1        1         0.071429          0.117647      0.000000   \n",
              "2        2         0.198718          0.087121      0.235294   \n",
              "3        3         0.100000          0.300000      0.000000   \n",
              "4        4         0.112500          0.140741      0.000000   \n",
              "5        5         0.000000          0.100000      0.000000   \n",
              "6        6         0.388889          0.125000      0.000000   \n",
              "7        7         0.083333          0.000000      0.222222   \n",
              "\n",
              "   avg_standard_class  avg_furniture  avg_office_sup  avg_tech    avg_sales  \\\n",
              "0            0.400000       0.200000        0.625000  0.153846   196.047750   \n",
              "1            0.750000       0.148352        0.720779  0.087121   139.133429   \n",
              "2            0.420168       0.306250        0.643182  0.067873   148.975131   \n",
              "3            0.500000       0.500000        0.285714  0.111111   211.138800   \n",
              "4            0.666667       0.236111        0.556140  0.236695   355.565763   \n",
              "5            0.818182       0.226496        0.545455  0.244048   200.206639   \n",
              "6            0.444444       0.166667        0.600000  0.222222   207.210722   \n",
              "7            0.666667       0.083333        0.500000  0.194444  1573.110083   \n",
              "\n",
              "   total_trx  total_sales  \n",
              "0       12.0    2605.4270  \n",
              "1        9.0    1295.2330  \n",
              "2       13.5    2271.4740  \n",
              "3        5.0    1080.7510  \n",
              "4       20.0    7504.1325  \n",
              "5       13.0    2528.1760  \n",
              "6       12.0    2540.6310  \n",
              "7        7.5    9926.4325  "
            ],
            "text/html": [
              "\n",
              "  <div id=\"df-f2ef2e4b-8b1a-4d21-bd6e-c578eb5d3d8f\">\n",
              "    <div class=\"colab-df-container\">\n",
              "      <div>\n",
              "<style scoped>\n",
              "    .dataframe tbody tr th:only-of-type {\n",
              "        vertical-align: middle;\n",
              "    }\n",
              "\n",
              "    .dataframe tbody tr th {\n",
              "        vertical-align: top;\n",
              "    }\n",
              "\n",
              "    .dataframe thead th {\n",
              "        text-align: right;\n",
              "    }\n",
              "</style>\n",
              "<table border=\"1\" class=\"dataframe\">\n",
              "  <thead>\n",
              "    <tr style=\"text-align: right;\">\n",
              "      <th></th>\n",
              "      <th>cluster</th>\n",
              "      <th>avg_first_class</th>\n",
              "      <th>avg_second_class</th>\n",
              "      <th>avg_same_day</th>\n",
              "      <th>avg_standard_class</th>\n",
              "      <th>avg_furniture</th>\n",
              "      <th>avg_office_sup</th>\n",
              "      <th>avg_tech</th>\n",
              "      <th>avg_sales</th>\n",
              "      <th>total_trx</th>\n",
              "      <th>total_sales</th>\n",
              "    </tr>\n",
              "  </thead>\n",
              "  <tbody>\n",
              "    <tr>\n",
              "      <th>0</th>\n",
              "      <td>0</td>\n",
              "      <td>0.059028</td>\n",
              "      <td>0.531136</td>\n",
              "      <td>0.000000</td>\n",
              "      <td>0.400000</td>\n",
              "      <td>0.200000</td>\n",
              "      <td>0.625000</td>\n",
              "      <td>0.153846</td>\n",
              "      <td>196.047750</td>\n",
              "      <td>12.0</td>\n",
              "      <td>2605.4270</td>\n",
              "    </tr>\n",
              "    <tr>\n",
              "      <th>1</th>\n",
              "      <td>1</td>\n",
              "      <td>0.071429</td>\n",
              "      <td>0.117647</td>\n",
              "      <td>0.000000</td>\n",
              "      <td>0.750000</td>\n",
              "      <td>0.148352</td>\n",
              "      <td>0.720779</td>\n",
              "      <td>0.087121</td>\n",
              "      <td>139.133429</td>\n",
              "      <td>9.0</td>\n",
              "      <td>1295.2330</td>\n",
              "    </tr>\n",
              "    <tr>\n",
              "      <th>2</th>\n",
              "      <td>2</td>\n",
              "      <td>0.198718</td>\n",
              "      <td>0.087121</td>\n",
              "      <td>0.235294</td>\n",
              "      <td>0.420168</td>\n",
              "      <td>0.306250</td>\n",
              "      <td>0.643182</td>\n",
              "      <td>0.067873</td>\n",
              "      <td>148.975131</td>\n",
              "      <td>13.5</td>\n",
              "      <td>2271.4740</td>\n",
              "    </tr>\n",
              "    <tr>\n",
              "      <th>3</th>\n",
              "      <td>3</td>\n",
              "      <td>0.100000</td>\n",
              "      <td>0.300000</td>\n",
              "      <td>0.000000</td>\n",
              "      <td>0.500000</td>\n",
              "      <td>0.500000</td>\n",
              "      <td>0.285714</td>\n",
              "      <td>0.111111</td>\n",
              "      <td>211.138800</td>\n",
              "      <td>5.0</td>\n",
              "      <td>1080.7510</td>\n",
              "    </tr>\n",
              "    <tr>\n",
              "      <th>4</th>\n",
              "      <td>4</td>\n",
              "      <td>0.112500</td>\n",
              "      <td>0.140741</td>\n",
              "      <td>0.000000</td>\n",
              "      <td>0.666667</td>\n",
              "      <td>0.236111</td>\n",
              "      <td>0.556140</td>\n",
              "      <td>0.236695</td>\n",
              "      <td>355.565763</td>\n",
              "      <td>20.0</td>\n",
              "      <td>7504.1325</td>\n",
              "    </tr>\n",
              "    <tr>\n",
              "      <th>5</th>\n",
              "      <td>5</td>\n",
              "      <td>0.000000</td>\n",
              "      <td>0.100000</td>\n",
              "      <td>0.000000</td>\n",
              "      <td>0.818182</td>\n",
              "      <td>0.226496</td>\n",
              "      <td>0.545455</td>\n",
              "      <td>0.244048</td>\n",
              "      <td>200.206639</td>\n",
              "      <td>13.0</td>\n",
              "      <td>2528.1760</td>\n",
              "    </tr>\n",
              "    <tr>\n",
              "      <th>6</th>\n",
              "      <td>6</td>\n",
              "      <td>0.388889</td>\n",
              "      <td>0.125000</td>\n",
              "      <td>0.000000</td>\n",
              "      <td>0.444444</td>\n",
              "      <td>0.166667</td>\n",
              "      <td>0.600000</td>\n",
              "      <td>0.222222</td>\n",
              "      <td>207.210722</td>\n",
              "      <td>12.0</td>\n",
              "      <td>2540.6310</td>\n",
              "    </tr>\n",
              "    <tr>\n",
              "      <th>7</th>\n",
              "      <td>7</td>\n",
              "      <td>0.083333</td>\n",
              "      <td>0.000000</td>\n",
              "      <td>0.222222</td>\n",
              "      <td>0.666667</td>\n",
              "      <td>0.083333</td>\n",
              "      <td>0.500000</td>\n",
              "      <td>0.194444</td>\n",
              "      <td>1573.110083</td>\n",
              "      <td>7.5</td>\n",
              "      <td>9926.4325</td>\n",
              "    </tr>\n",
              "  </tbody>\n",
              "</table>\n",
              "</div>\n",
              "      <button class=\"colab-df-convert\" onclick=\"convertToInteractive('df-f2ef2e4b-8b1a-4d21-bd6e-c578eb5d3d8f')\"\n",
              "              title=\"Convert this dataframe to an interactive table.\"\n",
              "              style=\"display:none;\">\n",
              "        \n",
              "  <svg xmlns=\"http://www.w3.org/2000/svg\" height=\"24px\"viewBox=\"0 0 24 24\"\n",
              "       width=\"24px\">\n",
              "    <path d=\"M0 0h24v24H0V0z\" fill=\"none\"/>\n",
              "    <path d=\"M18.56 5.44l.94 2.06.94-2.06 2.06-.94-2.06-.94-.94-2.06-.94 2.06-2.06.94zm-11 1L8.5 8.5l.94-2.06 2.06-.94-2.06-.94L8.5 2.5l-.94 2.06-2.06.94zm10 10l.94 2.06.94-2.06 2.06-.94-2.06-.94-.94-2.06-.94 2.06-2.06.94z\"/><path d=\"M17.41 7.96l-1.37-1.37c-.4-.4-.92-.59-1.43-.59-.52 0-1.04.2-1.43.59L10.3 9.45l-7.72 7.72c-.78.78-.78 2.05 0 2.83L4 21.41c.39.39.9.59 1.41.59.51 0 1.02-.2 1.41-.59l7.78-7.78 2.81-2.81c.8-.78.8-2.07 0-2.86zM5.41 20L4 18.59l7.72-7.72 1.47 1.35L5.41 20z\"/>\n",
              "  </svg>\n",
              "      </button>\n",
              "      \n",
              "  <style>\n",
              "    .colab-df-container {\n",
              "      display:flex;\n",
              "      flex-wrap:wrap;\n",
              "      gap: 12px;\n",
              "    }\n",
              "\n",
              "    .colab-df-convert {\n",
              "      background-color: #E8F0FE;\n",
              "      border: none;\n",
              "      border-radius: 50%;\n",
              "      cursor: pointer;\n",
              "      display: none;\n",
              "      fill: #1967D2;\n",
              "      height: 32px;\n",
              "      padding: 0 0 0 0;\n",
              "      width: 32px;\n",
              "    }\n",
              "\n",
              "    .colab-df-convert:hover {\n",
              "      background-color: #E2EBFA;\n",
              "      box-shadow: 0px 1px 2px rgba(60, 64, 67, 0.3), 0px 1px 3px 1px rgba(60, 64, 67, 0.15);\n",
              "      fill: #174EA6;\n",
              "    }\n",
              "\n",
              "    [theme=dark] .colab-df-convert {\n",
              "      background-color: #3B4455;\n",
              "      fill: #D2E3FC;\n",
              "    }\n",
              "\n",
              "    [theme=dark] .colab-df-convert:hover {\n",
              "      background-color: #434B5C;\n",
              "      box-shadow: 0px 1px 3px 1px rgba(0, 0, 0, 0.15);\n",
              "      filter: drop-shadow(0px 1px 2px rgba(0, 0, 0, 0.3));\n",
              "      fill: #FFFFFF;\n",
              "    }\n",
              "  </style>\n",
              "\n",
              "      <script>\n",
              "        const buttonEl =\n",
              "          document.querySelector('#df-f2ef2e4b-8b1a-4d21-bd6e-c578eb5d3d8f button.colab-df-convert');\n",
              "        buttonEl.style.display =\n",
              "          google.colab.kernel.accessAllowed ? 'block' : 'none';\n",
              "\n",
              "        async function convertToInteractive(key) {\n",
              "          const element = document.querySelector('#df-f2ef2e4b-8b1a-4d21-bd6e-c578eb5d3d8f');\n",
              "          const dataTable =\n",
              "            await google.colab.kernel.invokeFunction('convertToInteractive',\n",
              "                                                     [key], {});\n",
              "          if (!dataTable) return;\n",
              "\n",
              "          const docLinkHtml = 'Like what you see? Visit the ' +\n",
              "            '<a target=\"_blank\" href=https://colab.research.google.com/notebooks/data_table.ipynb>data table notebook</a>'\n",
              "            + ' to learn more about interactive tables.';\n",
              "          element.innerHTML = '';\n",
              "          dataTable['output_type'] = 'display_data';\n",
              "          await google.colab.output.renderOutput(dataTable, element);\n",
              "          const docLink = document.createElement('div');\n",
              "          docLink.innerHTML = docLinkHtml;\n",
              "          element.appendChild(docLink);\n",
              "        }\n",
              "      </script>\n",
              "    </div>\n",
              "  </div>\n",
              "  "
            ]
          },
          "metadata": {},
          "execution_count": 83
        }
      ]
    },
    {
      "cell_type": "code",
      "source": [
        "columns = df_cluster_agg.columns[1:]\n",
        "\n",
        "fig, axs = plt.subplots(ncols=2, nrows=5, figsize=(20, 40))\n",
        "for r in range(5): \n",
        "    for c in range(2):  \n",
        "        column_idx = (r*2) + c\n",
        "        sns.barplot(data=df_cluster_agg, x='cluster', y=columns[column_idx], ax=axs[r][c])"
      ],
      "metadata": {
        "colab": {
          "base_uri": "https://localhost:8080/",
          "height": 1000
        },
        "id": "aqudVhzH4iKA",
        "outputId": "25d3c6b8-0fe8-4972-fc82-27ed3d428d1d"
      },
      "execution_count": 84,
      "outputs": [
        {
          "output_type": "display_data",
          "data": {
            "text/plain": [
              "<Figure size 1440x2880 with 10 Axes>"
            ],
            "image/png": "[encoded data removed]"
          },
          "metadata": {}
        }
      ]
    },
    {
      "cell_type": "markdown",
      "source": [
        "##Frequent Items each segment"
      ],
      "metadata": {
        "id": "jr0pfPeU4pZ7"
      }
    },
    {
      "cell_type": "code",
      "source": [
        "customer_id_hvc = df_corporate_agg[df_corporate_agg['cluster'] == 4].index\n",
        "df[df['Customer ID'].isin(customer_id_hvc)].groupby('Sub-Category').size().sort_values(ascending=False)"
      ],
      "metadata": {
        "colab": {
          "base_uri": "https://localhost:8080/"
        },
        "id": "fBN8v4qX4qjj",
        "outputId": "9f21d832-0a45-43a9-89b9-bb41540b02e1"
      },
      "execution_count": 87,
      "outputs": [
        {
          "output_type": "execute_result",
          "data": {
            "text/plain": [
              "Sub-Category\n",
              "Binders        62\n",
              "Phones         57\n",
              "Paper          56\n",
              "Furnishings    49\n",
              "Storage        47\n",
              "Chairs         34\n",
              "Accessories    33\n",
              "Art            32\n",
              "Appliances     26\n",
              "Envelopes      16\n",
              "Tables         14\n",
              "Labels         13\n",
              "Bookcases      12\n",
              "Machines       10\n",
              "Supplies        9\n",
              "Fasteners       6\n",
              "Copiers         5\n",
              "dtype: int64"
            ]
          },
          "metadata": {},
          "execution_count": 87
        }
      ]
    },
    {
      "cell_type": "markdown",
      "source": [
        "##Insight Segmentasi Corporate"
      ],
      "metadata": {
        "id": "0vEp0mb-4w2G"
      }
    },
    {
      "cell_type": "markdown",
      "source": [
        "1. Dari segmentasi Corporate didapat bahwa cluster 7 memiliki Total Sales yang paling tinggi dibanding cluster lainnya, dengan perbedaan yang signifikan.\n",
        "2. Sedangkan untuk total transaksi cluster 4 yang paling tinggi.\n",
        "3. Untuk Average Sales tertinggi berada di cluster 7.\n",
        "4. Sub Category yang tertinggi adalah Binders."
      ],
      "metadata": {
        "id": "MkHexeF244UF"
      }
    }
  ]
}